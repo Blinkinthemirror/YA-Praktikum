{
 "cells": [
  {
   "cell_type": "markdown",
   "id": "61e22489",
   "metadata": {},
   "source": [
    "<div style=\"border:solid Chocolate 2px; padding: 40px\">\n",
    "\n",
    "<b>Привет!</b>\n",
    "\n",
    "Меня зовут Дмитрий Михаленко, я буду ревьюером твоего проекта. Если ты не против, то предлагаю построить наше общение на \"ты\" ;) Если удобнее на \"вы\", то нет проблем, только скажи об этом. \n",
    "\n",
    "Ниже в работе ты найдешь мои комментарии - **пожалуйста, не перемещай, не изменяй и не удаляй их**.\n",
    "    \n",
    "Для наглядности я буду использовать цветовую разметку:\n",
    "<font color='green'>зеленого</font>, <font color='gold'>желтого</font> и <font color='red'>красного</font> цветов. Сейчас объясню, что они значат:\n",
    "\n",
    "<br/>\n",
    "\n",
    "<div class=\"alert alert-success\">\n",
    "<h2> Комментарий ревьюера <a class=\"tocSkip\"> </h2>\n",
    "\n",
    "<b>Все супер!👍:</b> Решение на этом шаге является полностью правильным.\n",
    "</div>\n",
    "\n",
    "<br/>\n",
    "\n",
    "<div class=\"alert alert-warning\">\n",
    "    <h2> Комментарий ревьюера <a class=\"tocSkip\"> </h2>\n",
    "    \n",
    "<b>Небольшие замечания и рекомендации💡:</b> Решение на этом шаге может стать еще лучше, если внести небольшие коррективы.\n",
    "Но настаивать я не буду.\n",
    "</div>\n",
    "\n",
    "\n",
    "<br/>\n",
    "<div class=\"alert alert-block alert-danger\">\n",
    "<h2> Комментарий ревьюера <a class=\"tocSkip\"></h2>\n",
    "\n",
    "    \n",
    "<b>На доработку🤔:</b>\n",
    "Для правильного решения задачи на этом шаге необходимо внести правки. Напоминаю, что проект не может быть принят, без их отработки.\n",
    "</div>\n",
    "\n",
    "Для продуктивной работы прошу: **если ты что-то меняешь в проекте или отвечаешь на мои комментарии — пиши об этом**\n",
    "Мне будет легче отследить изменения, если ты тоже выделишь свои комментарии:\n",
    "    \n",
    "<div class=\"alert alert-info\"> <b>Комментарий студента:</b> Например, вот так.</div>\n",
    "\n",
    "Всё это поможет выполнить повторную проверку твоего проекта оперативнее. \n",
    "        \n",
    "Увидев у тебя ошибку, в первый раз я лишь укажу на ее наличие и дам тебе возможность самому найти и исправить ее. На реальной работе твой начальник будет поступать так же, а я пытаюсь подготовить тебя именно к работе аналитиком. Но если ты пока не справишься с такой задачей - при следующей проверке я дам более точную подсказку."
   ]
  },
  {
   "cell_type": "markdown",
   "id": "_E41Wr5fqnFT",
   "metadata": {
    "id": "_E41Wr5fqnFT"
   },
   "source": [
    "# Часть 1. Проверка гипотезы в Python и составление аналитической записки"
   ]
  },
  {
   "cell_type": "markdown",
   "id": "Z5_6nf-FrY7o",
   "metadata": {
    "id": "Z5_6nf-FrY7o"
   },
   "source": [
    "Вы предобработали данные в SQL, и теперь они готовы для проверки гипотезы в Python. Загрузите данные пользователей из Москвы и Санкт-Петербурга c суммой часов их активности из файла yandex_knigi_data.csv. Если работаете локально, скачать файл можно по ссылке.\n",
    "\n",
    "Проверьте наличие дубликатов в идентификаторах пользователей. Сравните размеры групп, их статистики и распределение.\n",
    "\n",
    "Напомним, как выглядит гипотеза: пользователи из Санкт-Петербурга проводят в среднем больше времени за чтением и прослушиванием книг в приложении, чем пользователи из Москвы. Попробуйте статистически это доказать, используя одностороннюю проверку гипотезы с двумя выборками:\n",
    "\n",
    "Нулевая гипотеза $H_0: \\mu_{\\text{СПб}} \\leq \\mu_{\\text{Москва}}$ <br> Среднее время активности пользователей в Санкт-Петербурге не больше, чем в Москве.\n",
    "\n",
    "Альтернативная гипотеза $H_1: \\mu_{\\text{СПб}} > \\mu_{\\text{Москва}}$ <br> Среднее время активности пользователей в Санкт-Петербурге больше, и это различие статистически значимо.\n",
    "\n",
    "По результатам анализа данных подготовьте аналитическую записку, в которой опишите:\n",
    "\n",
    "Выбранный тип t-теста и уровень статистической значимости.\n",
    "\n",
    "Результат теста, или p-value.\n",
    "\n",
    "Вывод на основе полученного p-value, то есть интерпретацию результатов.\n",
    "\n",
    "Одну или две возможные причины, объясняющие полученные результаты."
   ]
  },
  {
   "cell_type": "markdown",
   "id": "e06910dd",
   "metadata": {
    "id": "e06910dd"
   },
   "source": [
    "## Напишите заголовок первой части проекта здесь\n",
    "\n",
    "- Автор: Поляков Петр Владимирович\n",
    "- Дата: 23.05.2025"
   ]
  },
  {
   "cell_type": "markdown",
   "id": "4149134c",
   "metadata": {
    "id": "4149134c"
   },
   "source": [
    "## Цели и задачи проекта"
   ]
  },
  {
   "cell_type": "markdown",
   "id": "be345bbd",
   "metadata": {},
   "source": [
    "### Цель проекта\n",
    "Понять различия в пользовательском поведении между Москвой и Санкт-Петербургом в сервисе Яндекс Книги, а также проверить гипотезу о том, что петербургские пользователи проводят в приложении больше времени."
   ]
  },
  {
   "cell_type": "markdown",
   "id": "3e763000",
   "metadata": {},
   "source": [
    "### Задачи\n",
    "\n",
    "- Предобработать данные: выбрать пользователей из Москвы и Санкт-Петербурга, агрегировать часы активности.\n",
    "\n",
    "- Проверить данные на дубликаты и убедиться в чистоте выборок.\n",
    "\n",
    "- Провести описательную статистику и визуальный обзор распределений.\n",
    "\n",
    "- Выбрать тип t-теста и выполнить статистическую проверку гипотезы.\n",
    "\n",
    "- Сделать выводы и предложить возможные причины наблюдаемых различий."
   ]
  },
  {
   "cell_type": "markdown",
   "id": "728986ea",
   "metadata": {
    "id": "728986ea"
   },
   "source": [
    "## Описание данных: характеристики датасета\n",
    "\n",
    "\n",
    "- **Размер**: 8784 строки и 4 столбца.\n",
    "\n",
    "- **Структура**:\n",
    "  - Unnamed: 0 (int64) - автоматический индекс, можем его отбросить.\n",
    "  - city (object) - город (Москва или Санкт-Петербург).\n",
    "  - puid (int64) - идентификатор пользователя.\n",
    "  - hours (float64) - суммарные часы активности.\n",
    "  \n",
    "- **Описательная статистика по числовым столбцам (puid, hours)**:\n",
    "  - В столбце hours есть очень большие выбросы (до 979 часов!), а 75-й перцентиль - 6 ч.\n",
    "  - Распределение значений в столбце hours с тяжелым \"правым\" хвостом"
   ]
  },
  {
   "cell_type": "markdown",
   "id": "4fecaf95",
   "metadata": {
    "id": "4fecaf95"
   },
   "source": [
    "## Оглавление\n",
    "\n",
    "- Предобработать данные: выбрать пользователей из Москвы и Санкт-Петербурга, агрегировать часы активности.\n",
    "\n",
    "- Проверить данные на дубликаты и убедиться в чистоте выборок.\n",
    "\n",
    "- Провести описательную статистику и визуальный обзор распределений.\n",
    "\n",
    "- Выбрать тип t-теста и выполнить статистическую проверку гипотезы.\n",
    "\n",
    "- Сделать выводы и предложить возможные причины наблюдаемых различий."
   ]
  },
  {
   "cell_type": "markdown",
   "id": "e92cd483",
   "metadata": {},
   "source": [
    "<div class=\"alert alert-success\">\n",
    "<h2> Комментарий ревьюера v1 <a class=\"tocSkip\"> </h2>\n",
    "\n",
    "<b>Все супер!👍:</b>  Качественное  введение в проект! Есть все, чтобы твой будущий работодатель знал все ключевые моменты проекта и мог объективно оценить принимаемые тобой решения.\n",
    "    \n"
   ]
  },
  {
   "cell_type": "markdown",
   "id": "6f7d21d6",
   "metadata": {
    "id": "6f7d21d6"
   },
   "source": [
    "## 1. Загрузка данных и знакомство с ними\n",
    "\n",
    "Загрузите данные пользователей из Москвы и Санкт-Петербурга c их активностью (суммой часов чтения и прослушивания) из файла `/datasets/yandex_knigi_data.csv`."
   ]
  },
  {
   "cell_type": "code",
   "execution_count": 5,
   "id": "f68a7419",
   "metadata": {
    "id": "f68a7419"
   },
   "outputs": [],
   "source": [
    "import pandas as pd\n",
    "import matplotlib.pyplot as plt\n",
    "from scipy import stats\n",
    "import numpy as np\n",
    "from statsmodels.stats.power import NormalIndPower\n",
    "from statsmodels.stats.proportion import proportion_effectsize\n",
    "from statsmodels.stats.proportion import proportions_ztest"
   ]
  },
  {
   "cell_type": "markdown",
   "id": "00ee1900",
   "metadata": {},
   "source": [
    "<div class=\"alert alert-info\"> <b>Комментарий студента:</b> Добавил импорты по двум задачам в самом начале</div>"
   ]
  },
  {
   "cell_type": "markdown",
   "id": "18adfa7e",
   "metadata": {},
   "source": [
    "<div class=\"alert alert-success\">\n",
    "<h2> Комментарий ревьюера v2 <a class=\"tocSkip\"> </h2>\n",
    "\n",
    "<b>Все супер!👍:</b> Хорошее решение"
   ]
  },
  {
   "cell_type": "code",
   "execution_count": 25,
   "id": "80763d8e",
   "metadata": {},
   "outputs": [
    {
     "data": {
      "text/plain": [
       "(8784, 4)"
      ]
     },
     "metadata": {},
     "output_type": "display_data"
    },
    {
     "name": "stdout",
     "output_type": "stream",
     "text": [
      "<class 'pandas.core.frame.DataFrame'>\n",
      "RangeIndex: 8784 entries, 0 to 8783\n",
      "Data columns (total 4 columns):\n",
      " #   Column      Non-Null Count  Dtype  \n",
      "---  ------      --------------  -----  \n",
      " 0   Unnamed: 0  8784 non-null   int64  \n",
      " 1   city        8784 non-null   object \n",
      " 2   puid        8784 non-null   int64  \n",
      " 3   hours       8784 non-null   float64\n",
      "dtypes: float64(1), int64(2), object(1)\n",
      "memory usage: 274.6+ KB\n"
     ]
    },
    {
     "data": {
      "text/html": [
       "<div>\n",
       "<style scoped>\n",
       "    .dataframe tbody tr th:only-of-type {\n",
       "        vertical-align: middle;\n",
       "    }\n",
       "\n",
       "    .dataframe tbody tr th {\n",
       "        vertical-align: top;\n",
       "    }\n",
       "\n",
       "    .dataframe thead th {\n",
       "        text-align: right;\n",
       "    }\n",
       "</style>\n",
       "<table border=\"1\" class=\"dataframe\">\n",
       "  <thead>\n",
       "    <tr style=\"text-align: right;\">\n",
       "      <th></th>\n",
       "      <th>Unnamed: 0</th>\n",
       "      <th>puid</th>\n",
       "      <th>hours</th>\n",
       "    </tr>\n",
       "  </thead>\n",
       "  <tbody>\n",
       "    <tr>\n",
       "      <th>count</th>\n",
       "      <td>8784.000000</td>\n",
       "      <td>8.784000e+03</td>\n",
       "      <td>8784.000000</td>\n",
       "    </tr>\n",
       "    <tr>\n",
       "      <th>mean</th>\n",
       "      <td>4391.500000</td>\n",
       "      <td>1.029234e+13</td>\n",
       "      <td>11.087670</td>\n",
       "    </tr>\n",
       "    <tr>\n",
       "      <th>std</th>\n",
       "      <td>2535.866716</td>\n",
       "      <td>1.073532e+14</td>\n",
       "      <td>37.701350</td>\n",
       "    </tr>\n",
       "    <tr>\n",
       "      <th>min</th>\n",
       "      <td>0.000000</td>\n",
       "      <td>9.668000e+03</td>\n",
       "      <td>0.000018</td>\n",
       "    </tr>\n",
       "    <tr>\n",
       "      <th>25%</th>\n",
       "      <td>2195.750000</td>\n",
       "      <td>3.239271e+08</td>\n",
       "      <td>0.066246</td>\n",
       "    </tr>\n",
       "    <tr>\n",
       "      <th>50%</th>\n",
       "      <td>4391.500000</td>\n",
       "      <td>8.828218e+08</td>\n",
       "      <td>0.942344</td>\n",
       "    </tr>\n",
       "    <tr>\n",
       "      <th>75%</th>\n",
       "      <td>6587.250000</td>\n",
       "      <td>1.516464e+09</td>\n",
       "      <td>6.065151</td>\n",
       "    </tr>\n",
       "    <tr>\n",
       "      <th>max</th>\n",
       "      <td>8783.000000</td>\n",
       "      <td>1.130000e+15</td>\n",
       "      <td>978.764775</td>\n",
       "    </tr>\n",
       "  </tbody>\n",
       "</table>\n",
       "</div>"
      ],
      "text/plain": [
       "        Unnamed: 0          puid        hours\n",
       "count  8784.000000  8.784000e+03  8784.000000\n",
       "mean   4391.500000  1.029234e+13    11.087670\n",
       "std    2535.866716  1.073532e+14    37.701350\n",
       "min       0.000000  9.668000e+03     0.000018\n",
       "25%    2195.750000  3.239271e+08     0.066246\n",
       "50%    4391.500000  8.828218e+08     0.942344\n",
       "75%    6587.250000  1.516464e+09     6.065151\n",
       "max    8783.000000  1.130000e+15   978.764775"
      ]
     },
     "metadata": {},
     "output_type": "display_data"
    }
   ],
   "source": [
    "df = pd.read_csv('/datasets/yandex_knigi_data.csv')\n",
    "\n",
    "# Размер таблицы\n",
    "display(df.shape)\n",
    "\n",
    "# Информация о столбцах, типах и ненулевых значениях\n",
    "df.info()\n",
    "\n",
    "# Основные статистики по числовым столбцам\n",
    "display(df.describe())"
   ]
  },
  {
   "cell_type": "markdown",
   "id": "459d8312",
   "metadata": {},
   "source": [
    "<div class=\"alert alert-block alert-danger\">\n",
    "<h2> Комментарий ревьюера v1<a class=\"tocSkip\"></h2>\n",
    "\n",
    "<b>На доработку🤔:</b> Методы для знакомства с данными ты выбрал оптимально, но нет никакого вывода по обзору данных (Полные ли данные, соответствуют ли типы, в порядке ли нейминг столбцов....). Он важен и в реальных проектах помогает \"наметить\" важные шаги подготовки данных для максимально эффективного решения задачь проекта"
   ]
  },
  {
   "cell_type": "markdown",
   "id": "9ca9aa85",
   "metadata": {},
   "source": [
    "<div class=\"alert alert-info\"> <b>Комментарий студента:</b> \n",
    "\n",
    "Общее число записей: 8784\n",
    "\n",
    "Структура таблицы:\n",
    "- Unnamed: 0 (int64) - автоматически пронумерованный индекс (можно удалить).\n",
    "- city (object) - город пользователя (Москва или Санкт-Петербург).\n",
    "- puid (int64) - уникальный идентификатор пользователя.\n",
    "- hours (float64) - суммарное количество часов, проведённых пользователем в приложении за период анализа.\n",
    "\n",
    "Полнота данных\n",
    "- Во всех четырёх столбцах нет пропусков (Non-Null Count равно общему числу строк).\n",
    "- Это говорит о том, что у каждого пользователя есть и город, и идентификатор, и значение часов.\n",
    "</div>"
   ]
  },
  {
   "cell_type": "markdown",
   "id": "355d186e",
   "metadata": {},
   "source": [
    "<div class=\"alert alert-success\">\n",
    "<h2> Комментарий ревьюера v2 <a class=\"tocSkip\"> </h2>\n",
    "\n",
    "<b>Все супер!👍:</b> ОЧень подробный и лаконичный вывод, молодец!"
   ]
  },
  {
   "cell_type": "code",
   "execution_count": 26,
   "id": "68dbe48b",
   "metadata": {
    "scrolled": true
   },
   "outputs": [
    {
     "name": "stdout",
     "output_type": "stream",
     "text": [
      "<class 'pandas.core.frame.DataFrame'>\n",
      "RangeIndex: 8784 entries, 0 to 8783\n",
      "Data columns (total 3 columns):\n",
      " #   Column  Non-Null Count  Dtype  \n",
      "---  ------  --------------  -----  \n",
      " 0   city    8784 non-null   object \n",
      " 1   puid    8784 non-null   int64  \n",
      " 2   hours   8784 non-null   float64\n",
      "dtypes: float64(1), int64(1), object(1)\n",
      "memory usage: 206.0+ KB\n"
     ]
    }
   ],
   "source": [
    "df = df.drop(columns=['Unnamed: 0']).reset_index(drop=True) #удалили столбец Unnamed: 0\n",
    "\n",
    "df.info()"
   ]
  },
  {
   "cell_type": "markdown",
   "id": "75aa0b0e",
   "metadata": {},
   "source": [
    "<div class=\"alert alert-success\">\n",
    "<h2> Комментарий ревьюера v1 <a class=\"tocSkip\"> </h2>\n",
    "\n",
    "<b>Все супер!👍:</b>Хорошее решение, этот столбец не нес никакой полезности для исследования и только занимал память)"
   ]
  },
  {
   "cell_type": "code",
   "execution_count": 27,
   "id": "4da49362",
   "metadata": {},
   "outputs": [
    {
     "name": "stdout",
     "output_type": "stream",
     "text": [
      "Найдено дубликатов puid: 244\n",
      "Изначальное количество puid: 8784\n",
      "Удалено дубликатов puid: 244\n",
      "Итоговое число puid: 8540\n"
     ]
    }
   ],
   "source": [
    "# Проверка на дубликаты в столбце puid\n",
    "dup_count = df['puid'].duplicated().sum()\n",
    "print(f\"Найдено дубликатов puid: {dup_count}\")\n",
    "\n",
    "initial_count = df.shape[0]\n",
    "print(f\"Изначальное количество puid: {initial_count}\")\n",
    "\n",
    "df_unique = df.drop_duplicates(subset=['puid'])\n",
    "final_count = df_unique.shape[0]\n",
    "print(f\"Удалено дубликатов puid: {dup_count}\")\n",
    "print(f\"Итоговое число puid: {final_count}\")"
   ]
  },
  {
   "cell_type": "markdown",
   "id": "d3a0c054",
   "metadata": {},
   "source": [
    "<div class=\"alert alert-success\">\n",
    "<h2> Комментарий ревьюера v1 <a class=\"tocSkip\"> </h2>\n",
    "\n",
    "<b>Все супер!👍:</b> Полезная проверка на дубликаты. Для `ttest` в дальнейшем понадобятся независимые выборки и они стали таковыми"
   ]
  },
  {
   "cell_type": "markdown",
   "id": "956e82e2",
   "metadata": {
    "id": "956e82e2"
   },
   "source": [
    "## 2. Проверка гипотезы в Python\n",
    "\n",
    "Гипотеза звучит так: пользователи из Санкт-Петербурга проводят в среднем больше времени за чтением и прослушиванием книг в приложении, чем пользователи из Москвы. Попробуйте статистически это доказать, используя одностороннюю проверку гипотезы с двумя выборками:\n",
    "\n",
    "- Нулевая гипотеза H₀: Средняя активность пользователей в часах в двух группах (Москва и Санкт-Петербург) не различается.\n",
    "\n",
    "- Альтернативная гипотеза H₁: Средняя активность пользователей в Санкт-Петербурге больше, и это различие статистически значимо."
   ]
  },
  {
   "cell_type": "code",
   "execution_count": 28,
   "id": "67956690",
   "metadata": {
    "id": "67956690"
   },
   "outputs": [
    {
     "name": "stdout",
     "output_type": "stream",
     "text": [
      "Размеры групп:\n",
      " Москва             6234\n",
      "Санкт-Петербург    2550\n",
      "Name: city, dtype: int64 \n",
      "\n",
      "Статистика по полю hours по группам:\n",
      "                  count       mean    median        std\n",
      "city                                                  \n",
      "Москва            6234  10.881092  0.924498  36.851683\n",
      "Санкт-Петербург   2550  11.592691  0.984781  39.704993 \n",
      "\n"
     ]
    },
    {
     "data": {
      "text/plain": [
       "<Figure size 432x288 with 0 Axes>"
      ]
     },
     "metadata": {},
     "output_type": "display_data"
    },
    {
     "data": {
      "image/png": "[encoded data removed]",
      "text/plain": [
       "<Figure size 432x288 with 1 Axes>"
      ]
     },
     "metadata": {
      "needs_background": "light"
     },
     "output_type": "display_data"
    }
   ],
   "source": [
    "df = df[df['city'].isin(['Москва', 'Санкт-Петербург'])]\n",
    "\n",
    "# Суммарные часы активности по пользователям\n",
    "df_agg = (\n",
    "    df\n",
    "    .groupby(['city', 'puid'], as_index=False)['hours']\n",
    "    .sum()\n",
    ")\n",
    "\n",
    "# Размеры и статистика по группам\n",
    "group_counts = df_agg['city'].value_counts()\n",
    "group_stats = df_agg.groupby('city')['hours'].agg(['count', 'mean', 'median', 'std'])\n",
    "\n",
    "print(\"Размеры групп:\\n\", group_counts, \"\\n\")\n",
    "print(\"Статистика по полю hours по группам:\\n\", group_stats, \"\\n\")\n",
    "\n",
    "# Визуализация - boxplot\n",
    "plt.figure(figsize=(6,4))\n",
    "df_agg.boxplot(column='hours', by='city')\n",
    "plt.title('Распределение часов активности по городам')\n",
    "plt.suptitle('')\n",
    "plt.xlabel('Город')\n",
    "plt.ylabel('Часы активности')\n",
    "plt.show()"
   ]
  },
  {
   "cell_type": "markdown",
   "id": "a66cb063",
   "metadata": {},
   "source": [
    "График \"Распределение часов активности по городам\" показывает сильные выбросы в обоих городах по часам активности. Заметно, что **[1]** именно в Санкт-Петербурге отмечен максимум показателя по прослушиванию - почти 1000 часов. Кроме этого **[2]** среднее (mean) и медиана (median) В Санкт-Петербурге выше, чем в Москве. "
   ]
  },
  {
   "cell_type": "markdown",
   "id": "f0b781f8",
   "metadata": {},
   "source": [
    "<div class=\"alert alert-warning\">\n",
    "    <h2> Комментарий ревьюера v1 <a class=\"tocSkip\"> </h2>\n",
    "    \n",
    "<b>Небольшие замечания и рекомендации💡:</b> Действительно важно взглянуть как распределена целевая величина, можно поработать над наглядностью и взглянуть на бокспоты в большем масштабе"
   ]
  },
  {
   "cell_type": "code",
   "execution_count": 29,
   "id": "28a4f6c6",
   "metadata": {},
   "outputs": [
    {
     "name": "stdout",
     "output_type": "stream",
     "text": [
      "Абсолютные значения:\n",
      "hours_bin         0-9  10-29  30-49  50-99  100-199  200+\n",
      "city                                                     \n",
      "Москва           5008    683    200    195      102    46\n",
      "Санкт-Петербург  2013    285    101     95       36    20\n",
      "\n",
      "Процентное распределение:\n",
      "hours_bin          0-9  10-29  30-49  50-99  100-199  200+\n",
      "city                                                      \n",
      "Москва           80.33  10.96   3.21   3.13     1.64  0.74\n",
      "Санкт-Петербург  78.94  11.18   3.96   3.73     1.41  0.78\n"
     ]
    }
   ],
   "source": [
    "# Смотрим распределение прослушиваний по шкале в зависимости от города. \n",
    "raw = pd.read_csv('/datasets/yandex_knigi_data.csv')\n",
    "df = raw[raw['city'].isin(['Москва', 'Санкт-Петербург'])]\n",
    "df = df.groupby(['city', 'puid'], as_index=False)['hours'].sum()\n",
    "\n",
    "bins   = [0, 9, 29, 49, 99, 199, float('inf')]\n",
    "labels = ['0-9', '10-29', '30-49', '50-99', '100-199', '200+']\n",
    "\n",
    "df['hours_bin'] = pd.cut(df['hours'], bins=bins, labels=labels, right=True).astype(str)\n",
    "\n",
    "# Таблица с абсолютными значениями\n",
    "counts = df.groupby(['city', 'hours_bin']).size().unstack(fill_value=0)\n",
    "counts = counts[labels]  # упорядочиваем колонки\n",
    "\n",
    "print(\"Абсолютные значения:\")\n",
    "print(counts)\n",
    "\n",
    "# Таблица с относительными значениями\n",
    "percents = counts.div(counts.sum(axis=1), axis=0) * 100\n",
    "percents = percents.round(2)\n",
    "\n",
    "print(\"\\nПроцентное распределение:\")\n",
    "print(percents)"
   ]
  },
  {
   "cell_type": "markdown",
   "id": "71f9001e",
   "metadata": {},
   "source": [
    "**[3]** Из таблиц видно, что распределение \"часов\" по городам очень похоже, но всё же у пользователей из Санкт-Пкетербурга чуть больше доля тех, кто выходит за рамки \"минимального\" использования (до 9 часов прослушивания). \n",
    "\n",
    "Все 3 факта указывают на правдоподобность гипотезы о том, что в Санкт-Петербурге доля более активных пользователей чуть выше. Однако разница для **среднего**, **медианы** и **бинов** невелика, поэтому для уверенного вывода стоит подкрепить это статистическим тестом (например, Манна-Уитни или Уэлча) на \"сырых\" или очищенных от выбросов данных."
   ]
  },
  {
   "cell_type": "markdown",
   "id": "3e607401",
   "metadata": {},
   "source": [
    "<div class=\"alert alert-warning\">\n",
    "    <h2> Комментарий ревьюера v1 <a class=\"tocSkip\"> </h2>\n",
    "    \n",
    "<b>Небольшие замечания и рекомендации💡:</b> На самом деле Ненормальность распределения не мешает проводить `ttest` в силу ЦПТ. И если \"почистить\" выбросы, можно применить `ttest` с поправкой Уэлча, так как выборки отличны по размеру более чем на 25%. ОН будет иметь большую мощность, чем U-тест"
   ]
  },
  {
   "cell_type": "code",
   "execution_count": 30,
   "id": "a0ae5a71",
   "metadata": {},
   "outputs": [
    {
     "name": "stdout",
     "output_type": "stream",
     "text": [
      "Уэлча t-test t-test:\n",
      "  t-статистика = 0.7782, p-value = 0.2182\n",
      "\n",
      "Манна-Уитни U-test:\n",
      "  U-статистика = 8093616.0000, p-value = 0.0891\n"
     ]
    }
   ],
   "source": [
    "# Используем тесты Манна-Уитни И Уэлча на \"сырых\" данных. \n",
    "df = df.groupby(['city', 'puid'], as_index=False)['hours'].sum()\n",
    "\n",
    "# Формируем выборки\n",
    "moscow = df[df['city']=='Москва']['hours']\n",
    "spb    = df[df['city']=='Санкт-Петербург']['hours']\n",
    "\n",
    "# Уэлча t-test (односторонний)\n",
    "t_stat, p_two = stats.ttest_ind(spb, moscow, equal_var=False)\n",
    "p_one_t = p_two/2 if t_stat>0 else 1 - p_two/2\n",
    "print(\"Уэлча t-test t-test:\")\n",
    "print(f\"  t-статистика = {t_stat:.4f}, p-value = {p_one_t:.4f}\")\n",
    "\n",
    "# Манна-Уитни U-test (односторонний)\n",
    "u_stat, p_one_mw = stats.mannwhitneyu(spb, moscow, alternative='greater')\n",
    "print(\"\\nМанна-Уитни U-test:\")\n",
    "print(f\"  U-статистика = {u_stat:.4f}, p-value = {p_one_mw:.4f}\")"
   ]
  },
  {
   "cell_type": "code",
   "execution_count": 31,
   "id": "6557af05",
   "metadata": {},
   "outputs": [
    {
     "data": {
      "text/plain": [
       "<Figure size 432x288 with 0 Axes>"
      ]
     },
     "metadata": {},
     "output_type": "display_data"
    },
    {
     "data": {
      "image/png": "[encoded data removed]",
      "text/plain": [
       "<Figure size 432x288 with 1 Axes>"
      ]
     },
     "metadata": {
      "needs_background": "light"
     },
     "output_type": "display_data"
    },
    {
     "name": "stdout",
     "output_type": "stream",
     "text": [
      "Уэлча t-test на данных без выбросов:\n",
      "  t-статистика = 1.3747, p-value = 0.0847\n",
      "\n",
      "Манна-Уитни U-test на данных без выбросов:\n",
      "  U-статистика = 5856857.0000, p-value = 0.1649\n"
     ]
    }
   ],
   "source": [
    "# Используем тесты Манна-Уитни И Уэлча на данных без выбросов. \n",
    "# Удаляем выбросы по IQR в каждой группе\n",
    "def remove_outliers(g):\n",
    "    q1, q3 = g['hours'].quantile([0.25, 0.75])\n",
    "    iqr = q3 - q1\n",
    "    lower, upper = q1 - 1.5*iqr, q3 + 1.5*iqr\n",
    "    return g[(g['hours'] >= lower) & (g['hours'] <= upper)]\n",
    "\n",
    "df_filt = df.groupby('city', group_keys=False).apply(remove_outliers).reset_index(drop=True)\n",
    "\n",
    "# Визуализация без выбросов\n",
    "plt.figure(figsize=(6, 4))\n",
    "df_filt.boxplot(column='hours', by='city')\n",
    "plt.suptitle('')\n",
    "plt.title('Часы активности без выбросов (IQR)')\n",
    "plt.xlabel('Город')\n",
    "plt.ylabel('Часы активности')\n",
    "plt.show()\n",
    "\n",
    "# Формируем выборки после фильтрации\n",
    "moscow = df_filt[df_filt['city']=='Москва']['hours']\n",
    "spb    = df_filt[df_filt['city']=='Санкт-Петербург']['hours']\n",
    "\n",
    "# Уэлча t-test (односторонний)\n",
    "t_stat, p_two = stats.ttest_ind(spb, moscow, equal_var=False)\n",
    "p_one_t = p_two/2 if t_stat>0 else 1 - p_two/2\n",
    "print(\"Уэлча t-test на данных без выбросов:\")\n",
    "print(f\"  t-статистика = {t_stat:.4f}, p-value = {p_one_t:.4f}\")\n",
    "\n",
    "# Манна-Уитни U-test (односторонний)\n",
    "u_stat, p_one_mw = stats.mannwhitneyu(spb, moscow, alternative='greater')\n",
    "print(\"\\nМанна-Уитни U-test на данных без выбросов:\")\n",
    "print(f\"  U-статистика = {u_stat:.4f}, p-value = {p_one_mw:.4f}\")"
   ]
  },
  {
   "cell_type": "markdown",
   "id": "6c767352",
   "metadata": {},
   "source": [
    "<div class=\"alert alert-success\">\n",
    "<h2> Комментарий ревьюера v1 <a class=\"tocSkip\"> </h2>\n",
    "\n",
    "<b>Все супер!👍:</b>При этом сами тесты проведены корректно"
   ]
  },
  {
   "cell_type": "markdown",
   "id": "2423f8e4",
   "metadata": {},
   "source": [
    "<div class=\"alert alert-warning\">\n",
    "    <h2> Комментарий ревьюера v1 <a class=\"tocSkip\"> </h2>\n",
    "    \n",
    "<b>Небольшие замечания и рекомендации💡:</b>Можно добавить их автоматическим выводом результатов с бизнес-интерпретацией"
   ]
  },
  {
   "cell_type": "markdown",
   "id": "6953e84c",
   "metadata": {
    "id": "6953e84c"
   },
   "source": [
    "## 3. Аналитическая записка\n",
    "По результатам анализа данных подготовьте аналитическую записку, в которой опишете:\n",
    "\n",
    "- Выбранный тип t-теста и уровень статистической значимости.\n",
    "\n",
    "- Результат теста, или p-value.\n",
    "\n",
    "- Вывод на основе полученного p-value, то есть интерпретацию результатов.\n",
    "\n",
    "- Одну или две возможные причины, объясняющие полученные результаты.\n",
    "\n"
   ]
  },
  {
   "cell_type": "markdown",
   "id": "c647f57a",
   "metadata": {},
   "source": [
    "### Выбор теста и уровень значимости\n",
    "\n",
    "- Цель анализа - сравнить средние часы активности между Москвой и Санкт-Петербургом. t-test Уэлча напрямую проверяет разницу средних, а  U-test Манна-Уитни проверяет, что значения из одной выборки \"обычно\" больше, чем из другой (ранговую разницу), то есть сдвиг в распределениях в целом. Соответственно для сравнения средних времени активности пользователей двух независимых групп (Москва и Санкт-Петербург) был выбран t-test Уэлча - не требующий равенства дисперсий. Уровень статистической значимости (а) принят равным 0.05.\n",
    "___\n",
    "- Был выбран односторонний тест потому, что наша альтернативная гипотеза чётко направлена: мы проверяем именно, превышает ли среднее время активности пользователей Санкт-Петербурга среднее московских и нас не интересует противоположное направление (что Москва выше СПб). Односторонний тест концентрируется на этой единственной стороне распределения, позволяя более эффективно обнаружить эффект в заданном направлении, в то время как двусторонний тест распределил бы уровень значимости между обоими хвостами и снизил бы мощность проверки нашей гипотезы.\n",
    "___\n",
    "- Результаты тестирования\n",
    " - На сырых данных (с выбросами)\n",
    "  - t-test Уэлча:\n",
    "   - t-статистика = 0.7782\n",
    "   - Односторонний p-value = 0.2182\n",
    " - На данных без сильных выбросов (IQR-фильтрация)\n",
    "  - t-test Уэлча:\n",
    "   - t-статистика = 1.3747\n",
    "   - Односторонний p-value = 0.0847.  \n",
    "___\n",
    "-  Интерпретация результатов\n",
    " - Во всех случаях полученные p-value существенно превосходят выбранный уровень значимости 0.05. Это означает, что не смотря на верхнеуровневые элементы отличий групп НЕТ достаточных статистических оснований отвергнуть нулевую гипотезу о равенстве средних. Иными словами, на данных датасета не обнаружено статистически значимого превосходства пользователей Санкт-Петербурга над пользователями Москвы по среднему времени чтения и прослушивания в приложении.\n",
    " - Однако при снижении уровня значимости (например до 0.10) мы могли бы сказать, что статистически значимая разница между средними существует и можно принять альтернативную гипотезу."
   ]
  },
  {
   "cell_type": "markdown",
   "id": "75fe791f",
   "metadata": {},
   "source": [
    "<div class=\"alert alert-success\">\n",
    "<h2> Комментарий ревьюера v1 <a class=\"tocSkip\"> </h2>\n",
    "\n",
    "<b>Все супер!👍:</b> Отличная аналитческая записка, все структурировано и логично описано."
   ]
  },
  {
   "cell_type": "markdown",
   "id": "hc1d6jVISegz",
   "metadata": {
    "id": "hc1d6jVISegz"
   },
   "source": [
    "----"
   ]
  },
  {
   "cell_type": "markdown",
   "id": "NqOUIYhbrIfC",
   "metadata": {
    "id": "NqOUIYhbrIfC"
   },
   "source": [
    "# Часть 2. Анализ результатов A/B-тестирования"
   ]
  },
  {
   "cell_type": "markdown",
   "id": "tDwMKFNGsClr",
   "metadata": {
    "id": "tDwMKFNGsClr"
   },
   "source": [
    "Теперь вам нужно проанализировать другие данные. Представьте, что к вам обратились представители интернет-магазина BitMotion Kit, в котором продаются геймифицированные товары для тех, кто ведёт здоровый образ жизни. У него есть своя целевая аудитория, даже появились хиты продаж: эспандер со счётчиком и напоминанием, так и подстольный велотренажёр с Bluetooth.\n",
    "\n",
    "В будущем компания хочет расширить ассортимент товаров. Но перед этим нужно решить одну проблему. Интерфейс онлайн-магазина слишком сложен для пользователей — об этом говорят отзывы.\n",
    "\n",
    "Чтобы привлечь новых клиентов и увеличить число продаж, владельцы магазина разработали новую версию сайта и протестировали его на части пользователей. По задумке, это решение доказуемо повысит количество пользователей, которые совершат покупку.\n",
    "\n",
    "Ваша задача — провести оценку результатов A/B-теста. В вашем распоряжении:\n",
    "\n",
    "* данные о действиях пользователей и распределении их на группы,\n",
    "\n",
    "* техническое задание.\n",
    "\n",
    "Оцените корректность проведения теста и проанализируйте его результаты."
   ]
  },
  {
   "cell_type": "markdown",
   "id": "UNXAAyF5r9Rk",
   "metadata": {
    "id": "UNXAAyF5r9Rk"
   },
   "source": [
    "## 1. Опишите цели исследования.\n",
    "\n"
   ]
  },
  {
   "cell_type": "markdown",
   "id": "kHx-51yES8bd",
   "metadata": {
    "id": "kHx-51yES8bd"
   },
   "source": [
    "#### Цели исследования\n",
    "\n",
    "Оценить влияние новой версии сайта интернет-магазина BitMotion Kit на ключевой показатель эффективности - конверсию посетителей в покупателей.\n",
    "\n",
    "Проверить гипотезу о том, что упрощённый интерфейс действительно повышает долю пользователей, совершивших покупку.\n",
    "\n",
    "Обеспечить обоснованное решение по тому, стоит ли разворачивать новую версию на всех посетителях."
   ]
  },
  {
   "cell_type": "markdown",
   "id": "29c9b328",
   "metadata": {},
   "source": [
    "**ЦЕЛИ ИССЛЕДОВАНИЯ**\n",
    "- Оценить эффективность новой версии интерфейса сайта BitMotion Kit в повышении конверсии - доли посетителей, совершивших покупку.\n",
    "- Принять решение о полном развёртывании или доработке интерфейса на основании статистически обоснованных результатов.\n",
    "\n",
    "**ЗАДАЧИ ИССЛЕДОВАНИЯ**\n",
    "- Подготовка данных и их валидация\n",
    "  - Отобрать из общей базы только тех пользователей, которые действительно участвовали в тесте нового интерфейса.\n",
    "  - Устранить любые помехи в данных - например, исключить тех, кто одновременно участвовал в других экспериментах.\n",
    "\n",
    "- Построение и расчёт ключевых метрик\n",
    "  - Определить общее число участников в каждой тестовой группе.\n",
    "  - Выявить, сколько из них совершили целевое действие (покупку).\n",
    "\n",
    "- Статистическая проверка гипотезы\n",
    "  - Выбрать методику сравнения пропорций, подходящую под характер данных и бизнес-задачу.\n",
    "  - Выполнить тест на разницу конверсий между контрольной и тестовой группами и оценить его значимость.\n",
    "\n",
    "- Интерпретация результатов и выработка рекомендаций\n",
    "  - Проанализировать, в какой мере новая версия интерфейса повлияла на поведение пользователей.\n",
    "  - Сформулировать практические советы по дальнейшему развёртыванию или доработке интерфейса на основании полученных выводов."
   ]
  },
  {
   "cell_type": "markdown",
   "id": "2f452cb2",
   "metadata": {},
   "source": [
    "<div class=\"alert alert-success\">\n",
    "<h2> Комментарий ревьюера v1 <a class=\"tocSkip\"> </h2>\n",
    "\n",
    "<b>Все супер!👍:</b>Контекст задачи описан, посмотрим как ее лучше всего решать"
   ]
  },
  {
   "cell_type": "markdown",
   "id": "_CZryx2OsH-s",
   "metadata": {
    "id": "_CZryx2OsH-s"
   },
   "source": [
    "## 2. Загрузите данные, оцените их целостность.\n"
   ]
  },
  {
   "cell_type": "markdown",
   "id": "92d83836",
   "metadata": {},
   "source": [
    "<div class=\"alert alert-warning\">\n",
    "    <h2> Комментарий ревьюера v1 <a class=\"tocSkip\"> </h2>\n",
    "    \n",
    "<b>Небольшие замечания и рекомендации💡:</b> Это не ошибка, но в соответствии с [PEP-8](https://pyplanet.ru/article/pep-0008.html) рекомендуется делать все импорты в начале проекта для упрощения отладки и проверки зависимостей"
   ]
  },
  {
   "cell_type": "code",
   "execution_count": 38,
   "id": "DjFcJbeGsTIg",
   "metadata": {
    "id": "DjFcJbeGsTIg"
   },
   "outputs": [],
   "source": [
    "df_participants = pd.read_csv('https://code.s3.yandex.net/datasets/ab_test_participants.csv')"
   ]
  },
  {
   "cell_type": "code",
   "execution_count": 39,
   "id": "0e4c463a",
   "metadata": {},
   "outputs": [
    {
     "data": {
      "text/html": [
       "<div>\n",
       "<style scoped>\n",
       "    .dataframe tbody tr th:only-of-type {\n",
       "        vertical-align: middle;\n",
       "    }\n",
       "\n",
       "    .dataframe tbody tr th {\n",
       "        vertical-align: top;\n",
       "    }\n",
       "\n",
       "    .dataframe thead th {\n",
       "        text-align: right;\n",
       "    }\n",
       "</style>\n",
       "<table border=\"1\" class=\"dataframe\">\n",
       "  <thead>\n",
       "    <tr style=\"text-align: right;\">\n",
       "      <th></th>\n",
       "      <th>user_id</th>\n",
       "      <th>group</th>\n",
       "      <th>ab_test</th>\n",
       "      <th>device</th>\n",
       "    </tr>\n",
       "  </thead>\n",
       "  <tbody>\n",
       "    <tr>\n",
       "      <th>0</th>\n",
       "      <td>0002CE61FF2C4011</td>\n",
       "      <td>B</td>\n",
       "      <td>interface_eu_test</td>\n",
       "      <td>Mac</td>\n",
       "    </tr>\n",
       "    <tr>\n",
       "      <th>1</th>\n",
       "      <td>001064FEAAB631A1</td>\n",
       "      <td>B</td>\n",
       "      <td>recommender_system_test</td>\n",
       "      <td>Android</td>\n",
       "    </tr>\n",
       "    <tr>\n",
       "      <th>2</th>\n",
       "      <td>001064FEAAB631A1</td>\n",
       "      <td>A</td>\n",
       "      <td>interface_eu_test</td>\n",
       "      <td>Android</td>\n",
       "    </tr>\n",
       "    <tr>\n",
       "      <th>3</th>\n",
       "      <td>0010A1C096941592</td>\n",
       "      <td>A</td>\n",
       "      <td>recommender_system_test</td>\n",
       "      <td>Android</td>\n",
       "    </tr>\n",
       "    <tr>\n",
       "      <th>4</th>\n",
       "      <td>001E72F50D1C48FA</td>\n",
       "      <td>A</td>\n",
       "      <td>interface_eu_test</td>\n",
       "      <td>Mac</td>\n",
       "    </tr>\n",
       "    <tr>\n",
       "      <th>...</th>\n",
       "      <td>...</td>\n",
       "      <td>...</td>\n",
       "      <td>...</td>\n",
       "      <td>...</td>\n",
       "    </tr>\n",
       "    <tr>\n",
       "      <th>14520</th>\n",
       "      <td>FFE7FC140521F5F6</td>\n",
       "      <td>A</td>\n",
       "      <td>interface_eu_test</td>\n",
       "      <td>PC</td>\n",
       "    </tr>\n",
       "    <tr>\n",
       "      <th>14521</th>\n",
       "      <td>FFEFC0E55C1CCD4F</td>\n",
       "      <td>A</td>\n",
       "      <td>interface_eu_test</td>\n",
       "      <td>PC</td>\n",
       "    </tr>\n",
       "    <tr>\n",
       "      <th>14522</th>\n",
       "      <td>FFF28D02B1EACBE1</td>\n",
       "      <td>B</td>\n",
       "      <td>recommender_system_test</td>\n",
       "      <td>PC</td>\n",
       "    </tr>\n",
       "    <tr>\n",
       "      <th>14523</th>\n",
       "      <td>FFF28D02B1EACBE1</td>\n",
       "      <td>B</td>\n",
       "      <td>interface_eu_test</td>\n",
       "      <td>PC</td>\n",
       "    </tr>\n",
       "    <tr>\n",
       "      <th>14524</th>\n",
       "      <td>FFF58BC33966EB51</td>\n",
       "      <td>A</td>\n",
       "      <td>interface_eu_test</td>\n",
       "      <td>Android</td>\n",
       "    </tr>\n",
       "  </tbody>\n",
       "</table>\n",
       "<p>14525 rows × 4 columns</p>\n",
       "</div>"
      ],
      "text/plain": [
       "                user_id group                  ab_test   device\n",
       "0      0002CE61FF2C4011     B        interface_eu_test      Mac\n",
       "1      001064FEAAB631A1     B  recommender_system_test  Android\n",
       "2      001064FEAAB631A1     A        interface_eu_test  Android\n",
       "3      0010A1C096941592     A  recommender_system_test  Android\n",
       "4      001E72F50D1C48FA     A        interface_eu_test      Mac\n",
       "...                 ...   ...                      ...      ...\n",
       "14520  FFE7FC140521F5F6     A        interface_eu_test       PC\n",
       "14521  FFEFC0E55C1CCD4F     A        interface_eu_test       PC\n",
       "14522  FFF28D02B1EACBE1     B  recommender_system_test       PC\n",
       "14523  FFF28D02B1EACBE1     B        interface_eu_test       PC\n",
       "14524  FFF58BC33966EB51     A        interface_eu_test  Android\n",
       "\n",
       "[14525 rows x 4 columns]"
      ]
     },
     "metadata": {},
     "output_type": "display_data"
    },
    {
     "data": {
      "text/plain": [
       "(14525, 4)"
      ]
     },
     "metadata": {},
     "output_type": "display_data"
    },
    {
     "name": "stdout",
     "output_type": "stream",
     "text": [
      "<class 'pandas.core.frame.DataFrame'>\n",
      "RangeIndex: 14525 entries, 0 to 14524\n",
      "Data columns (total 4 columns):\n",
      " #   Column   Non-Null Count  Dtype \n",
      "---  ------   --------------  ----- \n",
      " 0   user_id  14525 non-null  object\n",
      " 1   group    14525 non-null  object\n",
      " 2   ab_test  14525 non-null  object\n",
      " 3   device   14525 non-null  object\n",
      "dtypes: object(4)\n",
      "memory usage: 454.0+ KB\n"
     ]
    },
    {
     "data": {
      "text/html": [
       "<div>\n",
       "<style scoped>\n",
       "    .dataframe tbody tr th:only-of-type {\n",
       "        vertical-align: middle;\n",
       "    }\n",
       "\n",
       "    .dataframe tbody tr th {\n",
       "        vertical-align: top;\n",
       "    }\n",
       "\n",
       "    .dataframe thead th {\n",
       "        text-align: right;\n",
       "    }\n",
       "</style>\n",
       "<table border=\"1\" class=\"dataframe\">\n",
       "  <thead>\n",
       "    <tr style=\"text-align: right;\">\n",
       "      <th></th>\n",
       "      <th>user_id</th>\n",
       "      <th>group</th>\n",
       "      <th>ab_test</th>\n",
       "      <th>device</th>\n",
       "    </tr>\n",
       "  </thead>\n",
       "  <tbody>\n",
       "    <tr>\n",
       "      <th>count</th>\n",
       "      <td>14525</td>\n",
       "      <td>14525</td>\n",
       "      <td>14525</td>\n",
       "      <td>14525</td>\n",
       "    </tr>\n",
       "    <tr>\n",
       "      <th>unique</th>\n",
       "      <td>13638</td>\n",
       "      <td>2</td>\n",
       "      <td>2</td>\n",
       "      <td>4</td>\n",
       "    </tr>\n",
       "    <tr>\n",
       "      <th>top</th>\n",
       "      <td>6E8A538DFED17F64</td>\n",
       "      <td>A</td>\n",
       "      <td>interface_eu_test</td>\n",
       "      <td>Android</td>\n",
       "    </tr>\n",
       "    <tr>\n",
       "      <th>freq</th>\n",
       "      <td>2</td>\n",
       "      <td>8130</td>\n",
       "      <td>10850</td>\n",
       "      <td>6484</td>\n",
       "    </tr>\n",
       "  </tbody>\n",
       "</table>\n",
       "</div>"
      ],
      "text/plain": [
       "                 user_id  group            ab_test   device\n",
       "count              14525  14525              14525    14525\n",
       "unique             13638      2                  2        4\n",
       "top     6E8A538DFED17F64      A  interface_eu_test  Android\n",
       "freq                   2   8130              10850     6484"
      ]
     },
     "metadata": {},
     "output_type": "display_data"
    }
   ],
   "source": [
    "# Таблица participants\n",
    "display(df_participants)\n",
    "\n",
    "# Размер таблицы\n",
    "display(df_participants.shape)\n",
    "\n",
    "# Информация о столбцах, типах и ненулевых значениях\n",
    "df_participants.info()\n",
    "\n",
    "# Основные статистики по числовым столбцам\n",
    "display(df_participants.describe())"
   ]
  },
  {
   "cell_type": "code",
   "execution_count": 34,
   "id": "66bc96e8",
   "metadata": {},
   "outputs": [
    {
     "name": "stdout",
     "output_type": "stream",
     "text": [
      "Уникальные значения ab_test:\n",
      "interface_eu_test\n",
      "recommender_system_test\n"
     ]
    }
   ],
   "source": [
    "#проверяем уникальные значения по столбцу ab_test\n",
    "unique_ab_test = df_participants['ab_test'].unique()\n",
    "\n",
    "print(\"Уникальные значения ab_test:\")\n",
    "for ab_test in unique_ab_test:\n",
    "    print(ab_test)"
   ]
  },
  {
   "cell_type": "markdown",
   "id": "be8c66b2",
   "metadata": {},
   "source": [
    "**Внимание**. Для анализа необходимо использовать лишь пользователей у которых есть поле interface_eu_test. Поле recommender_system_test скорее всего означает группу из другого A/B тестирования "
   ]
  },
  {
   "cell_type": "code",
   "execution_count": 35,
   "id": "19d209c6",
   "metadata": {},
   "outputs": [
    {
     "name": "stderr",
     "output_type": "stream",
     "text": [
      "/tmp/ipykernel_31/3538168703.py:1: UserWarning: Pandas doesn't allow columns to be created via a new attribute name - see https://pandas.pydata.org/pandas-docs/stable/indexing.html#attribute-access\n",
      "  df.events = pd.read_csv('https://code.s3.yandex.net/datasets/ab_test_events.zip',\n"
     ]
    }
   ],
   "source": [
    "df.events = pd.read_csv('https://code.s3.yandex.net/datasets/ab_test_events.zip',\n",
    "                     parse_dates=['event_dt'], low_memory=False)"
   ]
  },
  {
   "cell_type": "code",
   "execution_count": 41,
   "id": "d5d959c7",
   "metadata": {},
   "outputs": [
    {
     "data": {
      "text/html": [
       "<div>\n",
       "<style scoped>\n",
       "    .dataframe tbody tr th:only-of-type {\n",
       "        vertical-align: middle;\n",
       "    }\n",
       "\n",
       "    .dataframe tbody tr th {\n",
       "        vertical-align: top;\n",
       "    }\n",
       "\n",
       "    .dataframe thead th {\n",
       "        text-align: right;\n",
       "    }\n",
       "</style>\n",
       "<table border=\"1\" class=\"dataframe\">\n",
       "  <thead>\n",
       "    <tr style=\"text-align: right;\">\n",
       "      <th></th>\n",
       "      <th>user_id</th>\n",
       "      <th>event_dt</th>\n",
       "      <th>event_name</th>\n",
       "      <th>details</th>\n",
       "    </tr>\n",
       "  </thead>\n",
       "  <tbody>\n",
       "    <tr>\n",
       "      <th>1</th>\n",
       "      <td>CCBE9E7E99F94A08</td>\n",
       "      <td>2020-12-01 00:00:11</td>\n",
       "      <td>registration</td>\n",
       "      <td>0.0</td>\n",
       "    </tr>\n",
       "    <tr>\n",
       "      <th>3</th>\n",
       "      <td>CCBE9E7E99F94A08</td>\n",
       "      <td>2020-12-01 00:00:33</td>\n",
       "      <td>login</td>\n",
       "      <td>NaN</td>\n",
       "    </tr>\n",
       "    <tr>\n",
       "      <th>4</th>\n",
       "      <td>CCBE9E7E99F94A08</td>\n",
       "      <td>2020-12-01 00:00:52</td>\n",
       "      <td>product_page</td>\n",
       "      <td>NaN</td>\n",
       "    </tr>\n",
       "    <tr>\n",
       "      <th>5</th>\n",
       "      <td>AA346F4D22148024</td>\n",
       "      <td>2020-12-01 00:01:46</td>\n",
       "      <td>registration</td>\n",
       "      <td>-2.0</td>\n",
       "    </tr>\n",
       "    <tr>\n",
       "      <th>6</th>\n",
       "      <td>7EF01D0E72AF449D</td>\n",
       "      <td>2020-12-01 00:02:06</td>\n",
       "      <td>registration</td>\n",
       "      <td>-5.0</td>\n",
       "    </tr>\n",
       "    <tr>\n",
       "      <th>...</th>\n",
       "      <td>...</td>\n",
       "      <td>...</td>\n",
       "      <td>...</td>\n",
       "      <td>...</td>\n",
       "    </tr>\n",
       "    <tr>\n",
       "      <th>787280</th>\n",
       "      <td>10CAFD77114A4537</td>\n",
       "      <td>2020-12-31 23:57:35</td>\n",
       "      <td>product_page</td>\n",
       "      <td>NaN</td>\n",
       "    </tr>\n",
       "    <tr>\n",
       "      <th>787281</th>\n",
       "      <td>1A655C280B064708</td>\n",
       "      <td>2020-12-31 23:57:44</td>\n",
       "      <td>product_page</td>\n",
       "      <td>NaN</td>\n",
       "    </tr>\n",
       "    <tr>\n",
       "      <th>787282</th>\n",
       "      <td>B77B2F4BCA134618</td>\n",
       "      <td>2020-12-31 23:58:23</td>\n",
       "      <td>registration</td>\n",
       "      <td>0.0</td>\n",
       "    </tr>\n",
       "    <tr>\n",
       "      <th>787284</th>\n",
       "      <td>B12AD1623E494FAD</td>\n",
       "      <td>2020-12-31 23:58:34</td>\n",
       "      <td>registration</td>\n",
       "      <td>-6.52</td>\n",
       "    </tr>\n",
       "    <tr>\n",
       "      <th>787285</th>\n",
       "      <td>5456977474344433</td>\n",
       "      <td>2020-12-31 23:59:48</td>\n",
       "      <td>registration</td>\n",
       "      <td>-3.67</td>\n",
       "    </tr>\n",
       "  </tbody>\n",
       "</table>\n",
       "<p>728791 rows × 4 columns</p>\n",
       "</div>"
      ],
      "text/plain": [
       "                 user_id            event_dt    event_name details\n",
       "1       CCBE9E7E99F94A08 2020-12-01 00:00:11  registration     0.0\n",
       "3       CCBE9E7E99F94A08 2020-12-01 00:00:33         login     NaN\n",
       "4       CCBE9E7E99F94A08 2020-12-01 00:00:52  product_page     NaN\n",
       "5       AA346F4D22148024 2020-12-01 00:01:46  registration    -2.0\n",
       "6       7EF01D0E72AF449D 2020-12-01 00:02:06  registration    -5.0\n",
       "...                  ...                 ...           ...     ...\n",
       "787280  10CAFD77114A4537 2020-12-31 23:57:35  product_page     NaN\n",
       "787281  1A655C280B064708 2020-12-31 23:57:44  product_page     NaN\n",
       "787282  B77B2F4BCA134618 2020-12-31 23:58:23  registration     0.0\n",
       "787284  B12AD1623E494FAD 2020-12-31 23:58:34  registration   -6.52\n",
       "787285  5456977474344433 2020-12-31 23:59:48  registration   -3.67\n",
       "\n",
       "[728791 rows x 4 columns]"
      ]
     },
     "metadata": {},
     "output_type": "display_data"
    },
    {
     "data": {
      "text/plain": [
       "(728791, 4)"
      ]
     },
     "metadata": {},
     "output_type": "display_data"
    },
    {
     "name": "stdout",
     "output_type": "stream",
     "text": [
      "<class 'pandas.core.frame.DataFrame'>\n",
      "Int64Index: 728791 entries, 1 to 787285\n",
      "Data columns (total 4 columns):\n",
      " #   Column      Non-Null Count   Dtype         \n",
      "---  ------      --------------   -----         \n",
      " 0   user_id     728791 non-null  object        \n",
      " 1   event_dt    728791 non-null  datetime64[ns]\n",
      " 2   event_name  728791 non-null  object        \n",
      " 3   details     233499 non-null  object        \n",
      "dtypes: datetime64[ns](1), object(3)\n",
      "memory usage: 27.8+ MB\n"
     ]
    },
    {
     "name": "stderr",
     "output_type": "stream",
     "text": [
      "/tmp/ipykernel_31/711129598.py:11: FutureWarning: Treating datetime data as categorical rather than numeric in `.describe` is deprecated and will be removed in a future version of pandas. Specify `datetime_is_numeric=True` to silence this warning and adopt the future behavior now.\n",
      "  display(df.events.describe())\n"
     ]
    },
    {
     "data": {
      "text/html": [
       "<div>\n",
       "<style scoped>\n",
       "    .dataframe tbody tr th:only-of-type {\n",
       "        vertical-align: middle;\n",
       "    }\n",
       "\n",
       "    .dataframe tbody tr th {\n",
       "        vertical-align: top;\n",
       "    }\n",
       "\n",
       "    .dataframe thead th {\n",
       "        text-align: right;\n",
       "    }\n",
       "</style>\n",
       "<table border=\"1\" class=\"dataframe\">\n",
       "  <thead>\n",
       "    <tr style=\"text-align: right;\">\n",
       "      <th></th>\n",
       "      <th>user_id</th>\n",
       "      <th>event_dt</th>\n",
       "      <th>event_name</th>\n",
       "      <th>details</th>\n",
       "    </tr>\n",
       "  </thead>\n",
       "  <tbody>\n",
       "    <tr>\n",
       "      <th>count</th>\n",
       "      <td>728791</td>\n",
       "      <td>728791</td>\n",
       "      <td>728791</td>\n",
       "      <td>233499</td>\n",
       "    </tr>\n",
       "    <tr>\n",
       "      <th>unique</th>\n",
       "      <td>144183</td>\n",
       "      <td>561273</td>\n",
       "      <td>5</td>\n",
       "      <td>166</td>\n",
       "    </tr>\n",
       "    <tr>\n",
       "      <th>top</th>\n",
       "      <td>A3917F81482141F2</td>\n",
       "      <td>2020-12-21 10:25:33</td>\n",
       "      <td>login</td>\n",
       "      <td>4.99</td>\n",
       "    </tr>\n",
       "    <tr>\n",
       "      <th>freq</th>\n",
       "      <td>35</td>\n",
       "      <td>10</td>\n",
       "      <td>248285</td>\n",
       "      <td>48661</td>\n",
       "    </tr>\n",
       "    <tr>\n",
       "      <th>first</th>\n",
       "      <td>NaN</td>\n",
       "      <td>2020-12-01 00:00:11</td>\n",
       "      <td>NaN</td>\n",
       "      <td>NaN</td>\n",
       "    </tr>\n",
       "    <tr>\n",
       "      <th>last</th>\n",
       "      <td>NaN</td>\n",
       "      <td>2020-12-31 23:59:48</td>\n",
       "      <td>NaN</td>\n",
       "      <td>NaN</td>\n",
       "    </tr>\n",
       "  </tbody>\n",
       "</table>\n",
       "</div>"
      ],
      "text/plain": [
       "                 user_id             event_dt event_name details\n",
       "count             728791               728791     728791  233499\n",
       "unique            144183               561273          5     166\n",
       "top     A3917F81482141F2  2020-12-21 10:25:33      login    4.99\n",
       "freq                  35                   10     248285   48661\n",
       "first                NaN  2020-12-01 00:00:11        NaN     NaN\n",
       "last                 NaN  2020-12-31 23:59:48        NaN     NaN"
      ]
     },
     "metadata": {},
     "output_type": "display_data"
    }
   ],
   "source": [
    "# Таблица events\n",
    "display(df.events)\n",
    "\n",
    "# Размер таблицы\n",
    "display(df.events.shape)\n",
    "\n",
    "# Информация о столбцах, типах и ненулевых значениях\n",
    "df.events.info()\n",
    "\n",
    "# Основные статистики по числовым столбцам\n",
    "display(df.events.describe())"
   ]
  },
  {
   "cell_type": "code",
   "execution_count": 42,
   "id": "733dbf60",
   "metadata": {},
   "outputs": [
    {
     "name": "stdout",
     "output_type": "stream",
     "text": [
      "Уникальные значения event_name:\n",
      "registration\n",
      "login\n",
      "product_page\n",
      "product_cart\n",
      "purchase\n"
     ]
    }
   ],
   "source": [
    "#проверяем как обозначается признак покупки в столбце event_name таблицы events\n",
    "unique_events = df.events['event_name'].unique()\n",
    "\n",
    "print(\"Уникальные значения event_name:\")\n",
    "for event in unique_events:\n",
    "    print(event)"
   ]
  },
  {
   "cell_type": "markdown",
   "id": "7de760ad",
   "metadata": {},
   "source": [
    "**Внимание**. Для анализа необходимо использовать лишь пользователей у которых есть поле purchase. Пользователи с данным полем осуществили покупку. "
   ]
  },
  {
   "cell_type": "markdown",
   "id": "a311c055",
   "metadata": {},
   "source": [
    "<div class=\"alert alert-block alert-danger\">\n",
    "<h2> Комментарий ревьюера v1<a class=\"tocSkip\"></h2>\n",
    "\n",
    "<b>На доработку🤔:</b>  Данные успешно загружены и ты взглянул на них. Но  вывод по этапу предварительного обзора не совсем информативен для пользователей. Есть ли пропуски и помешают ли они? Что будем делать со \"странными\" строками с `GLOBAL`?...."
   ]
  },
  {
   "cell_type": "markdown",
   "id": "b1413207",
   "metadata": {},
   "source": [
    "<div class=\"alert alert-info\"> <b>Комментарий студента:</b> \n",
    "\n",
    "- Данные полные по ключевым полям user_id, event_dt, event_name.\n",
    "- Необходимо отфильтровать записи с user_id = \"GLOBAL\". Расшифровка поля отсутствует, а непонимание термина может привести к некорректным выводам. \n",
    "- Пропуски в details не критичны для анализа основных метрик (конверсия, сессии и т.п.).\n",
    "- Столбцы с корректными типами данных - менять не нужно.</div>"
   ]
  },
  {
   "cell_type": "markdown",
   "id": "eeef2d69",
   "metadata": {},
   "source": [
    "<div class=\"alert alert-success\">\n",
    "<h2> Комментарий ревьюера v2 <a class=\"tocSkip\"> </h2>\n",
    "\n",
    "<b>Все супер!👍:</b> "
   ]
  },
  {
   "cell_type": "code",
   "execution_count": 65,
   "id": "f0d4610a",
   "metadata": {},
   "outputs": [
    {
     "name": "stderr",
     "output_type": "stream",
     "text": [
      "/tmp/ipykernel_31/1939323504.py:5: FutureWarning: Treating datetime data as categorical rather than numeric in `.describe` is deprecated and will be removed in a future version of pandas. Specify `datetime_is_numeric=True` to silence this warning and adopt the future behavior now.\n",
      "  display(df.events.describe())\n"
     ]
    },
    {
     "data": {
      "text/html": [
       "<div>\n",
       "<style scoped>\n",
       "    .dataframe tbody tr th:only-of-type {\n",
       "        vertical-align: middle;\n",
       "    }\n",
       "\n",
       "    .dataframe tbody tr th {\n",
       "        vertical-align: top;\n",
       "    }\n",
       "\n",
       "    .dataframe thead th {\n",
       "        text-align: right;\n",
       "    }\n",
       "</style>\n",
       "<table border=\"1\" class=\"dataframe\">\n",
       "  <thead>\n",
       "    <tr style=\"text-align: right;\">\n",
       "      <th></th>\n",
       "      <th>user_id</th>\n",
       "      <th>event_dt</th>\n",
       "      <th>event_name</th>\n",
       "      <th>details</th>\n",
       "    </tr>\n",
       "  </thead>\n",
       "  <tbody>\n",
       "    <tr>\n",
       "      <th>count</th>\n",
       "      <td>728791</td>\n",
       "      <td>728791</td>\n",
       "      <td>728791</td>\n",
       "      <td>233499</td>\n",
       "    </tr>\n",
       "    <tr>\n",
       "      <th>unique</th>\n",
       "      <td>144183</td>\n",
       "      <td>561273</td>\n",
       "      <td>5</td>\n",
       "      <td>166</td>\n",
       "    </tr>\n",
       "    <tr>\n",
       "      <th>top</th>\n",
       "      <td>A3917F81482141F2</td>\n",
       "      <td>2020-12-21 10:25:33</td>\n",
       "      <td>login</td>\n",
       "      <td>4.99</td>\n",
       "    </tr>\n",
       "    <tr>\n",
       "      <th>freq</th>\n",
       "      <td>35</td>\n",
       "      <td>10</td>\n",
       "      <td>248285</td>\n",
       "      <td>48661</td>\n",
       "    </tr>\n",
       "    <tr>\n",
       "      <th>first</th>\n",
       "      <td>NaN</td>\n",
       "      <td>2020-12-01 00:00:11</td>\n",
       "      <td>NaN</td>\n",
       "      <td>NaN</td>\n",
       "    </tr>\n",
       "    <tr>\n",
       "      <th>last</th>\n",
       "      <td>NaN</td>\n",
       "      <td>2020-12-31 23:59:48</td>\n",
       "      <td>NaN</td>\n",
       "      <td>NaN</td>\n",
       "    </tr>\n",
       "  </tbody>\n",
       "</table>\n",
       "</div>"
      ],
      "text/plain": [
       "                 user_id             event_dt event_name details\n",
       "count             728791               728791     728791  233499\n",
       "unique            144183               561273          5     166\n",
       "top     A3917F81482141F2  2020-12-21 10:25:33      login    4.99\n",
       "freq                  35                   10     248285   48661\n",
       "first                NaN  2020-12-01 00:00:11        NaN     NaN\n",
       "last                 NaN  2020-12-31 23:59:48        NaN     NaN"
      ]
     },
     "metadata": {},
     "output_type": "display_data"
    }
   ],
   "source": [
    "# Удаляем события с названием GLOBAL\n",
    "df.events = df.events[df.events['user_id'] != 'GLOBAL']\n",
    "\n",
    "# Основные статистики по числовым столбцам после удаления\n",
    "display(df.events.describe())"
   ]
  },
  {
   "cell_type": "markdown",
   "id": "CnzA-efasUrk",
   "metadata": {
    "id": "CnzA-efasUrk"
   },
   "source": [
    "## 3. По таблице `ab_test_participants` оцените корректность проведения теста:\n",
    "\n",
    "   3\\.1 Выделите пользователей, участвующих в тесте, и проверьте:\n",
    "\n",
    "   - соответствие требованиям технического задания,\n",
    "\n",
    "   - равномерность распределения пользователей по группам теста,\n",
    "\n",
    "   - отсутствие пересечений с конкурирующим тестом (нет пользователей, участвующих одновременно в двух тестовых группах)."
   ]
  },
  {
   "cell_type": "code",
   "execution_count": 66,
   "id": "aNa3zHrKslEN",
   "metadata": {
    "id": "aNa3zHrKslEN"
   },
   "outputs": [
    {
     "name": "stdout",
     "output_type": "stream",
     "text": [
      "\n",
      "Распределение по группам (count):\n",
      "B    5467\n",
      "A    5383\n",
      "Name: group, dtype: int64\n",
      "\n",
      "Распределение по группам (proportion):\n",
      "B    0.503871\n",
      "A    0.496129\n",
      "Name: group, dtype: float64\n",
      "\n",
      "Количество пользователей одновременно в двух тестах: 887\n"
     ]
    }
   ],
   "source": [
    "# Фильтр по тесту interface_eu_test\n",
    "df_ui = df_participants[df_participants['ab_test'] == 'interface_eu_test']\n",
    "\n",
    "# Равномерность распределения\n",
    "counts = df_ui['group'].value_counts()\n",
    "proportions = counts / counts.sum()\n",
    "print(\"\\nРаспределение по группам (count):\")\n",
    "print(counts)\n",
    "print(\"\\nРаспределение по группам (proportion):\")\n",
    "print(proportions)\n",
    "\n",
    "# Проверка пересечений с тестом recommender_system_test\n",
    "ui_users  = set(df_ui['user_id'])\n",
    "rec_users = set(df_participants[df_participants['ab_test']!='interface_eu_test']['user_id'])\n",
    "overlap   = ui_users.intersection(rec_users)\n",
    "print(f\"\\nКоличество пользователей одновременно в двух тестах: {len(overlap)}\")"
   ]
  },
  {
   "cell_type": "markdown",
   "id": "7a54345a",
   "metadata": {},
   "source": [
    "<div class=\"alert alert-success\">\n",
    "<h2> Комментарий ревьюера v1 <a class=\"tocSkip\"> </h2>\n",
    "\n",
    "<b>Все супер!👍:</b> Молодец, что заметил пересечения по тестам которые стоит убрать"
   ]
  },
  {
   "cell_type": "markdown",
   "id": "GjulgSrlsqUU",
   "metadata": {
    "id": "GjulgSrlsqUU"
   },
   "source": [
    "3\\.2 Проанализируйте данные о пользовательской активности по таблице `ab_test_events`:\n",
    "\n",
    "- оставьте только события, связанные с участвующими в изучаемом тесте пользователями;"
   ]
  },
  {
   "cell_type": "code",
   "execution_count": 67,
   "id": "QMt0Ybo_swDK",
   "metadata": {
    "id": "QMt0Ybo_swDK"
   },
   "outputs": [
    {
     "name": "stdout",
     "output_type": "stream",
     "text": [
      "Распределение по группам после удаления пересечений (count):\n",
      "B    5011\n",
      "A    4952\n",
      "Name: group, dtype: int64\n",
      "\n",
      "Распределение по группам после удаления пересечений (proportion):\n",
      "B    0.502961\n",
      "A    0.497039\n",
      "Name: group, dtype: float64\n"
     ]
    }
   ],
   "source": [
    "#Определяем пользователей из другого теста\n",
    "rec_users = set(\n",
    "    df_participants[df_participants['ab_test'] !='interface_eu_test']['user_id']\n",
    ")\n",
    "\n",
    "# Удаляем пересекающихся\n",
    "df_ui_clean = df_ui[~df_ui['user_id'].isin(rec_users)]\n",
    "\n",
    "# Распределение по группам\n",
    "counts_clean = df_ui_clean['group'].value_counts()\n",
    "proportions_clean = counts_clean / counts_clean.sum()\n",
    "\n",
    "print(\"Распределение по группам после удаления пересечений (count):\")\n",
    "print(counts_clean)\n",
    "\n",
    "print(\"\\nРаспределение по группам после удаления пересечений (proportion):\")\n",
    "print(proportions_clean)"
   ]
  },
  {
   "cell_type": "markdown",
   "id": "fBZ4DC2xswZJ",
   "metadata": {
    "id": "fBZ4DC2xswZJ"
   },
   "source": [
    "- определите горизонт анализа: рассчитайте время (лайфтайм) совершения события пользователем после регистрации и оставьте только те события, которые были выполнены в течение первых семи дней с момента регистрации;"
   ]
  },
  {
   "cell_type": "markdown",
   "id": "4d2517e3",
   "metadata": {
    "id": "sES4-dKts0Yb"
   },
   "source": [
    "**Внимание**. Используем данные из таблицы events. Берем лишь те event_dt для которых в столбце event_name имеется запись \"registration\"."
   ]
  },
  {
   "cell_type": "code",
   "execution_count": 68,
   "id": "ab0b9ad8",
   "metadata": {},
   "outputs": [
    {
     "name": "stdout",
     "output_type": "stream",
     "text": [
      "            user_id            event_dt    event_name details  \\\n",
      "0  CCBE9E7E99F94A08 2020-12-01 00:00:11  registration     0.0   \n",
      "1  CCBE9E7E99F94A08 2020-12-01 00:00:33         login     NaN   \n",
      "2  CCBE9E7E99F94A08 2020-12-01 00:00:52  product_page     NaN   \n",
      "3  CCBE9E7E99F94A08 2020-12-01 00:04:45  product_page     NaN   \n",
      "4  CCBE9E7E99F94A08 2020-12-01 00:16:59  product_cart     NaN   \n",
      "\n",
      "               reg_dt  \n",
      "0 2020-12-01 00:00:11  \n",
      "1 2020-12-01 00:00:11  \n",
      "2 2020-12-01 00:00:11  \n",
      "3 2020-12-01 00:00:11  \n",
      "4 2020-12-01 00:00:11  \n"
     ]
    }
   ],
   "source": [
    "from pandas import Timedelta\n",
    "\n",
    "# Берём минимальную дату регистрации на случай повторных регистраций\n",
    "df_reg = df.events[df.events['event_name']=='registration']\n",
    "first_reg = (\n",
    "    df_reg\n",
    "    .groupby('user_id', as_index=False)['event_dt']\n",
    "    .min()\n",
    "    .rename(columns={'event_dt':'reg_dt'})\n",
    ")\n",
    "df_all = df.events.merge(first_reg, on='user_id', how='inner')\n",
    "\n",
    "# Фильтр по 7-дневному окну\n",
    "df_7d = df_all[\n",
    "    df_all['event_dt'] <= df_all['reg_dt'] + Timedelta(days=7)\n",
    "]\n",
    "\n",
    "print(df_7d.head())"
   ]
  },
  {
   "cell_type": "markdown",
   "id": "aa88ffa7",
   "metadata": {},
   "source": [
    "<div class=\"alert alert-block alert-danger\">\n",
    "<h2> Комментарий ревьюера v1<a class=\"tocSkip\"></h2>\n",
    "\n",
    "<b>На доработку🤔:</b> давай перепроверим результаты, кажется в фильтрации есть ошибка"
   ]
  },
  {
   "cell_type": "code",
   "execution_count": 69,
   "id": "d0c33967",
   "metadata": {},
   "outputs": [
    {
     "data": {
      "text/plain": [
       "Timedelta('6 days 23:59:55')"
      ]
     },
     "execution_count": 69,
     "metadata": {},
     "output_type": "execute_result"
    }
   ],
   "source": [
    "# Код ревьюера\n",
    "(df_7d.event_dt - df_7d.reg_dt).max()  "
   ]
  },
  {
   "cell_type": "markdown",
   "id": "a2dfb4d5",
   "metadata": {},
   "source": [
    "<div class=\"alert alert-info\"> <b>Комментарий студента:</b> Вместо расчёта \"lifetime\" и сравнения целых дней сравниваем метки времени. В результате в df_7d попадают только события за первые 7 суток после регистрации.  </div>"
   ]
  },
  {
   "cell_type": "markdown",
   "id": "8e3a2e28",
   "metadata": {},
   "source": [
    "<div class=\"alert alert-success\">\n",
    "<h2> Комментарий ревьюера v2 <a class=\"tocSkip\"> </h2>\n",
    "\n",
    "<b>Все супер!👍:</b> Молодец, что доразобрался, теперь все верно"
   ]
  },
  {
   "cell_type": "markdown",
   "id": "7cf1df48",
   "metadata": {},
   "source": [
    "Оцените достаточность выборки для получения статистически значимых результатов A/B-теста. Заданные параметры:\n",
    "\n",
    "- базовый показатель конверсии — 30%,\n",
    "\n",
    "- мощность теста — 80%,\n",
    "\n",
    "- достоверность теста — 95%."
   ]
  },
  {
   "cell_type": "markdown",
   "id": "319aa14e",
   "metadata": {},
   "source": [
    "**Внимание**. В задании отсутствует MDE. Было взято значение MDE = 0.03"
   ]
  },
  {
   "cell_type": "code",
   "execution_count": 72,
   "id": "7d97b466",
   "metadata": {},
   "outputs": [
    {
     "name": "stdout",
     "output_type": "stream",
     "text": [
      "Требуется примерно 3762 пользователей в каждой из групп.\n"
     ]
    }
   ],
   "source": [
    "# Задаём параметры\n",
    "alpha   = 0.05    # уровень значимости\n",
    "power   = 0.80    # мощность теста\n",
    "сonv      = 0.30    # базовый (контрольный) уровень конверсии\n",
    "MDE   = 0.03    # MDE (минимальный детектируемый эффект). Сделаем равным 3 п.п\n",
    "\n",
    "# Рассчитываем effect size для двух пропорций\n",
    "es = proportion_effectsize(сonv, сonv + MDE)\n",
    "\n",
    "# Создаём анализатор мощности из библиотеки statsmodels\n",
    "analysis = NormalIndPower()\n",
    "\n",
    "# Считаем необходимый размер выборки на каждую группу\n",
    "n_per_group = analysis.solve_power(\n",
    "    effect_size=es,\n",
    "    power=power,\n",
    "    alpha=alpha,\n",
    "    ratio=1.0  # равные по размеру группы A и B\n",
    ")\n",
    "\n",
    "print(f\"Требуется примерно {n_per_group:.0f} пользователей в каждой из групп.\")"
   ]
  },
  {
   "cell_type": "markdown",
   "id": "742c7a01",
   "metadata": {},
   "source": [
    "<div class=\"alert alert-warning\">\n",
    "    <h2> Комментарий ревьюера v1 <a class=\"tocSkip\"> </h2>\n",
    "    \n",
    "<b>Небольшие замечания и рекомендации💡:</b> Получаетс данных достаточно. На реальной практике, для ускорения этой проверки обычно все используют онлайн-калькуляторы. Я например использую [этот](https://www.evanmiller.org/ab-testing/sample-size.html)"
   ]
  },
  {
   "cell_type": "markdown",
   "id": "SadyUDgZs0t3",
   "metadata": {
    "id": "SadyUDgZs0t3"
   },
   "source": [
    "- рассчитайте для каждой группы количество посетителей, сделавших покупку, и общее количество посетителей."
   ]
  },
  {
   "cell_type": "code",
   "execution_count": 73,
   "id": "7ph853Xks4sy",
   "metadata": {
    "id": "7ph853Xks4sy"
   },
   "outputs": [
    {
     "name": "stdout",
     "output_type": "stream",
     "text": [
      "Всего пользователей по группам:\n",
      "B    5011\n",
      "A    4952\n",
      "Name: group, dtype: int64\n",
      "\n",
      "Пользователей, сделавших покупку, по группам:\n",
      "B    1782\n",
      "A    1638\n",
      "Name: group, dtype: int64\n"
     ]
    }
   ],
   "source": [
    "# Общее число посетителей по группам\n",
    "total_per_group = df_ui_clean['group'].value_counts()\n",
    "\n",
    "# Число пользователей, совершивших покупку (по группам)\n",
    "users_any = set(df.events[df.events['event_name']=='purchase']['user_id'])\n",
    "purchasers_per_group = df_ui_clean[df_ui_clean['user_id'].isin(users_any)]['group'].value_counts()\n",
    "\n",
    "print(\"Всего пользователей по группам:\")\n",
    "print(total_per_group)\n",
    "\n",
    "print(\"\\nПользователей, сделавших покупку, по группам:\")\n",
    "print(purchasers_per_group)"
   ]
  },
  {
   "cell_type": "markdown",
   "id": "b458a541",
   "metadata": {},
   "source": [
    "<div class=\"alert alert-success\">\n",
    "<h2> Комментарий ревьюера v1 <a class=\"tocSkip\"> </h2>\n",
    "\n",
    "<b>Все супер!👍:</b> Взяты только уникальные пользователи, молодец"
   ]
  },
  {
   "cell_type": "markdown",
   "id": "sh1JpGvAs5E3",
   "metadata": {
    "id": "sh1JpGvAs5E3"
   },
   "source": [
    "- сделайте предварительный общий вывод об изменении пользовательской активности в тестовой группе по сравнению с контрольной."
   ]
  },
  {
   "cell_type": "markdown",
   "id": "c7d46394",
   "metadata": {
    "id": "hHTHPkJYs8mE"
   },
   "source": [
    "Предварительно в тестовой группе (B) конверсия выше, чем в контрольной (A):\n",
    "\n",
    "Контроль (A): 1638 покупок из 4952 пользователей. Конверсия = 33.1 %\n",
    "\n",
    "Тест (B): 1782 покупок из 5011 пользователей. Конверсия = 35.6 %\n",
    "\n",
    "Рост почти на 2,5 п.п., говорит о положительном влиянии новой версии интерфейса на активность пользователей. Для подтверждения эффекта потребуется статистическая проверка значимости разницы двух пропорций."
   ]
  },
  {
   "cell_type": "markdown",
   "id": "ad11c9be",
   "metadata": {},
   "source": [
    "<div class=\"alert alert-warning\">\n",
    "    <h2> Комментарий ревьюера v1 <a class=\"tocSkip\"> </h2>\n",
    "    \n",
    "<b>Небольшие замечания и рекомендации💡:</b>  Полезно было бы дописать, что ожидаемый прирост составляет 3 пп и он не достигнут"
   ]
  },
  {
   "cell_type": "markdown",
   "id": "IKZ1Oo3Ws919",
   "metadata": {
    "id": "IKZ1Oo3Ws919"
   },
   "source": [
    "## 4. Проведите оценку результатов A/B-тестирования:"
   ]
  },
  {
   "cell_type": "markdown",
   "id": "dcUdBSmvtC-E",
   "metadata": {
    "id": "dcUdBSmvtC-E"
   },
   "source": [
    "- Проверьте изменение конверсии подходящим статистическим тестом, учитывая все этапы проверки гипотез."
   ]
  },
  {
   "cell_type": "markdown",
   "id": "74080990",
   "metadata": {},
   "source": [
    "<div class=\"alert alert-block alert-danger\">\n",
    "<h2> Комментарий ревьюера v1<a class=\"tocSkip\"></h2>\n",
    "\n",
    "<b>На доработку🤔:</b>Начинать тест всегда стоит формулирования гипотез, которыми ты будешь оперировать. Это будет удобнее для однозначного восприятия пользователями результатов"
   ]
  },
  {
   "cell_type": "markdown",
   "id": "14748ec6",
   "metadata": {},
   "source": [
    "<div class=\"alert alert-info\"> <b>Комментарий студента:</b> \n",
    "\n",
    "- Нулевая гипотеза (H0): конверсия в тестовой группе не выше конверсии в контрольной.\n",
    "- Альтернативная гипотеза (H1): конверсия в тестовой группе выше конверсии в контрольной.</div>"
   ]
  },
  {
   "cell_type": "markdown",
   "id": "8011f10d",
   "metadata": {},
   "source": [
    "<div class=\"alert alert-success\">\n",
    "<h2> Комментарий ревьюера v2 <a class=\"tocSkip\"> </h2>\n",
    "\n",
    "<b>Все супер!👍:</b> "
   ]
  },
  {
   "cell_type": "code",
   "execution_count": 74,
   "id": "l_KOziBQtL3t",
   "metadata": {
    "id": "l_KOziBQtL3t"
   },
   "outputs": [
    {
     "name": "stdout",
     "output_type": "stream",
     "text": [
      "Z-статистика = -2.6112\n",
      "p-value = 0.0045\n",
      "p-value = 0.0045 < 0.05\n",
      "Нулевая гипотеза отвергается: конверсия в группе B статистически выше, чем в A.\n"
     ]
    }
   ],
   "source": [
    "# Берём расчётные величины из Series\n",
    "n_a = total_per_group['A']\n",
    "n_b = total_per_group['B']\n",
    "m_a = purchasers_per_group['A']\n",
    "m_b = purchasers_per_group['B']\n",
    "\n",
    "alpha = 0.05  # уровень значимости\n",
    "\n",
    "# H1: конверсия в группе A < конверсии в группе B\n",
    "stat_ztest, p_value_ztest = proportions_ztest(\n",
    "    [m_a, m_b],\n",
    "    [n_a, n_b],\n",
    "    alternative='smaller'\n",
    ")\n",
    "\n",
    "print(f\"Z-статистика = {stat_ztest:.4f}\")\n",
    "print(f\"p-value = {p_value_ztest:.4f}\")\n",
    "\n",
    "if p_value_ztest > alpha:\n",
    "    print(f\"p-value = {p_value_ztest:.4f} > {alpha}\")\n",
    "    print(\"Нулевая гипотеза не отвергается: значимого отличия в пользу B не выявлено.\")\n",
    "else:\n",
    "    print(f\"p-value = {p_value_ztest:.4f} < {alpha}\")\n",
    "    print(\"Нулевая гипотеза отвергается: конверсия в группе B статистически выше, чем в A.\")\n"
   ]
  },
  {
   "cell_type": "markdown",
   "id": "4c09ba5d",
   "metadata": {},
   "source": [
    "<div class=\"alert alert-warning\">\n",
    "    <h2> Комментарий ревьюера v1 <a class=\"tocSkip\"> </h2>\n",
    "    \n",
    "<b>Небольшие замечания и рекомендации💡:</b> Я советую повторяющиеся булевы маски для лучшей читаемости кода сохранить в переменные с ясными названиями. Это не ошибка, но поможет не запутаться пользователям"
   ]
  },
  {
   "cell_type": "markdown",
   "id": "npoPPSKytKvR",
   "metadata": {
    "id": "npoPPSKytKvR"
   },
   "source": [
    "**Выводы по результатам A/B-тестирования**\n",
    "\n",
    "- Сравнительная конверсия\n",
    "  - Контроль (A): 1638 / 4952 = 33.1 %\n",
    "  - Тест (B): 1782 / 5011 = 35.6 %\n",
    "  - Разница - примерно + 2.5 п.п. в пользу B.\n",
    "\n",
    "- Статистическая значимость\n",
    "\n",
    "  - Z-статистика = 2.61, p-value = 0.0045 < 0.05. Нулевая гипотеза (что конверсии не различаются или A > B) отвергается. Конверсия в тестовой группе B статистически значимо выше, чем в A, на уровне доверия 95 %.\n",
    "\n",
    "- Ожидаемый эффект\n",
    "  - Мы планировали обнаружить MDE = 3 п.п. (с 30 % до 33 %).\n",
    "  - Фактически было получено 2.5 п.п. MDE, то есть чуть меньше заранее запланированного. \n",
    "  - Хотя разница статистически значима, она ниже бизнес-порога в 3 п.п. что может считаться \"полуположительным\" результатом: интерфейс улучшил конверсию, но не настолько, как ожидалось."
   ]
  },
  {
   "cell_type": "markdown",
   "id": "30caa392",
   "metadata": {},
   "source": [
    "<div class=\"alert alert-success\">\n",
    "<h2> Комментарий ревьюера v1 <a class=\"tocSkip\"> </h2>\n",
    "\n",
    "<b>Все супер!👍:</b>В остальном тест проведен корректно и дана понятная интерпретация для бизнеса, ты молодец!"
   ]
  },
  {
   "cell_type": "markdown",
   "id": "79170acf",
   "metadata": {},
   "source": [
    "<div style=\"border:solid Chocolate 2px; padding: 40px\">\n",
    "        \n",
    "**Общий вывод по проекту ревьювера**:\n",
    "         Спасибо за  проект, качественную отработку моих комментариев и хорошую обратную связь! Ты приложил много усилий, чтобы довести его до конца, проделана огромная работа, и это видно невооруженным глазом, ты большой молодец! У тебя отлично развиты аналитические способности и владение инструментарием.\n",
    "        \n",
    "**Отмечу положительные моменты**:\n",
    "        \n",
    "        1. Все разложено по полочкам, всегда понятен ход твоих мыслей, приятно смотреть.\n",
    "        \n",
    "        2. Понятные и логичные выводы на всех этапах работы.\n",
    "        \n",
    "        3. Лаконичное оформление проекта в целом.      \n",
    "        \n",
    "        4. Внимание к деталям в анализе\n",
    "\n",
    "        5. Оптимальное написание элементов кода\n",
    "        \n",
    "     \n",
    "        \n",
    "        \n",
    "        \n",
    "        \n",
    "**Поздравляю тебя, еще одна аналитическая работа попадает в твое портфолио. Желаю успешного и интересного продолжения учебы!**\n",
    "        \n",
    "        "
   ]
  }
 ],
 "metadata": {
  "ExecuteTimeLog": [
   {
    "duration": 405,
    "start_time": "2025-05-21T13:58:53.519Z"
   },
   {
    "duration": 25,
    "start_time": "2025-05-21T13:58:54.265Z"
   },
   {
    "duration": 79,
    "start_time": "2025-05-21T13:59:09.901Z"
   },
   {
    "duration": 28,
    "start_time": "2025-05-21T13:59:41.274Z"
   },
   {
    "duration": 32,
    "start_time": "2025-05-21T13:59:54.501Z"
   },
   {
    "duration": 44,
    "start_time": "2025-05-21T14:02:27.123Z"
   },
   {
    "duration": 48,
    "start_time": "2025-05-21T14:02:40.105Z"
   },
   {
    "duration": 45,
    "start_time": "2025-05-21T14:03:43.168Z"
   },
   {
    "duration": 3,
    "start_time": "2025-05-21T14:05:20.497Z"
   },
   {
    "duration": 54,
    "start_time": "2025-05-21T14:05:21.590Z"
   },
   {
    "duration": 7,
    "start_time": "2025-05-21T14:11:03.152Z"
   },
   {
    "duration": 17,
    "start_time": "2025-05-21T14:11:11.929Z"
   },
   {
    "duration": 11,
    "start_time": "2025-05-21T14:11:24.385Z"
   },
   {
    "duration": 2,
    "start_time": "2025-05-21T14:11:30.666Z"
   },
   {
    "duration": 49,
    "start_time": "2025-05-21T14:11:31.735Z"
   },
   {
    "duration": 7,
    "start_time": "2025-05-21T14:11:36.867Z"
   },
   {
    "duration": 12,
    "start_time": "2025-05-21T14:11:59.168Z"
   },
   {
    "duration": 2,
    "start_time": "2025-05-21T14:12:19.366Z"
   },
   {
    "duration": 49,
    "start_time": "2025-05-21T14:12:20.079Z"
   },
   {
    "duration": 6,
    "start_time": "2025-05-21T14:12:24.491Z"
   },
   {
    "duration": 48,
    "start_time": "2025-05-21T14:12:55.552Z"
   },
   {
    "duration": 10,
    "start_time": "2025-05-21T14:12:56.417Z"
   },
   {
    "duration": 4,
    "start_time": "2025-05-21T14:13:14.013Z"
   },
   {
    "duration": 50,
    "start_time": "2025-05-21T14:14:13.826Z"
   },
   {
    "duration": 17,
    "start_time": "2025-05-21T14:14:20.838Z"
   },
   {
    "duration": 4,
    "start_time": "2025-05-21T14:14:46.914Z"
   },
   {
    "duration": 12,
    "start_time": "2025-05-21T14:14:54.842Z"
   },
   {
    "duration": 53,
    "start_time": "2025-05-21T14:14:57.480Z"
   },
   {
    "duration": 12,
    "start_time": "2025-05-21T14:14:58.769Z"
   },
   {
    "duration": 8,
    "start_time": "2025-05-21T14:19:24.949Z"
   },
   {
    "duration": 8,
    "start_time": "2025-05-21T14:19:41.761Z"
   },
   {
    "duration": 3,
    "start_time": "2025-05-21T14:20:00.493Z"
   },
   {
    "duration": 55,
    "start_time": "2025-05-21T14:20:01.652Z"
   },
   {
    "duration": 13,
    "start_time": "2025-05-21T14:20:03.500Z"
   },
   {
    "duration": 9,
    "start_time": "2025-05-21T14:20:04.541Z"
   },
   {
    "duration": 472,
    "start_time": "2025-05-21T14:20:48.508Z"
   },
   {
    "duration": 52,
    "start_time": "2025-05-21T14:20:49.075Z"
   },
   {
    "duration": 12,
    "start_time": "2025-05-21T14:20:50.637Z"
   },
   {
    "duration": 8,
    "start_time": "2025-05-21T14:20:51.464Z"
   },
   {
    "duration": 176,
    "start_time": "2025-05-21T14:21:19.422Z"
   },
   {
    "duration": 164,
    "start_time": "2025-05-21T14:25:02.691Z"
   },
   {
    "duration": 434,
    "start_time": "2025-05-21T14:29:14.135Z"
   },
   {
    "duration": 49,
    "start_time": "2025-05-21T14:29:15.106Z"
   },
   {
    "duration": 11,
    "start_time": "2025-05-21T14:29:16.438Z"
   },
   {
    "duration": 8,
    "start_time": "2025-05-21T14:29:17.128Z"
   },
   {
    "duration": 163,
    "start_time": "2025-05-21T14:29:24.977Z"
   },
   {
    "duration": 44,
    "start_time": "2025-05-21T14:41:26.349Z"
   },
   {
    "duration": 41,
    "start_time": "2025-05-21T14:41:39.279Z"
   },
   {
    "duration": 67,
    "start_time": "2025-05-21T14:42:02.791Z"
   },
   {
    "duration": 53,
    "start_time": "2025-05-21T14:42:16.697Z"
   },
   {
    "duration": 61,
    "start_time": "2025-05-21T14:42:59.525Z"
   },
   {
    "duration": 57,
    "start_time": "2025-05-21T14:43:34.713Z"
   },
   {
    "duration": 159,
    "start_time": "2025-05-21T14:43:54.286Z"
   },
   {
    "duration": 55,
    "start_time": "2025-05-21T14:43:56.607Z"
   },
   {
    "duration": 42,
    "start_time": "2025-05-21T14:45:20.433Z"
   },
   {
    "duration": 42,
    "start_time": "2025-05-21T14:48:00.894Z"
   },
   {
    "duration": 41,
    "start_time": "2025-05-21T14:48:10.741Z"
   },
   {
    "duration": 41,
    "start_time": "2025-05-21T14:48:23.110Z"
   },
   {
    "duration": 43,
    "start_time": "2025-05-21T14:48:40.944Z"
   },
   {
    "duration": 41,
    "start_time": "2025-05-21T14:48:50.540Z"
   },
   {
    "duration": 43,
    "start_time": "2025-05-21T14:51:02.216Z"
   },
   {
    "duration": 48,
    "start_time": "2025-05-21T14:55:13.344Z"
   },
   {
    "duration": 162,
    "start_time": "2025-05-21T14:57:21.113Z"
   },
   {
    "duration": 51,
    "start_time": "2025-05-21T14:57:23.629Z"
   },
   {
    "duration": 61,
    "start_time": "2025-05-21T15:01:10.477Z"
   },
   {
    "duration": 1200,
    "start_time": "2025-05-21T18:06:24.208Z"
   },
   {
    "duration": 57,
    "start_time": "2025-05-21T18:06:25.410Z"
   },
   {
    "duration": 11,
    "start_time": "2025-05-21T18:06:27.043Z"
   },
   {
    "duration": 6,
    "start_time": "2025-05-21T18:06:28.291Z"
   },
   {
    "duration": 153,
    "start_time": "2025-05-21T18:06:32.567Z"
   },
   {
    "duration": 48,
    "start_time": "2025-05-21T18:08:23.745Z"
   },
   {
    "duration": 45,
    "start_time": "2025-05-21T18:09:46.000Z"
   },
   {
    "duration": 136,
    "start_time": "2025-05-21T18:16:19.629Z"
   },
   {
    "duration": 56,
    "start_time": "2025-05-21T18:16:20.860Z"
   },
   {
    "duration": 45,
    "start_time": "2025-05-21T18:18:06.971Z"
   },
   {
    "duration": 21,
    "start_time": "2025-05-21T18:18:13.696Z"
   },
   {
    "duration": 22,
    "start_time": "2025-05-21T18:23:18.741Z"
   },
   {
    "duration": 20,
    "start_time": "2025-05-21T18:25:10.144Z"
   },
   {
    "duration": 184,
    "start_time": "2025-05-21T18:30:07.957Z"
   },
   {
    "duration": 154,
    "start_time": "2025-05-21T18:33:16.237Z"
   },
   {
    "duration": 176,
    "start_time": "2025-05-21T18:33:59.811Z"
   },
   {
    "duration": 20,
    "start_time": "2025-05-21T18:35:26.039Z"
   },
   {
    "duration": 147,
    "start_time": "2025-05-21T18:35:38.576Z"
   },
   {
    "duration": 154,
    "start_time": "2025-05-21T18:37:04.943Z"
   },
   {
    "duration": 147,
    "start_time": "2025-05-21T18:37:45.080Z"
   },
   {
    "duration": 159,
    "start_time": "2025-05-21T18:39:12.083Z"
   },
   {
    "duration": 21,
    "start_time": "2025-05-21T18:47:53.542Z"
   },
   {
    "duration": 144,
    "start_time": "2025-05-21T18:48:13.442Z"
   },
   {
    "duration": 3,
    "start_time": "2025-05-21T18:53:07.684Z"
   },
   {
    "duration": 43,
    "start_time": "2025-05-21T18:53:08.480Z"
   },
   {
    "duration": 10,
    "start_time": "2025-05-21T18:53:09.800Z"
   },
   {
    "duration": 7,
    "start_time": "2025-05-21T18:53:10.826Z"
   },
   {
    "duration": 195,
    "start_time": "2025-05-21T18:53:12.603Z"
   },
   {
    "duration": 44,
    "start_time": "2025-05-21T18:53:16.605Z"
   },
   {
    "duration": 21,
    "start_time": "2025-05-21T18:53:24.787Z"
   },
   {
    "duration": 148,
    "start_time": "2025-05-21T18:53:26.251Z"
   },
   {
    "duration": 53,
    "start_time": "2025-05-22T10:12:49.714Z"
   },
   {
    "duration": 1427,
    "start_time": "2025-05-22T10:13:06.388Z"
   },
   {
    "duration": 59,
    "start_time": "2025-05-22T10:13:08.056Z"
   },
   {
    "duration": 13,
    "start_time": "2025-05-22T10:13:09.136Z"
   },
   {
    "duration": 9,
    "start_time": "2025-05-22T10:13:09.960Z"
   },
   {
    "duration": 192,
    "start_time": "2025-05-22T10:13:11.840Z"
   },
   {
    "duration": 53,
    "start_time": "2025-05-22T10:13:14.025Z"
   },
   {
    "duration": 25,
    "start_time": "2025-05-22T10:13:17.981Z"
   },
   {
    "duration": 191,
    "start_time": "2025-05-22T10:13:21.704Z"
   },
   {
    "duration": 1617,
    "start_time": "2025-05-22T10:13:32.270Z"
   },
   {
    "duration": 3439,
    "start_time": "2025-05-22T10:26:34.850Z"
   },
   {
    "duration": 1826,
    "start_time": "2025-05-22T10:26:57.047Z"
   },
   {
    "duration": 47,
    "start_time": "2025-05-22T10:27:46.440Z"
   },
   {
    "duration": 1662,
    "start_time": "2025-05-22T10:28:05.049Z"
   },
   {
    "duration": 81,
    "start_time": "2025-05-22T10:28:56.109Z"
   },
   {
    "duration": 28,
    "start_time": "2025-05-22T10:29:04.172Z"
   },
   {
    "duration": 24,
    "start_time": "2025-05-22T10:29:47.636Z"
   },
   {
    "duration": 18,
    "start_time": "2025-05-22T10:30:14.349Z"
   },
   {
    "duration": 48,
    "start_time": "2025-05-22T10:30:31.373Z"
   },
   {
    "duration": 13,
    "start_time": "2025-05-22T10:30:31.984Z"
   },
   {
    "duration": 9,
    "start_time": "2025-05-22T10:30:32.450Z"
   },
   {
    "duration": 173,
    "start_time": "2025-05-22T10:30:33.351Z"
   },
   {
    "duration": 51,
    "start_time": "2025-05-22T10:30:34.753Z"
   },
   {
    "duration": 25,
    "start_time": "2025-05-22T10:30:36.325Z"
   },
   {
    "duration": 181,
    "start_time": "2025-05-22T10:30:37.167Z"
   },
   {
    "duration": 2,
    "start_time": "2025-05-22T10:31:05.140Z"
   },
   {
    "duration": 1572,
    "start_time": "2025-05-22T10:31:05.967Z"
   },
   {
    "duration": 22,
    "start_time": "2025-05-22T10:31:07.541Z"
   },
   {
    "duration": 3,
    "start_time": "2025-05-22T10:31:39.332Z"
   },
   {
    "duration": 52,
    "start_time": "2025-05-22T10:31:49.576Z"
   },
   {
    "duration": 25,
    "start_time": "2025-05-22T10:31:50.053Z"
   },
   {
    "duration": 3,
    "start_time": "2025-05-22T10:32:05.590Z"
   },
   {
    "duration": 59,
    "start_time": "2025-05-22T10:32:06.400Z"
   },
   {
    "duration": 26,
    "start_time": "2025-05-22T10:32:07.629Z"
   },
   {
    "duration": 87,
    "start_time": "2025-05-22T10:32:41.740Z"
   },
   {
    "duration": 3,
    "start_time": "2025-05-22T10:32:58.527Z"
   },
   {
    "duration": 123,
    "start_time": "2025-05-22T10:32:59.377Z"
   },
   {
    "duration": 41,
    "start_time": "2025-05-22T10:33:00.324Z"
   },
   {
    "duration": 3,
    "start_time": "2025-05-22T10:34:07.574Z"
   },
   {
    "duration": 50,
    "start_time": "2025-05-22T10:34:08.407Z"
   },
   {
    "duration": 47,
    "start_time": "2025-05-22T10:34:09.174Z"
   },
   {
    "duration": 49,
    "start_time": "2025-05-22T10:35:07.411Z"
   },
   {
    "duration": 1514,
    "start_time": "2025-05-22T10:36:18.757Z"
   },
   {
    "duration": 47,
    "start_time": "2025-05-22T10:36:57.431Z"
   },
   {
    "duration": 1544,
    "start_time": "2025-05-22T10:37:01.315Z"
   },
   {
    "duration": 48,
    "start_time": "2025-05-22T10:37:24.870Z"
   },
   {
    "duration": 3235,
    "start_time": "2025-05-22T10:37:25.682Z"
   },
   {
    "duration": 713,
    "start_time": "2025-05-22T10:37:49.871Z"
   },
   {
    "duration": 3,
    "start_time": "2025-05-22T10:38:58.269Z"
   },
   {
    "duration": 49,
    "start_time": "2025-05-22T10:38:59.267Z"
   },
   {
    "duration": 49,
    "start_time": "2025-05-22T10:39:00.322Z"
   },
   {
    "duration": 742,
    "start_time": "2025-05-22T10:46:31.819Z"
   },
   {
    "duration": 720,
    "start_time": "2025-05-22T10:47:05.212Z"
   },
   {
    "duration": 51,
    "start_time": "2025-05-22T10:48:09.967Z"
   },
   {
    "duration": 3,
    "start_time": "2025-05-22T11:08:43.797Z"
   },
   {
    "duration": 75,
    "start_time": "2025-05-22T11:08:44.718Z"
   },
   {
    "duration": 59,
    "start_time": "2025-05-22T11:08:45.779Z"
   },
   {
    "duration": 1534,
    "start_time": "2025-05-22T11:08:47.626Z"
   },
   {
    "duration": 655,
    "start_time": "2025-05-22T11:08:49.162Z"
   },
   {
    "duration": 52,
    "start_time": "2025-05-22T11:09:07.332Z"
   },
   {
    "duration": 3,
    "start_time": "2025-05-22T15:43:59.721Z"
   },
   {
    "duration": 192,
    "start_time": "2025-05-22T15:44:00.374Z"
   },
   {
    "duration": 48,
    "start_time": "2025-05-22T15:44:01.389Z"
   },
   {
    "duration": 1633,
    "start_time": "2025-05-22T15:44:05.762Z"
   },
   {
    "duration": 684,
    "start_time": "2025-05-22T15:44:08.768Z"
   },
   {
    "duration": 5,
    "start_time": "2025-05-22T15:51:46.098Z"
   },
   {
    "duration": 1577,
    "start_time": "2025-05-22T15:55:52.672Z"
   },
   {
    "duration": 701,
    "start_time": "2025-05-22T15:55:54.251Z"
   },
   {
    "duration": 48,
    "start_time": "2025-05-22T15:56:08.656Z"
   },
   {
    "duration": 1479,
    "start_time": "2025-05-22T15:56:33.462Z"
   },
   {
    "duration": 708,
    "start_time": "2025-05-22T15:56:34.943Z"
   },
   {
    "duration": 49,
    "start_time": "2025-05-22T15:56:36.346Z"
   },
   {
    "duration": 3,
    "start_time": "2025-05-22T15:58:02.184Z"
   },
   {
    "duration": 157,
    "start_time": "2025-05-22T15:58:02.748Z"
   },
   {
    "duration": 46,
    "start_time": "2025-05-22T15:58:03.431Z"
   },
   {
    "duration": 5,
    "start_time": "2025-05-22T15:58:05.191Z"
   },
   {
    "duration": 1471,
    "start_time": "2025-05-22T15:58:13.216Z"
   },
   {
    "duration": 688,
    "start_time": "2025-05-22T15:58:14.689Z"
   },
   {
    "duration": 1355,
    "start_time": "2025-05-22T19:21:49.813Z"
   },
   {
    "duration": 74,
    "start_time": "2025-05-22T19:21:51.170Z"
   },
   {
    "duration": 14,
    "start_time": "2025-05-22T19:21:52.113Z"
   },
   {
    "duration": 8,
    "start_time": "2025-05-22T19:21:53.077Z"
   },
   {
    "duration": 181,
    "start_time": "2025-05-22T19:21:54.864Z"
   },
   {
    "duration": 53,
    "start_time": "2025-05-22T19:21:56.868Z"
   },
   {
    "duration": 25,
    "start_time": "2025-05-22T19:21:58.682Z"
   },
   {
    "duration": 176,
    "start_time": "2025-05-22T19:21:59.639Z"
   },
   {
    "duration": 3,
    "start_time": "2025-05-22T19:22:20.321Z"
   },
   {
    "duration": 78,
    "start_time": "2025-05-22T19:22:21.159Z"
   },
   {
    "duration": 62,
    "start_time": "2025-05-22T19:22:22.015Z"
   },
   {
    "duration": 4,
    "start_time": "2025-05-22T19:22:22.990Z"
   },
   {
    "duration": 1586,
    "start_time": "2025-05-22T19:22:37.725Z"
   },
   {
    "duration": 690,
    "start_time": "2025-05-22T19:22:39.313Z"
   },
   {
    "duration": 54,
    "start_time": "2025-05-22T19:22:55.776Z"
   },
   {
    "duration": 17,
    "start_time": "2025-05-22T19:26:08.358Z"
   },
   {
    "duration": 18,
    "start_time": "2025-05-22T19:28:33.547Z"
   },
   {
    "duration": 15,
    "start_time": "2025-05-22T19:31:23.650Z"
   },
   {
    "duration": 16,
    "start_time": "2025-05-22T19:32:56.268Z"
   },
   {
    "duration": 15,
    "start_time": "2025-05-22T19:33:25.673Z"
   },
   {
    "duration": 13,
    "start_time": "2025-05-22T19:35:57.676Z"
   },
   {
    "duration": 13,
    "start_time": "2025-05-22T19:36:23.753Z"
   },
   {
    "duration": 16,
    "start_time": "2025-05-22T19:36:26.358Z"
   },
   {
    "duration": 13,
    "start_time": "2025-05-22T19:36:29.316Z"
   },
   {
    "duration": 50,
    "start_time": "2025-05-23T14:03:10.615Z"
   },
   {
    "duration": 1354,
    "start_time": "2025-05-23T14:03:28.899Z"
   },
   {
    "duration": 66,
    "start_time": "2025-05-23T14:03:30.255Z"
   },
   {
    "duration": 13,
    "start_time": "2025-05-23T14:03:31.070Z"
   },
   {
    "duration": 10,
    "start_time": "2025-05-23T14:03:31.730Z"
   },
   {
    "duration": 183,
    "start_time": "2025-05-23T14:03:33.176Z"
   },
   {
    "duration": 53,
    "start_time": "2025-05-23T14:03:35.148Z"
   },
   {
    "duration": 26,
    "start_time": "2025-05-23T14:03:36.959Z"
   },
   {
    "duration": 169,
    "start_time": "2025-05-23T14:03:37.890Z"
   },
   {
    "duration": 3,
    "start_time": "2025-05-23T14:03:45.133Z"
   },
   {
    "duration": 274,
    "start_time": "2025-05-23T14:03:45.881Z"
   },
   {
    "duration": 48,
    "start_time": "2025-05-23T14:03:46.655Z"
   },
   {
    "duration": 4,
    "start_time": "2025-05-23T14:03:47.738Z"
   },
   {
    "duration": 1522,
    "start_time": "2025-05-23T14:03:49.165Z"
   },
   {
    "duration": 690,
    "start_time": "2025-05-23T14:03:50.689Z"
   },
   {
    "duration": 50,
    "start_time": "2025-05-23T14:03:51.865Z"
   },
   {
    "duration": 20,
    "start_time": "2025-05-23T14:03:54.391Z"
   },
   {
    "duration": 13,
    "start_time": "2025-05-23T14:04:12.769Z"
   },
   {
    "duration": 14,
    "start_time": "2025-05-23T14:04:27.331Z"
   },
   {
    "duration": 62,
    "start_time": "2025-05-23T14:08:41.100Z"
   },
   {
    "duration": 13,
    "start_time": "2025-05-23T14:08:49.908Z"
   },
   {
    "duration": 10,
    "start_time": "2025-05-23T14:08:51.565Z"
   },
   {
    "duration": 15,
    "start_time": "2025-05-23T14:08:56.018Z"
   },
   {
    "duration": 15,
    "start_time": "2025-05-23T14:08:58.376Z"
   },
   {
    "duration": 1663,
    "start_time": "2025-05-23T14:09:16.546Z"
   },
   {
    "duration": 683,
    "start_time": "2025-05-23T14:09:18.212Z"
   },
   {
    "duration": 52,
    "start_time": "2025-05-23T14:09:18.897Z"
   },
   {
    "duration": 16,
    "start_time": "2025-05-23T14:09:20.402Z"
   },
   {
    "duration": 13,
    "start_time": "2025-05-23T14:09:21.581Z"
   },
   {
    "duration": 12,
    "start_time": "2025-05-23T14:09:23.521Z"
   },
   {
    "duration": 1440,
    "start_time": "2025-05-23T14:09:28.486Z"
   },
   {
    "duration": 49,
    "start_time": "2025-05-23T14:09:53.001Z"
   },
   {
    "duration": 16,
    "start_time": "2025-05-23T14:09:55.730Z"
   },
   {
    "duration": 14,
    "start_time": "2025-05-23T14:09:57.188Z"
   },
   {
    "duration": 2466,
    "start_time": "2025-05-23T14:10:10.087Z"
   },
   {
    "duration": 1673,
    "start_time": "2025-05-23T14:10:32.058Z"
   },
   {
    "duration": 14,
    "start_time": "2025-05-23T14:11:06.498Z"
   },
   {
    "duration": 1418,
    "start_time": "2025-05-23T14:11:13.224Z"
   },
   {
    "duration": 665,
    "start_time": "2025-05-23T14:11:14.644Z"
   },
   {
    "duration": 48,
    "start_time": "2025-05-23T14:11:19.112Z"
   },
   {
    "duration": 15,
    "start_time": "2025-05-23T14:11:21.127Z"
   },
   {
    "duration": 14,
    "start_time": "2025-05-23T14:11:22.739Z"
   },
   {
    "duration": 677,
    "start_time": "2025-05-23T14:11:47.262Z"
   },
   {
    "duration": 737,
    "start_time": "2025-05-23T14:12:31.971Z"
   },
   {
    "duration": 30,
    "start_time": "2025-05-23T14:20:47.577Z"
   },
   {
    "duration": 91,
    "start_time": "2025-05-23T14:20:49.404Z"
   },
   {
    "duration": 3,
    "start_time": "2025-05-23T14:21:08.574Z"
   },
   {
    "duration": 50,
    "start_time": "2025-05-23T14:21:09.429Z"
   },
   {
    "duration": 45,
    "start_time": "2025-05-23T14:21:10.203Z"
   },
   {
    "duration": 4,
    "start_time": "2025-05-23T14:21:11.176Z"
   },
   {
    "duration": 1447,
    "start_time": "2025-05-23T14:21:12.705Z"
   },
   {
    "duration": 635,
    "start_time": "2025-05-23T14:21:14.155Z"
   },
   {
    "duration": 45,
    "start_time": "2025-05-23T14:21:15.717Z"
   },
   {
    "duration": 15,
    "start_time": "2025-05-23T14:21:18.138Z"
   },
   {
    "duration": 14,
    "start_time": "2025-05-23T14:21:19.671Z"
   },
   {
    "duration": 720,
    "start_time": "2025-05-23T14:21:21.968Z"
   },
   {
    "duration": 10,
    "start_time": "2025-05-23T14:21:34.218Z"
   },
   {
    "duration": 19,
    "start_time": "2025-05-23T14:22:16.886Z"
   },
   {
    "duration": 25,
    "start_time": "2025-05-23T14:23:52.005Z"
   },
   {
    "duration": 16,
    "start_time": "2025-05-23T14:29:10.673Z"
   },
   {
    "duration": 18,
    "start_time": "2025-05-23T14:29:15.701Z"
   },
   {
    "duration": 16,
    "start_time": "2025-05-23T14:29:20.958Z"
   },
   {
    "duration": 15,
    "start_time": "2025-05-23T14:29:29.403Z"
   },
   {
    "duration": 17,
    "start_time": "2025-05-23T14:29:34.346Z"
   },
   {
    "duration": 14,
    "start_time": "2025-05-23T14:29:38.265Z"
   },
   {
    "duration": 17,
    "start_time": "2025-05-23T14:29:49.107Z"
   },
   {
    "duration": 15,
    "start_time": "2025-05-23T14:30:19.328Z"
   },
   {
    "duration": 26,
    "start_time": "2025-05-23T14:30:28.123Z"
   },
   {
    "duration": 14,
    "start_time": "2025-05-23T14:30:33.648Z"
   },
   {
    "duration": 15,
    "start_time": "2025-05-23T14:30:38.109Z"
   },
   {
    "duration": 14,
    "start_time": "2025-05-23T14:30:46.621Z"
   },
   {
    "duration": 15,
    "start_time": "2025-05-23T14:30:53.858Z"
   },
   {
    "duration": 14,
    "start_time": "2025-05-23T14:30:57.337Z"
   },
   {
    "duration": 16,
    "start_time": "2025-05-23T14:31:10.016Z"
   },
   {
    "duration": 14,
    "start_time": "2025-05-23T14:31:55.662Z"
   },
   {
    "duration": 15,
    "start_time": "2025-05-23T14:32:19.798Z"
   },
   {
    "duration": 54,
    "start_time": "2025-05-23T14:34:06.093Z"
   },
   {
    "duration": 651,
    "start_time": "2025-05-23T14:34:55.318Z"
   },
   {
    "duration": 15,
    "start_time": "2025-05-23T14:35:42.742Z"
   },
   {
    "duration": 42,
    "start_time": "2025-05-23T14:35:46.774Z"
   },
   {
    "duration": 20,
    "start_time": "2025-05-23T14:36:00.924Z"
   },
   {
    "duration": 94,
    "start_time": "2025-05-23T14:36:19.824Z"
   },
   {
    "duration": 104,
    "start_time": "2025-05-23T14:40:39.227Z"
   },
   {
    "duration": 98,
    "start_time": "2025-05-23T14:41:37.128Z"
   },
   {
    "duration": 13,
    "start_time": "2025-05-23T14:41:52.884Z"
   },
   {
    "duration": 682,
    "start_time": "2025-05-23T14:41:56.589Z"
   },
   {
    "duration": 14,
    "start_time": "2025-05-23T14:41:59.509Z"
   },
   {
    "duration": 100,
    "start_time": "2025-05-23T14:42:01.017Z"
   },
   {
    "duration": 14,
    "start_time": "2025-05-23T14:44:07.100Z"
   },
   {
    "duration": 655,
    "start_time": "2025-05-23T14:44:09.382Z"
   },
   {
    "duration": 14,
    "start_time": "2025-05-23T14:44:13.603Z"
   },
   {
    "duration": 108,
    "start_time": "2025-05-23T14:44:15.655Z"
   },
   {
    "duration": 748,
    "start_time": "2025-05-23T14:44:42.963Z"
   },
   {
    "duration": 24,
    "start_time": "2025-05-23T14:44:47.969Z"
   },
   {
    "duration": 13,
    "start_time": "2025-05-23T14:48:28.742Z"
   },
   {
    "duration": 703,
    "start_time": "2025-05-23T14:48:30.976Z"
   },
   {
    "duration": 15,
    "start_time": "2025-05-23T14:48:35.431Z"
   },
   {
    "duration": 106,
    "start_time": "2025-05-23T14:48:37.478Z"
   },
   {
    "duration": 614,
    "start_time": "2025-05-23T14:58:22.329Z"
   },
   {
    "duration": 13,
    "start_time": "2025-05-23T14:58:25.383Z"
   },
   {
    "duration": 15,
    "start_time": "2025-05-23T14:58:29.251Z"
   },
   {
    "duration": 98,
    "start_time": "2025-05-23T14:58:31.158Z"
   },
   {
    "duration": 15,
    "start_time": "2025-05-23T14:58:53.651Z"
   },
   {
    "duration": 12,
    "start_time": "2025-05-23T14:58:54.983Z"
   },
   {
    "duration": 673,
    "start_time": "2025-05-23T14:58:56.739Z"
   },
   {
    "duration": 13,
    "start_time": "2025-05-23T14:58:58.933Z"
   },
   {
    "duration": 100,
    "start_time": "2025-05-23T14:59:00.337Z"
   },
   {
    "duration": 780,
    "start_time": "2025-05-23T14:59:08.310Z"
   },
   {
    "duration": 782,
    "start_time": "2025-05-23T15:00:08.584Z"
   },
   {
    "duration": 789,
    "start_time": "2025-05-23T15:00:19.349Z"
   },
   {
    "duration": 94,
    "start_time": "2025-05-23T15:01:25.520Z"
   },
   {
    "duration": 95,
    "start_time": "2025-05-23T15:01:44.166Z"
   },
   {
    "duration": 96,
    "start_time": "2025-05-23T15:04:04.721Z"
   },
   {
    "duration": 15,
    "start_time": "2025-05-23T15:04:25.930Z"
   },
   {
    "duration": 15,
    "start_time": "2025-05-23T15:04:35.922Z"
   },
   {
    "duration": 15,
    "start_time": "2025-05-23T15:04:41.132Z"
   },
   {
    "duration": 17,
    "start_time": "2025-05-23T15:04:46.530Z"
   },
   {
    "duration": 98,
    "start_time": "2025-05-23T15:04:51.890Z"
   },
   {
    "duration": 7,
    "start_time": "2025-05-23T15:10:11.861Z"
   },
   {
    "duration": 4,
    "start_time": "2025-05-23T15:11:07.398Z"
   },
   {
    "duration": 106,
    "start_time": "2025-05-23T15:11:08.450Z"
   },
   {
    "duration": 45,
    "start_time": "2025-05-23T15:11:09.518Z"
   },
   {
    "duration": 5,
    "start_time": "2025-05-23T15:11:10.469Z"
   },
   {
    "duration": 1475,
    "start_time": "2025-05-23T15:11:12.284Z"
   },
   {
    "duration": 687,
    "start_time": "2025-05-23T15:11:13.761Z"
   },
   {
    "duration": 48,
    "start_time": "2025-05-23T15:11:15.360Z"
   },
   {
    "duration": 16,
    "start_time": "2025-05-23T15:11:18.012Z"
   },
   {
    "duration": 14,
    "start_time": "2025-05-23T15:11:19.726Z"
   },
   {
    "duration": 656,
    "start_time": "2025-05-23T15:11:22.444Z"
   },
   {
    "duration": 15,
    "start_time": "2025-05-23T15:11:25.701Z"
   },
   {
    "duration": 19,
    "start_time": "2025-05-23T15:11:36.107Z"
   },
   {
    "duration": 98,
    "start_time": "2025-05-23T15:11:38.151Z"
   },
   {
    "duration": 7,
    "start_time": "2025-05-23T15:17:41.576Z"
   },
   {
    "duration": 94,
    "start_time": "2025-05-23T15:18:15.128Z"
   },
   {
    "duration": 6,
    "start_time": "2025-05-23T15:18:18.520Z"
   },
   {
    "duration": 17,
    "start_time": "2025-05-23T15:20:39.259Z"
   },
   {
    "duration": 93,
    "start_time": "2025-05-23T15:20:41.172Z"
   },
   {
    "duration": 7,
    "start_time": "2025-05-23T15:20:48.967Z"
   },
   {
    "duration": 7,
    "start_time": "2025-05-23T15:24:04.891Z"
   },
   {
    "duration": 4,
    "start_time": "2025-05-23T15:31:09.326Z"
   },
   {
    "duration": 68,
    "start_time": "2025-05-23T15:31:10.193Z"
   },
   {
    "duration": 46,
    "start_time": "2025-05-23T15:31:10.816Z"
   },
   {
    "duration": 5,
    "start_time": "2025-05-23T15:31:11.664Z"
   },
   {
    "duration": 2511,
    "start_time": "2025-05-23T15:31:13.081Z"
   },
   {
    "duration": 712,
    "start_time": "2025-05-23T15:31:15.594Z"
   },
   {
    "duration": 60,
    "start_time": "2025-05-23T15:31:16.535Z"
   },
   {
    "duration": 17,
    "start_time": "2025-05-23T15:31:18.545Z"
   },
   {
    "duration": 14,
    "start_time": "2025-05-23T15:31:19.844Z"
   },
   {
    "duration": 720,
    "start_time": "2025-05-23T15:31:21.874Z"
   },
   {
    "duration": 20,
    "start_time": "2025-05-23T15:31:24.715Z"
   },
   {
    "duration": 98,
    "start_time": "2025-05-23T15:31:29.227Z"
   },
   {
    "duration": 6,
    "start_time": "2025-05-23T15:31:35.236Z"
   },
   {
    "duration": 2,
    "start_time": "2025-05-23T15:32:17.642Z"
   },
   {
    "duration": 55,
    "start_time": "2025-05-23T15:32:18.360Z"
   },
   {
    "duration": 12,
    "start_time": "2025-05-23T15:32:19.280Z"
   },
   {
    "duration": 8,
    "start_time": "2025-05-23T15:32:19.933Z"
   },
   {
    "duration": 187,
    "start_time": "2025-05-23T15:32:21.167Z"
   },
   {
    "duration": 49,
    "start_time": "2025-05-23T15:32:22.642Z"
   },
   {
    "duration": 24,
    "start_time": "2025-05-23T15:32:23.914Z"
   },
   {
    "duration": 165,
    "start_time": "2025-05-23T15:32:24.817Z"
   },
   {
    "duration": 3,
    "start_time": "2025-05-23T15:32:31.020Z"
   },
   {
    "duration": 54,
    "start_time": "2025-05-23T15:32:32.138Z"
   },
   {
    "duration": 42,
    "start_time": "2025-05-23T15:32:32.194Z"
   },
   {
    "duration": 4,
    "start_time": "2025-05-23T15:32:32.936Z"
   },
   {
    "duration": 1372,
    "start_time": "2025-05-23T15:32:34.100Z"
   },
   {
    "duration": 654,
    "start_time": "2025-05-23T15:32:35.474Z"
   },
   {
    "duration": 58,
    "start_time": "2025-05-23T15:32:36.130Z"
   },
   {
    "duration": 15,
    "start_time": "2025-05-23T15:32:37.241Z"
   },
   {
    "duration": 13,
    "start_time": "2025-05-23T15:32:38.787Z"
   },
   {
    "duration": 660,
    "start_time": "2025-05-23T15:32:40.796Z"
   },
   {
    "duration": 15,
    "start_time": "2025-05-23T15:32:43.008Z"
   },
   {
    "duration": 105,
    "start_time": "2025-05-23T15:32:44.613Z"
   },
   {
    "duration": 7,
    "start_time": "2025-05-23T15:32:50.926Z"
   },
   {
    "duration": 1225,
    "start_time": "2025-05-23T18:24:11.003Z"
   },
   {
    "duration": 162,
    "start_time": "2025-05-23T18:24:12.230Z"
   },
   {
    "duration": 11,
    "start_time": "2025-05-23T18:24:12.393Z"
   },
   {
    "duration": 7,
    "start_time": "2025-05-23T18:24:12.405Z"
   },
   {
    "duration": 168,
    "start_time": "2025-05-23T18:24:12.413Z"
   },
   {
    "duration": 66,
    "start_time": "2025-05-23T18:24:12.583Z"
   },
   {
    "duration": 20,
    "start_time": "2025-05-23T18:24:12.651Z"
   },
   {
    "duration": 155,
    "start_time": "2025-05-23T18:24:12.672Z"
   },
   {
    "duration": 11,
    "start_time": "2025-05-23T18:24:12.829Z"
   },
   {
    "duration": 113,
    "start_time": "2025-05-23T18:24:12.842Z"
   },
   {
    "duration": 42,
    "start_time": "2025-05-23T18:24:12.956Z"
   },
   {
    "duration": 4,
    "start_time": "2025-05-23T18:24:13.000Z"
   },
   {
    "duration": 1309,
    "start_time": "2025-05-23T18:24:13.006Z"
   },
   {
    "duration": 591,
    "start_time": "2025-05-23T18:24:14.317Z"
   },
   {
    "duration": 54,
    "start_time": "2025-05-23T18:24:14.910Z"
   },
   {
    "duration": 13,
    "start_time": "2025-05-23T18:24:14.966Z"
   },
   {
    "duration": 18,
    "start_time": "2025-05-23T18:24:14.981Z"
   },
   {
    "duration": 741,
    "start_time": "2025-05-23T18:24:15.000Z"
   },
   {
    "duration": 23,
    "start_time": "2025-05-23T18:24:15.743Z"
   },
   {
    "duration": 94,
    "start_time": "2025-05-23T18:24:15.768Z"
   },
   {
    "duration": 5,
    "start_time": "2025-05-23T18:24:15.864Z"
   },
   {
    "duration": 15,
    "start_time": "2025-05-23T18:24:38.360Z"
   },
   {
    "duration": 1364,
    "start_time": "2025-05-24T12:22:07.337Z"
   },
   {
    "duration": 67,
    "start_time": "2025-05-24T12:22:27.618Z"
   },
   {
    "duration": 48,
    "start_time": "2025-05-24T12:24:45.329Z"
   },
   {
    "duration": 46,
    "start_time": "2025-05-24T12:25:13.382Z"
   },
   {
    "duration": 3,
    "start_time": "2025-05-24T12:29:06.917Z"
   },
   {
    "duration": 47,
    "start_time": "2025-05-24T12:29:08.857Z"
   },
   {
    "duration": 14,
    "start_time": "2025-05-24T12:29:11.409Z"
   },
   {
    "duration": 8,
    "start_time": "2025-05-24T12:29:16.890Z"
   },
   {
    "duration": 178,
    "start_time": "2025-05-24T12:29:21.750Z"
   },
   {
    "duration": 51,
    "start_time": "2025-05-24T12:29:35.780Z"
   },
   {
    "duration": 25,
    "start_time": "2025-05-24T12:29:53.588Z"
   },
   {
    "duration": 190,
    "start_time": "2025-05-24T12:29:56.209Z"
   },
   {
    "duration": 57,
    "start_time": "2025-05-24T12:30:30.596Z"
   },
   {
    "duration": 50,
    "start_time": "2025-05-24T12:30:31.626Z"
   },
   {
    "duration": 6,
    "start_time": "2025-05-24T12:30:35.630Z"
   },
   {
    "duration": 1558,
    "start_time": "2025-05-24T12:30:37.708Z"
   },
   {
    "duration": 724,
    "start_time": "2025-05-24T12:30:39.268Z"
   },
   {
    "duration": 57,
    "start_time": "2025-05-24T12:30:39.994Z"
   },
   {
    "duration": 52,
    "start_time": "2025-05-24T12:33:32.687Z"
   },
   {
    "duration": 55,
    "start_time": "2025-05-24T12:33:33.485Z"
   },
   {
    "duration": 5,
    "start_time": "2025-05-24T12:33:34.460Z"
   },
   {
    "duration": 1477,
    "start_time": "2025-05-24T12:33:37.228Z"
   },
   {
    "duration": 663,
    "start_time": "2025-05-24T12:33:40.546Z"
   },
   {
    "duration": 50,
    "start_time": "2025-05-24T12:33:43.099Z"
   },
   {
    "duration": 59,
    "start_time": "2025-05-24T12:35:09.969Z"
   },
   {
    "duration": 12,
    "start_time": "2025-05-24T12:35:11.848Z"
   },
   {
    "duration": 7,
    "start_time": "2025-05-24T12:35:13.018Z"
   },
   {
    "duration": 161,
    "start_time": "2025-05-24T12:35:15.351Z"
   },
   {
    "duration": 48,
    "start_time": "2025-05-24T12:35:17.621Z"
   },
   {
    "duration": 26,
    "start_time": "2025-05-24T12:35:19.958Z"
   },
   {
    "duration": 174,
    "start_time": "2025-05-24T12:35:23.141Z"
   },
   {
    "duration": 51,
    "start_time": "2025-05-24T12:35:45.579Z"
   },
   {
    "duration": 46,
    "start_time": "2025-05-24T12:35:46.337Z"
   },
   {
    "duration": 5,
    "start_time": "2025-05-24T12:35:50.119Z"
   },
   {
    "duration": 1462,
    "start_time": "2025-05-24T12:35:53.509Z"
   },
   {
    "duration": 679,
    "start_time": "2025-05-24T12:35:54.973Z"
   },
   {
    "duration": 61,
    "start_time": "2025-05-24T12:35:55.654Z"
   },
   {
    "duration": 70,
    "start_time": "2025-05-24T12:40:05.194Z"
   },
   {
    "duration": 46,
    "start_time": "2025-05-24T12:40:05.825Z"
   },
   {
    "duration": 82,
    "start_time": "2025-05-24T13:04:48.411Z"
   },
   {
    "duration": 626,
    "start_time": "2025-05-24T13:05:03.221Z"
   },
   {
    "duration": 61,
    "start_time": "2025-05-24T13:05:03.849Z"
   },
   {
    "duration": 598,
    "start_time": "2025-05-24T13:05:19.494Z"
   },
   {
    "duration": 16,
    "start_time": "2025-05-24T13:05:29.599Z"
   },
   {
    "duration": 15,
    "start_time": "2025-05-24T13:05:43.988Z"
   },
   {
    "duration": 709,
    "start_time": "2025-05-24T13:05:48.061Z"
   },
   {
    "duration": 15,
    "start_time": "2025-05-24T13:06:20.578Z"
   },
   {
    "duration": 18,
    "start_time": "2025-05-24T13:06:23.367Z"
   },
   {
    "duration": 692,
    "start_time": "2025-05-24T13:14:35.543Z"
   },
   {
    "duration": 15,
    "start_time": "2025-05-24T13:14:40.450Z"
   },
   {
    "duration": 689,
    "start_time": "2025-05-24T13:15:03.803Z"
   },
   {
    "duration": 15,
    "start_time": "2025-05-24T13:15:12.467Z"
   },
   {
    "duration": 680,
    "start_time": "2025-05-24T13:18:26.110Z"
   },
   {
    "duration": 14,
    "start_time": "2025-05-24T13:18:30.560Z"
   },
   {
    "duration": 15,
    "start_time": "2025-05-24T13:18:34.775Z"
   },
   {
    "duration": 107,
    "start_time": "2025-05-24T13:19:09.464Z"
   },
   {
    "duration": 13,
    "start_time": "2025-05-24T13:19:42.705Z"
   },
   {
    "duration": 609,
    "start_time": "2025-05-24T13:21:57.368Z"
   },
   {
    "duration": 14,
    "start_time": "2025-05-24T13:22:08.575Z"
   },
   {
    "duration": 1389,
    "start_time": "2025-05-24T13:22:34.125Z"
   },
   {
    "duration": 633,
    "start_time": "2025-05-24T13:22:40.044Z"
   },
   {
    "duration": 602,
    "start_time": "2025-05-24T13:23:41.721Z"
   },
   {
    "duration": 633,
    "start_time": "2025-05-24T13:23:48.360Z"
   },
   {
    "duration": 14,
    "start_time": "2025-05-24T13:23:51.786Z"
   },
   {
    "duration": 583,
    "start_time": "2025-05-24T13:28:11.846Z"
   },
   {
    "duration": 17,
    "start_time": "2025-05-24T13:28:15.515Z"
   },
   {
    "duration": 16,
    "start_time": "2025-05-24T13:28:21.847Z"
   },
   {
    "duration": 613,
    "start_time": "2025-05-24T13:28:26.810Z"
   },
   {
    "duration": 15,
    "start_time": "2025-05-24T13:28:30.989Z"
   },
   {
    "duration": 15,
    "start_time": "2025-05-24T13:30:34.646Z"
   },
   {
    "duration": 91,
    "start_time": "2025-05-24T13:30:39.234Z"
   },
   {
    "duration": 14,
    "start_time": "2025-05-24T13:33:34.022Z"
   },
   {
    "duration": 89,
    "start_time": "2025-05-24T13:33:41.318Z"
   },
   {
    "duration": 7,
    "start_time": "2025-05-24T13:37:42.695Z"
   }
  ],
  "colab": {
   "provenance": [],
   "toc_visible": true
  },
  "kernelspec": {
   "display_name": "Python 3 (ipykernel)",
   "language": "python",
   "name": "python3"
  },
  "language_info": {
   "codemirror_mode": {
    "name": "ipython",
    "version": 3
   },
   "file_extension": ".py",
   "mimetype": "text/x-python",
   "name": "python",
   "nbconvert_exporter": "python",
   "pygments_lexer": "ipython3",
   "version": "3.9.5"
  },
  "toc": {
   "base_numbering": 1,
   "nav_menu": {},
   "number_sections": true,
   "sideBar": true,
   "skip_h1_title": true,
   "title_cell": "Table of Contents",
   "title_sidebar": "Contents",
   "toc_cell": false,
   "toc_position": {},
   "toc_section_display": true,
   "toc_window_display": false
  }
 },
 "nbformat": 4,
 "nbformat_minor": 5
}

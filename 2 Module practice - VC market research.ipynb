{
 "cells": [
  {
   "cell_type": "markdown",
   "metadata": {},
   "source": [
    "Привет, Петр!\n",
    "\n",
    "Меня зовут Светлана Медведева и я буду проверять Твою работу. Предлагаю общаться на \"ты\". Если Тебе такой вариант не удобен, то пожалуйста дай знать. Я сразу перейду на \"Вы\".\n",
    "\n",
    "При обнаружении у Тебя в работе ошибки, в первый раз я лишь укажу на ее наличие и у Тебя будет возможность самому найти её и исправить. В реальной работе твой начальник будет поступать также, а я пытаюсь подготовить тебя именно к работе Data Scientist. Однако, если ты пока не справишься с такой задачей - при следующей проверке я дам более точную подсказку.\n",
    "\n",
    "Просьба при доработке работы оставлять мои комментарии без изменений.\n",
    "\n",
    "Комментарии я разделяю на следующие категории:\n",
    "\n",
    "<div class=\"alert alert-block alert-success\">\n",
    "<h2> Комментарий ревьюера ✔️</h2>\n",
    "    \n",
    "В случае если всё верно!\n",
    "</div>\n",
    "\n",
    "\n",
    "<div class=\"alert alert-block alert-warning\">\n",
    "<h2> Комментарий ревьюера ⚠️</h2>\n",
    "    \n",
    "В случае если можно что-то доработать, но эта доработка не критична или если есть варианты улучшения работы.\n",
    "</div>\n",
    "\n",
    "<div class=\"alert alert-block alert-danger\">\n",
    "<h2> Комментарий ревьюера ❌</h2>\n",
    "    \n",
    "Замечания, которые нужно исправить. Без исправления этих замечаний проект принят не может быть.\n",
    "</div>\n",
    "\n",
    "\n",
    "<div class=\"alert alert-block alert-info\">\n",
    "Дополнительные материалы, выходящие за рамки программы.\n",
    "</div>\n",
    "\n",
    "## Ревью v. 1:\n",
    "\n",
    "У Тебя отличное начало преокта, но нужно исправить критичные комментарии и после этого можно продолжить выполнение проекта. Как плюс хотела  бы отметить детальность проведенного анализа, анализ распределений и \"ящиков с усами\" и динамики финансирвоания. Здорово, что подготовил подробные промежуточные выводы.\n",
    "\n",
    "Будет здорово если учтешь комментарии на улучшение проекта.\n",
    "\n",
    "Жду проект на проверку:)\n",
    "\n",
    "Успехов!\n",
    "\n",
    "## Ревью v. 2:\n",
    "\n",
    "Молодец, что дополнил проект и доделал оставшиеся задания. Как плюс работы хотела бы отметить детальность проведенного анализа и выводов. Здорово, что сформулировал рекомендации по части улучшения качества данных и рекомендации по инвестированию.\n",
    "\n",
    "Поздравляю, проект принят:)\n",
    "\n",
    "Успехов!"
   ]
  },
  {
   "cell_type": "markdown",
   "metadata": {
    "id": "4mJbK1knrJgz"
   },
   "source": [
    "# Проект: Исследование стартапов"
   ]
  },
  {
   "cell_type": "markdown",
   "metadata": {
    "id": "P6j0r3worJg0"
   },
   "source": [
    "## Введение"
   ]
  },
  {
   "cell_type": "markdown",
   "metadata": {
    "id": "8lQtbsIUyFG6"
   },
   "source": [
    "Поле для вашего введения: описания контекста и цели проекта целом. Чтобы изменить содержимое ячейки, дважды нажмите на неё (или нажмите «Ввод»).\n",
    "\n",
    "Чтобы ваше исследование шло оптимальным путём, рекомендуем чётко следовать предложенным дальше шагам. Углублённая предобработка и исследование неприоритетных для проекта вопросов может потребовать много дополнительного времени.\n",
    "\n",
    "В процессе работы старайтесь записывать свои рассуждения — это полезная привычка во время обучения. Пользуйтесь общими правилами:\n",
    "\n",
    "- начните с введения, в котором опишите контекст и цели проекта в целом;\n",
    "- записывайте в комментариях к коду всё, что относится к нему или алгоритму;\n",
    "- основания совершаемых в проекте действий и выводы, которые касаются предмета исследования, — записывайте в ячейках типа Markdown;\n",
    "- после каждого крупного раздела — шага проекта — обязательно формулируйте промежуточные выводы."
   ]
  },
  {
   "cell_type": "markdown",
   "metadata": {},
   "source": [
    "<div class=\"alert alert-block alert-info\">\n",
    "Комментарии и исправления по проекту.\n",
    "    \n",
    "# Цели и задачи проекта.\n",
    "    \n",
    "Проект посвящён исследованию стартапов на основе исторических данных, с целью понять закономерности финансирования, особенности компаний и поведение участников рынка. Финансовая компания, рассматривающая возможность выхода на рынок с новыми стратегиями - покупкой и перепродажей перспективных стартапов - заинтересована в получении аналитически обоснованных выводов. Задача проекта - подготовить данные, проверить их качество и сформулировать метрики, которые могут быть полезны при оценке и отборе стартапов.\n",
    "\n",
    "Ключевая цель исследования - выявить, как можно использовать имеющиеся данные для оценки инвестиционной привлекательности компаний. Для этого необходимо разобраться в структуре всех предоставленных таблиц, выяснить, какие из них можно надёжно объединять, где возникают пропуски и насколько они критичны для анализа. Кроме того, важно трансформировать сложные или запутанные таблицы (например, company_and_rounds.csv) в такой вид, при котором можно удобно проводить анализ по уровням - отдельно по компаниям и отдельно по инвестиционным раундам.\n",
    "\n",
    "Большое внимание уделяется не только качеству самих данных, но и методам их анализа. Предусмотрено выполнение конкретных исследовательских задач — например, анализ финансирования по годам, изучение зависимости между численностью сотрудников и полнотой сведений об их образовании, оценка выбросов в суммах финансирования и другие. По каждой задаче требуется не просто провести расчёты, но и сделать осмысленные выводы, подтверждающие или опровергающие гипотезы заказчика.\n",
    "    \n",
    "</div>"
   ]
  },
  {
   "cell_type": "markdown",
   "metadata": {},
   "source": [
    "<div class=\"alert alert-block alert-success\">\n",
    "<h2> Комментарий ревьюера v. 2 ✔️</h2>\n",
    "    \n",
    "Молодец, что добавил цель и краткое описание проекта. 👍👍👍\n",
    "</div>"
   ]
  },
  {
   "cell_type": "markdown",
   "metadata": {
    "id": "xqr6uttCrJg0"
   },
   "source": [
    "\n",
    "## Шаг 1. Знакомство с данными: загрузка и первичная предобработка\n",
    "\n",
    "Названия файлов:\n",
    "* acquisition.csv\n",
    "* company_and_rounds.csv\n",
    "* people.csv\n",
    "* education.csv\n",
    "* degrees.csv\n",
    "\n",
    "Опциональные датасеты:\n",
    "* fund.csv\n",
    "* investment.csv\n",
    "\n",
    "\n",
    "Они находятся в папке datasets, если вы выполняете работу на платформе. В случае, если вы делаете работу локально, доступ к файлам в папке можно получить по адресу `https://code.s3.yandex.net/datasets/` + имя файла.\n",
    "\n",
    "### 1.1. Вывод общей информации, исправление названия столбцов\n",
    "\n",
    "- Загрузите все данные по проекту.\n",
    "- Проверьте названия столбцов.\n",
    "- Выведите информацию, которая необходима вам для принятия решений о предобработке, для каждого из датасетов."
   ]
  },
  {
   "cell_type": "markdown",
   "metadata": {},
   "source": [
    "<div class=\"alert alert-block alert-warning\">\n",
    "<h2> Комментарий ревьюера ⚠️</h2>\n",
    "    \n",
    "Советую добавить цель проекта, кратко описать задачи и предысторию проекта, а также имеющиеся для анализа данные.\n",
    "</div>"
   ]
  },
  {
   "cell_type": "code",
   "execution_count": 1,
   "metadata": {
    "colab": {
     "base_uri": "https://localhost:8080/"
    },
    "id": "W_W4jRazrJg0",
    "outputId": "d2409aad-233f-4bb4-ec71-7da96594f9df",
    "vscode": {
     "languageId": "plaintext"
    }
   },
   "outputs": [],
   "source": [
    "import pandas as pd\n",
    "\n",
    "url = \"https://code.s3.yandex.net/datasets/\"\n",
    "files = {\n",
    "    \"company_and_rounds\": \"company_and_rounds.csv\",\n",
    "    \"acquisition\": \"acquisition.csv\",\n",
    "    \"people\": \"people.csv\",\n",
    "    \"education\": \"education.csv\",\n",
    "    \"degrees\": \"degrees.csv\"\n",
    "}\n",
    "\n",
    "df_company = pd.read_csv(url + files[\"company_and_rounds\"])\n",
    "df_acquisition = pd.read_csv(url + files[\"acquisition\"])\n",
    "df_people = pd.read_csv(url + files[\"people\"])\n",
    "df_education = pd.read_csv(url + files[\"education\"])\n",
    "df_degrees = pd.read_csv(url + files[\"degrees\"])"
   ]
  },
  {
   "cell_type": "markdown",
   "metadata": {},
   "source": [
    "<div class=\"alert alert-block alert-success\">\n",
    "<h2> Комментарий ревьюера ✔️</h2>\n",
    "    \n",
    "Отлично, что выделил общую часть пути в отдельную переменную. При формировании пути к файлу из общей части и названия датасета можно помимо конкатенации строк использовать f-строки.\n",
    "    \n",
    "Подробнее: https://habr.com/ru/companies/wunderfund/articles/674866/    \n",
    "</div>"
   ]
  },
  {
   "cell_type": "code",
   "execution_count": 2,
   "metadata": {
    "id": "2Tm4Pk__Felf"
   },
   "outputs": [
    {
     "name": "stdout",
     "output_type": "stream",
     "text": [
      "<class 'pandas.core.frame.DataFrame'>\n",
      "RangeIndex: 217774 entries, 0 to 217773\n",
      "Data columns (total 22 columns):\n",
      " #   Column                 Non-Null Count   Dtype  \n",
      "---  ------                 --------------   -----  \n",
      " 0   company  ID            217472 non-null  float64\n",
      " 1   name                   217472 non-null  object \n",
      " 2   category  code         143886 non-null  object \n",
      " 3   status                 217472 non-null  object \n",
      " 4   founded  at            109956 non-null  object \n",
      " 5   closed  at             3449 non-null    object \n",
      " 6   domain                 147159 non-null  object \n",
      " 7   network  username      95534 non-null   object \n",
      " 8   country  code          108607 non-null  object \n",
      " 9   investment  rounds     217472 non-null  float64\n",
      " 10  funding  rounds        217472 non-null  float64\n",
      " 11  funding  total         217472 non-null  float64\n",
      " 12  milestones             217472 non-null  float64\n",
      " 13  funding  round  id     52928 non-null   float64\n",
      " 14  company  id            52928 non-null   float64\n",
      " 15  funded  at             52680 non-null   object \n",
      " 16  funding  round  type   52928 non-null   object \n",
      " 17  raised  amount         52928 non-null   float64\n",
      " 18  pre  money  valuation  52928 non-null   float64\n",
      " 19  participants           52928 non-null   float64\n",
      " 20  is  first  round       52928 non-null   float64\n",
      " 21  is  last  round        52928 non-null   float64\n",
      "dtypes: float64(12), object(10)\n",
      "memory usage: 36.6+ MB\n"
     ]
    }
   ],
   "source": [
    "df_company.info()"
   ]
  },
  {
   "cell_type": "markdown",
   "metadata": {},
   "source": [
    "#### Общие сведения о таблице company_and_rounds.csv\n",
    "\n",
    "- Размер: 217774 строк, 22 столбца\n",
    "- Типы данных: 10 строковых (object), 12 числовых (float64)\n",
    "- Проблемы: \n",
    "    - Много неоднородных данных в одной таблице: часть строк - информация о компаниях, часть строк - информация о раундах финансирования. \n",
    "    - Названия многих столбцов с двойными пробелами: category  code, founded  at, funding  round  type. Нужно сделать единообразно - сжать пробелы\n",
    "- Пропуски:\n",
    "    - Много пропусков в столбцах: founded  at, closed  at, domain, network  username, country  code.\n",
    "    - В столбцах с индексами с 13 по 21 одинаковое количество пропусков. Кажется, что эта часть таблицы была отдельной таблицей. "
   ]
  },
  {
   "cell_type": "markdown",
   "metadata": {},
   "source": [
    "<div class=\"alert alert-block alert-success\">\n",
    "<h2> Комментарий ревьюера ✔️</h2>\n",
    "\n",
    "Молодец, что сначала описал общую информацию о данных, а далее прокомментировал какие проблемы есть в данных.\n",
    "    \n",
    "Из общей информации видно, что много столбцов типа `object`, поэтому имеет смысл подумать над оптимизацией типов данных.\n",
    "    \n",
    "Для больших датасетов оптимизация типов данных позволяет сократить объём занимаемой оперативной памяти.\n",
    "\n",
    "Подробнее: https://towardsdatascience.com/seven-killer-memory-optimization-techniques-every-pandas-user-should-know-64707348ab20\n",
    "</div>"
   ]
  },
  {
   "cell_type": "code",
   "execution_count": 3,
   "metadata": {
    "id": "oNqJ2qpRFebv"
   },
   "outputs": [
    {
     "name": "stdout",
     "output_type": "stream",
     "text": [
      "<class 'pandas.core.frame.DataFrame'>\n",
      "RangeIndex: 9407 entries, 0 to 9406\n",
      "Data columns (total 6 columns):\n",
      " #   Column                Non-Null Count  Dtype \n",
      "---  ------                --------------  ----- \n",
      " 0   id                    9407 non-null   int64 \n",
      " 1   acquiring_company_id  9407 non-null   int64 \n",
      " 2   acquired_company_id   9407 non-null   int64 \n",
      " 3   term_code             1831 non-null   object\n",
      " 4   price_amount          9407 non-null   int64 \n",
      " 5   acquired_at           9378 non-null   object\n",
      "dtypes: int64(4), object(2)\n",
      "memory usage: 441.1+ KB\n"
     ]
    }
   ],
   "source": [
    "df_acquisition.info()"
   ]
  },
  {
   "cell_type": "markdown",
   "metadata": {},
   "source": [
    "#### Общие сведения о таблице acquisition.csv\n",
    "- Размер: 9407 строк, 6 столбцов\n",
    "- Типы данных: 4 числовых (int64), 2 строковых (object)\n",
    "- Проблемы: \n",
    "     - На первый взгляд нет. Нужен дополнительный анализ. \n",
    "- Пропуски:\n",
    "    - Много пропусков лишь в столбце term_code  "
   ]
  },
  {
   "cell_type": "markdown",
   "metadata": {},
   "source": [
    "<div class=\"alert alert-block alert-success\">\n",
    "<h2> Комментарий ревьюера ✔️</h2>\n",
    "    \n",
    "Ок)\n",
    "</div>"
   ]
  },
  {
   "cell_type": "code",
   "execution_count": 4,
   "metadata": {},
   "outputs": [
    {
     "name": "stdout",
     "output_type": "stream",
     "text": [
      "<class 'pandas.core.frame.DataFrame'>\n",
      "RangeIndex: 226709 entries, 0 to 226708\n",
      "Data columns (total 5 columns):\n",
      " #   Column            Non-Null Count   Dtype  \n",
      "---  ------            --------------   -----  \n",
      " 0   id                226709 non-null  int64  \n",
      " 1   first_name        226704 non-null  object \n",
      " 2   last_name         226708 non-null  object \n",
      " 3   company_id        34615 non-null   float64\n",
      " 4   network_username  38867 non-null   object \n",
      "dtypes: float64(1), int64(1), object(3)\n",
      "memory usage: 8.6+ MB\n"
     ]
    }
   ],
   "source": [
    "df_people.info()"
   ]
  },
  {
   "cell_type": "markdown",
   "metadata": {},
   "source": [
    "#### Общие сведения о таблице acquisition.csv\n",
    "- Размер: 226709 строк, 5 столбцов\n",
    "- Типы данных: 1 числовой (float64), 1 числовой (int64), 3 строковых (object)\n",
    "- Проблемы:\n",
    "    - Столбцы с именем имеют очень мало пересечений со столбцом company_id. Это означает, что много сотрудников не привязаны к компаниям.\n",
    "- Пропуски:\n",
    "    - Много пропусков в столбцах: company_id и network_username."
   ]
  },
  {
   "cell_type": "markdown",
   "metadata": {},
   "source": [
    "<div class=\"alert alert-block alert-success\">\n",
    "<h2> Комментарий ревьюера ✔️</h2>\n",
    "    \n",
    "Здорово, что обратил внимание на тот факт, что много сотрудников не привязаны к компаниям. Здесь было бы здорово прокомментировать по какой причине такая ситуация могла возникнуть.\n",
    "</div>"
   ]
  },
  {
   "cell_type": "code",
   "execution_count": 5,
   "metadata": {},
   "outputs": [
    {
     "name": "stdout",
     "output_type": "stream",
     "text": [
      "<class 'pandas.core.frame.DataFrame'>\n",
      "RangeIndex: 109610 entries, 0 to 109609\n",
      "Data columns (total 4 columns):\n",
      " #   Column        Non-Null Count   Dtype \n",
      "---  ------        --------------   ----- \n",
      " 0   id            109610 non-null  int64 \n",
      " 1   person_id     109610 non-null  int64 \n",
      " 2   instituition  109555 non-null  object\n",
      " 3   graduated_at  58054 non-null   object\n",
      "dtypes: int64(2), object(2)\n",
      "memory usage: 3.3+ MB\n"
     ]
    }
   ],
   "source": [
    "df_education.info()"
   ]
  },
  {
   "cell_type": "markdown",
   "metadata": {},
   "source": [
    "#### Общие сведения о таблице education.csv\n",
    "- Размер: 109610 строк, 4 столбца\n",
    "- Типы данных: 2 числовых (int64), 2 строковых (object)\n",
    "- Проблемы:\n",
    "    - Название столбца instituition содержит опечатку (нужно исправить на institution). Некоторые сотрудники могут иметь несколько записей об образовании\n",
    "- Пропуски:\n",
    "    - Много пропусков в столбце graduated_at"
   ]
  },
  {
   "cell_type": "markdown",
   "metadata": {},
   "source": [
    "<div class=\"alert alert-block alert-success\">\n",
    "<h2> Комментарий ревьюера ✔️</h2>\n",
    "    \n",
    "Молодец, что обратил внимание на опечатку в названии столбца)\n",
    "</div>"
   ]
  },
  {
   "cell_type": "code",
   "execution_count": 6,
   "metadata": {},
   "outputs": [
    {
     "name": "stdout",
     "output_type": "stream",
     "text": [
      "<class 'pandas.core.frame.DataFrame'>\n",
      "RangeIndex: 109610 entries, 0 to 109609\n",
      "Data columns (total 4 columns):\n",
      " #   Column       Non-Null Count   Dtype \n",
      "---  ------       --------------   ----- \n",
      " 0   id           109610 non-null  int64 \n",
      " 1   object_id    109610 non-null  object\n",
      " 2   degree_type  98392 non-null   object\n",
      " 3   subject      81298 non-null   object\n",
      "dtypes: int64(1), object(3)\n",
      "memory usage: 3.3+ MB\n"
     ]
    }
   ],
   "source": [
    "df_degrees.info()"
   ]
  },
  {
   "cell_type": "markdown",
   "metadata": {},
   "source": [
    "#### Общие сведения о таблице degrees.csv\n",
    "- Размер: 109610 строк, 4 столбца\n",
    "- Типы данных: 1 числовой (int64), 3 строковых (object)\n",
    "- Проблемы:\n",
    "    - object_id содержит строковые значения, хотя это ID\n",
    "- Пропуски:\n",
    "    - Много пропусков в столбцах: degree_type и subject"
   ]
  },
  {
   "cell_type": "markdown",
   "metadata": {},
   "source": [
    "<div class=\"alert alert-block alert-warning\">\n",
    "<h2> Комментарий ревьюера ⚠️</h2>\n",
    "    \n",
    "В проекте используется несколько датасетов. При этом проверка данных довольно однотипная, т. е. можно автоматизировать анализ данных написав для этого отдельную функцию (или несколько функций), которая будет выводить общую информацию о датафрейме, подсчитывать процент пропусков по столбцам, проверять наличия дубликатов, подсчитывать число уникальных занчений в данных и т. д.\n",
    "    \n",
    "Ниже привожу пример такой функции:\n",
    "    \n",
    "```\n",
    "def lookup_datasets(dfs, filenames=None):\n",
    "    \"\"\"\n",
    "    Выводит информацию о датасетах из списка\n",
    "\n",
    "    Parameters:\n",
    "        dfs (list of pd.DataFrame): Список датафреймов для обработки.\n",
    "        filenames (list of str): Список названий файлов (имена для отображения).\n",
    "    \"\"\"\n",
    "    if filenames is None:\n",
    "        filenames = [f\"df_{i + 1}\" for i in range(len(dfs))]\n",
    "\n",
    "    for df, df_name in zip(dfs, filenames):\n",
    "        print('-'*10,' '*5, df_name, ' '*5, '-'*10)\n",
    "\n",
    "        # Пропущенные значения\n",
    "        missing_data = df.isna().mean()\n",
    "        missing_data_result = missing_data.apply(lambda x: f'{x:.2%}' if x > 0 else \"\")\n",
    "        missing_data_name = \"Пропущено\" if missing_data.sum() > 0 else \"\"\n",
    "        missing_data_result.name = missing_data_name\n",
    "\n",
    "        # Типы данных\n",
    "        dtypes_result = df.dtypes\n",
    "        dtypes_result.name = \"Тип данных колонки\"\n",
    "        fewest_nans_row = df.iloc[1:-1].isna().sum(axis=1).idxmin()\n",
    "\n",
    "        values_type = df.loc[fewest_nans_row].map(type).T\n",
    "        values_type.name = \"Тип значения\"\n",
    "\n",
    "        # Объединяем результаты и пример данных\n",
    "        result = pd.concat([\n",
    "            dtypes_result, # типы\n",
    "            values_type, # типы значений\n",
    "            missing_data_result, # пропущенные значения\n",
    "            df.iloc[0, :], # первая строка\n",
    "            df.loc[fewest_nans_row].T, # полная строка\n",
    "            df.iloc[-1, :] # последняя строка\n",
    "        ], axis=1)\n",
    "\n",
    "        display(result)\n",
    "\n",
    "        # Проверка на полные дубликаты\n",
    "        duplicates = df.duplicated().mean()\n",
    "        if duplicates > 0:\n",
    "            print(f'Полных дубликатов: {duplicates:.2%}')\n",
    "\n",
    "        print()\n",
    "\n",
    "# Проводим автоматический осмотр данных\n",
    "column_counts = lookup_datasets(dfs.values(), dfs.keys())\n",
    "```\n",
    "</div>"
   ]
  },
  {
   "cell_type": "markdown",
   "metadata": {
    "id": "mg2gEwh0rJg0"
   },
   "source": [
    "### 1.2. Смена типов и анализ пропусков\n",
    "\n",
    "- Обработайте типы данных в столбцах, которые хранят значения даты и времени, если это необходимо.\n",
    "- Оцените полноту данных — сделайте предварительный вывод, достаточно ли данных для решения задач проекта."
   ]
  },
  {
   "cell_type": "markdown",
   "metadata": {},
   "source": [
    "<div class=\"alert alert-block alert-info\">\n",
    "Комментарии и исправления по проекту.\n",
    "    \n",
    "# Исправление по столбцам.\n",
    "    \n",
    "Переименовал столбцы \"company  ID\" и \"company  id\", чтобы после приведения к нижнему регистру не образовались дубликаты.\n",
    "    \n",
    "</div>"
   ]
  },
  {
   "cell_type": "code",
   "execution_count": 7,
   "metadata": {
    "id": "FsL0A8RBrJg1",
    "scrolled": true,
    "vscode": {
     "languageId": "plaintext"
    }
   },
   "outputs": [
    {
     "data": {
      "text/html": [
       "<div>\n",
       "<style scoped>\n",
       "    .dataframe tbody tr th:only-of-type {\n",
       "        vertical-align: middle;\n",
       "    }\n",
       "\n",
       "    .dataframe tbody tr th {\n",
       "        vertical-align: top;\n",
       "    }\n",
       "\n",
       "    .dataframe thead th {\n",
       "        text-align: right;\n",
       "    }\n",
       "</style>\n",
       "<table border=\"1\" class=\"dataframe\">\n",
       "  <thead>\n",
       "    <tr style=\"text-align: right;\">\n",
       "      <th></th>\n",
       "      <th>table</th>\n",
       "      <th>column</th>\n",
       "      <th>total_rows</th>\n",
       "      <th>missing_count</th>\n",
       "      <th>missing_percent</th>\n",
       "      <th>data_type</th>\n",
       "    </tr>\n",
       "  </thead>\n",
       "  <tbody>\n",
       "    <tr>\n",
       "      <th>25</th>\n",
       "      <td>acquisition</td>\n",
       "      <td>term_code</td>\n",
       "      <td>9407</td>\n",
       "      <td>7576</td>\n",
       "      <td>80.54</td>\n",
       "      <td>object</td>\n",
       "    </tr>\n",
       "    <tr>\n",
       "      <th>27</th>\n",
       "      <td>acquisition</td>\n",
       "      <td>acquired_at</td>\n",
       "      <td>9407</td>\n",
       "      <td>29</td>\n",
       "      <td>0.31</td>\n",
       "      <td>object</td>\n",
       "    </tr>\n",
       "    <tr>\n",
       "      <th>22</th>\n",
       "      <td>acquisition</td>\n",
       "      <td>id</td>\n",
       "      <td>9407</td>\n",
       "      <td>0</td>\n",
       "      <td>0.00</td>\n",
       "      <td>int64</td>\n",
       "    </tr>\n",
       "    <tr>\n",
       "      <th>23</th>\n",
       "      <td>acquisition</td>\n",
       "      <td>acquiring_company_id</td>\n",
       "      <td>9407</td>\n",
       "      <td>0</td>\n",
       "      <td>0.00</td>\n",
       "      <td>int64</td>\n",
       "    </tr>\n",
       "    <tr>\n",
       "      <th>24</th>\n",
       "      <td>acquisition</td>\n",
       "      <td>acquired_company_id</td>\n",
       "      <td>9407</td>\n",
       "      <td>0</td>\n",
       "      <td>0.00</td>\n",
       "      <td>int64</td>\n",
       "    </tr>\n",
       "    <tr>\n",
       "      <th>26</th>\n",
       "      <td>acquisition</td>\n",
       "      <td>price_amount</td>\n",
       "      <td>9407</td>\n",
       "      <td>0</td>\n",
       "      <td>0.00</td>\n",
       "      <td>int64</td>\n",
       "    </tr>\n",
       "    <tr>\n",
       "      <th>5</th>\n",
       "      <td>company_and_rounds</td>\n",
       "      <td>closed_at</td>\n",
       "      <td>217774</td>\n",
       "      <td>214325</td>\n",
       "      <td>98.42</td>\n",
       "      <td>object</td>\n",
       "    </tr>\n",
       "    <tr>\n",
       "      <th>15</th>\n",
       "      <td>company_and_rounds</td>\n",
       "      <td>funded_at</td>\n",
       "      <td>217774</td>\n",
       "      <td>165094</td>\n",
       "      <td>75.81</td>\n",
       "      <td>object</td>\n",
       "    </tr>\n",
       "    <tr>\n",
       "      <th>13</th>\n",
       "      <td>company_and_rounds</td>\n",
       "      <td>funding_round_id</td>\n",
       "      <td>217774</td>\n",
       "      <td>164846</td>\n",
       "      <td>75.70</td>\n",
       "      <td>float64</td>\n",
       "    </tr>\n",
       "    <tr>\n",
       "      <th>14</th>\n",
       "      <td>company_and_rounds</td>\n",
       "      <td>company_round_id</td>\n",
       "      <td>217774</td>\n",
       "      <td>164846</td>\n",
       "      <td>75.70</td>\n",
       "      <td>float64</td>\n",
       "    </tr>\n",
       "    <tr>\n",
       "      <th>16</th>\n",
       "      <td>company_and_rounds</td>\n",
       "      <td>funding_round_type</td>\n",
       "      <td>217774</td>\n",
       "      <td>164846</td>\n",
       "      <td>75.70</td>\n",
       "      <td>object</td>\n",
       "    </tr>\n",
       "    <tr>\n",
       "      <th>17</th>\n",
       "      <td>company_and_rounds</td>\n",
       "      <td>raised_amount</td>\n",
       "      <td>217774</td>\n",
       "      <td>164846</td>\n",
       "      <td>75.70</td>\n",
       "      <td>float64</td>\n",
       "    </tr>\n",
       "    <tr>\n",
       "      <th>18</th>\n",
       "      <td>company_and_rounds</td>\n",
       "      <td>pre_money_valuation</td>\n",
       "      <td>217774</td>\n",
       "      <td>164846</td>\n",
       "      <td>75.70</td>\n",
       "      <td>float64</td>\n",
       "    </tr>\n",
       "    <tr>\n",
       "      <th>19</th>\n",
       "      <td>company_and_rounds</td>\n",
       "      <td>participants</td>\n",
       "      <td>217774</td>\n",
       "      <td>164846</td>\n",
       "      <td>75.70</td>\n",
       "      <td>float64</td>\n",
       "    </tr>\n",
       "    <tr>\n",
       "      <th>20</th>\n",
       "      <td>company_and_rounds</td>\n",
       "      <td>is_first_round</td>\n",
       "      <td>217774</td>\n",
       "      <td>164846</td>\n",
       "      <td>75.70</td>\n",
       "      <td>float64</td>\n",
       "    </tr>\n",
       "    <tr>\n",
       "      <th>21</th>\n",
       "      <td>company_and_rounds</td>\n",
       "      <td>is_last_round</td>\n",
       "      <td>217774</td>\n",
       "      <td>164846</td>\n",
       "      <td>75.70</td>\n",
       "      <td>float64</td>\n",
       "    </tr>\n",
       "    <tr>\n",
       "      <th>7</th>\n",
       "      <td>company_and_rounds</td>\n",
       "      <td>network_username</td>\n",
       "      <td>217774</td>\n",
       "      <td>122240</td>\n",
       "      <td>56.13</td>\n",
       "      <td>object</td>\n",
       "    </tr>\n",
       "    <tr>\n",
       "      <th>8</th>\n",
       "      <td>company_and_rounds</td>\n",
       "      <td>country_code</td>\n",
       "      <td>217774</td>\n",
       "      <td>109167</td>\n",
       "      <td>50.13</td>\n",
       "      <td>object</td>\n",
       "    </tr>\n",
       "    <tr>\n",
       "      <th>4</th>\n",
       "      <td>company_and_rounds</td>\n",
       "      <td>founded_at</td>\n",
       "      <td>217774</td>\n",
       "      <td>107818</td>\n",
       "      <td>49.51</td>\n",
       "      <td>object</td>\n",
       "    </tr>\n",
       "    <tr>\n",
       "      <th>2</th>\n",
       "      <td>company_and_rounds</td>\n",
       "      <td>category_code</td>\n",
       "      <td>217774</td>\n",
       "      <td>73888</td>\n",
       "      <td>33.93</td>\n",
       "      <td>object</td>\n",
       "    </tr>\n",
       "    <tr>\n",
       "      <th>6</th>\n",
       "      <td>company_and_rounds</td>\n",
       "      <td>domain</td>\n",
       "      <td>217774</td>\n",
       "      <td>70615</td>\n",
       "      <td>32.43</td>\n",
       "      <td>object</td>\n",
       "    </tr>\n",
       "    <tr>\n",
       "      <th>0</th>\n",
       "      <td>company_and_rounds</td>\n",
       "      <td>company_main_id</td>\n",
       "      <td>217774</td>\n",
       "      <td>302</td>\n",
       "      <td>0.14</td>\n",
       "      <td>float64</td>\n",
       "    </tr>\n",
       "    <tr>\n",
       "      <th>1</th>\n",
       "      <td>company_and_rounds</td>\n",
       "      <td>name</td>\n",
       "      <td>217774</td>\n",
       "      <td>302</td>\n",
       "      <td>0.14</td>\n",
       "      <td>object</td>\n",
       "    </tr>\n",
       "    <tr>\n",
       "      <th>3</th>\n",
       "      <td>company_and_rounds</td>\n",
       "      <td>status</td>\n",
       "      <td>217774</td>\n",
       "      <td>302</td>\n",
       "      <td>0.14</td>\n",
       "      <td>object</td>\n",
       "    </tr>\n",
       "    <tr>\n",
       "      <th>9</th>\n",
       "      <td>company_and_rounds</td>\n",
       "      <td>investment_rounds</td>\n",
       "      <td>217774</td>\n",
       "      <td>302</td>\n",
       "      <td>0.14</td>\n",
       "      <td>float64</td>\n",
       "    </tr>\n",
       "    <tr>\n",
       "      <th>10</th>\n",
       "      <td>company_and_rounds</td>\n",
       "      <td>funding_rounds</td>\n",
       "      <td>217774</td>\n",
       "      <td>302</td>\n",
       "      <td>0.14</td>\n",
       "      <td>float64</td>\n",
       "    </tr>\n",
       "    <tr>\n",
       "      <th>11</th>\n",
       "      <td>company_and_rounds</td>\n",
       "      <td>funding_total</td>\n",
       "      <td>217774</td>\n",
       "      <td>302</td>\n",
       "      <td>0.14</td>\n",
       "      <td>float64</td>\n",
       "    </tr>\n",
       "    <tr>\n",
       "      <th>12</th>\n",
       "      <td>company_and_rounds</td>\n",
       "      <td>milestones</td>\n",
       "      <td>217774</td>\n",
       "      <td>302</td>\n",
       "      <td>0.14</td>\n",
       "      <td>float64</td>\n",
       "    </tr>\n",
       "    <tr>\n",
       "      <th>40</th>\n",
       "      <td>degrees</td>\n",
       "      <td>subject</td>\n",
       "      <td>109610</td>\n",
       "      <td>28312</td>\n",
       "      <td>25.83</td>\n",
       "      <td>object</td>\n",
       "    </tr>\n",
       "    <tr>\n",
       "      <th>39</th>\n",
       "      <td>degrees</td>\n",
       "      <td>degree_type</td>\n",
       "      <td>109610</td>\n",
       "      <td>11218</td>\n",
       "      <td>10.23</td>\n",
       "      <td>object</td>\n",
       "    </tr>\n",
       "    <tr>\n",
       "      <th>37</th>\n",
       "      <td>degrees</td>\n",
       "      <td>id</td>\n",
       "      <td>109610</td>\n",
       "      <td>0</td>\n",
       "      <td>0.00</td>\n",
       "      <td>int64</td>\n",
       "    </tr>\n",
       "    <tr>\n",
       "      <th>38</th>\n",
       "      <td>degrees</td>\n",
       "      <td>object_id</td>\n",
       "      <td>109610</td>\n",
       "      <td>0</td>\n",
       "      <td>0.00</td>\n",
       "      <td>object</td>\n",
       "    </tr>\n",
       "    <tr>\n",
       "      <th>36</th>\n",
       "      <td>education</td>\n",
       "      <td>graduated_at</td>\n",
       "      <td>109610</td>\n",
       "      <td>51556</td>\n",
       "      <td>47.04</td>\n",
       "      <td>object</td>\n",
       "    </tr>\n",
       "    <tr>\n",
       "      <th>35</th>\n",
       "      <td>education</td>\n",
       "      <td>instituition</td>\n",
       "      <td>109610</td>\n",
       "      <td>55</td>\n",
       "      <td>0.05</td>\n",
       "      <td>object</td>\n",
       "    </tr>\n",
       "    <tr>\n",
       "      <th>33</th>\n",
       "      <td>education</td>\n",
       "      <td>id</td>\n",
       "      <td>109610</td>\n",
       "      <td>0</td>\n",
       "      <td>0.00</td>\n",
       "      <td>int64</td>\n",
       "    </tr>\n",
       "    <tr>\n",
       "      <th>34</th>\n",
       "      <td>education</td>\n",
       "      <td>person_id</td>\n",
       "      <td>109610</td>\n",
       "      <td>0</td>\n",
       "      <td>0.00</td>\n",
       "      <td>int64</td>\n",
       "    </tr>\n",
       "    <tr>\n",
       "      <th>31</th>\n",
       "      <td>people</td>\n",
       "      <td>company_id</td>\n",
       "      <td>226709</td>\n",
       "      <td>192094</td>\n",
       "      <td>84.73</td>\n",
       "      <td>float64</td>\n",
       "    </tr>\n",
       "    <tr>\n",
       "      <th>32</th>\n",
       "      <td>people</td>\n",
       "      <td>network_username</td>\n",
       "      <td>226709</td>\n",
       "      <td>187842</td>\n",
       "      <td>82.86</td>\n",
       "      <td>object</td>\n",
       "    </tr>\n",
       "    <tr>\n",
       "      <th>28</th>\n",
       "      <td>people</td>\n",
       "      <td>id</td>\n",
       "      <td>226709</td>\n",
       "      <td>0</td>\n",
       "      <td>0.00</td>\n",
       "      <td>int64</td>\n",
       "    </tr>\n",
       "    <tr>\n",
       "      <th>29</th>\n",
       "      <td>people</td>\n",
       "      <td>first_name</td>\n",
       "      <td>226709</td>\n",
       "      <td>5</td>\n",
       "      <td>0.00</td>\n",
       "      <td>object</td>\n",
       "    </tr>\n",
       "    <tr>\n",
       "      <th>30</th>\n",
       "      <td>people</td>\n",
       "      <td>last_name</td>\n",
       "      <td>226709</td>\n",
       "      <td>1</td>\n",
       "      <td>0.00</td>\n",
       "      <td>object</td>\n",
       "    </tr>\n",
       "  </tbody>\n",
       "</table>\n",
       "</div>"
      ],
      "text/plain": [
       "                 table                column  total_rows  missing_count  \\\n",
       "25         acquisition             term_code        9407           7576   \n",
       "27         acquisition           acquired_at        9407             29   \n",
       "22         acquisition                    id        9407              0   \n",
       "23         acquisition  acquiring_company_id        9407              0   \n",
       "24         acquisition   acquired_company_id        9407              0   \n",
       "26         acquisition          price_amount        9407              0   \n",
       "5   company_and_rounds             closed_at      217774         214325   \n",
       "15  company_and_rounds             funded_at      217774         165094   \n",
       "13  company_and_rounds      funding_round_id      217774         164846   \n",
       "14  company_and_rounds      company_round_id      217774         164846   \n",
       "16  company_and_rounds    funding_round_type      217774         164846   \n",
       "17  company_and_rounds         raised_amount      217774         164846   \n",
       "18  company_and_rounds   pre_money_valuation      217774         164846   \n",
       "19  company_and_rounds          participants      217774         164846   \n",
       "20  company_and_rounds        is_first_round      217774         164846   \n",
       "21  company_and_rounds         is_last_round      217774         164846   \n",
       "7   company_and_rounds      network_username      217774         122240   \n",
       "8   company_and_rounds          country_code      217774         109167   \n",
       "4   company_and_rounds            founded_at      217774         107818   \n",
       "2   company_and_rounds         category_code      217774          73888   \n",
       "6   company_and_rounds                domain      217774          70615   \n",
       "0   company_and_rounds       company_main_id      217774            302   \n",
       "1   company_and_rounds                  name      217774            302   \n",
       "3   company_and_rounds                status      217774            302   \n",
       "9   company_and_rounds     investment_rounds      217774            302   \n",
       "10  company_and_rounds        funding_rounds      217774            302   \n",
       "11  company_and_rounds         funding_total      217774            302   \n",
       "12  company_and_rounds            milestones      217774            302   \n",
       "40             degrees               subject      109610          28312   \n",
       "39             degrees           degree_type      109610          11218   \n",
       "37             degrees                    id      109610              0   \n",
       "38             degrees             object_id      109610              0   \n",
       "36           education          graduated_at      109610          51556   \n",
       "35           education          instituition      109610             55   \n",
       "33           education                    id      109610              0   \n",
       "34           education             person_id      109610              0   \n",
       "31              people            company_id      226709         192094   \n",
       "32              people      network_username      226709         187842   \n",
       "28              people                    id      226709              0   \n",
       "29              people            first_name      226709              5   \n",
       "30              people             last_name      226709              1   \n",
       "\n",
       "    missing_percent data_type  \n",
       "25            80.54    object  \n",
       "27             0.31    object  \n",
       "22             0.00     int64  \n",
       "23             0.00     int64  \n",
       "24             0.00     int64  \n",
       "26             0.00     int64  \n",
       "5             98.42    object  \n",
       "15            75.81    object  \n",
       "13            75.70   float64  \n",
       "14            75.70   float64  \n",
       "16            75.70    object  \n",
       "17            75.70   float64  \n",
       "18            75.70   float64  \n",
       "19            75.70   float64  \n",
       "20            75.70   float64  \n",
       "21            75.70   float64  \n",
       "7             56.13    object  \n",
       "8             50.13    object  \n",
       "4             49.51    object  \n",
       "2             33.93    object  \n",
       "6             32.43    object  \n",
       "0              0.14   float64  \n",
       "1              0.14    object  \n",
       "3              0.14    object  \n",
       "9              0.14   float64  \n",
       "10             0.14   float64  \n",
       "11             0.14   float64  \n",
       "12             0.14   float64  \n",
       "40            25.83    object  \n",
       "39            10.23    object  \n",
       "37             0.00     int64  \n",
       "38             0.00    object  \n",
       "36            47.04    object  \n",
       "35             0.05    object  \n",
       "33             0.00     int64  \n",
       "34             0.00     int64  \n",
       "31            84.73   float64  \n",
       "32            82.86    object  \n",
       "28             0.00     int64  \n",
       "29             0.00    object  \n",
       "30             0.00    object  "
      ]
     },
     "metadata": {},
     "output_type": "display_data"
    }
   ],
   "source": [
    "dfs = {}\n",
    "\n",
    "for name, filename in files.items():\n",
    "    df = pd.read_csv(url + filename)\n",
    "\n",
    "    # Исправляем дубликат названия колонок для company_and_rounds до snake_case\n",
    "    if name == \"company_and_rounds\":\n",
    "        df = df.rename(columns={\n",
    "            \"company  ID\": \"company_main_ID\",  # переименовываем столбцы\n",
    "            \"company  id\": \"company_round_ID\"  \n",
    "        })\n",
    "\n",
    "    df.columns = df.columns.str.strip().str.lower().str.replace(\" +\", \"_\", regex=True)\n",
    "\n",
    "    dfs[name] = df\n",
    "\n",
    "# Анализ пропусков\n",
    "missing_data = []\n",
    "\n",
    "for name, df in dfs.items():\n",
    "    total = df.isnull().sum()\n",
    "    percent = (df.isnull().mean() * 100).round(2)\n",
    "    total_rows = len(df)\n",
    "    data_types = df.dtypes.astype(str)\n",
    "    \n",
    "    summary = pd.DataFrame({\n",
    "        \"table\": name,\n",
    "        \"column\": df.columns,\n",
    "        \"total_rows\": total_rows,\n",
    "        \"missing_count\": total.values,\n",
    "        \"missing_percent\": percent.values,\n",
    "        \"data_type\": data_types.values\n",
    "    })\n",
    "    \n",
    "    missing_data.append(summary)\n",
    "\n",
    "# Объединяем все таблицы пропусков\n",
    "missing_summary = pd.concat(missing_data, ignore_index=True)\n",
    "\n",
    "# Сортируем\n",
    "missing_summary = missing_summary.sort_values(by=[\"table\", \"missing_percent\"], ascending=[True, False])\n",
    "\n",
    "display(missing_summary)"
   ]
  },
  {
   "cell_type": "markdown",
   "metadata": {},
   "source": [
    "<div class=\"alert alert-block alert-danger\">\n",
    "<h2> Комментарий ревьюера ❌</h2>\n",
    "    \n",
    "При преобразовании названий столбцов к единому стилю `snake case` (т. е. когда в именах переменных или файлов слова соединяются нижним подчеркиванием и пишутся маленькими буквами) важно обратить внимание на столбцы 'company  ID' и 'company  id'. Эти столбцы после приведения к нижнему регистру и замены пробелов на _ образуют дубликаты. Такую проблему можно устранить предварительно переименовав один из этих столбцов.\n",
    "</div>"
   ]
  },
  {
   "cell_type": "markdown",
   "metadata": {},
   "source": [
    "<div class=\"alert alert-block alert-success\">\n",
    "<h2> Комментарий ревьюера v. 2 ✔️</h2>\n",
    "    \n",
    "Отлично, проблема с дублирующимися названиями столбцов устранена)\n",
    "</div>"
   ]
  },
  {
   "cell_type": "markdown",
   "metadata": {},
   "source": [
    "<div class=\"alert alert-block alert-success\">\n",
    "<h2> Комментарий ревьюера ✔️</h2>\n",
    "    \n",
    "Число и процнт пропусков подсчитаны и отлично, что добавил сортировку столбцов. Это делает анализ пропусков более удобным, так как позволяет сразу сказать с каких столбцах наибольшее, а в каких наименьшее число пропусков.\n",
    "</div>"
   ]
  },
  {
   "cell_type": "markdown",
   "metadata": {
    "id": "46VskrGyFeJ-"
   },
   "source": [
    "#### Анализ пропусков\n",
    "- Таблица acquisition (строк: 9407)\n",
    "    - term_code - 7576 пропусков (80.54%)\n",
    "    - acquired_at - 29 пропусков (0.31%)\n",
    "    - Остальные столбцы (id, acquiring_company_id, acquired_company_id, price_amount) - без пропусков\n",
    "\n",
    "- Таблица company_and_rounds (строк: 217774)\n",
    "\n",
    "    - Высокий уровень пропусков:\n",
    "        - closed_at - 214325 пропусков (98.42%)\n",
    "        - funded_at и все поля, связанные с инвестиционными раундами (funding_round_id, raised_amount, participants и т.д.) - по 164,8 к пропусков (75.70%)\n",
    "        - network_username - 122240 пропусков (56.13%)\n",
    "        - country_code, founded_at, category_code, domain - от 32% до 50% пропусков\n",
    "\n",
    "    - Низкий уровень пропусков:\n",
    "        - Основные поля (company_id, name, status, investment_rounds, funding_rounds, funding_total, milestones) - 302 пропуска (0.14%)\n",
    "\n",
    "- Таблица degrees (строк: 109610)\n",
    "    - subject - 28312 пропусков (25.83%)\n",
    "    - degree_type - 11218 пропусков (10.23%)\n",
    "    - Остальные столбцы (id, object_id) - без пропусков\n",
    "    \n",
    "- Таблица education (строк: 109610)\n",
    "    - graduated_at - 51556 пропусков (47.04%)\n",
    "    - instituition - 55 пропусков (0.05%)\n",
    "    - Остальные столбцы (id, person_id) - без пропусков\n",
    "    \n",
    "- Таблица people (строк: 226709)\n",
    "    - company_id - 192094 пропуска (84.73%)\n",
    "    - network_username - 187842 пропуска (82.86%)\n",
    "    - first_name - 5 пропусков\n",
    "    - last_name  1 пропуск\n",
    "    - id  без пропусков\n"
   ]
  },
  {
   "cell_type": "markdown",
   "metadata": {},
   "source": [
    "<div class=\"alert alert-block alert-success\">\n",
    "<h2> Комментарий ревьюера ✔️</h2>\n",
    "    \n",
    "Пропуски проанализированы, но советую прокомментировать по какой причине могли возникнуть пропуски и какого они типа.\n",
    "    \n",
    "MCAR (Missing Completely At Random) — механизм формирования пропусков, при котором вероятность пропуска для каждой записи набора одинакова. Например, если проводился социологический опрос, в котором каждому десятому респонденту один случайно выбранный вопрос не задавался, причем на все остальные заданные вопросы респонденты отвечали, то имеет место механизм MCAR. В таком случае игнорирование/исключение записей, содержащих пропущенные данные, не ведет к искажению результатов.\n",
    "\n",
    "MAR (Missing At Random) — на практике данные обычно пропущены не случайно, а ввиду некоторых закономерностей. Пропуски относят к MAR, если вероятность пропуска может быть определена на основе другой имеющейся в наборе данных информации (пол, возраст, занимаемая должность, образование…), не содержащей пропуски. В таком случае удаление или замена пропусков на значение «Пропуск», как и в случае MCAR, не приведет к существенному искажению результатов.\n",
    "\n",
    "MNAR (Missing Not At Random) — механизм формирования пропусков, при котором данные отсутствуют в зависимости от неизвестных факторов. MNAR предполагает, что вероятность пропуска могла бы быть описана на основе других атрибутов, но информация по этим атрибутам в наборе данных отсутствует. Как следствие, вероятность пропуска невозможно выразить на основе информации, содержащейся в наборе данных.\n",
    "\n",
    "Подробнее: https://loginom.ru/blog/missing\n",
    "</div>"
   ]
  },
  {
   "cell_type": "code",
   "execution_count": 8,
   "metadata": {
    "id": "DEg1tl8DFeBn"
   },
   "outputs": [],
   "source": [
    "# Преобразование в datetime\n",
    "datetime_columns = {\n",
    "    \"company_and_rounds\": [\"founded_at\", \"closed_at\", \"funded_at\"],\n",
    "    \"acquisition\": [\"acquired_at\"],\n",
    "    \"education\": [\"graduated_at\"]\n",
    "}\n",
    "\n",
    "for table, columns in datetime_columns.items():\n",
    "    for col in columns:\n",
    "        if col in dfs[table].columns:\n",
    "            dfs[table][col] = pd.to_datetime(dfs[table][col], errors='coerce')"
   ]
  },
  {
   "cell_type": "markdown",
   "metadata": {},
   "source": [
    "#### Анализ типов данных\n",
    "- Мы сменили тип данных в столбцах founded_at, closed_at, funded_at, acquired_at, graduated_at на datetime\n",
    "- Остальные столбцы оставим без изменения типов данных"
   ]
  },
  {
   "cell_type": "markdown",
   "metadata": {},
   "source": [
    "<div class=\"alert alert-block alert-success\">\n",
    "<h2> Комментарий ревьюера ✔️</h2>\n",
    "    \n",
    "Да, у столбцов с датами нужно изменить тип на `datetime`. 👍👍👍\n",
    "    \n",
    "Но можно ли оптимизировать тип данных у других столбцов (например, тип object для всех ли стобцов необходим)? \n",
    "</div>"
   ]
  },
  {
   "cell_type": "markdown",
   "metadata": {},
   "source": [
    "#### Оценка полноты данных\n",
    "**1) Таблица acquisition**.\n",
    "\n",
    "Почти все поля заполнены, за исключением term_code (80% пропусков).\n",
    "Данные о сделках можно считать достаточно полными, если не считать ограничений по оценке формата приобретения стартапа.\n",
    "\n",
    "**2) Таблица company_and_rounds**.\n",
    "\n",
    "Таблица содержит как данные о компаниях, так и о раундах их финансирования. Необходим аккуратный подход к анализу, так как явно видно, что часть строк описывает компании в целом, а часть отдельные инвестиционные события.\n",
    "\n",
    "Основная информация о компании (company_id, name, status, category_code, country_code, funding_total) заполнена хорошо - пропуски менее 1% или отсутствуют.\n",
    "Информация о раундах (funded_at, funding_round_id, raised_amount, participants и др.) присутствует только в части строк (около 24%), что логично, так как не все компании проходили раунды финансирования. Пропуски в этих столбцах следует воспринимать как отсутствие участия в раунде, а не как ошибку.\n",
    "\n",
    "**3) Таблица people**.\n",
    "\n",
    "Более 80% сотрудников не привязаны к компаниям - это ограничивает анализ по размеру и характеристикам команд.\n",
    "Тем не менее, можно исследовать часть данных, где company_id указан (около 15% записей).\n",
    "\n",
    "**4) Таблица education**.\n",
    "\n",
    "Сведения о человеке и учебном заведении (person_id, instituition) в целом присутствуют.\n",
    "Однако в столбце graduated_at почти половина записей содержит пропуски (47%) - это снижает возможности для анализа, в частности стажа работы.\n",
    "Несмотря на это, почти все строки можно использовать при анализе, особенно в части наличия образования, даже без указания года окончания.\n",
    "\n",
    "**5) Таблица degree**.\n",
    "\n",
    "Поля degree_type и subject содержат до 25% пропусков, но остальные данные заполнены полностью.\n",
    "Это допускает анализ только по заполненным строкам, при этом пропуски можно трактовать как отсутствие уточнённой информации об образовании.\n",
    "\n",
    "\n"
   ]
  },
  {
   "cell_type": "markdown",
   "metadata": {},
   "source": [
    "<div class=\"alert alert-block alert-success\">\n",
    "<h2> Комментарий ревьюера ✔️</h2>\n",
    "    \n",
    "Итог анализа и предобработки данных подведен и это отлично.  👍👍👍\n",
    "</div>"
   ]
  },
  {
   "cell_type": "markdown",
   "metadata": {
    "id": "u60cHsn6rJg1"
   },
   "source": [
    "## Шаг 2. Предобработка данных, предварительное исследование"
   ]
  },
  {
   "cell_type": "markdown",
   "metadata": {
    "id": "g2bHIIjcrJg1"
   },
   "source": [
    "\n",
    "### 2.1. Раунды финансирования по годам\n",
    "\n",
    "Задание необходимо выполнить без объединения и дополнительной предобработки на основе датасета `company_and_rounds.csv`.\n",
    "\n",
    "- Составьте сводную таблицу по годам, в которой на основании столбца `raised_amount` для каждого года указан:\n",
    "    - типичный размер средств, выделяемый в рамках одного раунда;\n",
    "    - общее количество раундов финансирования за этот год.\n",
    "    \n",
    "- Оставьте в таблице информацию только для тех лет, для которых есть информация о более чем 50 раундах финансирования.\n",
    "- На основе получившейся таблицы постройте график, который будет отражать динамику типичного размера средств, которые стартапы получали в рамках одного раунда финансирования.\n",
    "\n",
    "На основе полученных данных ответьте на вопросы:\n",
    "\n",
    "- В каком году типичный размер собранных в рамках одного раунда средств был максимален?\n",
    "- Какая тенденция по количеству раундов и выделяемых в рамках каждого раунда средств наблюдалась в 2013 году?"
   ]
  },
  {
   "cell_type": "code",
   "execution_count": 9,
   "metadata": {},
   "outputs": [
    {
     "name": "stdout",
     "output_type": "stream",
     "text": [
      "Статистика по raised_amount (в долл.):\n",
      "count    5.268000e+04\n",
      "mean     7.967552e+06\n",
      "std      4.225021e+07\n",
      "min      0.000000e+00\n",
      "25%      2.500000e+05\n",
      "50%      1.600000e+06\n",
      "75%      6.800000e+06\n",
      "max      3.835050e+09\n",
      "Name: raised_amount, dtype: float64\n",
      "\n",
      "Мода для raised_amount: 0 долл.\n"
     ]
    }
   ],
   "source": [
    "df_rounds = dfs[\"company_and_rounds\"]\n",
    "df_rounds = df_rounds[df_rounds[\"raised_amount\"].notna() & df_rounds[\"funded_at\"].notna()].copy()\n",
    "\n",
    "# Описательная статистика\n",
    "raised_stats = df_rounds[\"raised_amount\"].describe()\n",
    "\n",
    "# Мода\n",
    "raised_mode = df_rounds[\"raised_amount\"].mode()[0]\n",
    " \n",
    "print(\"Статистика по raised_amount (в долл.):\")\n",
    "print(raised_stats)\n",
    "print(f\"\\nМода для raised_amount: {int(raised_mode)} долл.\")"
   ]
  },
  {
   "cell_type": "markdown",
   "metadata": {},
   "source": [
    "#### Комментарий по статистике для столбца raised_amount ч.1\n",
    "По данным можно сделать следующие выводы:\n",
    "\n",
    "Медианная сумма раунда составляет **1.6 млн долл.**, то есть половина сделок проходит на сумму ниже этой отметки.\n",
    "\n",
    "Среднее значение значительно выше медианы - около **8 млн долл.**, что говорит о наличии сильных выбросов в сторону крупных сделок.\n",
    "\n",
    "Максимальное значение превышает **3.8 млрд долл.**, тогда как 75% всех раундов укладываются в **6.8 млн долл.**\n",
    "\n",
    "Минимальная сумма - **0**, что требует дополнительной проверки: либо нулевое финансирование (раунд произошел без привлечения средств), либо ошибка в данных.\n",
    "\n",
    "Мода по столбцу составила - **0**, что говорит либо об ошибке, либо о неудачном раунде, либо о формате раунда (напр. предполагающего не финансирование, а поглощение).\n",
    "\n",
    "Таким образом, распределение raised_amount сильно асимметрично и смещено вправо. Необходимо построить boxplot с фильтрацией по выбросам и гистограмму для более точного определения средних значений."
   ]
  },
  {
   "cell_type": "markdown",
   "metadata": {},
   "source": [
    "<div class=\"alert alert-block alert-success\">\n",
    "<h2> Комментарий ревьюера ✔️</h2>\n",
    "    \n",
    "По рассчитанным статистическим характеристикам видим, что в данных довольно много нулевых сумм финансирования. Помимо этого, можно отметить насколько реалистична максимальная сумма финансирования.\n",
    "</div>"
   ]
  },
  {
   "cell_type": "code",
   "execution_count": 10,
   "metadata": {},
   "outputs": [
    {
     "data": {
      "image/png": "[encoded data removed]",
      "text/plain": [
       "<Figure size 720x288 with 1 Axes>"
      ]
     },
     "metadata": {
      "needs_background": "light"
     },
     "output_type": "display_data"
    }
   ],
   "source": [
    "import matplotlib.pyplot as plt\n",
    "import seaborn as sns\n",
    "\n",
    "# Перевод в миллионы долл.\n",
    "df_rounds[\"raised_amount_mln\"] = df_rounds[\"raised_amount\"] / 1_000_000\n",
    "\n",
    "# Расчёт межквартильного размаха (IQR)\n",
    "q1 = df_rounds[\"raised_amount_mln\"].quantile(0.25)\n",
    "q3 = df_rounds[\"raised_amount_mln\"].quantile(0.75)\n",
    "iqr = q3 - q1\n",
    "\n",
    "# Границы выбросов\n",
    "lower_bound = q1 - 1.5 * iqr\n",
    "upper_bound = q3 + 1.5 * iqr\n",
    "\n",
    "df_no_outliers = df_rounds[\n",
    "    (df_rounds[\"raised_amount_mln\"] >= lower_bound) &\n",
    "    (df_rounds[\"raised_amount_mln\"] <= upper_bound)\n",
    "]\n",
    "\n",
    "# boxplot без выбросов\n",
    "plt.figure(figsize=(10, 4))\n",
    "sns.boxplot(x=df_no_outliers[\"raised_amount_mln\"])\n",
    "plt.title(\"Сумма привлечённого финансирования (млн долл.) (искл. выбросы)\")\n",
    "plt.xlabel(\"Raised Amount (млн $)\")\n",
    "plt.grid(True)\n",
    "plt.show()"
   ]
  },
  {
   "cell_type": "code",
   "execution_count": 11,
   "metadata": {},
   "outputs": [
    {
     "data": {
      "image/png": "[encoded data removed]",
      "text/plain": [
       "<Figure size 720x432 with 1 Axes>"
      ]
     },
     "metadata": {
      "needs_background": "light"
     },
     "output_type": "display_data"
    }
   ],
   "source": [
    "median_value = df_no_outliers[\"raised_amount_mln\"].median()\n",
    "\n",
    "# Строим гистограмму + KDE\n",
    "plt.figure(figsize=(10, 6))\n",
    "sns.histplot(df_no_outliers[\"raised_amount_mln\"], bins=30, kde=True, color=\"orange\", edgecolor=\"black\")\n",
    "\n",
    "# оформление медианы + легенда\n",
    "plt.axvline(median_value, color=\"red\", linestyle=\"dashed\", linewidth=2, label=f\"Медиана: {median_value:.2f} млн долл.\")\n",
    "\n",
    "\n",
    "plt.title(\"Распределение сумм привлечённого финансирования (млн долл.) (искл. выбросов)\")\n",
    "plt.xlabel(\"Raised Amount (млн долл.)\")\n",
    "plt.ylabel(\"Частота сделок\")\n",
    "plt.legend()\n",
    "plt.grid(True)\n",
    "\n",
    "plt.show()\n"
   ]
  },
  {
   "cell_type": "markdown",
   "metadata": {},
   "source": [
    "#### Комментарий по статистике для столбца raised_amount ч.2\n",
    "\n",
    "Результаты построения boxplot с фильтрацией по выбросам и гистограммы действительно дали более точное определение средних значений - медиана снизилась до **1,2 млн. долл** (с 1,6 млн. долл). Также подтвердилось ассиметричное распределение этого показателя с \"хвостом\" справа.\n",
    "\n",
    "Важно отметить, что нулевые значения не удалялись, так как скорее всего они означают неудачные раунды финансирования. \n",
    "\n",
    "Границы диапазона (минимум и максимум) лежат от **0 до 11 млн долл.**, то есть подавляющее большинство раундов не превышает **11 млн долл.** \n",
    "\n",
    "Значение Q3 не превышает **5 млн долл.** - то есть 50% всех значений лежит до **5 млн долл.**. "
   ]
  },
  {
   "cell_type": "markdown",
   "metadata": {},
   "source": [
    "<div class=\"alert alert-block alert-success\">\n",
    "<h2> Комментарий ревьюера ✔️</h2>\n",
    "    \n",
    "Отично, что построил и проанализировал гистограмму распределения и `ящики с усами`.\n",
    "    \n",
    "Дополнительные материалы по “ящикам с усами”: https://builtin.com/data-science/boxplot\n",
    "\n",
    "Подробнее про типы распределений можно посмотреть: https://machinelearningmastery.com/statistical-data-distributions/\n",
    "</div>"
   ]
  },
  {
   "cell_type": "code",
   "execution_count": 12,
   "metadata": {},
   "outputs": [
    {
     "data": {
      "text/html": [
       "<div>\n",
       "<style scoped>\n",
       "    .dataframe tbody tr th:only-of-type {\n",
       "        vertical-align: middle;\n",
       "    }\n",
       "\n",
       "    .dataframe tbody tr th {\n",
       "        vertical-align: top;\n",
       "    }\n",
       "\n",
       "    .dataframe thead th {\n",
       "        text-align: right;\n",
       "    }\n",
       "</style>\n",
       "<table border=\"1\" class=\"dataframe\">\n",
       "  <thead>\n",
       "    <tr style=\"text-align: right;\">\n",
       "      <th></th>\n",
       "      <th>funding_year</th>\n",
       "      <th>median_raised_amount</th>\n",
       "      <th>rounds_count</th>\n",
       "    </tr>\n",
       "  </thead>\n",
       "  <tbody>\n",
       "    <tr>\n",
       "      <th>15</th>\n",
       "      <td>1999</td>\n",
       "      <td>2000000.0</td>\n",
       "      <td>76</td>\n",
       "    </tr>\n",
       "    <tr>\n",
       "      <th>16</th>\n",
       "      <td>2000</td>\n",
       "      <td>4200000.0</td>\n",
       "      <td>125</td>\n",
       "    </tr>\n",
       "    <tr>\n",
       "      <th>17</th>\n",
       "      <td>2001</td>\n",
       "      <td>3000000.0</td>\n",
       "      <td>96</td>\n",
       "    </tr>\n",
       "    <tr>\n",
       "      <th>18</th>\n",
       "      <td>2002</td>\n",
       "      <td>4200000.0</td>\n",
       "      <td>116</td>\n",
       "    </tr>\n",
       "    <tr>\n",
       "      <th>19</th>\n",
       "      <td>2003</td>\n",
       "      <td>3000000.0</td>\n",
       "      <td>159</td>\n",
       "    </tr>\n",
       "    <tr>\n",
       "      <th>20</th>\n",
       "      <td>2004</td>\n",
       "      <td>5000000.0</td>\n",
       "      <td>291</td>\n",
       "    </tr>\n",
       "    <tr>\n",
       "      <th>21</th>\n",
       "      <td>2005</td>\n",
       "      <td>5500000.0</td>\n",
       "      <td>1633</td>\n",
       "    </tr>\n",
       "    <tr>\n",
       "      <th>22</th>\n",
       "      <td>2006</td>\n",
       "      <td>5000000.0</td>\n",
       "      <td>2436</td>\n",
       "    </tr>\n",
       "    <tr>\n",
       "      <th>23</th>\n",
       "      <td>2007</td>\n",
       "      <td>3973320.0</td>\n",
       "      <td>3279</td>\n",
       "    </tr>\n",
       "    <tr>\n",
       "      <th>24</th>\n",
       "      <td>2008</td>\n",
       "      <td>3110000.0</td>\n",
       "      <td>3774</td>\n",
       "    </tr>\n",
       "    <tr>\n",
       "      <th>25</th>\n",
       "      <td>2009</td>\n",
       "      <td>2000000.0</td>\n",
       "      <td>4151</td>\n",
       "    </tr>\n",
       "    <tr>\n",
       "      <th>26</th>\n",
       "      <td>2010</td>\n",
       "      <td>1602500.0</td>\n",
       "      <td>6221</td>\n",
       "    </tr>\n",
       "    <tr>\n",
       "      <th>27</th>\n",
       "      <td>2011</td>\n",
       "      <td>1200000.0</td>\n",
       "      <td>9204</td>\n",
       "    </tr>\n",
       "    <tr>\n",
       "      <th>28</th>\n",
       "      <td>2012</td>\n",
       "      <td>1000000.0</td>\n",
       "      <td>9970</td>\n",
       "    </tr>\n",
       "    <tr>\n",
       "      <th>29</th>\n",
       "      <td>2013</td>\n",
       "      <td>1200000.0</td>\n",
       "      <td>11072</td>\n",
       "    </tr>\n",
       "  </tbody>\n",
       "</table>\n",
       "</div>"
      ],
      "text/plain": [
       "    funding_year  median_raised_amount  rounds_count\n",
       "15          1999             2000000.0            76\n",
       "16          2000             4200000.0           125\n",
       "17          2001             3000000.0            96\n",
       "18          2002             4200000.0           116\n",
       "19          2003             3000000.0           159\n",
       "20          2004             5000000.0           291\n",
       "21          2005             5500000.0          1633\n",
       "22          2006             5000000.0          2436\n",
       "23          2007             3973320.0          3279\n",
       "24          2008             3110000.0          3774\n",
       "25          2009             2000000.0          4151\n",
       "26          2010             1602500.0          6221\n",
       "27          2011             1200000.0          9204\n",
       "28          2012             1000000.0          9970\n",
       "29          2013             1200000.0         11072"
      ]
     },
     "metadata": {},
     "output_type": "display_data"
    }
   ],
   "source": [
    "df = dfs[\"company_and_rounds\"]\n",
    "\n",
    "# Фильтр на строки, где есть информация о раунде и дате\n",
    "df_rounds = df[df[\"raised_amount\"].notna() & df[\"funded_at\"].notna()].copy()\n",
    "\n",
    "# Новая колонка с годом финансирования\n",
    "df_rounds[\"funding_year\"] = df_rounds[\"funded_at\"].dt.year\n",
    "\n",
    "# Считаем медиану raised_amount И количество раундов\n",
    "yearly_stats = df_rounds.groupby(\"funding_year\").agg({\n",
    "    \"raised_amount\": \"median\",\n",
    "    \"funding_round_id\": \"count\"\n",
    "}).rename(columns={\n",
    "    \"raised_amount\": \"median_raised_amount\",\n",
    "    \"funding_round_id\": \"rounds_count\"\n",
    "}).reset_index()\n",
    "\n",
    "# Фильтр на годы с числом раундов больше 50\n",
    "yearly_stats_filtered = yearly_stats[yearly_stats[\"rounds_count\"] > 50]\n",
    "\n",
    "display(yearly_stats_filtered)"
   ]
  },
  {
   "cell_type": "markdown",
   "metadata": {},
   "source": [
    "<div class=\"alert alert-block alert-success\">\n",
    "<h2> Комментарий ревьюера ✔️</h2>\n",
    "    \n",
    "Отлично, год из даты выделен. В целом модуль dt предоставляет большое число функций по работе с датами.\n",
    "\n",
    "Дополнительно можно посмотреть: https://pandas.pydata.org/docs/reference/api/pandas.Series.dt.date.html\n",
    "</div>"
   ]
  },
  {
   "cell_type": "markdown",
   "metadata": {},
   "source": [
    "<div class=\"alert alert-block alert-success\">\n",
    "<h2> Комментарий ревьюера ✔️</h2>\n",
    "    \n",
    "Молодец, что используешь `.groupby()`. Но часто удобным вариантов для создания сводной таблицы является .pivot_table, так как предоставляет большие возможности по формированию сводной таблицы.\n",
    "    \n",
    "Подробнее про создание сводных таблиц с помощью .pivot_table написано в https://dfedorov.spb.ru/pandas/%D0%A1%D0%B2%D0%BE%D0%B4%D0%BD%D0%B0%D1%8F%20%D1%82%D0%B0%D0%B1%D0%BB%D0%B8%D1%86%D0%B0%20%D0%B2%20pandas.html\n",
    "</div>"
   ]
  },
  {
   "cell_type": "markdown",
   "metadata": {},
   "source": [
    "<div class=\"alert alert-block alert-success\">\n",
    "<h2> Комментарий ревьюера ✔️</h2>\n",
    "    \n",
    "Да, для оценки типичного размера финансировнаия нужно использовать медиану.\n",
    "    \n",
    "на основе проведенного ранее анализа можно сказать, что в данных есть выбросы, поэтому среднее значение нельзя использовать для оценки типичного размера финансирования и нужно использовать медиану. Это связано с тем, что среднее значение не будет показательно при наличии аномальных значений и распределении отличном от нормального. \n",
    "</div>"
   ]
  },
  {
   "cell_type": "markdown",
   "metadata": {},
   "source": [
    "#### Комментарий по сводной таблице\n",
    "\n",
    "Изначально, временной ряд таблицы company_and_rounds начинался с 1960 г. однако вплоть до 1999 г. число раундов в год не превышало 29 (в 1998 г.).\n",
    "\n",
    "С учетом фильтрации данных по числу раундов в год не менее 50 новая таблица начинается с 1999 г. \n",
    "\n",
    "Общее количество раундов варьируется с 76 в 1999 г. до 11072 в 2013 г. Мы видим значительное развитие венчурного рынка  и появление большого числа стартапов. Число раундов в год с 1999 года увеличилось в 145 раз! \n",
    "\n",
    "Однако типичный размер сделки с каждым годом снижался - с 2 млрд долл. в 1999 до 1,2 млн долл. в 2013 г. Это может говорить об увеличении отраслевого разнообразия стартапов и росте возможностей привлечения инвестиций стартапами даже в самой начальной стадии. "
   ]
  },
  {
   "cell_type": "markdown",
   "metadata": {},
   "source": [
    "<div class=\"alert alert-block alert-success\">\n",
    "<h2> Комментарий ревьюера ✔️</h2>\n",
    "    \n",
    "Да, верно, по условию нам нужно отобрать года в которых было не менее 50 раундов финансирования.\n",
    "</div>"
   ]
  },
  {
   "cell_type": "code",
   "execution_count": 13,
   "metadata": {
    "id": "Cf5IjfOQrJg1",
    "vscode": {
     "languageId": "plaintext"
    }
   },
   "outputs": [
    {
     "data": {
      "image/png": "[encoded data removed]",
      "text/plain": [
       "<Figure size 864x432 with 2 Axes>"
      ]
     },
     "metadata": {
      "needs_background": "light"
     },
     "output_type": "display_data"
    }
   ],
   "source": [
    "# График с двумя шкалами\n",
    "fig, ax1 = plt.subplots(figsize=(12, 6))\n",
    "\n",
    "\n",
    "# Медианная сумма\n",
    "ax1.plot(yearly_stats_filtered[\"funding_year\"], yearly_stats_filtered[\"median_raised_amount\"],\n",
    "         color=\"blue\", marker=\"o\", label=\"Медианная сумма (raised_amount)\")\n",
    "ax1.set_ylabel(\"Медианная сумма, млн долл.\", color=\"blue\")\n",
    "ax1.tick_params(axis=\"y\", labelcolor=\"blue\")\n",
    "\n",
    "# Количество раундов\n",
    "ax2 = ax1.twinx()\n",
    "ax2.plot(yearly_stats_filtered[\"funding_year\"], yearly_stats_filtered[\"rounds_count\"],\n",
    "         color=\"red\", marker=\"s\", label=\"Количество раундов\")\n",
    "ax2.set_ylabel(\"Количество раундов\", color=\"red\")\n",
    "ax2.tick_params(axis=\"y\", labelcolor=\"red\")\n",
    "\n",
    "plt.title(\"Динамика медианной суммы и количества раундов по годам\")\n",
    "ax1.set_xlabel(\"Год\")\n",
    "ax1.grid(True)\n",
    "fig.tight_layout()\n",
    "plt.show()"
   ]
  },
  {
   "cell_type": "markdown",
   "metadata": {},
   "source": [
    "<div class=\"alert alert-block alert-success\">\n",
    "<h2> Комментарий ревьюера ✔️</h2>\n",
    "    \n",
    "Ты построил отличные графики:) По части оформления все ок - подписи и заголовок есть и валюта в которой суммы финансирования указана.\n",
    "</div>"
   ]
  },
  {
   "cell_type": "markdown",
   "metadata": {
    "id": "8Fbz6KmzFdYP"
   },
   "source": [
    "#### Комментарий по графику на основании сводной таблицы\n",
    "\n",
    "На графике дополнительно показана обратная зависимость числа раундов от медианной суммы сделки. Эта тенденция особенно сильно начала проявляться после 2004 г. \n",
    "\n",
    "Максимальное по среднему размеру раунда значение (5,5 млрд долл.) достигнуто в 2005 году, после чего оно сильно сократилось к 2013 г. "
   ]
  },
  {
   "cell_type": "markdown",
   "metadata": {},
   "source": [
    "<div class=\"alert alert-block alert-success\">\n",
    "<h2> Комментарий ревьюера ✔️</h2>\n",
    "    \n",
    "На основе проведенного анализа мы можем сделать вывод, что максимальная сумма финансировнаия была в 2005 году. Отлично, что проанализировал не только как меняется от года в год типичная сумма финансирования, но и проанализировал динамику изменения числа раундов финансирования.\n",
    "</div>"
   ]
  },
  {
   "cell_type": "markdown",
   "metadata": {
    "id": "45if1en1rJg2"
   },
   "source": [
    "\n",
    "### 2.2. Люди и их образование\n",
    "\n",
    "Заказчик хочет понять, зависит ли полнота сведений о сотрудниках (например, об их образовании) от размера компаний.\n",
    "\n",
    "- Оцените, насколько информация об образовании сотрудников полна. Используя датасеты `people.csv` и `education.csv`, разделите все компании на несколько групп по количеству сотрудников и оцените среднюю долю сотрудников без информации об образовании в каждой из групп. Обоснуйте выбранные границы групп.\n",
    "- Оцените, возможно ли для выполнения задания присоединить к этим таблицам ещё и таблицу `degrees.csv`."
   ]
  },
  {
   "cell_type": "code",
   "execution_count": 14,
   "metadata": {
    "id": "psPO7C4MrJg2",
    "vscode": {
     "languageId": "plaintext"
    }
   },
   "outputs": [
    {
     "data": {
      "text/html": [
       "<div>\n",
       "<style scoped>\n",
       "    .dataframe tbody tr th:only-of-type {\n",
       "        vertical-align: middle;\n",
       "    }\n",
       "\n",
       "    .dataframe tbody tr th {\n",
       "        vertical-align: top;\n",
       "    }\n",
       "\n",
       "    .dataframe thead th {\n",
       "        text-align: right;\n",
       "    }\n",
       "</style>\n",
       "<table border=\"1\" class=\"dataframe\">\n",
       "  <thead>\n",
       "    <tr style=\"text-align: right;\">\n",
       "      <th></th>\n",
       "      <th>company_id</th>\n",
       "      <th>total_employees</th>\n",
       "      <th>employees_with_edu</th>\n",
       "      <th>employees_without_edu</th>\n",
       "    </tr>\n",
       "  </thead>\n",
       "  <tbody>\n",
       "    <tr>\n",
       "      <th>0</th>\n",
       "      <td>1.0</td>\n",
       "      <td>2</td>\n",
       "      <td>1</td>\n",
       "      <td>50.000000</td>\n",
       "    </tr>\n",
       "    <tr>\n",
       "      <th>1</th>\n",
       "      <td>2.0</td>\n",
       "      <td>1</td>\n",
       "      <td>1</td>\n",
       "      <td>0.000000</td>\n",
       "    </tr>\n",
       "    <tr>\n",
       "      <th>2</th>\n",
       "      <td>3.0</td>\n",
       "      <td>3</td>\n",
       "      <td>2</td>\n",
       "      <td>33.333333</td>\n",
       "    </tr>\n",
       "    <tr>\n",
       "      <th>3</th>\n",
       "      <td>4.0</td>\n",
       "      <td>13</td>\n",
       "      <td>12</td>\n",
       "      <td>7.692308</td>\n",
       "    </tr>\n",
       "    <tr>\n",
       "      <th>4</th>\n",
       "      <td>5.0</td>\n",
       "      <td>61</td>\n",
       "      <td>45</td>\n",
       "      <td>26.229508</td>\n",
       "    </tr>\n",
       "    <tr>\n",
       "      <th>...</th>\n",
       "      <td>...</td>\n",
       "      <td>...</td>\n",
       "      <td>...</td>\n",
       "      <td>...</td>\n",
       "    </tr>\n",
       "    <tr>\n",
       "      <th>22917</th>\n",
       "      <td>285897.0</td>\n",
       "      <td>2</td>\n",
       "      <td>2</td>\n",
       "      <td>0.000000</td>\n",
       "    </tr>\n",
       "    <tr>\n",
       "      <th>22918</th>\n",
       "      <td>285953.0</td>\n",
       "      <td>1</td>\n",
       "      <td>0</td>\n",
       "      <td>100.000000</td>\n",
       "    </tr>\n",
       "    <tr>\n",
       "      <th>22919</th>\n",
       "      <td>285972.0</td>\n",
       "      <td>2</td>\n",
       "      <td>1</td>\n",
       "      <td>50.000000</td>\n",
       "    </tr>\n",
       "    <tr>\n",
       "      <th>22920</th>\n",
       "      <td>285996.0</td>\n",
       "      <td>1</td>\n",
       "      <td>1</td>\n",
       "      <td>0.000000</td>\n",
       "    </tr>\n",
       "    <tr>\n",
       "      <th>22921</th>\n",
       "      <td>286091.0</td>\n",
       "      <td>6</td>\n",
       "      <td>4</td>\n",
       "      <td>33.333333</td>\n",
       "    </tr>\n",
       "  </tbody>\n",
       "</table>\n",
       "<p>22922 rows × 4 columns</p>\n",
       "</div>"
      ],
      "text/plain": [
       "       company_id  total_employees  employees_with_edu  employees_without_edu\n",
       "0             1.0                2                   1              50.000000\n",
       "1             2.0                1                   1               0.000000\n",
       "2             3.0                3                   2              33.333333\n",
       "3             4.0               13                  12               7.692308\n",
       "4             5.0               61                  45              26.229508\n",
       "...           ...              ...                 ...                    ...\n",
       "22917    285897.0                2                   2               0.000000\n",
       "22918    285953.0                1                   0             100.000000\n",
       "22919    285972.0                2                   1              50.000000\n",
       "22920    285996.0                1                   1               0.000000\n",
       "22921    286091.0                6                   4              33.333333\n",
       "\n",
       "[22922 rows x 4 columns]"
      ]
     },
     "metadata": {},
     "output_type": "display_data"
    }
   ],
   "source": [
    "import pandas as pd\n",
    "\n",
    "# Загружаем нужные таблицы\n",
    "df_people = dfs[\"people\"]\n",
    "df_education = dfs[\"education\"]\n",
    "\n",
    "# НЕ учитываем сотрудников без компаний\n",
    "df_people_filtered = df_people[df_people[\"company_id\"].notna()].copy()\n",
    "\n",
    "# Добавляем колонку \"есть ли образование\" (1 - да, 0 - нет)\n",
    "df_people_filtered[\"has_education\"] = df_people_filtered[\"id\"].isin(df_education[\"person_id\"]).astype(int)\n",
    "\n",
    "# Считаем для сотрудников их общее число и число без образования\n",
    "company_stats = df_people_filtered.groupby(\"company_id\").agg(\n",
    "    total_employees=(\"id\", \"count\"),\n",
    "    employees_with_edu=(\"has_education\", \"sum\")  # Количество людей с образованием\n",
    ").reset_index()\n",
    "\n",
    "# Вычисляем долю сотрудников без образования\n",
    "company_stats[\"employees_without_edu\"] = ((company_stats[\"total_employees\"] - company_stats[\"employees_with_edu\"]) / company_stats[\"total_employees\"]) * 100\n",
    "\n",
    "display(company_stats)"
   ]
  },
  {
   "cell_type": "code",
   "execution_count": 15,
   "metadata": {
    "id": "BThTjpLqFcsm"
   },
   "outputs": [
    {
     "data": {
      "image/png": "[encoded data removed]",
      "text/plain": [
       "<Figure size 864x432 with 1 Axes>"
      ]
     },
     "metadata": {
      "needs_background": "light"
     },
     "output_type": "display_data"
    }
   ],
   "source": [
    "# Гистограмма для понимания разбиения компаний на категории по числу сотрудников\n",
    "plt.figure(figsize=(12, 6))\n",
    "sns.histplot(company_stats[\"total_employees\"], bins=1000, kde=True)\n",
    "plt.title(\"Распределение количества сотрудников в компаниях\")\n",
    "plt.xlabel(\"Число сотрудников в компании\")\n",
    "plt.ylabel(\"Частота\")\n",
    "plt.grid(True)\n",
    "plt.show()"
   ]
  },
  {
   "cell_type": "code",
   "execution_count": 16,
   "metadata": {
    "id": "4FC98Pd-FcmG"
   },
   "outputs": [
    {
     "data": {
      "image/png": "[encoded data removed]",
      "text/plain": [
       "<Figure size 864x432 with 1 Axes>"
      ]
     },
     "metadata": {
      "needs_background": "light"
     },
     "output_type": "display_data"
    }
   ],
   "source": [
    "# boxplot для понимания разбиения компаний на категории по числу сотрудников\n",
    "plt.figure(figsize=(12, 6))\n",
    "sns.boxplot(x=company_stats[\"total_employees\"])\n",
    "\n",
    "plt.title(\"Boxplot: Количество сотрудников в компаниях\")\n",
    "plt.xlabel(\"Число сотрудников в компании\")\n",
    "plt.grid(True)\n",
    "\n",
    "plt.show()"
   ]
  },
  {
   "cell_type": "markdown",
   "metadata": {},
   "source": [
    "#### Размышления о категориях компаний по числу занятых ч.1\n",
    "\n",
    "Видно, что подавляющее число стартапов не обладает большим штатом, так как компания находится на начальном этапе своего развития. По построенным гистограмме и ящику с усами можно сказать, что большинство компаний имеют от 1 до 9 человек в штате."
   ]
  },
  {
   "cell_type": "markdown",
   "metadata": {},
   "source": [
    "<div class=\"alert alert-block alert-success\">\n",
    "<h2> Комментарий ревьюера ✔️</h2>\n",
    "    \n",
    "Ты верно отмтеил, что среди компаний довольно много стартапов с малым числом сотрудников, что в общем для стартапов неудивительно:)\n",
    "</div>"
   ]
  },
  {
   "cell_type": "markdown",
   "metadata": {},
   "source": [
    "<div class=\"alert alert-block alert-info\">\n",
    "Комментарии и исправления по проекту.\n",
    "    \n",
    "# Укрупнение категорий.\n",
    "    \n",
    "Изначально компании были разбиты на 17 мелких групп по числу сотрудников, но многие из них содержали слишком мало наблюдений (менее 10 компаний), что делало выводы ненадёжными. В соответствии с рекомендациями группы были пересобраны: количество укрупнено до 5 диапазонов (1-4, 5-9, 10-19, 20-49, 50+), чтобы обеспечить статистическую устойчивость и достоверность сравнения. Теперь каждая категория содержит достаточное количество данных для анализа. Также была убрана категория 250+, так как по ней не было наблюдений.\n",
    "    \n",
    "</div>"
   ]
  },
  {
   "cell_type": "markdown",
   "metadata": {},
   "source": [
    "<div class=\"alert alert-block alert-success\">\n",
    "<h2> Комментарий ревьюера v. 2 ✔️</h2>\n",
    "\n",
    "Ок)\n",
    "</div>"
   ]
  },
  {
   "cell_type": "code",
   "execution_count": 17,
   "metadata": {},
   "outputs": [
    {
     "data": {
      "text/html": [
       "<div>\n",
       "<style scoped>\n",
       "    .dataframe tbody tr th:only-of-type {\n",
       "        vertical-align: middle;\n",
       "    }\n",
       "\n",
       "    .dataframe tbody tr th {\n",
       "        vertical-align: top;\n",
       "    }\n",
       "\n",
       "    .dataframe thead th {\n",
       "        text-align: right;\n",
       "    }\n",
       "</style>\n",
       "<table border=\"1\" class=\"dataframe\">\n",
       "  <thead>\n",
       "    <tr style=\"text-align: right;\">\n",
       "      <th></th>\n",
       "      <th>company_size</th>\n",
       "      <th>companies_count</th>\n",
       "      <th>avg_employees</th>\n",
       "      <th>avg_without_edu</th>\n",
       "    </tr>\n",
       "  </thead>\n",
       "  <tbody>\n",
       "    <tr>\n",
       "      <th>0</th>\n",
       "      <td>1-4</td>\n",
       "      <td>22197</td>\n",
       "      <td>1.265847</td>\n",
       "      <td>46.448094</td>\n",
       "    </tr>\n",
       "    <tr>\n",
       "      <th>1</th>\n",
       "      <td>5-9</td>\n",
       "      <td>580</td>\n",
       "      <td>6.205172</td>\n",
       "      <td>52.553914</td>\n",
       "    </tr>\n",
       "    <tr>\n",
       "      <th>2</th>\n",
       "      <td>10-19</td>\n",
       "      <td>114</td>\n",
       "      <td>12.368421</td>\n",
       "      <td>48.777572</td>\n",
       "    </tr>\n",
       "    <tr>\n",
       "      <th>3</th>\n",
       "      <td>20-49</td>\n",
       "      <td>22</td>\n",
       "      <td>28.045455</td>\n",
       "      <td>33.997079</td>\n",
       "    </tr>\n",
       "    <tr>\n",
       "      <th>4</th>\n",
       "      <td>50+</td>\n",
       "      <td>9</td>\n",
       "      <td>99.000000</td>\n",
       "      <td>28.808853</td>\n",
       "    </tr>\n",
       "  </tbody>\n",
       "</table>\n",
       "</div>"
      ],
      "text/plain": [
       "  company_size  companies_count  avg_employees  avg_without_edu\n",
       "0          1-4            22197       1.265847        46.448094\n",
       "1          5-9              580       6.205172        52.553914\n",
       "2        10-19              114      12.368421        48.777572\n",
       "3        20-49               22      28.045455        33.997079\n",
       "4          50+                9      99.000000        28.808853"
      ]
     },
     "metadata": {},
     "output_type": "display_data"
    }
   ],
   "source": [
    "# Новые укрупнённые границы групп\n",
    "bins = [1, 5, 10, 20, 50, float(\"inf\")]\n",
    "labels = [\"1-4\", \"5-9\", \"10-19\", \"20-49\", \"50+\"]\n",
    "\n",
    "company_stats = company_stats.dropna(subset=[\"total_employees\"])\n",
    "\n",
    "company_stats[\"company_size\"] = pd.cut(company_stats[\"total_employees\"], bins=bins, labels=labels, right=False)\n",
    "\n",
    "# Удаляем пустые категории\n",
    "company_stats = company_stats[company_stats[\"company_size\"].notna()]\n",
    "\n",
    "# Группируем по размеру компании и считаем метрики\n",
    "education_gaps = company_stats.groupby(\"company_size\").agg(\n",
    "    companies_count=(\"company_size\", \"count\"),            # Кол-во компаний в группе\n",
    "    avg_employees=(\"total_employees\", \"mean\"),            # Среднее число сотрудников\n",
    "    avg_without_edu=(\"employees_without_edu\", \"mean\")     # Средний % сотрудников без образования\n",
    ").reset_index()\n",
    "\n",
    "display(education_gaps)"
   ]
  },
  {
   "cell_type": "markdown",
   "metadata": {},
   "source": [
    "<div class=\"alert alert-block alert-success\">\n",
    "<h2> Комментарий ревьюера ✔️</h2>\n",
    "    \n",
    "Молодец, что используешь функцию `pd.cut()` для разделения на группы.\n",
    "    \n",
    "Подробнее можно посмотреть: https://dfedorov.spb.ru/pandas/%D0%A0%D0%B0%D0%B7%D0%B4%D0%B5%D0%BB%D0%B5%D0%BD%D0%B8%D0%B5%20%D0%B4%D0%B0%D0%BD%D0%BD%D1%8B%D1%85%20%D0%B2%20Pandas%20%D1%81%20%D0%BF%D0%BE%D0%BC%D0%BE%D1%89%D1%8C%D1%8E%20qcut%20%D0%B8%20cut.html\n",
    "</div>"
   ]
  },
  {
   "cell_type": "markdown",
   "metadata": {},
   "source": [
    "<div class=\"alert alert-block alert-danger\">\n",
    "<h2> Комментарий ревьюера ❌</h2>\n",
    "    \n",
    "Подумай, пожалуйста, имеет ли смысл выделять категорию для которой недостаточно данных чтобы рассчитать долю сотрудников без информации об образовании? Разделение на компаний на категории по числу сотрудников должно быть выполнено таким образом чтобы получились сравнимые по размеру группы. Это важно для достоверности полученных результатов (так как на малых группах сложно делать выводы).\n",
    "</div>"
   ]
  },
  {
   "cell_type": "markdown",
   "metadata": {},
   "source": [
    "#### Размышления о категориях компаний по числу занятых ч.2\n",
    "\n",
    "Всего получилось 15 категорий компаний в зависимости от числа занятых в ней. Такая подробная разбивка - следствие специфики стартапов. В большинстве своем начинающие организации не могут позволить себе большой штат. Поэтому принял решение сделать подробную разбивку с точным числом сотрудников начиная с одного и до девяти и интервальную начиная с 10. Как видно эти категории в общем аккумулируют более 90% всех компаний. Несмотря на дробность шкала относительно равномерно отражает распределение, сильно искаженное выбросами крупных компаний.    \n",
    "\n",
    "Была построена таблица в которой показано распределение по категориям (1) числа компаний (2) среднего числа занятых в компании (3) среднего процента сотрудников без образования. \n",
    "\n",
    "Для обогащения понимания о категориях технически возможно присоединить к этим таблицам ещё и таблицу degrees.csv."
   ]
  },
  {
   "cell_type": "markdown",
   "metadata": {},
   "source": [
    "<div class=\"alert alert-block alert-info\">\n",
    "Комментарии и исправления по проекту.\n",
    "    \n",
    "# Размышления о категориях компаний по числу занятых ч.2 (исправленная)\n",
    "    \n",
    "В итоге компании были разделены на 5 категорий по числу сотрудников. Такое укрупнение групп обусловлено тем, что в изначальной подробной разбивке значительная часть категорий содержала слишком мало наблюдений, что делало анализ ненадёжным. Большинство стартапов действительно представляют собой небольшие команды, поэтому группы с числом сотрудников до 20 оставлены достаточно детализированными, а более крупные объединены в обобщённые интервалы.\n",
    "\n",
    "Была составлена таблица, в которой для каждой группы указано: (1) количество компаний, (2) среднее число сотрудников, (3) средний процент работников без информации об образовании. Такая структура позволяет выявить общую тенденцию: чем крупнее компания, тем ниже доля сотрудников без данных об образовании.\n",
    "\n",
    "Дополнительно, для обогащения анализа, возможно технически присоединить к данным и таблицу degrees.csv, содержащую уровни образования сотрудников. Однако из-за большого числа пропусков использовать её стоит с осторожностью. \n",
    "    \n",
    "Проведённый анализ показал, что между размером компании и полнотой информации об образовании сотрудников действительно существует взаимосвязь. В небольших компаниях (до 10 человек) доля сотрудников без данных об образовании составляет около 46-52%, в то время как в более крупных компаниях (с числом сотрудников от 20 и выше) эта доля заметно снижается: до 28-34%. Это может быть связано с более формализованными процессами внутри зрелых компаний, где сбор и хранение информации о персонале ведётся системно. Таким образом, можно сделать вывод, что по мере увеличения размера компании полнота данных об образовании сотрудников повышается.\n",
    "\n",
    "</div>"
   ]
  },
  {
   "cell_type": "markdown",
   "metadata": {},
   "source": [
    "<div class=\"alert alert-block alert-danger\">\n",
    "<h2> Комментарий ревьюера ❌</h2>\n",
    "    \n",
    "В задании необходимо проанализировать как связаны полнота информации об образовании сотрудников с размером компании, поэтому нужно подвести итоги анализа по этой части и ответить на вопрос о связи размера компании и информации об образовании сотрудников.\n",
    "</div>"
   ]
  },
  {
   "cell_type": "markdown",
   "metadata": {},
   "source": [
    "<div class=\"alert alert-block alert-success\">\n",
    "<h2> Комментарий ревьюера v. 2 ✔️</h2>\n",
    "    \n",
    "Да, в крупных компаниях, как правило, более полная информация об образовании сотрудников. Это может быть связано с более строгими требованиями к образованию сотрудников или же в силу лучшей организации сбора и хранения персональных данных о сотрудниках.\n",
    "</div>"
   ]
  },
  {
   "cell_type": "markdown",
   "metadata": {
    "id": "Lz7qjM32xglW"
   },
   "source": [
    "### 2.3. Объединять или не объединять — вот в чём вопрос\n",
    "\n",
    "Некоторые названия столбцов встречаются в датасетах чаще других. В результате предварительной проверки датасетов было выяснено, что столбец `company_id` подходит для объединения данных.\n",
    "\n",
    "- Установите, подходит ли для объединения данных столбец `network_username`, который встречается в нескольких датасетах. Нам необходимо понимать, дублируется ли для разных датасетов информация в столбцах с таким названием, и если да — то насколько часто.\n",
    "- Оцените, можно ли использовать столбцы с именем `network_username` для объединения данных."
   ]
  },
  {
   "cell_type": "code",
   "execution_count": 18,
   "metadata": {
    "id": "zyI3rt0rxg1O"
   },
   "outputs": [
    {
     "data": {
      "text/html": [
       "<div>\n",
       "<style scoped>\n",
       "    .dataframe tbody tr th:only-of-type {\n",
       "        vertical-align: middle;\n",
       "    }\n",
       "\n",
       "    .dataframe tbody tr th {\n",
       "        vertical-align: top;\n",
       "    }\n",
       "\n",
       "    .dataframe thead th {\n",
       "        text-align: right;\n",
       "    }\n",
       "</style>\n",
       "<table border=\"1\" class=\"dataframe\">\n",
       "  <thead>\n",
       "    <tr style=\"text-align: right;\">\n",
       "      <th></th>\n",
       "      <th>table</th>\n",
       "      <th>total_cnt</th>\n",
       "      <th>unique_cny</th>\n",
       "      <th>duplicartes</th>\n",
       "      <th>duplicartes_share (%)</th>\n",
       "    </tr>\n",
       "  </thead>\n",
       "  <tbody>\n",
       "    <tr>\n",
       "      <th>0</th>\n",
       "      <td>company_and_rounds</td>\n",
       "      <td>95534</td>\n",
       "      <td>79571</td>\n",
       "      <td>15963</td>\n",
       "      <td>16.71</td>\n",
       "    </tr>\n",
       "    <tr>\n",
       "      <th>1</th>\n",
       "      <td>people</td>\n",
       "      <td>38867</td>\n",
       "      <td>38421</td>\n",
       "      <td>446</td>\n",
       "      <td>1.15</td>\n",
       "    </tr>\n",
       "  </tbody>\n",
       "</table>\n",
       "</div>"
      ],
      "text/plain": [
       "                table  total_cnt  unique_cny  duplicartes  \\\n",
       "0  company_and_rounds      95534       79571        15963   \n",
       "1              people      38867       38421          446   \n",
       "\n",
       "   duplicartes_share (%)  \n",
       "0                  16.71  \n",
       "1                   1.15  "
      ]
     },
     "metadata": {},
     "output_type": "display_data"
    }
   ],
   "source": [
    "network_info = {}\n",
    "\n",
    "for name in dfs:\n",
    "    df = dfs[name]\n",
    "\n",
    "    if \"network_username\" in df.columns:\n",
    "        total = df[\"network_username\"].count()\n",
    "        unique = df[\"network_username\"].nunique()\n",
    "        duplicates = total - unique\n",
    "        if total > 0:\n",
    "            percent = round(duplicates / total * 100, 2)\n",
    "        else:\n",
    "            percent = 0\n",
    "\n",
    "        # Помещаем данные в словарь\n",
    "        network_info[name] = {\n",
    "            \"total_cnt\": total,\n",
    "            \"unique_cny\": unique,\n",
    "            \"duplicartes\": duplicates,\n",
    "            \"duplicartes_share (%)\": percent\n",
    "        }\n",
    "\n",
    "network_result = pd.DataFrame.from_dict(network_info, orient=\"index\")\n",
    "network_result = network_result.reset_index().rename(columns={\"index\": \"table\"})\n",
    "\n",
    "display(network_result)\n"
   ]
  },
  {
   "cell_type": "markdown",
   "metadata": {
    "id": "RxOS5rwmFcNW"
   },
   "source": [
    "#### Анализ столбца network_username\n",
    "\n",
    "- Столбец network_username присутствует в двух датасетах:\n",
    "    - company_and_rounds - 95534 значений, из них 79571 уникальны (16.71% дублируются).\n",
    "    - people - 38867 значений, из них 38421 уникальны (1.15% дублируются).\n",
    "    \n",
    "- В таблице people столбец network_username почти уникален, соответственно можно идентифицировать сотрудников.\n",
    "- В таблице company_and_rounds есть дубли, поэтому объединение с этой таблицей нужно делать аккуратно.\n",
    "\n",
    "- Использовать столбец network_username для объединения датасетов технически возможно, но из-за (1) дубликатов в company_and_rounds (2) неоднозначности в интерпретации - **нецелесообразно**. \n",
    "\n",
    "- Для объединения лучше использовать company_id и person_id"
   ]
  },
  {
   "cell_type": "markdown",
   "metadata": {},
   "source": [
    "<div class=\"alert alert-block alert-success\">\n",
    "<h2> Комментарий ревьюера ✔️</h2>\n",
    "    \n",
    "Да, Ты верно определил, что данные нельзя в данном случае объединять, так как результат может получиться некорректным (слишком много пропусков, дубликатов и т. д.). \n",
    "    \n",
    "Здесь можно воспользоваться свойством множества содержать только уникальные элементы  для того, чтобы проверить общие значения по столбцам.\n",
    "</div>"
   ]
  },
  {
   "cell_type": "markdown",
   "metadata": {
    "id": "EHcODomVrJg1"
   },
   "source": [
    "\n",
    "### 2.4. Проблемный датасет и причина возникновения пропусков\n",
    "\n",
    "Во время собственного анализа данных у заказчика больше всего вопросов возникло к датасету `company_and_rounds.csv`. В нём много пропусков как раз в информации о раундах, которая заказчику важна.\n",
    "\n",
    "- Любым удобным способом приведите данные в вид, который позволит в дальнейшем проводить анализ в разрезе отдельных компаний. Обратите внимание на структуру датасета, порядок и названия столбцов, проанализируйте значения.\n",
    "\n",
    "По гипотезе заказчика данные по компаниям из этой таблицы раньше хранились иначе, более удобным для исследования образом.\n",
    "\n",
    "- Максимальным образом сохраняя данные, сохранив их связность и исключив возможные возникающие при этом ошибки, подготовьте данные так, чтобы удобно было отобрать компании по параметрам и рассчитать показатели из расчёта на одну компанию без промежуточных агрегаций."
   ]
  },
  {
   "cell_type": "code",
   "execution_count": 19,
   "metadata": {
    "id": "oSk7xqu_FbaN"
   },
   "outputs": [],
   "source": [
    "# Разделяем датасет company_and_rounds на две df_company_info и df_rounds_info\n",
    "\n",
    "df = dfs[\"company_and_rounds\"]\n",
    "\n",
    "# Убираем дубликаты для информации о компании\n",
    "company_cols = [\n",
    "    \"company_main_id\", \"name\", \"status\", \"category_code\", \"country_code\", \"founded_at\", \"closed_at\",\n",
    "    \"funding_total\", \"investment_rounds\", \"funding_rounds\", \"milestones\", \"domain\", \"network_username\"\n",
    "]\n",
    "df_company_info = df[company_cols].drop_duplicates(subset=[\"company_main_id\"]).reset_index(drop=True)\n",
    "\n",
    "# Выделяем только строки, где есть данные о раундах\n",
    "rounds_cols = [\n",
    "    \"funding_round_id\", \"company_round_id\", \"funded_at\", \"funding_round_type\",\n",
    "    \"raised_amount\", \"pre_money_valuation\", \"participants\", \"is_first_round\", \"is_last_round\"\n",
    "]\n",
    "df_rounds_info = df[rounds_cols].dropna(subset=[\"funding_round_id\"]).reset_index(drop=True)"
   ]
  },
  {
   "cell_type": "markdown",
   "metadata": {},
   "source": [
    "<div class=\"alert alert-block alert-success\">\n",
    "<h2> Комментарий ревьюера ✔️</h2>\n",
    "    \n",
    "Да, данные нужно разделить на два датасета.\n",
    "</div>"
   ]
  },
  {
   "cell_type": "code",
   "execution_count": 20,
   "metadata": {
    "id": "9BY9lTUcFbJ-"
   },
   "outputs": [
    {
     "name": "stdout",
     "output_type": "stream",
     "text": [
      "<class 'pandas.core.frame.DataFrame'>\n",
      "RangeIndex: 196554 entries, 0 to 196553\n",
      "Data columns (total 13 columns):\n",
      " #   Column             Non-Null Count   Dtype         \n",
      "---  ------             --------------   -----         \n",
      " 0   company_main_id    196553 non-null  float64       \n",
      " 1   name               196553 non-null  object        \n",
      " 2   status             196553 non-null  object        \n",
      " 3   category_code      123186 non-null  object        \n",
      " 4   country_code       87990 non-null   object        \n",
      " 5   founded_at         91227 non-null   datetime64[ns]\n",
      " 6   closed_at          2620 non-null    datetime64[ns]\n",
      " 7   funding_total      196553 non-null  float64       \n",
      " 8   investment_rounds  196553 non-null  float64       \n",
      " 9   funding_rounds     196553 non-null  float64       \n",
      " 10  milestones         196553 non-null  float64       \n",
      " 11  domain             126545 non-null  object        \n",
      " 12  network_username   80591 non-null   object        \n",
      "dtypes: datetime64[ns](2), float64(5), object(6)\n",
      "memory usage: 19.5+ MB\n"
     ]
    }
   ],
   "source": [
    "df_company_info.info()"
   ]
  },
  {
   "cell_type": "code",
   "execution_count": 21,
   "metadata": {
    "id": "tJ6Sl6MKrJg1",
    "vscode": {
     "languageId": "plaintext"
    }
   },
   "outputs": [
    {
     "name": "stdout",
     "output_type": "stream",
     "text": [
      "<class 'pandas.core.frame.DataFrame'>\n",
      "RangeIndex: 52928 entries, 0 to 52927\n",
      "Data columns (total 9 columns):\n",
      " #   Column               Non-Null Count  Dtype         \n",
      "---  ------               --------------  -----         \n",
      " 0   funding_round_id     52928 non-null  float64       \n",
      " 1   company_round_id     52928 non-null  float64       \n",
      " 2   funded_at            52680 non-null  datetime64[ns]\n",
      " 3   funding_round_type   52928 non-null  object        \n",
      " 4   raised_amount        52928 non-null  float64       \n",
      " 5   pre_money_valuation  52928 non-null  float64       \n",
      " 6   participants         52928 non-null  float64       \n",
      " 7   is_first_round       52928 non-null  float64       \n",
      " 8   is_last_round        52928 non-null  float64       \n",
      "dtypes: datetime64[ns](1), float64(7), object(1)\n",
      "memory usage: 3.6+ MB\n"
     ]
    }
   ],
   "source": [
    "df_rounds_info.info()"
   ]
  },
  {
   "cell_type": "markdown",
   "metadata": {},
   "source": [
    "#### Анализ проблемного датасета \n",
    "\n",
    "- Датасет действительно настараживал с первого шага его анализа. По нему видно, что он был объединен. Признаком этого являлось одинаковое число пропусков в значениях, связанных с инвестиционной дейтельностью. Для дальнейшего анализа было принято решение разделить датасет на две таблицы:\n",
    "    - df_company_info - можно использовать для анализа на уровне компании.\n",
    "    - df_rounds_info - для анализа инвестиционных раундов и динамики привлечения средств. \n",
    "\n",
    "- Таким образом сохранив данные и их связность и исключив возможные возникающие при этом ошибки, для анализа были подготовлены таблицы (df_company_info и df_rounds_info) для отбора компаний по параметрам и расчета показателей из расчёта на одну компанию без промежуточных агрегаций и фильтров."
   ]
  },
  {
   "cell_type": "markdown",
   "metadata": {},
   "source": [
    "<div class=\"alert alert-block alert-success\">\n",
    "<h2> Комментарий ревьюера ✔️</h2>\n",
    "    \n",
    "Ты верно сделал вывод, что данные были получены путем объединения из двух источников, поэтому для дальнейшей работы с данными их нужно разделить.\n",
    "</div>"
   ]
  },
  {
   "cell_type": "markdown",
   "metadata": {
    "id": "bmVYhphNrJg2"
   },
   "source": [
    "\n",
    "## Шаг 3. Исследовательский анализ объединённых таблиц\n",
    "\n",
    "> Приступите к шагу 3 после проверки ревьюера.\n",
    "\n",
    "<big>Студентам нужно чётко сказать - проверять дальше или не проверять.</big>"
   ]
  },
  {
   "cell_type": "markdown",
   "metadata": {
    "id": "3Di6tCT3rJg2"
   },
   "source": [
    "\n",
    "### 3.1. Объединение данных\n",
    "\n",
    "Объедините данные для ответа на вопросы заказчика, которые касаются интересующих его компаний. Заказчика прежде всего интересуют те компании, которые меняли или готовы менять владельцев. Получение инвестиций или финансирования, по мнению заказчика, означает интерес к покупке или продаже компании.\n",
    "\n",
    "В качестве основы для объединённой таблицы возьмите данные из обработанного датасета `company_and_rounds.csv` — выберите только те компании, у которых указаны значения `funding_rounds` или `investment_rounds` больше нуля, или те, у которых в колонке `status` указано `acquired`. В результирующей таблице должно получиться порядка 40 тысяч компаний.\n",
    "\n",
    "Проверьте полноту и корректность получившейся таблицы. Далее работайте только с этими данными."
   ]
  },
  {
   "cell_type": "code",
   "execution_count": 22,
   "metadata": {
    "id": "kuV1b5MXFg3_"
   },
   "outputs": [
    {
     "name": "stdout",
     "output_type": "stream",
     "text": [
      "Отобрано компаний: 40,747\n"
     ]
    },
    {
     "data": {
      "text/html": [
       "<div>\n",
       "<style scoped>\n",
       "    .dataframe tbody tr th:only-of-type {\n",
       "        vertical-align: middle;\n",
       "    }\n",
       "\n",
       "    .dataframe tbody tr th {\n",
       "        vertical-align: top;\n",
       "    }\n",
       "\n",
       "    .dataframe thead th {\n",
       "        text-align: right;\n",
       "    }\n",
       "</style>\n",
       "<table border=\"1\" class=\"dataframe\">\n",
       "  <thead>\n",
       "    <tr style=\"text-align: right;\">\n",
       "      <th></th>\n",
       "      <th>company_main_id</th>\n",
       "      <th>name</th>\n",
       "      <th>category_code</th>\n",
       "      <th>status</th>\n",
       "      <th>founded_at</th>\n",
       "      <th>closed_at</th>\n",
       "      <th>domain</th>\n",
       "      <th>network_username</th>\n",
       "      <th>country_code</th>\n",
       "      <th>investment_rounds</th>\n",
       "      <th>...</th>\n",
       "      <th>milestones</th>\n",
       "      <th>funding_round_id</th>\n",
       "      <th>company_round_id</th>\n",
       "      <th>funded_at</th>\n",
       "      <th>funding_round_type</th>\n",
       "      <th>raised_amount</th>\n",
       "      <th>pre_money_valuation</th>\n",
       "      <th>participants</th>\n",
       "      <th>is_first_round</th>\n",
       "      <th>is_last_round</th>\n",
       "    </tr>\n",
       "  </thead>\n",
       "  <tbody>\n",
       "    <tr>\n",
       "      <th>0</th>\n",
       "      <td>1.0</td>\n",
       "      <td>Wetpaint</td>\n",
       "      <td>web</td>\n",
       "      <td>operating</td>\n",
       "      <td>2005-10-17</td>\n",
       "      <td>NaT</td>\n",
       "      <td>wetpaint-inc.com</td>\n",
       "      <td>BachelrWetpaint</td>\n",
       "      <td>USA</td>\n",
       "      <td>0.0</td>\n",
       "      <td>...</td>\n",
       "      <td>5.0</td>\n",
       "      <td>888.0</td>\n",
       "      <td>1.0</td>\n",
       "      <td>2005-10-01</td>\n",
       "      <td>series-a</td>\n",
       "      <td>5250000.0</td>\n",
       "      <td>0.0</td>\n",
       "      <td>2.0</td>\n",
       "      <td>0.0</td>\n",
       "      <td>1.0</td>\n",
       "    </tr>\n",
       "    <tr>\n",
       "      <th>1</th>\n",
       "      <td>10.0</td>\n",
       "      <td>Flektor</td>\n",
       "      <td>games_video</td>\n",
       "      <td>acquired</td>\n",
       "      <td>NaT</td>\n",
       "      <td>NaT</td>\n",
       "      <td>flektor.com</td>\n",
       "      <td>NaN</td>\n",
       "      <td>USA</td>\n",
       "      <td>0.0</td>\n",
       "      <td>...</td>\n",
       "      <td>0.0</td>\n",
       "      <td>NaN</td>\n",
       "      <td>NaN</td>\n",
       "      <td>NaT</td>\n",
       "      <td>NaN</td>\n",
       "      <td>NaN</td>\n",
       "      <td>NaN</td>\n",
       "      <td>NaN</td>\n",
       "      <td>NaN</td>\n",
       "      <td>NaN</td>\n",
       "    </tr>\n",
       "    <tr>\n",
       "      <th>2</th>\n",
       "      <td>100.0</td>\n",
       "      <td>There</td>\n",
       "      <td>games_video</td>\n",
       "      <td>acquired</td>\n",
       "      <td>NaT</td>\n",
       "      <td>NaT</td>\n",
       "      <td>there.com</td>\n",
       "      <td>NaN</td>\n",
       "      <td>USA</td>\n",
       "      <td>0.0</td>\n",
       "      <td>...</td>\n",
       "      <td>4.0</td>\n",
       "      <td>NaN</td>\n",
       "      <td>NaN</td>\n",
       "      <td>NaT</td>\n",
       "      <td>NaN</td>\n",
       "      <td>NaN</td>\n",
       "      <td>NaN</td>\n",
       "      <td>NaN</td>\n",
       "      <td>NaN</td>\n",
       "      <td>NaN</td>\n",
       "    </tr>\n",
       "    <tr>\n",
       "      <th>3</th>\n",
       "      <td>1001.0</td>\n",
       "      <td>FriendFeed</td>\n",
       "      <td>web</td>\n",
       "      <td>acquired</td>\n",
       "      <td>2007-10-01</td>\n",
       "      <td>NaT</td>\n",
       "      <td>friendfeed.com</td>\n",
       "      <td>friendfeed</td>\n",
       "      <td>USA</td>\n",
       "      <td>0.0</td>\n",
       "      <td>...</td>\n",
       "      <td>3.0</td>\n",
       "      <td>1644.0</td>\n",
       "      <td>1001.0</td>\n",
       "      <td>2008-02-26</td>\n",
       "      <td>series-a</td>\n",
       "      <td>5000000.0</td>\n",
       "      <td>0.0</td>\n",
       "      <td>3.0</td>\n",
       "      <td>1.0</td>\n",
       "      <td>1.0</td>\n",
       "    </tr>\n",
       "    <tr>\n",
       "      <th>4</th>\n",
       "      <td>10014.0</td>\n",
       "      <td>Mobclix</td>\n",
       "      <td>mobile</td>\n",
       "      <td>acquired</td>\n",
       "      <td>2008-03-01</td>\n",
       "      <td>NaT</td>\n",
       "      <td>mobclix.com</td>\n",
       "      <td>mobclix</td>\n",
       "      <td>USA</td>\n",
       "      <td>0.0</td>\n",
       "      <td>...</td>\n",
       "      <td>4.0</td>\n",
       "      <td>6682.0</td>\n",
       "      <td>10014.0</td>\n",
       "      <td>2008-09-01</td>\n",
       "      <td>angel</td>\n",
       "      <td>0.0</td>\n",
       "      <td>0.0</td>\n",
       "      <td>1.0</td>\n",
       "      <td>1.0</td>\n",
       "      <td>1.0</td>\n",
       "    </tr>\n",
       "  </tbody>\n",
       "</table>\n",
       "<p>5 rows × 22 columns</p>\n",
       "</div>"
      ],
      "text/plain": [
       "   company_main_id        name category_code     status founded_at closed_at  \\\n",
       "0              1.0    Wetpaint           web  operating 2005-10-17       NaT   \n",
       "1             10.0     Flektor   games_video   acquired        NaT       NaT   \n",
       "2            100.0       There   games_video   acquired        NaT       NaT   \n",
       "3           1001.0  FriendFeed           web   acquired 2007-10-01       NaT   \n",
       "4          10014.0     Mobclix        mobile   acquired 2008-03-01       NaT   \n",
       "\n",
       "             domain network_username country_code  investment_rounds  ...  \\\n",
       "0  wetpaint-inc.com  BachelrWetpaint          USA                0.0  ...   \n",
       "1       flektor.com              NaN          USA                0.0  ...   \n",
       "2         there.com              NaN          USA                0.0  ...   \n",
       "3    friendfeed.com       friendfeed          USA                0.0  ...   \n",
       "4       mobclix.com          mobclix          USA                0.0  ...   \n",
       "\n",
       "   milestones  funding_round_id  company_round_id  funded_at  \\\n",
       "0         5.0             888.0               1.0 2005-10-01   \n",
       "1         0.0               NaN               NaN        NaT   \n",
       "2         4.0               NaN               NaN        NaT   \n",
       "3         3.0            1644.0            1001.0 2008-02-26   \n",
       "4         4.0            6682.0           10014.0 2008-09-01   \n",
       "\n",
       "   funding_round_type raised_amount pre_money_valuation  participants  \\\n",
       "0            series-a     5250000.0                 0.0           2.0   \n",
       "1                 NaN           NaN                 NaN           NaN   \n",
       "2                 NaN           NaN                 NaN           NaN   \n",
       "3            series-a     5000000.0                 0.0           3.0   \n",
       "4               angel           0.0                 0.0           1.0   \n",
       "\n",
       "   is_first_round  is_last_round  \n",
       "0             0.0            1.0  \n",
       "1             NaN            NaN  \n",
       "2             NaN            NaN  \n",
       "3             1.0            1.0  \n",
       "4             1.0            1.0  \n",
       "\n",
       "[5 rows x 22 columns]"
      ]
     },
     "metadata": {},
     "output_type": "display_data"
    }
   ],
   "source": [
    "# Очищенный датасет\n",
    "df = dfs[\"company_and_rounds\"]\n",
    "\n",
    "# Условия отбора от заказчика:\n",
    "selected_companies = df[\n",
    "    ((df[\"funding_rounds\"] > 0) | (df[\"investment_rounds\"] > 0)) | # хотя бы один раунд инвестирования\n",
    "    (df[\"status\"] == \"acquired\") # ИЛИ статус \"acquired\"\n",
    "]\n",
    "\n",
    "selected_companies = selected_companies.drop_duplicates(subset=[\"company_main_id\"]).reset_index(drop=True)\n",
    "\n",
    "# Проверка\n",
    "print(f\"Отобрано компаний: {len(selected_companies):,}\")\n",
    "\n",
    "display(selected_companies.head())\n"
   ]
  },
  {
   "cell_type": "markdown",
   "metadata": {
    "id": "93v3fEX5FgtP"
   },
   "source": [
    "#### Отбор компаний по критериям от заказчика\n",
    "\n",
    "В результате применения фильтров было получено число компаний равное 40747 единиц."
   ]
  },
  {
   "cell_type": "markdown",
   "metadata": {},
   "source": [
    "<div class=\"alert alert-block alert-success\">\n",
    "<h2> Комментарий ревьюера v. 2 ✔️</h2>\n",
    "    \n",
    "Да, фильтрация данных выполнено верно и молодец, что рассчитал число компаний посел фильтрации. 👍👍👍\n",
    "</div>"
   ]
  },
  {
   "cell_type": "markdown",
   "metadata": {
    "id": "DFHINkV3rJg2"
   },
   "source": [
    "\n",
    "### 3.2. Анализ выбросов\n",
    "\n",
    "Заказчика интересует обычный для рассматриваемого периода размер средств, который предоставлялся компаниям.\n",
    "\n",
    "- По предобработанному столбцу `funding_total` графическим способом оцените, какой размер общего финансирования для одной компании будет типичным, а какой — выбивающимся.\n",
    "- В процессе расчёта значений обратите внимание, например, на показатели, возвращаемые методом `.describe()`, — объясните их. Применимы ли к таким данным обычные способы нахождения типичных значений?"
   ]
  },
  {
   "cell_type": "code",
   "execution_count": 23,
   "metadata": {
    "id": "8jm75fKXrJg2",
    "vscode": {
     "languageId": "plaintext"
    }
   },
   "outputs": [
    {
     "name": "stdout",
     "output_type": "stream",
     "text": [
      "Описательная статистика по funding_total:\n",
      "count    4.074700e+04\n",
      "mean     1.013561e+07\n",
      "std      5.646436e+07\n",
      "min      0.000000e+00\n",
      "25%      0.000000e+00\n",
      "50%      6.000000e+05\n",
      "75%      5.650650e+06\n",
      "max      5.700000e+09\n",
      "Name: funding_total, dtype: float64\n"
     ]
    }
   ],
   "source": [
    "# Работаем с ранее отобранными компаниями\n",
    "df_selected = selected_companies.copy()\n",
    "\n",
    "# Описательная статистика\n",
    "funding_stats = df_selected[\"funding_total\"].describe()\n",
    "print(\"Описательная статистика по funding_total:\")\n",
    "print(funding_stats)"
   ]
  },
  {
   "cell_type": "markdown",
   "metadata": {},
   "source": [
    "#### Анализ выбросов по величине раундов\n",
    "\n",
    "Половина компаний (медиана = **600 000 долл.**) получили менее 1 млн долл. - это и есть типичный уровень для большинства.\n",
    "\n",
    "Среднее (10.1 млн долл.) сильно выше медианы значит, распределение сильно скошено вправо, и его искажают единичные компании с огромным финансированием (до 5.7 млрд долл.). Поэтому среднее не является репрезентативной величиной на которую нужно ориентироваться заказчику.\n",
    "\n",
    "Стандартное отклонение в 56.5 млн долл. почти в 6 раз превышает среднее значение! Это также говорит о \"длинном правом хвосте\".\n",
    "\n",
    "25% компаний вообще не получали никакого финансирования (0 долл.)."
   ]
  },
  {
   "cell_type": "markdown",
   "metadata": {},
   "source": [
    "<div class=\"alert alert-block alert-success\">\n",
    "<h2> Комментарий ревьюера v. 2 ✔️</h2>\n",
    "    \n",
    "Ты верно отметил, что среднее будет нерепрезентативной величиной и нужно использовать медиану.\n",
    "</div>"
   ]
  },
  {
   "cell_type": "markdown",
   "metadata": {
    "id": "JqkRAQrIrJg2"
   },
   "source": [
    "\n",
    "### 3.3. Куплены забесплатно?\n",
    "\n",
    "- Исследуйте компании, которые были проданы за ноль или за один доллар, и при этом известно, что у них был ненулевой общий объём финансирования.\n",
    "\n",
    "- Рассчитайте аналитически верхнюю и нижнюю границу выбросов для столбца `funding_total` и укажите, каким процентилям границы соответствуют."
   ]
  },
  {
   "cell_type": "code",
   "execution_count": 24,
   "metadata": {
    "id": "wJHXCBwwrJg2",
    "vscode": {
     "languageId": "plaintext"
    }
   },
   "outputs": [
    {
     "name": "stdout",
     "output_type": "stream",
     "text": [
      "Компаний, проданных за 0 или 1 доллар при наличии финансирования: 1618\n"
     ]
    },
    {
     "data": {
      "text/html": [
       "<div>\n",
       "<style scoped>\n",
       "    .dataframe tbody tr th:only-of-type {\n",
       "        vertical-align: middle;\n",
       "    }\n",
       "\n",
       "    .dataframe tbody tr th {\n",
       "        vertical-align: top;\n",
       "    }\n",
       "\n",
       "    .dataframe thead th {\n",
       "        text-align: right;\n",
       "    }\n",
       "</style>\n",
       "<table border=\"1\" class=\"dataframe\">\n",
       "  <thead>\n",
       "    <tr style=\"text-align: right;\">\n",
       "      <th></th>\n",
       "      <th>acquired_company_id</th>\n",
       "      <th>price_amount</th>\n",
       "      <th>funding_total</th>\n",
       "    </tr>\n",
       "  </thead>\n",
       "  <tbody>\n",
       "    <tr>\n",
       "      <th>7</th>\n",
       "      <td>314</td>\n",
       "      <td>0</td>\n",
       "      <td>100000.0</td>\n",
       "    </tr>\n",
       "    <tr>\n",
       "      <th>51</th>\n",
       "      <td>698</td>\n",
       "      <td>0</td>\n",
       "      <td>1000000.0</td>\n",
       "    </tr>\n",
       "    <tr>\n",
       "      <th>53</th>\n",
       "      <td>718</td>\n",
       "      <td>0</td>\n",
       "      <td>4000000.0</td>\n",
       "    </tr>\n",
       "    <tr>\n",
       "      <th>67</th>\n",
       "      <td>997</td>\n",
       "      <td>0</td>\n",
       "      <td>14500000.0</td>\n",
       "    </tr>\n",
       "    <tr>\n",
       "      <th>68</th>\n",
       "      <td>175</td>\n",
       "      <td>0</td>\n",
       "      <td>1250000.0</td>\n",
       "    </tr>\n",
       "  </tbody>\n",
       "</table>\n",
       "</div>"
      ],
      "text/plain": [
       "    acquired_company_id  price_amount  funding_total\n",
       "7                   314             0       100000.0\n",
       "51                  698             0      1000000.0\n",
       "53                  718             0      4000000.0\n",
       "67                  997             0     14500000.0\n",
       "68                  175             0      1250000.0"
      ]
     },
     "metadata": {},
     "output_type": "display_data"
    }
   ],
   "source": [
    "# Загружаем данные из таблицы о сделках\n",
    "df_acq = dfs[\"acquisition\"]\n",
    "\n",
    "# funding_total и company_id из отобранных компаний\n",
    "df_companies = selected_companies.copy()\n",
    "df_companies[\"company_main_id\"] = df_companies[\"company_main_id\"].astype(int)\n",
    "\n",
    "# Объединяем по ID купленных компаний\n",
    "merged = df_acq.merge(\n",
    "    df_companies[[\"company_main_id\", \"funding_total\"]],\n",
    "    left_on=\"acquired_company_id\",\n",
    "    right_on=\"company_main_id\",\n",
    "    how=\"inner\"\n",
    ")\n",
    "\n",
    "# Условия отбора от заказчика \n",
    "free_acquisitions = merged[\n",
    "    (merged[\"price_amount\"].isin([0, 1])) & # цена 0 или 1 \n",
    "    (merged[\"funding_total\"] > 0) # И есть ненулевое финансирование\n",
    "]\n",
    "\n",
    "print(f\"Компаний, проданных за 0 или 1 доллар при наличии финансирования: {len(free_acquisitions)}\")\n",
    "display(free_acquisitions[[\"acquired_company_id\", \"price_amount\", \"funding_total\"]].head())\n"
   ]
  },
  {
   "cell_type": "code",
   "execution_count": 25,
   "metadata": {
    "id": "9IDTHfYQFhuX"
   },
   "outputs": [
    {
     "name": "stdout",
     "output_type": "stream",
     "text": [
      "Нижняя граница выбросов: -8,475,975 долл.\n",
      "Верхняя граница выбросов: 14,126,625 долл.\n"
     ]
    }
   ],
   "source": [
    "# Рассчёт верхней и нижней границы выбросов для столбца funding_total (IQR по funding_total)\n",
    "q1 = df_companies[\"funding_total\"].quantile(0.25)\n",
    "q3 = df_companies[\"funding_total\"].quantile(0.75)\n",
    "iqr = q3 - q1\n",
    "\n",
    "lower_bound = q1 - 1.5 * iqr\n",
    "upper_bound = q3 + 1.5 * iqr\n",
    "\n",
    "print(f\"Нижняя граница выбросов: {lower_bound:,.0f} долл.\")\n",
    "print(f\"Верхняя граница выбросов: {upper_bound:,.0f} долл.\")"
   ]
  },
  {
   "cell_type": "code",
   "execution_count": 26,
   "metadata": {},
   "outputs": [
    {
     "name": "stdout",
     "output_type": "stream",
     "text": [
      "Доля компаний с финансированием ниже нижней границы: 0.00%\n",
      "Доля компаний с финансированием выше верхней границы: 14.38%\n"
     ]
    }
   ],
   "source": [
    "# Находим процентили для верхней и нижней границ выбросоы\n",
    "lower_percentile = (df_companies[\"funding_total\"] < lower_bound).mean() * 100\n",
    "upper_percentile = (df_companies[\"funding_total\"] > upper_bound).mean() * 100\n",
    "\n",
    "print(f\"Доля компаний с финансированием ниже нижней границы: {lower_percentile:.2f}%\")\n",
    "print(f\"Доля компаний с финансированием выше верхней границы: {upper_percentile:.2f}%\")"
   ]
  },
  {
   "cell_type": "markdown",
   "metadata": {},
   "source": [
    "<div class=\"alert alert-block alert-success\">\n",
    "<h2> Комментарий ревьюера v. 2 ✔️</h2>\n",
    "    \n",
    "Ты правильно используешь метод IQR для определения границ выбросов. Дополнительно можно использовать и другие методы для выявления выбросов, например, z-score (https://www.investopedia.com/terms/z/zscore.asp).\n",
    "</div>"
   ]
  },
  {
   "cell_type": "markdown",
   "metadata": {},
   "source": [
    "#### Куплены забесплатно?\n",
    "\n",
    "Для исследования компаний, которые были проданы за ноль или за один доллар понадобилось обратиться к таблице acquisition.csv, поскольку она содержит информацию о сумме сделки (price_amount) и факте покупки компании (acquired_company_id). Мы продолжаем использовать список компаний, полученный на предыдущем шаге, но дополняем его через объединение с таблицей сделок. Это позволяет изучить случаи, когда компании были проданы за символическую цену (0 или 1 доллар), несмотря на наличие привлечённого финансирования.\n",
    "\n",
    "Компаний, проданных за 0 или 1 доллар при наличии финансирования: 1618\n",
    "\n",
    "Нижняя граница выбросов = -8,475,975 долл., что является технической величиной по расчету через IQR и мы примем, что нижняя граница выбросов будет равна 0 долл. \n",
    "\n",
    "Около 14% компаний получили очень большое финансирование - больше чем 14.1 млн долл. (верхняя граница выбросов). Эти значения считаются выбросами по IQR, но не обязательно ошибками, скорее всего речь идет о крупных сделках, для которых требуется отдельный анализ. "
   ]
  },
  {
   "cell_type": "markdown",
   "metadata": {},
   "source": [
    "<div class=\"alert alert-block alert-success\">\n",
    "<h2> Комментарий ревьюера v. 2 ✔️</h2>\n",
    "    \n",
    "Суммы финансирования равные или близкие к нулю вполне могут быть в случае формальности продажи или для убыточных стартапов. \n",
    "    \n",
    "Аномально большие суммы могут предложить очень успешным стартапам с большими перспективами развития.\n",
    "</div>"
   ]
  },
  {
   "cell_type": "markdown",
   "metadata": {
    "id": "mEiWpROjrJg2"
   },
   "source": [
    "\n",
    "### 3.4. Цены стартапов по категориям\n",
    "\n",
    "Категории стартапов с типично высокими ценами покупки стартапов и значительным разбросом цен могут быть привлекательными для крупных инвесторов, которые готовы к высоким рискам ради потенциально больших доходов. Среди категорий стартапов выделите категории стартапов, характеризующиеся:\n",
    "\n",
    "- типично высокими ценами;\n",
    "- и наибольшим разбросом цен за стартап.\n",
    "\n",
    "Объясните, почему решили составить топ именно из такого числа категорий и почему рассчитывали именно так."
   ]
  },
  {
   "cell_type": "code",
   "execution_count": 27,
   "metadata": {
    "id": "jQ09dYUWrJg2",
    "vscode": {
     "languageId": "plaintext"
    }
   },
   "outputs": [
    {
     "data": {
      "text/html": [
       "<div>\n",
       "<style scoped>\n",
       "    .dataframe tbody tr th:only-of-type {\n",
       "        vertical-align: middle;\n",
       "    }\n",
       "\n",
       "    .dataframe tbody tr th {\n",
       "        vertical-align: top;\n",
       "    }\n",
       "\n",
       "    .dataframe thead th {\n",
       "        text-align: right;\n",
       "    }\n",
       "</style>\n",
       "<table border=\"1\" class=\"dataframe\">\n",
       "  <thead>\n",
       "    <tr style=\"text-align: right;\">\n",
       "      <th></th>\n",
       "      <th>category_code</th>\n",
       "      <th>median_price</th>\n",
       "      <th>std_price</th>\n",
       "      <th>count</th>\n",
       "    </tr>\n",
       "  </thead>\n",
       "  <tbody>\n",
       "    <tr>\n",
       "      <th>0</th>\n",
       "      <td>advertising</td>\n",
       "      <td>0</td>\n",
       "      <td>2.425847e+08</td>\n",
       "      <td>472</td>\n",
       "    </tr>\n",
       "    <tr>\n",
       "      <th>1</th>\n",
       "      <td>analytics</td>\n",
       "      <td>0</td>\n",
       "      <td>7.510765e+07</td>\n",
       "      <td>83</td>\n",
       "    </tr>\n",
       "    <tr>\n",
       "      <th>2</th>\n",
       "      <td>automotive</td>\n",
       "      <td>21500000</td>\n",
       "      <td>2.147833e+09</td>\n",
       "      <td>6</td>\n",
       "    </tr>\n",
       "    <tr>\n",
       "      <th>3</th>\n",
       "      <td>biotech</td>\n",
       "      <td>17600000</td>\n",
       "      <td>1.336462e+09</td>\n",
       "      <td>615</td>\n",
       "    </tr>\n",
       "    <tr>\n",
       "      <th>4</th>\n",
       "      <td>cleantech</td>\n",
       "      <td>0</td>\n",
       "      <td>4.427023e+08</td>\n",
       "      <td>197</td>\n",
       "    </tr>\n",
       "    <tr>\n",
       "      <th>5</th>\n",
       "      <td>consulting</td>\n",
       "      <td>0</td>\n",
       "      <td>4.849463e+08</td>\n",
       "      <td>148</td>\n",
       "    </tr>\n",
       "    <tr>\n",
       "      <th>6</th>\n",
       "      <td>design</td>\n",
       "      <td>0</td>\n",
       "      <td>0.000000e+00</td>\n",
       "      <td>7</td>\n",
       "    </tr>\n",
       "    <tr>\n",
       "      <th>7</th>\n",
       "      <td>ecommerce</td>\n",
       "      <td>0</td>\n",
       "      <td>1.526765e+08</td>\n",
       "      <td>334</td>\n",
       "    </tr>\n",
       "    <tr>\n",
       "      <th>8</th>\n",
       "      <td>education</td>\n",
       "      <td>0</td>\n",
       "      <td>1.062907e+08</td>\n",
       "      <td>46</td>\n",
       "    </tr>\n",
       "    <tr>\n",
       "      <th>9</th>\n",
       "      <td>enterprise</td>\n",
       "      <td>0</td>\n",
       "      <td>1.041635e+11</td>\n",
       "      <td>623</td>\n",
       "    </tr>\n",
       "    <tr>\n",
       "      <th>10</th>\n",
       "      <td>fashion</td>\n",
       "      <td>0</td>\n",
       "      <td>9.543342e+07</td>\n",
       "      <td>18</td>\n",
       "    </tr>\n",
       "    <tr>\n",
       "      <th>11</th>\n",
       "      <td>finance</td>\n",
       "      <td>1200000</td>\n",
       "      <td>7.001870e+08</td>\n",
       "      <td>66</td>\n",
       "    </tr>\n",
       "    <tr>\n",
       "      <th>12</th>\n",
       "      <td>games_video</td>\n",
       "      <td>0</td>\n",
       "      <td>6.536824e+08</td>\n",
       "      <td>479</td>\n",
       "    </tr>\n",
       "    <tr>\n",
       "      <th>13</th>\n",
       "      <td>hardware</td>\n",
       "      <td>0</td>\n",
       "      <td>3.879186e+08</td>\n",
       "      <td>253</td>\n",
       "    </tr>\n",
       "    <tr>\n",
       "      <th>14</th>\n",
       "      <td>health</td>\n",
       "      <td>0</td>\n",
       "      <td>9.875820e+08</td>\n",
       "      <td>44</td>\n",
       "    </tr>\n",
       "    <tr>\n",
       "      <th>15</th>\n",
       "      <td>hospitality</td>\n",
       "      <td>10000000</td>\n",
       "      <td>5.650650e+08</td>\n",
       "      <td>15</td>\n",
       "    </tr>\n",
       "    <tr>\n",
       "      <th>16</th>\n",
       "      <td>legal</td>\n",
       "      <td>0</td>\n",
       "      <td>0.000000e+00</td>\n",
       "      <td>6</td>\n",
       "    </tr>\n",
       "    <tr>\n",
       "      <th>17</th>\n",
       "      <td>local</td>\n",
       "      <td>0</td>\n",
       "      <td>9.318549e+06</td>\n",
       "      <td>3</td>\n",
       "    </tr>\n",
       "    <tr>\n",
       "      <th>18</th>\n",
       "      <td>manufacturing</td>\n",
       "      <td>40000000</td>\n",
       "      <td>9.479800e+08</td>\n",
       "      <td>31</td>\n",
       "    </tr>\n",
       "    <tr>\n",
       "      <th>19</th>\n",
       "      <td>medical</td>\n",
       "      <td>0</td>\n",
       "      <td>9.655303e+07</td>\n",
       "      <td>28</td>\n",
       "    </tr>\n",
       "    <tr>\n",
       "      <th>20</th>\n",
       "      <td>messaging</td>\n",
       "      <td>0</td>\n",
       "      <td>5.416987e+07</td>\n",
       "      <td>51</td>\n",
       "    </tr>\n",
       "    <tr>\n",
       "      <th>21</th>\n",
       "      <td>mobile</td>\n",
       "      <td>0</td>\n",
       "      <td>5.778965e+08</td>\n",
       "      <td>652</td>\n",
       "    </tr>\n",
       "    <tr>\n",
       "      <th>22</th>\n",
       "      <td>music</td>\n",
       "      <td>0</td>\n",
       "      <td>4.944956e+07</td>\n",
       "      <td>32</td>\n",
       "    </tr>\n",
       "    <tr>\n",
       "      <th>23</th>\n",
       "      <td>nanotech</td>\n",
       "      <td>584000000</td>\n",
       "      <td>NaN</td>\n",
       "      <td>1</td>\n",
       "    </tr>\n",
       "    <tr>\n",
       "      <th>24</th>\n",
       "      <td>network_hosting</td>\n",
       "      <td>0</td>\n",
       "      <td>4.766134e+08</td>\n",
       "      <td>297</td>\n",
       "    </tr>\n",
       "    <tr>\n",
       "      <th>25</th>\n",
       "      <td>news</td>\n",
       "      <td>0</td>\n",
       "      <td>9.797330e+07</td>\n",
       "      <td>52</td>\n",
       "    </tr>\n",
       "    <tr>\n",
       "      <th>26</th>\n",
       "      <td>nonprofit</td>\n",
       "      <td>0</td>\n",
       "      <td>NaN</td>\n",
       "      <td>1</td>\n",
       "    </tr>\n",
       "    <tr>\n",
       "      <th>27</th>\n",
       "      <td>other</td>\n",
       "      <td>0</td>\n",
       "      <td>1.058850e+09</td>\n",
       "      <td>331</td>\n",
       "    </tr>\n",
       "    <tr>\n",
       "      <th>28</th>\n",
       "      <td>photo_video</td>\n",
       "      <td>40000000</td>\n",
       "      <td>3.390903e+08</td>\n",
       "      <td>23</td>\n",
       "    </tr>\n",
       "    <tr>\n",
       "      <th>29</th>\n",
       "      <td>public_relations</td>\n",
       "      <td>0</td>\n",
       "      <td>3.802536e+09</td>\n",
       "      <td>250</td>\n",
       "    </tr>\n",
       "    <tr>\n",
       "      <th>30</th>\n",
       "      <td>real_estate</td>\n",
       "      <td>40000000</td>\n",
       "      <td>2.129788e+09</td>\n",
       "      <td>10</td>\n",
       "    </tr>\n",
       "    <tr>\n",
       "      <th>31</th>\n",
       "      <td>search</td>\n",
       "      <td>0</td>\n",
       "      <td>1.703660e+08</td>\n",
       "      <td>95</td>\n",
       "    </tr>\n",
       "    <tr>\n",
       "      <th>32</th>\n",
       "      <td>security</td>\n",
       "      <td>0</td>\n",
       "      <td>6.701647e+08</td>\n",
       "      <td>173</td>\n",
       "    </tr>\n",
       "    <tr>\n",
       "      <th>33</th>\n",
       "      <td>semiconductor</td>\n",
       "      <td>0</td>\n",
       "      <td>6.583360e+08</td>\n",
       "      <td>226</td>\n",
       "    </tr>\n",
       "    <tr>\n",
       "      <th>34</th>\n",
       "      <td>social</td>\n",
       "      <td>0</td>\n",
       "      <td>4.509382e+07</td>\n",
       "      <td>65</td>\n",
       "    </tr>\n",
       "    <tr>\n",
       "      <th>35</th>\n",
       "      <td>software</td>\n",
       "      <td>0</td>\n",
       "      <td>7.291748e+08</td>\n",
       "      <td>1838</td>\n",
       "    </tr>\n",
       "    <tr>\n",
       "      <th>36</th>\n",
       "      <td>sports</td>\n",
       "      <td>0</td>\n",
       "      <td>3.688705e+08</td>\n",
       "      <td>7</td>\n",
       "    </tr>\n",
       "    <tr>\n",
       "      <th>37</th>\n",
       "      <td>transportation</td>\n",
       "      <td>0</td>\n",
       "      <td>4.755591e+08</td>\n",
       "      <td>13</td>\n",
       "    </tr>\n",
       "    <tr>\n",
       "      <th>38</th>\n",
       "      <td>travel</td>\n",
       "      <td>0</td>\n",
       "      <td>4.416692e+07</td>\n",
       "      <td>39</td>\n",
       "    </tr>\n",
       "    <tr>\n",
       "      <th>39</th>\n",
       "      <td>web</td>\n",
       "      <td>0</td>\n",
       "      <td>3.570974e+08</td>\n",
       "      <td>1264</td>\n",
       "    </tr>\n",
       "  </tbody>\n",
       "</table>\n",
       "</div>"
      ],
      "text/plain": [
       "       category_code  median_price     std_price  count\n",
       "0        advertising             0  2.425847e+08    472\n",
       "1          analytics             0  7.510765e+07     83\n",
       "2         automotive      21500000  2.147833e+09      6\n",
       "3            biotech      17600000  1.336462e+09    615\n",
       "4          cleantech             0  4.427023e+08    197\n",
       "5         consulting             0  4.849463e+08    148\n",
       "6             design             0  0.000000e+00      7\n",
       "7          ecommerce             0  1.526765e+08    334\n",
       "8          education             0  1.062907e+08     46\n",
       "9         enterprise             0  1.041635e+11    623\n",
       "10           fashion             0  9.543342e+07     18\n",
       "11           finance       1200000  7.001870e+08     66\n",
       "12       games_video             0  6.536824e+08    479\n",
       "13          hardware             0  3.879186e+08    253\n",
       "14            health             0  9.875820e+08     44\n",
       "15       hospitality      10000000  5.650650e+08     15\n",
       "16             legal             0  0.000000e+00      6\n",
       "17             local             0  9.318549e+06      3\n",
       "18     manufacturing      40000000  9.479800e+08     31\n",
       "19           medical             0  9.655303e+07     28\n",
       "20         messaging             0  5.416987e+07     51\n",
       "21            mobile             0  5.778965e+08    652\n",
       "22             music             0  4.944956e+07     32\n",
       "23          nanotech     584000000           NaN      1\n",
       "24   network_hosting             0  4.766134e+08    297\n",
       "25              news             0  9.797330e+07     52\n",
       "26         nonprofit             0           NaN      1\n",
       "27             other             0  1.058850e+09    331\n",
       "28       photo_video      40000000  3.390903e+08     23\n",
       "29  public_relations             0  3.802536e+09    250\n",
       "30       real_estate      40000000  2.129788e+09     10\n",
       "31            search             0  1.703660e+08     95\n",
       "32          security             0  6.701647e+08    173\n",
       "33     semiconductor             0  6.583360e+08    226\n",
       "34            social             0  4.509382e+07     65\n",
       "35          software             0  7.291748e+08   1838\n",
       "36            sports             0  3.688705e+08      7\n",
       "37    transportation             0  4.755591e+08     13\n",
       "38            travel             0  4.416692e+07     39\n",
       "39               web             0  3.570974e+08   1264"
      ]
     },
     "metadata": {},
     "output_type": "display_data"
    }
   ],
   "source": [
    "df_acq = dfs[\"acquisition\"].copy()\n",
    "df_companies = dfs[\"company_and_rounds\"].copy()\n",
    "\n",
    "df_acq[\"acquired_company_id\"] = df_acq[\"acquired_company_id\"].astype(\"Int64\")\n",
    "df_companies[\"company_main_id\"] = df_companies[\"company_main_id\"].astype(\"Int64\")\n",
    "\n",
    "# Объединение таблиц с категорией для покупки\n",
    "merged = df_acq.merge(\n",
    "    df_companies[[\"company_main_id\", \"category_code\"]],\n",
    "    left_on=\"acquired_company_id\",\n",
    "    right_on=\"company_main_id\",\n",
    "    how=\"left\"\n",
    ")\n",
    "\n",
    "# Фильтр на строки без цены или категории\n",
    "merged_filtered = merged[(merged[\"price_amount\"].notna()) & (merged[\"category_code\"].notna())]\n",
    "\n",
    "# Группировка по категориям\n",
    "category_stats = merged_filtered.groupby(\"category_code\")[\"price_amount\"].agg(\n",
    "    median_price=\"median\",\n",
    "    std_price=\"std\",\n",
    "    count=\"count\"\n",
    ").reset_index()\n",
    "\n",
    "display(category_stats)"
   ]
  },
  {
   "cell_type": "markdown",
   "metadata": {},
   "source": [
    "#### Цены стартапов по категориям ч.1\n",
    "\n",
    "Результат анализа стартапов с типично высокими ценами покупки стартапов и значительным разбросом цен показывает, что разрыв между категориями достаточно большой из-за небольшого числа сделок. Для сокращения числа отраслей, отвечающих запросу заказчика применим фильтр на число сделок. Сделаем число сделок не менее 10.\n",
    "\n"
   ]
  },
  {
   "cell_type": "code",
   "execution_count": 28,
   "metadata": {},
   "outputs": [
    {
     "data": {
      "text/html": [
       "<div>\n",
       "<style scoped>\n",
       "    .dataframe tbody tr th:only-of-type {\n",
       "        vertical-align: middle;\n",
       "    }\n",
       "\n",
       "    .dataframe tbody tr th {\n",
       "        vertical-align: top;\n",
       "    }\n",
       "\n",
       "    .dataframe thead th {\n",
       "        text-align: right;\n",
       "    }\n",
       "</style>\n",
       "<table border=\"1\" class=\"dataframe\">\n",
       "  <thead>\n",
       "    <tr style=\"text-align: right;\">\n",
       "      <th></th>\n",
       "      <th>category_code</th>\n",
       "      <th>median_price</th>\n",
       "      <th>std_price</th>\n",
       "      <th>count</th>\n",
       "    </tr>\n",
       "  </thead>\n",
       "  <tbody>\n",
       "    <tr>\n",
       "      <th>28</th>\n",
       "      <td>photo_video</td>\n",
       "      <td>40000000</td>\n",
       "      <td>3.390903e+08</td>\n",
       "      <td>23</td>\n",
       "    </tr>\n",
       "    <tr>\n",
       "      <th>18</th>\n",
       "      <td>manufacturing</td>\n",
       "      <td>40000000</td>\n",
       "      <td>9.479800e+08</td>\n",
       "      <td>31</td>\n",
       "    </tr>\n",
       "    <tr>\n",
       "      <th>30</th>\n",
       "      <td>real_estate</td>\n",
       "      <td>40000000</td>\n",
       "      <td>2.129788e+09</td>\n",
       "      <td>10</td>\n",
       "    </tr>\n",
       "    <tr>\n",
       "      <th>3</th>\n",
       "      <td>biotech</td>\n",
       "      <td>17600000</td>\n",
       "      <td>1.336462e+09</td>\n",
       "      <td>615</td>\n",
       "    </tr>\n",
       "    <tr>\n",
       "      <th>15</th>\n",
       "      <td>hospitality</td>\n",
       "      <td>10000000</td>\n",
       "      <td>5.650650e+08</td>\n",
       "      <td>15</td>\n",
       "    </tr>\n",
       "    <tr>\n",
       "      <th>11</th>\n",
       "      <td>finance</td>\n",
       "      <td>1200000</td>\n",
       "      <td>7.001870e+08</td>\n",
       "      <td>66</td>\n",
       "    </tr>\n",
       "    <tr>\n",
       "      <th>31</th>\n",
       "      <td>search</td>\n",
       "      <td>0</td>\n",
       "      <td>1.703660e+08</td>\n",
       "      <td>95</td>\n",
       "    </tr>\n",
       "    <tr>\n",
       "      <th>27</th>\n",
       "      <td>other</td>\n",
       "      <td>0</td>\n",
       "      <td>1.058850e+09</td>\n",
       "      <td>331</td>\n",
       "    </tr>\n",
       "    <tr>\n",
       "      <th>29</th>\n",
       "      <td>public_relations</td>\n",
       "      <td>0</td>\n",
       "      <td>3.802536e+09</td>\n",
       "      <td>250</td>\n",
       "    </tr>\n",
       "    <tr>\n",
       "      <th>0</th>\n",
       "      <td>advertising</td>\n",
       "      <td>0</td>\n",
       "      <td>2.425847e+08</td>\n",
       "      <td>472</td>\n",
       "    </tr>\n",
       "  </tbody>\n",
       "</table>\n",
       "</div>"
      ],
      "text/plain": [
       "       category_code  median_price     std_price  count\n",
       "28       photo_video      40000000  3.390903e+08     23\n",
       "18     manufacturing      40000000  9.479800e+08     31\n",
       "30       real_estate      40000000  2.129788e+09     10\n",
       "3            biotech      17600000  1.336462e+09    615\n",
       "15       hospitality      10000000  5.650650e+08     15\n",
       "11           finance       1200000  7.001870e+08     66\n",
       "31            search             0  1.703660e+08     95\n",
       "27             other             0  1.058850e+09    331\n",
       "29  public_relations             0  3.802536e+09    250\n",
       "0        advertising             0  2.425847e+08    472"
      ]
     },
     "metadata": {},
     "output_type": "display_data"
    },
    {
     "data": {
      "text/html": [
       "<div>\n",
       "<style scoped>\n",
       "    .dataframe tbody tr th:only-of-type {\n",
       "        vertical-align: middle;\n",
       "    }\n",
       "\n",
       "    .dataframe tbody tr th {\n",
       "        vertical-align: top;\n",
       "    }\n",
       "\n",
       "    .dataframe thead th {\n",
       "        text-align: right;\n",
       "    }\n",
       "</style>\n",
       "<table border=\"1\" class=\"dataframe\">\n",
       "  <thead>\n",
       "    <tr style=\"text-align: right;\">\n",
       "      <th></th>\n",
       "      <th>category_code</th>\n",
       "      <th>median_price</th>\n",
       "      <th>std_price</th>\n",
       "      <th>count</th>\n",
       "    </tr>\n",
       "  </thead>\n",
       "  <tbody>\n",
       "    <tr>\n",
       "      <th>9</th>\n",
       "      <td>enterprise</td>\n",
       "      <td>0</td>\n",
       "      <td>1.041635e+11</td>\n",
       "      <td>623</td>\n",
       "    </tr>\n",
       "    <tr>\n",
       "      <th>29</th>\n",
       "      <td>public_relations</td>\n",
       "      <td>0</td>\n",
       "      <td>3.802536e+09</td>\n",
       "      <td>250</td>\n",
       "    </tr>\n",
       "    <tr>\n",
       "      <th>30</th>\n",
       "      <td>real_estate</td>\n",
       "      <td>40000000</td>\n",
       "      <td>2.129788e+09</td>\n",
       "      <td>10</td>\n",
       "    </tr>\n",
       "    <tr>\n",
       "      <th>3</th>\n",
       "      <td>biotech</td>\n",
       "      <td>17600000</td>\n",
       "      <td>1.336462e+09</td>\n",
       "      <td>615</td>\n",
       "    </tr>\n",
       "    <tr>\n",
       "      <th>27</th>\n",
       "      <td>other</td>\n",
       "      <td>0</td>\n",
       "      <td>1.058850e+09</td>\n",
       "      <td>331</td>\n",
       "    </tr>\n",
       "    <tr>\n",
       "      <th>14</th>\n",
       "      <td>health</td>\n",
       "      <td>0</td>\n",
       "      <td>9.875820e+08</td>\n",
       "      <td>44</td>\n",
       "    </tr>\n",
       "    <tr>\n",
       "      <th>18</th>\n",
       "      <td>manufacturing</td>\n",
       "      <td>40000000</td>\n",
       "      <td>9.479800e+08</td>\n",
       "      <td>31</td>\n",
       "    </tr>\n",
       "    <tr>\n",
       "      <th>35</th>\n",
       "      <td>software</td>\n",
       "      <td>0</td>\n",
       "      <td>7.291748e+08</td>\n",
       "      <td>1838</td>\n",
       "    </tr>\n",
       "    <tr>\n",
       "      <th>11</th>\n",
       "      <td>finance</td>\n",
       "      <td>1200000</td>\n",
       "      <td>7.001870e+08</td>\n",
       "      <td>66</td>\n",
       "    </tr>\n",
       "    <tr>\n",
       "      <th>32</th>\n",
       "      <td>security</td>\n",
       "      <td>0</td>\n",
       "      <td>6.701647e+08</td>\n",
       "      <td>173</td>\n",
       "    </tr>\n",
       "  </tbody>\n",
       "</table>\n",
       "</div>"
      ],
      "text/plain": [
       "       category_code  median_price     std_price  count\n",
       "9         enterprise             0  1.041635e+11    623\n",
       "29  public_relations             0  3.802536e+09    250\n",
       "30       real_estate      40000000  2.129788e+09     10\n",
       "3            biotech      17600000  1.336462e+09    615\n",
       "27             other             0  1.058850e+09    331\n",
       "14            health             0  9.875820e+08     44\n",
       "18     manufacturing      40000000  9.479800e+08     31\n",
       "35          software             0  7.291748e+08   1838\n",
       "11           finance       1200000  7.001870e+08     66\n",
       "32          security             0  6.701647e+08    173"
      ]
     },
     "metadata": {},
     "output_type": "display_data"
    }
   ],
   "source": [
    "# Фильтруем только категории, в которых было хотя бы 10 приобретений\n",
    "category_stats = category_stats[category_stats[\"count\"] >= 10]\n",
    "\n",
    "# Сортируем по медиане цены и разбросу\n",
    "top_by_median = category_stats.sort_values(by=\"median_price\", ascending=False).head(10) # таблица 1\n",
    "top_by_std = category_stats.sort_values(by=\"std_price\", ascending=False).head(10) # таблица 2\n",
    "\n",
    "display(top_by_median)\n",
    "display(top_by_std)"
   ]
  },
  {
   "cell_type": "markdown",
   "metadata": {},
   "source": [
    "#### Цены стартапов по категориям ч.2\n",
    "\n",
    "В результате анализа категорий стартапов по двум критериям (1) типично высокой стоимости покупки (медианная цена) и (2) высокому разбросу цен (стандартное отклонение) были составлены две таблицы. \n",
    "\n",
    "Первая таблица отражает типично высокой стоимости покупки. В нее вошли такие трасли как: \"photo_video\" (40 млн долл.), \"manufacturing\" (40 млн долл.), \"real_estate\" (40 млн долл.), biotech (17,6 млн долл.), hospitality (10 млн долл.), finance (1,2 млн долл.). Стоит отметить, что у отраслей \"biotech\", \"finance\", \"manufacturing\" еще и значительное число сделок - 615, 66 и 31 соответственно. \n",
    "\n",
    "Вторая таблица включает в себя отрасли с наибольшей величиной стандартного отклонения. В топе такие индустрии как: enterprise (104 млрд долл.), public_relations (3,8 млрд долл.), real_estate (21, млрд долл.), biotech (1,3 млрд долл.), other (1,1 млрд долл.) и health (980 млн долл.). Более того, видно, что индустрии из первой таблицы (real_estate, biotech) появляются и во второй, что говорит о том, что они как минимум по трем параметрам (типично высоккя стоимости покупки, большая величина стандартного отклонения, число сделок) обгоняют другие отрасли.      "
   ]
  },
  {
   "cell_type": "markdown",
   "metadata": {},
   "source": [
    "<div class=\"alert alert-block alert-success\">\n",
    "<h2> Комментарий ревьюера v. 2 ✔️</h2>\n",
    "    \n",
    "Отлично, категории с наибольшим разбросом цен определены. Высокий разброс цен может говорить о том, что инвестировать в данную категорию стартапов рисковано, но с другой стороны в случае успешного выбора есть возможность получить более высокий доход чем в случае инвестирования в менее рискованную категорию стартапов.\n",
    "</div>"
   ]
  },
  {
   "cell_type": "markdown",
   "metadata": {
    "id": "ADOfyVY_rJg3"
   },
   "source": [
    "\n",
    "### 3.5. Сколько раундов продержится стартап перед покупкой\n",
    "\n",
    "- Необходимо проанализировать столбец `funding_rounds`. Исследуйте значения столбца. Заказчика интересует типичное значение количества раундов для каждого возможного статуса стартапа.\n",
    "- Постройте график, который отображает, сколько в среднем раундов финансирования проходило для стартапов из каждой группы. Сделайте выводы."
   ]
  },
  {
   "cell_type": "code",
   "execution_count": 29,
   "metadata": {
    "id": "hgXMPC4WrJg3",
    "vscode": {
     "languageId": "plaintext"
    }
   },
   "outputs": [
    {
     "data": {
      "text/html": [
       "<div>\n",
       "<style scoped>\n",
       "    .dataframe tbody tr th:only-of-type {\n",
       "        vertical-align: middle;\n",
       "    }\n",
       "\n",
       "    .dataframe tbody tr th {\n",
       "        vertical-align: top;\n",
       "    }\n",
       "\n",
       "    .dataframe thead th {\n",
       "        text-align: right;\n",
       "    }\n",
       "</style>\n",
       "<table border=\"1\" class=\"dataframe\">\n",
       "  <thead>\n",
       "    <tr style=\"text-align: right;\">\n",
       "      <th></th>\n",
       "      <th>status</th>\n",
       "      <th>median_rounds</th>\n",
       "      <th>avg_rounds</th>\n",
       "      <th>count</th>\n",
       "    </tr>\n",
       "  </thead>\n",
       "  <tbody>\n",
       "    <tr>\n",
       "      <th>1</th>\n",
       "      <td>closed</td>\n",
       "      <td>1.0</td>\n",
       "      <td>1.118421</td>\n",
       "      <td>2584</td>\n",
       "    </tr>\n",
       "    <tr>\n",
       "      <th>0</th>\n",
       "      <td>acquired</td>\n",
       "      <td>0.0</td>\n",
       "      <td>0.523526</td>\n",
       "      <td>9394</td>\n",
       "    </tr>\n",
       "    <tr>\n",
       "      <th>2</th>\n",
       "      <td>ipo</td>\n",
       "      <td>0.0</td>\n",
       "      <td>1.091711</td>\n",
       "      <td>1134</td>\n",
       "    </tr>\n",
       "    <tr>\n",
       "      <th>3</th>\n",
       "      <td>operating</td>\n",
       "      <td>0.0</td>\n",
       "      <td>0.237570</td>\n",
       "      <td>183441</td>\n",
       "    </tr>\n",
       "  </tbody>\n",
       "</table>\n",
       "</div>"
      ],
      "text/plain": [
       "      status  median_rounds  avg_rounds   count\n",
       "1     closed            1.0    1.118421    2584\n",
       "0   acquired            0.0    0.523526    9394\n",
       "2        ipo            0.0    1.091711    1134\n",
       "3  operating            0.0    0.237570  183441"
      ]
     },
     "metadata": {},
     "output_type": "display_data"
    }
   ],
   "source": [
    "df_companies = df_company_info.copy()\n",
    "\n",
    "# Оставляем только строки, где известен статус и количество раундов\n",
    "df_status_rounds = df_companies[[\"status\", \"funding_rounds\"]].dropna()\n",
    "\n",
    "# Медиана и среднее по каждому статусу\n",
    "status_stats = df_status_rounds.groupby(\"status\")[\"funding_rounds\"].agg(\n",
    "    median_rounds=\"median\",\n",
    "    avg_rounds=\"mean\",\n",
    "    count=\"count\"\n",
    ").reset_index().sort_values(by=\"median_rounds\", ascending=False)\n",
    "\n",
    "display(status_stats)"
   ]
  },
  {
   "cell_type": "code",
   "execution_count": 30,
   "metadata": {},
   "outputs": [
    {
     "data": {
      "image/png": "[encoded data removed]",
      "text/plain": [
       "<Figure size 720x432 with 1 Axes>"
      ]
     },
     "metadata": {
      "needs_background": "light"
     },
     "output_type": "display_data"
    }
   ],
   "source": [
    "plt.figure(figsize=(10, 6))\n",
    "sns.barplot(\n",
    "    data=status_stats,\n",
    "    x=\"avg_rounds\",\n",
    "    y=\"status\",\n",
    "    palette=\"Blues_d\"\n",
    ")\n",
    "\n",
    "plt.xlabel(\"Среднее количество раундов\")\n",
    "plt.ylabel(\"Статус компании\")\n",
    "plt.title(\"Среднее число раундов финансирования по статусу стартапов\")\n",
    "plt.grid(True)\n",
    "plt.tight_layout()\n",
    "plt.show()"
   ]
  },
  {
   "cell_type": "markdown",
   "metadata": {
    "id": "pV3e7kw5Fj1Y"
   },
   "source": [
    "#### Анализ раундов стартапа перед покупкой\n",
    "\n",
    "Закрытые компании в среднем проходили 1-2 раунда, что может говорить о недостаточном финансировании перед закрытием.\n",
    "\n",
    "Приобретённые стартапы имели медиану 0 - вероятно, часть из них были куплены на ранней стадии или без привлечения венчурного капитала. Среднее чуть выше - 0.52.\n",
    "\n",
    "IPO-компании тоже имеют медиану 0, но среднее почти 1.1 - значит, некоторые прошли гораздо больше раундов (влияют выбросы).\n",
    "\n",
    "Оперирующие стартапы пока имеют самое низкое среднее число раундов - всего 0.24, что логично: не все из них уже начали привлекать инвестиции."
   ]
  },
  {
   "cell_type": "markdown",
   "metadata": {},
   "source": [
    "<div class=\"alert alert-block alert-success\">\n",
    "<h2> Комментарий ревьюера v. 2 ✔️</h2>\n",
    "    \n",
    "До стадии IPO доходят только самые успешные стартапы и соответственно число раундов финансирования, как правило, больше чем у остальных стадий развития стартапов.\n",
    "</div>"
   ]
  },
  {
   "cell_type": "markdown",
   "metadata": {
    "id": "VAFEZ2HBrJg3"
   },
   "source": [
    "\n",
    "## Шаг 4. Итоговый вывод и рекомендации\n",
    "\n",
    "Опишите, что было сделано в проекте, какие были сделаны выводы, подкрепляют ли они друг друга или заставляют сомневаться в полученных результатах."
   ]
  },
  {
   "cell_type": "markdown",
   "metadata": {},
   "source": [
    "В рамках проекта был проведён комплексный анализ данных стартапов, включающий информацию о компаниях, инвестиционных раундах, сделках по приобретению, сотрудниках и их образовании. Работа охватывала весь аналитический цикл: от первичной предобработки данных и анализа пропусков до исследования закономерностей и выработки бизнес-рекомендаций.\n",
    "\n",
    "- **Действия по анализу:**\n",
    "\n",
    "    - Загружены и очищены все предоставленные датасеты, выполнено единообразное переименование столбцов.\n",
    "\n",
    "    - Проведён анализ структуры таблицы company_and_rounds.csv - было выявлено, что она содержит два типа информации: о самих компаниях и об их инвестиционных раундах. Таблица была разделена на две логически обособленные части для последующего анализа.\n",
    "\n",
    "    - Проведён анализ пропусков и типов данных, заменены типы данных для даты/времени, устранены потенциальные дубликаты столбцов.\n",
    "\n",
    "    - Изучена динамика финансирования стартапов: построены графики, рассчитаны медианные суммы по годам и выявлены периоды с наибольшей активностью.\n",
    "\n",
    "    - Исследована связь между размером компании и полнотой данных об образовании сотрудников. Было установлено, что более крупные компании чаще предоставляют информацию о сотрудниках и их образовании.\n",
    "\n",
    "    - Проведена оценка выбросов по сумме привлечённого финансирования и стоимости сделок. Определены границы выбросов по методу IQR.\n",
    "\n",
    "    - Исследованы компании, проданные за символическую сумму (0 или 1 доллар) при наличии финансирования - таких компаний оказалось более 1600.\n",
    "\n",
    "    - Проанализированы отрасли с наиболее высокими медианами и разбросом цен покупки - определены потенциально интересные категории стартапов для крупных инвесторов.\n",
    "\n",
    "    - Рассчитано типичное число раундов финансирования для стартапов с разными статусами (operating, acquired, closed и т.д.).\n",
    "\n",
    "- **Выводы:**\n",
    "\n",
    "    - Большинство стартапов проходят не более одного-двух инвестиционных раундов; компании, вышедшие на IPO, в среднем привлекают больше инвестиций.\n",
    "\n",
    "    - Операционные компании часто не привлекали финансирования или находятся на ранней стадии развития (медиана раундов = 0).\n",
    "\n",
    "    - Полнота данных об образовании сотрудников напрямую зависит от размера компании - чем больше сотрудников, тем выше вероятность наличия информации.\n",
    "\n",
    "    - Столбец network_username непригоден для объединения таблиц из-за высокой неоднозначности и дублирования.\n",
    "\n",
    "    - Компании с аномально высокими инвестициями (>14 млн долл.) составляют ~14% - их следует изучать отдельно.\n",
    "\n",
    "    - Некоторые компании с финансированием были проданы фактически за бесплатно - это требует внимания, так как может указывать на неудачные проекты или M&A-стратегии выхода инвесторов.\n",
    "\n",
    "    - Наиболее перспективные категории с точки зрения инвестиций: biotech, manufacturing, real_estate, enterprise — они сочетают и высокие медианные значения, и большой разброс (высокий риск, высокий потенциал доходности).\n",
    "\n",
    "- **Рекомендации:**\n",
    "\n",
    "    - Фокусировать внимание на компаниях из категорий с высоким медианным уровнем покупки и большим числом сделок. Это указывает на реальный интерес со стороны инвесторов.\n",
    "\n",
    "    - При оценке стартапов ориентироваться на медианные значения, а не на средние так как распределения крайне скошены, средние значения некорректны.\n",
    "\n",
    "    - Продолжить сбор и систематизацию данных об образовании сотрудников - это важно для оценки человеческого капитала внутри команд.\n",
    "\n",
    "    - Для корректного объединения таблиц использовать столбцы company_id и person_id, избегать неоднозначных связей через network_username."
   ]
  },
  {
   "cell_type": "markdown",
   "metadata": {},
   "source": [
    "<div class=\"alert alert-block alert-success\">\n",
    "<h2> Комментарий ревьюера v. 2 ✔️</h2>\n",
    "\n",
    "Молодец, что подробно описал основные результаты проекта и подготовил отдельно рекомендации по инвестированию в стартапы. Как правило, заказчика в первую очередь по итогам проекта интересуют рекомендации по улучшению эффективности финансирования стартапов.\n",
    "    \n",
    "Здорово, что отметил необходимость дальнейшего сбора даннных.\n",
    "</div>"
   ]
  },
  {
   "cell_type": "code",
   "execution_count": null,
   "metadata": {},
   "outputs": [],
   "source": []
  }
 ],
 "metadata": {
  "ExecuteTimeLog": [
   {
    "duration": 2695,
    "start_time": "2025-03-21T10:39:29.346Z"
   },
   {
    "duration": 2070,
    "start_time": "2025-03-21T10:49:58.250Z"
   },
   {
    "duration": 95,
    "start_time": "2025-03-21T10:50:06.187Z"
   },
   {
    "duration": 11,
    "start_time": "2025-03-21T10:50:13.434Z"
   },
   {
    "duration": 40,
    "start_time": "2025-03-21T10:50:23.887Z"
   },
   {
    "duration": 20,
    "start_time": "2025-03-21T10:50:31.924Z"
   },
   {
    "duration": 24,
    "start_time": "2025-03-21T10:50:35.962Z"
   },
   {
    "duration": 1819,
    "start_time": "2025-03-21T10:51:10.439Z"
   },
   {
    "duration": 104,
    "start_time": "2025-03-21T10:51:12.260Z"
   },
   {
    "duration": 11,
    "start_time": "2025-03-21T10:51:12.366Z"
   },
   {
    "duration": 53,
    "start_time": "2025-03-21T10:51:12.379Z"
   },
   {
    "duration": 19,
    "start_time": "2025-03-21T10:51:12.487Z"
   },
   {
    "duration": 24,
    "start_time": "2025-03-21T10:51:15.884Z"
   },
   {
    "duration": 10,
    "start_time": "2025-03-21T11:04:25.697Z"
   },
   {
    "duration": 10,
    "start_time": "2025-03-21T11:11:07.368Z"
   },
   {
    "duration": 52,
    "start_time": "2025-03-21T11:47:18.704Z"
   },
   {
    "duration": 20,
    "start_time": "2025-03-21T11:58:04.785Z"
   },
   {
    "duration": 24,
    "start_time": "2025-03-21T12:01:02.965Z"
   },
   {
    "duration": 12,
    "start_time": "2025-03-21T12:20:05.498Z"
   },
   {
    "duration": 41,
    "start_time": "2025-03-21T12:20:06.221Z"
   },
   {
    "duration": 19,
    "start_time": "2025-03-21T12:20:06.986Z"
   },
   {
    "duration": 24,
    "start_time": "2025-03-21T12:20:07.817Z"
   },
   {
    "duration": 112,
    "start_time": "2025-03-21T12:21:41.684Z"
   },
   {
    "duration": 10,
    "start_time": "2025-03-21T12:22:11.569Z"
   },
   {
    "duration": 11,
    "start_time": "2025-03-21T12:22:50.790Z"
   },
   {
    "duration": 9,
    "start_time": "2025-03-21T12:23:19.719Z"
   },
   {
    "duration": 2669,
    "start_time": "2025-03-21T12:24:44.013Z"
   },
   {
    "duration": 1890,
    "start_time": "2025-03-21T12:27:13.097Z"
   },
   {
    "duration": 2132,
    "start_time": "2025-03-21T12:27:15.817Z"
   },
   {
    "duration": 23,
    "start_time": "2025-03-21T12:27:28.301Z"
   },
   {
    "duration": 2050,
    "start_time": "2025-03-21T12:27:30.551Z"
   },
   {
    "duration": 2080,
    "start_time": "2025-03-21T12:37:56.949Z"
   },
   {
    "duration": 2023,
    "start_time": "2025-03-21T12:38:04.038Z"
   },
   {
    "duration": 1957,
    "start_time": "2025-03-21T12:38:42.829Z"
   },
   {
    "duration": 2396,
    "start_time": "2025-03-21T12:53:19.380Z"
   },
   {
    "duration": 2348,
    "start_time": "2025-03-21T12:54:09.527Z"
   },
   {
    "duration": 2458,
    "start_time": "2025-03-21T12:57:49.837Z"
   },
   {
    "duration": 158,
    "start_time": "2025-03-21T13:03:03.607Z"
   },
   {
    "duration": 80,
    "start_time": "2025-03-21T13:21:21.111Z"
   },
   {
    "duration": 46,
    "start_time": "2025-03-21T13:21:42.082Z"
   },
   {
    "duration": 44,
    "start_time": "2025-03-21T13:22:15.585Z"
   },
   {
    "duration": 2111,
    "start_time": "2025-03-21T13:27:26.276Z"
   },
   {
    "duration": 101,
    "start_time": "2025-03-21T13:27:28.389Z"
   },
   {
    "duration": 10,
    "start_time": "2025-03-21T13:27:45.656Z"
   },
   {
    "duration": 45,
    "start_time": "2025-03-21T13:27:48.514Z"
   },
   {
    "duration": 1935,
    "start_time": "2025-03-21T14:16:10.321Z"
   },
   {
    "duration": 1323,
    "start_time": "2025-03-21T14:18:16.177Z"
   },
   {
    "duration": 1488,
    "start_time": "2025-03-21T14:18:56.663Z"
   },
   {
    "duration": 2270,
    "start_time": "2025-03-21T14:19:42.291Z"
   },
   {
    "duration": 172,
    "start_time": "2025-03-21T14:19:44.563Z"
   },
   {
    "duration": 9,
    "start_time": "2025-03-21T14:19:56.701Z"
   },
   {
    "duration": 33,
    "start_time": "2025-03-21T14:21:04.198Z"
   },
   {
    "duration": 48,
    "start_time": "2025-03-21T14:22:54.437Z"
   },
   {
    "duration": 447,
    "start_time": "2025-03-21T14:23:00.838Z"
   },
   {
    "duration": 381,
    "start_time": "2025-03-21T14:25:42.853Z"
   },
   {
    "duration": 369,
    "start_time": "2025-03-21T14:25:52.462Z"
   },
   {
    "duration": 367,
    "start_time": "2025-03-21T14:26:14.375Z"
   },
   {
    "duration": 167,
    "start_time": "2025-03-21T14:26:20.670Z"
   },
   {
    "duration": 403,
    "start_time": "2025-03-21T14:26:26.054Z"
   },
   {
    "duration": 330,
    "start_time": "2025-03-21T14:28:07.165Z"
   },
   {
    "duration": 326,
    "start_time": "2025-03-21T14:28:15.329Z"
   },
   {
    "duration": 31,
    "start_time": "2025-03-21T14:37:03.215Z"
   },
   {
    "duration": 685,
    "start_time": "2025-03-21T14:38:26.879Z"
   },
   {
    "duration": 127,
    "start_time": "2025-03-21T14:40:38.816Z"
   },
   {
    "duration": 128,
    "start_time": "2025-03-21T14:42:12.098Z"
   },
   {
    "duration": 32,
    "start_time": "2025-03-21T14:45:11.536Z"
   },
   {
    "duration": 32,
    "start_time": "2025-03-21T14:46:50.219Z"
   },
   {
    "duration": 142,
    "start_time": "2025-03-21T14:49:50.920Z"
   },
   {
    "duration": 32,
    "start_time": "2025-03-21T14:50:15.114Z"
   },
   {
    "duration": 132,
    "start_time": "2025-03-21T14:55:14.867Z"
   },
   {
    "duration": 631,
    "start_time": "2025-03-21T15:01:11.543Z"
   },
   {
    "duration": 676,
    "start_time": "2025-03-21T15:01:50.501Z"
   },
   {
    "duration": 642,
    "start_time": "2025-03-21T15:04:01.632Z"
   },
   {
    "duration": 757,
    "start_time": "2025-03-21T15:04:35.938Z"
   },
   {
    "duration": 692,
    "start_time": "2025-03-21T15:04:48.496Z"
   },
   {
    "duration": 577,
    "start_time": "2025-03-21T15:07:37.284Z"
   },
   {
    "duration": 632,
    "start_time": "2025-03-21T15:08:13.744Z"
   },
   {
    "duration": 637,
    "start_time": "2025-03-21T15:09:13.934Z"
   },
   {
    "duration": 129,
    "start_time": "2025-03-21T15:10:11.369Z"
   },
   {
    "duration": 662,
    "start_time": "2025-03-21T15:10:13.225Z"
   },
   {
    "duration": 132,
    "start_time": "2025-03-21T15:12:25.669Z"
   },
   {
    "duration": 643,
    "start_time": "2025-03-21T15:12:26.787Z"
   },
   {
    "duration": 39,
    "start_time": "2025-03-21T15:37:22.351Z"
   },
   {
    "duration": 130,
    "start_time": "2025-03-21T15:37:24.579Z"
   },
   {
    "duration": 623,
    "start_time": "2025-03-21T15:37:25.183Z"
   },
   {
    "duration": 772,
    "start_time": "2025-03-21T15:44:23.402Z"
   },
   {
    "duration": 12,
    "start_time": "2025-03-21T15:45:08.575Z"
   },
   {
    "duration": 26,
    "start_time": "2025-03-21T15:45:41.263Z"
   },
   {
    "duration": 1466,
    "start_time": "2025-03-21T15:45:57.280Z"
   },
   {
    "duration": 2250,
    "start_time": "2025-03-21T15:46:25.955Z"
   },
   {
    "duration": 173,
    "start_time": "2025-03-21T15:46:28.207Z"
   },
   {
    "duration": 37,
    "start_time": "2025-03-21T15:46:31.797Z"
   },
   {
    "duration": 137,
    "start_time": "2025-03-21T15:46:34.493Z"
   },
   {
    "duration": 632,
    "start_time": "2025-03-21T15:46:35.349Z"
   },
   {
    "duration": 1678,
    "start_time": "2025-03-21T15:46:37.224Z"
   },
   {
    "duration": 1450,
    "start_time": "2025-03-21T15:46:45.052Z"
   },
   {
    "duration": 40,
    "start_time": "2025-03-21T15:54:39.403Z"
   },
   {
    "duration": 2304,
    "start_time": "2025-03-21T15:54:58.094Z"
   },
   {
    "duration": 55,
    "start_time": "2025-03-21T15:55:09.150Z"
   },
   {
    "duration": 45,
    "start_time": "2025-03-21T15:55:18.836Z"
   },
   {
    "duration": 46,
    "start_time": "2025-03-21T15:56:39.565Z"
   },
   {
    "duration": 44,
    "start_time": "2025-03-21T15:57:04.235Z"
   },
   {
    "duration": 44,
    "start_time": "2025-03-21T15:57:16.505Z"
   },
   {
    "duration": 39,
    "start_time": "2025-03-21T15:57:37.199Z"
   },
   {
    "duration": 44,
    "start_time": "2025-03-21T15:58:26.061Z"
   },
   {
    "duration": 50,
    "start_time": "2025-03-21T15:58:36.204Z"
   },
   {
    "duration": 44,
    "start_time": "2025-03-21T15:59:24.826Z"
   },
   {
    "duration": 318,
    "start_time": "2025-03-21T15:59:26.540Z"
   },
   {
    "duration": 45,
    "start_time": "2025-03-21T16:01:04.639Z"
   },
   {
    "duration": 43,
    "start_time": "2025-03-21T16:06:47.862Z"
   },
   {
    "duration": 46,
    "start_time": "2025-03-21T16:07:11.956Z"
   },
   {
    "duration": 45,
    "start_time": "2025-03-21T16:09:01.244Z"
   },
   {
    "duration": 45,
    "start_time": "2025-03-21T16:20:47.917Z"
   },
   {
    "duration": 381,
    "start_time": "2025-03-21T16:20:57.596Z"
   },
   {
    "duration": 395,
    "start_time": "2025-03-21T16:21:39.860Z"
   },
   {
    "duration": 394,
    "start_time": "2025-03-21T16:22:13.490Z"
   },
   {
    "duration": 370,
    "start_time": "2025-03-21T16:23:17.632Z"
   },
   {
    "duration": 395,
    "start_time": "2025-03-21T16:23:31.293Z"
   },
   {
    "duration": 390,
    "start_time": "2025-03-21T16:23:48.778Z"
   },
   {
    "duration": 371,
    "start_time": "2025-03-21T16:23:56.414Z"
   },
   {
    "duration": 468,
    "start_time": "2025-03-21T16:24:03.528Z"
   },
   {
    "duration": 371,
    "start_time": "2025-03-21T16:24:46.415Z"
   },
   {
    "duration": 32,
    "start_time": "2025-03-21T16:26:08.033Z"
   },
   {
    "duration": 142,
    "start_time": "2025-03-21T16:26:09.231Z"
   },
   {
    "duration": 678,
    "start_time": "2025-03-21T16:26:10.309Z"
   },
   {
    "duration": 41,
    "start_time": "2025-03-21T16:26:12.490Z"
   },
   {
    "duration": 368,
    "start_time": "2025-03-21T16:26:14.511Z"
   },
   {
    "duration": 126,
    "start_time": "2025-03-21T16:27:30.355Z"
   },
   {
    "duration": 392,
    "start_time": "2025-03-21T16:27:36.807Z"
   },
   {
    "duration": 52,
    "start_time": "2025-03-21T16:37:19.823Z"
   },
   {
    "duration": 449,
    "start_time": "2025-03-21T16:42:37.359Z"
   },
   {
    "duration": 370,
    "start_time": "2025-03-21T16:43:04.992Z"
   },
   {
    "duration": 644,
    "start_time": "2025-03-21T16:43:23.848Z"
   },
   {
    "duration": 1697,
    "start_time": "2025-03-21T16:43:30.327Z"
   },
   {
    "duration": 946,
    "start_time": "2025-03-21T16:43:39.480Z"
   },
   {
    "duration": 1779,
    "start_time": "2025-03-21T16:43:49.742Z"
   },
   {
    "duration": 1698,
    "start_time": "2025-03-21T16:44:02.256Z"
   },
   {
    "duration": 1791,
    "start_time": "2025-03-21T16:44:15.117Z"
   },
   {
    "duration": 1730,
    "start_time": "2025-03-21T16:44:50.197Z"
   },
   {
    "duration": 1779,
    "start_time": "2025-03-21T16:45:19.920Z"
   },
   {
    "duration": 415,
    "start_time": "2025-03-21T16:49:17.483Z"
   },
   {
    "duration": 3024,
    "start_time": "2025-03-21T16:49:41.810Z"
   },
   {
    "duration": 6880,
    "start_time": "2025-03-21T16:49:55.802Z"
   },
   {
    "duration": 2169,
    "start_time": "2025-03-21T16:50:11.441Z"
   },
   {
    "duration": 135,
    "start_time": "2025-03-21T16:51:30.835Z"
   },
   {
    "duration": 1836,
    "start_time": "2025-03-21T16:53:09.829Z"
   },
   {
    "duration": 117,
    "start_time": "2025-03-21T17:03:58.540Z"
   },
   {
    "duration": 116,
    "start_time": "2025-03-21T17:04:36.739Z"
   },
   {
    "duration": 10,
    "start_time": "2025-03-21T17:08:04.678Z"
   },
   {
    "duration": 13,
    "start_time": "2025-03-21T17:10:28.249Z"
   },
   {
    "duration": 302,
    "start_time": "2025-03-21T17:11:02.385Z"
   },
   {
    "duration": 11,
    "start_time": "2025-03-21T17:11:09.264Z"
   },
   {
    "duration": 11,
    "start_time": "2025-03-21T17:12:21.926Z"
   },
   {
    "duration": 13,
    "start_time": "2025-03-21T17:13:49.065Z"
   },
   {
    "duration": 39,
    "start_time": "2025-03-21T17:19:28.263Z"
   },
   {
    "duration": 1832,
    "start_time": "2025-03-21T17:19:29.947Z"
   },
   {
    "duration": 127,
    "start_time": "2025-03-21T17:19:31.781Z"
   },
   {
    "duration": 21,
    "start_time": "2025-03-21T17:19:39.698Z"
   },
   {
    "duration": 14,
    "start_time": "2025-03-21T17:20:01.023Z"
   },
   {
    "duration": 20,
    "start_time": "2025-03-21T17:29:32.819Z"
   },
   {
    "duration": 13,
    "start_time": "2025-03-21T17:29:47.757Z"
   },
   {
    "duration": 27,
    "start_time": "2025-03-21T17:31:17.673Z"
   },
   {
    "duration": 25,
    "start_time": "2025-03-21T17:32:36.102Z"
   },
   {
    "duration": 36,
    "start_time": "2025-03-21T17:33:56.374Z"
   },
   {
    "duration": 25,
    "start_time": "2025-03-21T17:34:59.046Z"
   },
   {
    "duration": 25,
    "start_time": "2025-03-21T17:35:41.592Z"
   },
   {
    "duration": 29,
    "start_time": "2025-03-21T17:36:01.868Z"
   },
   {
    "duration": 27,
    "start_time": "2025-03-21T17:36:51.315Z"
   },
   {
    "duration": 29,
    "start_time": "2025-03-21T17:38:19.512Z"
   },
   {
    "duration": 28,
    "start_time": "2025-03-21T17:38:37.030Z"
   },
   {
    "duration": 48,
    "start_time": "2025-03-21T17:59:16.620Z"
   },
   {
    "duration": 1794,
    "start_time": "2025-03-21T17:59:18.485Z"
   },
   {
    "duration": 123,
    "start_time": "2025-03-21T17:59:20.281Z"
   },
   {
    "duration": 29,
    "start_time": "2025-03-21T17:59:24.026Z"
   },
   {
    "duration": 27,
    "start_time": "2025-03-21T17:59:58.902Z"
   },
   {
    "duration": 28,
    "start_time": "2025-03-21T18:00:00.892Z"
   },
   {
    "duration": 41,
    "start_time": "2025-03-21T18:00:16.226Z"
   },
   {
    "duration": 1785,
    "start_time": "2025-03-21T18:00:17.803Z"
   },
   {
    "duration": 128,
    "start_time": "2025-03-21T18:00:19.591Z"
   },
   {
    "duration": 28,
    "start_time": "2025-03-21T18:00:21.321Z"
   },
   {
    "duration": 69,
    "start_time": "2025-03-21T21:59:48.619Z"
   },
   {
    "duration": 72,
    "start_time": "2025-03-21T22:00:30.542Z"
   },
   {
    "duration": 69,
    "start_time": "2025-03-21T22:00:49.462Z"
   },
   {
    "duration": 79,
    "start_time": "2025-03-21T22:04:00.849Z"
   },
   {
    "duration": 69,
    "start_time": "2025-03-21T22:04:52.734Z"
   },
   {
    "duration": 68,
    "start_time": "2025-03-21T22:04:59.228Z"
   },
   {
    "duration": 68,
    "start_time": "2025-03-21T22:06:22.178Z"
   },
   {
    "duration": 86,
    "start_time": "2025-03-21T22:18:50.399Z"
   },
   {
    "duration": 71,
    "start_time": "2025-03-21T22:19:15.092Z"
   },
   {
    "duration": 60,
    "start_time": "2025-03-21T22:19:23.899Z"
   },
   {
    "duration": 12,
    "start_time": "2025-03-21T22:19:30.639Z"
   },
   {
    "duration": 85,
    "start_time": "2025-03-21T22:20:35.029Z"
   },
   {
    "duration": 59,
    "start_time": "2025-03-21T22:20:35.646Z"
   },
   {
    "duration": 12,
    "start_time": "2025-03-21T22:20:36.333Z"
   },
   {
    "duration": 2527,
    "start_time": "2025-03-21T22:31:10.815Z"
   },
   {
    "duration": 99,
    "start_time": "2025-03-21T22:31:13.343Z"
   },
   {
    "duration": 11,
    "start_time": "2025-03-21T22:31:16.078Z"
   },
   {
    "duration": 39,
    "start_time": "2025-03-21T22:31:18.163Z"
   },
   {
    "duration": 18,
    "start_time": "2025-03-21T22:31:19.811Z"
   },
   {
    "duration": 23,
    "start_time": "2025-03-21T22:31:21.122Z"
   },
   {
    "duration": 2359,
    "start_time": "2025-03-21T22:31:23.064Z"
   },
   {
    "duration": 167,
    "start_time": "2025-03-21T22:31:25.425Z"
   },
   {
    "duration": 34,
    "start_time": "2025-03-21T22:31:29.479Z"
   },
   {
    "duration": 132,
    "start_time": "2025-03-21T22:31:31.122Z"
   },
   {
    "duration": 619,
    "start_time": "2025-03-21T22:31:32.064Z"
   },
   {
    "duration": 41,
    "start_time": "2025-03-21T22:31:33.722Z"
   },
   {
    "duration": 531,
    "start_time": "2025-03-21T22:31:35.244Z"
   },
   {
    "duration": 52,
    "start_time": "2025-03-21T22:31:39.044Z"
   },
   {
    "duration": 1694,
    "start_time": "2025-03-21T22:31:40.237Z"
   },
   {
    "duration": 123,
    "start_time": "2025-03-21T22:31:41.933Z"
   },
   {
    "duration": 27,
    "start_time": "2025-03-21T22:31:43.791Z"
   },
   {
    "duration": 75,
    "start_time": "2025-03-21T22:31:46.097Z"
   },
   {
    "duration": 96,
    "start_time": "2025-03-21T22:31:48.592Z"
   },
   {
    "duration": 64,
    "start_time": "2025-03-21T22:31:49.290Z"
   },
   {
    "duration": 14,
    "start_time": "2025-03-21T22:31:50.228Z"
   },
   {
    "duration": 72,
    "start_time": "2025-03-21T22:33:22.045Z"
   },
   {
    "duration": 90,
    "start_time": "2025-03-21T22:33:24.191Z"
   },
   {
    "duration": 64,
    "start_time": "2025-03-21T22:33:25.439Z"
   },
   {
    "duration": 13,
    "start_time": "2025-03-21T22:33:26.268Z"
   },
   {
    "duration": 2112,
    "start_time": "2025-03-22T06:28:14.703Z"
   },
   {
    "duration": 81,
    "start_time": "2025-03-22T06:28:16.817Z"
   },
   {
    "duration": 9,
    "start_time": "2025-03-22T06:28:16.899Z"
   },
   {
    "duration": 108,
    "start_time": "2025-03-22T06:28:16.909Z"
   },
   {
    "duration": 17,
    "start_time": "2025-03-22T06:28:17.019Z"
   },
   {
    "duration": 17,
    "start_time": "2025-03-22T06:28:17.037Z"
   },
   {
    "duration": 1968,
    "start_time": "2025-03-22T06:28:17.055Z"
   },
   {
    "duration": 153,
    "start_time": "2025-03-22T06:28:19.025Z"
   },
   {
    "duration": 27,
    "start_time": "2025-03-22T06:28:19.179Z"
   },
   {
    "duration": 838,
    "start_time": "2025-03-22T06:28:19.207Z"
   },
   {
    "duration": 618,
    "start_time": "2025-03-22T06:28:20.046Z"
   },
   {
    "duration": 38,
    "start_time": "2025-03-22T06:28:20.666Z"
   },
   {
    "duration": 356,
    "start_time": "2025-03-22T06:28:20.705Z"
   },
   {
    "duration": 44,
    "start_time": "2025-03-22T06:28:21.063Z"
   },
   {
    "duration": 1422,
    "start_time": "2025-03-22T06:28:21.108Z"
   },
   {
    "duration": 122,
    "start_time": "2025-03-22T06:28:22.531Z"
   },
   {
    "duration": 25,
    "start_time": "2025-03-22T06:28:22.655Z"
   },
   {
    "duration": 60,
    "start_time": "2025-03-22T06:28:22.682Z"
   },
   {
    "duration": 82,
    "start_time": "2025-03-22T06:28:22.756Z"
   },
   {
    "duration": 59,
    "start_time": "2025-03-22T06:28:22.839Z"
   },
   {
    "duration": 11,
    "start_time": "2025-03-22T06:28:22.899Z"
   },
   {
    "duration": 2427,
    "start_time": "2025-03-22T07:06:34.859Z"
   },
   {
    "duration": 85,
    "start_time": "2025-03-22T07:06:37.290Z"
   },
   {
    "duration": 9,
    "start_time": "2025-03-22T07:06:37.378Z"
   },
   {
    "duration": 50,
    "start_time": "2025-03-22T07:06:37.390Z"
   },
   {
    "duration": 18,
    "start_time": "2025-03-22T07:06:37.443Z"
   },
   {
    "duration": 158,
    "start_time": "2025-03-22T07:06:37.462Z"
   },
   {
    "duration": 1789,
    "start_time": "2025-03-22T07:06:37.621Z"
   },
   {
    "duration": 145,
    "start_time": "2025-03-22T07:06:39.412Z"
   },
   {
    "duration": 27,
    "start_time": "2025-03-22T07:06:39.559Z"
   },
   {
    "duration": 830,
    "start_time": "2025-03-22T07:06:39.588Z"
   },
   {
    "duration": 626,
    "start_time": "2025-03-22T07:06:40.420Z"
   },
   {
    "duration": 36,
    "start_time": "2025-03-22T07:06:41.055Z"
   },
   {
    "duration": 342,
    "start_time": "2025-03-22T07:06:41.092Z"
   },
   {
    "duration": 48,
    "start_time": "2025-03-22T07:06:41.435Z"
   },
   {
    "duration": 1275,
    "start_time": "2025-03-22T07:06:41.485Z"
   },
   {
    "duration": 111,
    "start_time": "2025-03-22T07:06:42.761Z"
   },
   {
    "duration": 24,
    "start_time": "2025-03-22T07:06:42.873Z"
   },
   {
    "duration": 74,
    "start_time": "2025-03-22T07:06:42.899Z"
   },
   {
    "duration": 82,
    "start_time": "2025-03-22T07:06:42.975Z"
   },
   {
    "duration": 50,
    "start_time": "2025-03-22T07:06:43.058Z"
   },
   {
    "duration": 12,
    "start_time": "2025-03-22T07:06:43.110Z"
   },
   {
    "duration": 4205,
    "start_time": "2025-03-22T14:32:18.918Z"
   },
   {
    "duration": 2216,
    "start_time": "2025-03-22T14:32:23.454Z"
   },
   {
    "duration": 3478,
    "start_time": "2025-03-22T14:32:47.738Z"
   },
   {
    "duration": 2319,
    "start_time": "2025-03-22T14:34:18.567Z"
   },
   {
    "duration": 3106,
    "start_time": "2025-03-22T14:35:12.651Z"
   },
   {
    "duration": 115,
    "start_time": "2025-03-22T14:35:15.759Z"
   },
   {
    "duration": 11,
    "start_time": "2025-03-22T14:35:15.875Z"
   },
   {
    "duration": 46,
    "start_time": "2025-03-22T14:35:17.041Z"
   },
   {
    "duration": 22,
    "start_time": "2025-03-22T14:35:18.566Z"
   },
   {
    "duration": 23,
    "start_time": "2025-03-22T14:35:19.982Z"
   },
   {
    "duration": 3735,
    "start_time": "2025-03-22T14:36:59.569Z"
   },
   {
    "duration": 178,
    "start_time": "2025-03-22T14:37:04.883Z"
   },
   {
    "duration": 38,
    "start_time": "2025-03-22T14:37:11.333Z"
   },
   {
    "duration": 1133,
    "start_time": "2025-03-22T14:37:13.905Z"
   },
   {
    "duration": 759,
    "start_time": "2025-03-22T14:37:15.039Z"
   },
   {
    "duration": 48,
    "start_time": "2025-03-22T14:37:18.961Z"
   },
   {
    "duration": 418,
    "start_time": "2025-03-22T14:37:23.185Z"
   },
   {
    "duration": 62,
    "start_time": "2025-03-22T14:37:27.767Z"
   },
   {
    "duration": 1806,
    "start_time": "2025-03-22T14:37:28.935Z"
   },
   {
    "duration": 127,
    "start_time": "2025-03-22T14:37:31.387Z"
   },
   {
    "duration": 33,
    "start_time": "2025-03-22T14:37:35.262Z"
   },
   {
    "duration": 28,
    "start_time": "2025-03-22T14:46:25.629Z"
   },
   {
    "duration": 28,
    "start_time": "2025-03-22T14:48:10.626Z"
   },
   {
    "duration": 27,
    "start_time": "2025-03-22T14:51:13.124Z"
   },
   {
    "duration": 29,
    "start_time": "2025-03-22T14:52:47.719Z"
   },
   {
    "duration": 88,
    "start_time": "2025-03-22T14:53:46.445Z"
   },
   {
    "duration": 81,
    "start_time": "2025-03-22T14:56:01.742Z"
   },
   {
    "duration": 117,
    "start_time": "2025-03-22T14:56:06.173Z"
   },
   {
    "duration": 13,
    "start_time": "2025-03-22T14:56:19.540Z"
   },
   {
    "duration": 9,
    "start_time": "2025-03-22T14:56:23.144Z"
   },
   {
    "duration": 13,
    "start_time": "2025-03-22T14:56:30.301Z"
   },
   {
    "duration": 31,
    "start_time": "2025-03-22T14:56:54.285Z"
   },
   {
    "duration": 146,
    "start_time": "2025-03-22T14:56:58.247Z"
   },
   {
    "duration": 650,
    "start_time": "2025-03-22T14:56:58.851Z"
   },
   {
    "duration": 42,
    "start_time": "2025-03-22T14:57:01.481Z"
   },
   {
    "duration": 394,
    "start_time": "2025-03-22T14:57:04.828Z"
   },
   {
    "duration": 39,
    "start_time": "2025-03-22T14:57:08.371Z"
   },
   {
    "duration": 1956,
    "start_time": "2025-03-22T14:57:09.481Z"
   },
   {
    "duration": 155,
    "start_time": "2025-03-22T14:57:11.439Z"
   },
   {
    "duration": 34,
    "start_time": "2025-03-22T14:57:14.038Z"
   },
   {
    "duration": 75,
    "start_time": "2025-03-22T14:57:18.934Z"
   },
   {
    "duration": 18,
    "start_time": "2025-03-22T14:57:21.571Z"
   },
   {
    "duration": 37,
    "start_time": "2025-03-22T15:02:41.845Z"
   },
   {
    "duration": 90,
    "start_time": "2025-03-22T15:03:50.500Z"
   },
   {
    "duration": 100,
    "start_time": "2025-03-22T15:03:56.370Z"
   },
   {
    "duration": 98,
    "start_time": "2025-03-22T15:04:17.037Z"
   },
   {
    "duration": 64,
    "start_time": "2025-03-22T15:04:18.192Z"
   },
   {
    "duration": 83,
    "start_time": "2025-03-22T15:04:22.435Z"
   },
   {
    "duration": 81,
    "start_time": "2025-03-22T15:04:27.693Z"
   },
   {
    "duration": 61,
    "start_time": "2025-03-22T15:04:29.891Z"
   },
   {
    "duration": 14,
    "start_time": "2025-03-22T15:04:30.792Z"
   },
   {
    "duration": 73,
    "start_time": "2025-03-22T15:08:20.902Z"
   },
   {
    "duration": 76,
    "start_time": "2025-03-22T15:09:35.917Z"
   },
   {
    "duration": 68,
    "start_time": "2025-03-22T15:10:02.670Z"
   },
   {
    "duration": 67,
    "start_time": "2025-03-22T15:10:25.690Z"
   },
   {
    "duration": 121,
    "start_time": "2025-03-22T15:11:29.871Z"
   },
   {
    "duration": 69,
    "start_time": "2025-03-22T15:12:14.879Z"
   },
   {
    "duration": 13,
    "start_time": "2025-03-22T15:12:42.623Z"
   },
   {
    "duration": 13,
    "start_time": "2025-03-22T15:13:11.900Z"
   },
   {
    "duration": 13,
    "start_time": "2025-03-22T15:21:06.618Z"
   },
   {
    "duration": 69,
    "start_time": "2025-03-22T15:23:21.482Z"
   },
   {
    "duration": 14,
    "start_time": "2025-03-22T15:23:26.342Z"
   },
   {
    "duration": 26,
    "start_time": "2025-03-22T15:24:57.087Z"
   },
   {
    "duration": 27,
    "start_time": "2025-03-22T15:25:18.018Z"
   },
   {
    "duration": 26,
    "start_time": "2025-03-22T15:27:58.804Z"
   },
   {
    "duration": 30,
    "start_time": "2025-03-22T15:32:15.083Z"
   },
   {
    "duration": 11,
    "start_time": "2025-03-22T15:33:12.750Z"
   },
   {
    "duration": 5,
    "start_time": "2025-03-22T15:33:33.918Z"
   },
   {
    "duration": 6,
    "start_time": "2025-03-22T15:34:12.840Z"
   },
   {
    "duration": 5,
    "start_time": "2025-03-22T15:35:32.892Z"
   },
   {
    "duration": 13,
    "start_time": "2025-03-22T15:36:48.754Z"
   },
   {
    "duration": 128,
    "start_time": "2025-03-22T15:42:41.580Z"
   },
   {
    "duration": 120,
    "start_time": "2025-03-22T15:46:01.029Z"
   },
   {
    "duration": 16,
    "start_time": "2025-03-22T15:46:09.637Z"
   },
   {
    "duration": 99,
    "start_time": "2025-03-22T15:47:28.928Z"
   },
   {
    "duration": 17,
    "start_time": "2025-03-22T15:58:44.770Z"
   },
   {
    "duration": 99,
    "start_time": "2025-03-22T16:07:59.755Z"
   },
   {
    "duration": 18,
    "start_time": "2025-03-22T16:08:04.120Z"
   },
   {
    "duration": 411,
    "start_time": "2025-03-22T16:08:14.233Z"
   },
   {
    "duration": 17,
    "start_time": "2025-03-22T16:24:22.100Z"
   },
   {
    "duration": 65,
    "start_time": "2025-03-22T16:25:15.809Z"
   },
   {
    "duration": 77,
    "start_time": "2025-03-22T16:26:49.658Z"
   },
   {
    "duration": 67,
    "start_time": "2025-03-22T16:27:06.203Z"
   },
   {
    "duration": 63,
    "start_time": "2025-03-22T16:27:37.800Z"
   },
   {
    "duration": 60,
    "start_time": "2025-03-22T16:31:30.371Z"
   },
   {
    "duration": 289,
    "start_time": "2025-03-22T16:31:38.634Z"
   },
   {
    "duration": 295,
    "start_time": "2025-03-22T16:32:16.932Z"
   },
   {
    "duration": 269,
    "start_time": "2025-03-22T16:32:38.576Z"
   },
   {
    "duration": 3794,
    "start_time": "2025-03-22T16:42:33.976Z"
   },
   {
    "duration": 102,
    "start_time": "2025-03-22T16:42:40.382Z"
   },
   {
    "duration": 12,
    "start_time": "2025-03-22T16:42:42.403Z"
   },
   {
    "duration": 43,
    "start_time": "2025-03-22T16:42:44.485Z"
   },
   {
    "duration": 22,
    "start_time": "2025-03-22T16:42:46.382Z"
   },
   {
    "duration": 24,
    "start_time": "2025-03-22T16:42:48.566Z"
   },
   {
    "duration": 3526,
    "start_time": "2025-03-22T16:42:51.866Z"
   },
   {
    "duration": 175,
    "start_time": "2025-03-22T16:42:55.394Z"
   },
   {
    "duration": 38,
    "start_time": "2025-03-22T16:42:58.924Z"
   },
   {
    "duration": 146,
    "start_time": "2025-03-22T16:43:01.172Z"
   },
   {
    "duration": 656,
    "start_time": "2025-03-22T16:43:01.749Z"
   },
   {
    "duration": 41,
    "start_time": "2025-03-22T16:43:03.802Z"
   },
   {
    "duration": 374,
    "start_time": "2025-03-22T16:43:07.148Z"
   },
   {
    "duration": 52,
    "start_time": "2025-03-22T16:43:10.003Z"
   },
   {
    "duration": 1892,
    "start_time": "2025-03-22T16:43:10.994Z"
   },
   {
    "duration": 257,
    "start_time": "2025-03-22T16:43:12.888Z"
   },
   {
    "duration": 39,
    "start_time": "2025-03-22T16:43:13.632Z"
   },
   {
    "duration": 83,
    "start_time": "2025-03-22T16:43:17.894Z"
   },
   {
    "duration": 99,
    "start_time": "2025-03-22T16:43:20.136Z"
   },
   {
    "duration": 75,
    "start_time": "2025-03-22T16:43:21.716Z"
   },
   {
    "duration": 13,
    "start_time": "2025-03-22T16:43:22.715Z"
   },
   {
    "duration": 70,
    "start_time": "2025-03-22T16:43:25.396Z"
   },
   {
    "duration": 15,
    "start_time": "2025-03-22T16:43:27.170Z"
   },
   {
    "duration": 31,
    "start_time": "2025-03-22T16:43:29.005Z"
   },
   {
    "duration": 8,
    "start_time": "2025-03-22T16:43:29.431Z"
   },
   {
    "duration": 6,
    "start_time": "2025-03-22T16:43:30.090Z"
   },
   {
    "duration": 86,
    "start_time": "2025-03-22T16:43:31.866Z"
   },
   {
    "duration": 19,
    "start_time": "2025-03-22T16:43:33.270Z"
   },
   {
    "duration": 73,
    "start_time": "2025-03-22T16:43:35.741Z"
   },
   {
    "duration": 258,
    "start_time": "2025-03-22T16:43:36.074Z"
   },
   {
    "duration": 2354,
    "start_time": "2025-03-23T16:15:40.059Z"
   },
   {
    "duration": 102,
    "start_time": "2025-03-23T16:15:42.415Z"
   },
   {
    "duration": 9,
    "start_time": "2025-03-23T16:15:42.519Z"
   },
   {
    "duration": 38,
    "start_time": "2025-03-23T16:15:42.529Z"
   },
   {
    "duration": 17,
    "start_time": "2025-03-23T16:15:42.569Z"
   },
   {
    "duration": 60,
    "start_time": "2025-03-23T16:15:42.587Z"
   },
   {
    "duration": 1990,
    "start_time": "2025-03-23T16:15:42.649Z"
   },
   {
    "duration": 151,
    "start_time": "2025-03-23T16:15:44.641Z"
   },
   {
    "duration": 38,
    "start_time": "2025-03-23T16:15:44.793Z"
   },
   {
    "duration": 911,
    "start_time": "2025-03-23T16:15:44.833Z"
   },
   {
    "duration": 2530,
    "start_time": "2025-03-23T16:49:32.397Z"
   },
   {
    "duration": 99,
    "start_time": "2025-03-23T16:49:34.929Z"
   },
   {
    "duration": 10,
    "start_time": "2025-03-23T16:49:35.030Z"
   },
   {
    "duration": 54,
    "start_time": "2025-03-23T16:49:35.042Z"
   },
   {
    "duration": 22,
    "start_time": "2025-03-23T16:49:35.098Z"
   },
   {
    "duration": 73,
    "start_time": "2025-03-23T16:49:35.122Z"
   },
   {
    "duration": 2147,
    "start_time": "2025-03-23T16:49:35.197Z"
   },
   {
    "duration": 152,
    "start_time": "2025-03-23T16:49:37.346Z"
   },
   {
    "duration": 32,
    "start_time": "2025-03-23T16:49:37.499Z"
   },
   {
    "duration": 863,
    "start_time": "2025-03-23T16:49:37.533Z"
   },
   {
    "duration": 614,
    "start_time": "2025-03-23T16:49:38.397Z"
   },
   {
    "duration": 41,
    "start_time": "2025-03-23T16:49:39.012Z"
   },
   {
    "duration": 360,
    "start_time": "2025-03-23T16:49:39.055Z"
   },
   {
    "duration": 46,
    "start_time": "2025-03-23T16:49:39.418Z"
   },
   {
    "duration": 2347,
    "start_time": "2025-03-23T16:55:39.060Z"
   },
   {
    "duration": 94,
    "start_time": "2025-03-23T16:55:41.409Z"
   },
   {
    "duration": 11,
    "start_time": "2025-03-23T16:55:41.504Z"
   },
   {
    "duration": 53,
    "start_time": "2025-03-23T16:55:41.516Z"
   },
   {
    "duration": 17,
    "start_time": "2025-03-23T16:55:41.571Z"
   },
   {
    "duration": 31,
    "start_time": "2025-03-23T16:55:41.590Z"
   },
   {
    "duration": 2421,
    "start_time": "2025-03-23T16:55:41.622Z"
   },
   {
    "duration": 150,
    "start_time": "2025-03-23T16:55:44.045Z"
   },
   {
    "duration": 36,
    "start_time": "2025-03-23T16:55:44.197Z"
   },
   {
    "duration": 887,
    "start_time": "2025-03-23T16:55:44.236Z"
   },
   {
    "duration": 692,
    "start_time": "2025-03-23T16:55:45.125Z"
   },
   {
    "duration": 41,
    "start_time": "2025-03-23T16:55:45.819Z"
   },
   {
    "duration": 357,
    "start_time": "2025-03-23T16:55:45.862Z"
   },
   {
    "duration": 46,
    "start_time": "2025-03-23T16:55:46.221Z"
   },
   {
    "duration": 1662,
    "start_time": "2025-03-23T16:55:46.268Z"
   },
   {
    "duration": 120,
    "start_time": "2025-03-23T16:55:47.931Z"
   },
   {
    "duration": 26,
    "start_time": "2025-03-23T16:55:48.052Z"
   },
   {
    "duration": 75,
    "start_time": "2025-03-23T16:55:48.079Z"
   },
   {
    "duration": 93,
    "start_time": "2025-03-23T16:55:48.155Z"
   },
   {
    "duration": 65,
    "start_time": "2025-03-23T16:55:48.250Z"
   },
   {
    "duration": 12,
    "start_time": "2025-03-23T16:55:48.317Z"
   },
   {
    "duration": 79,
    "start_time": "2025-03-23T16:55:48.330Z"
   },
   {
    "duration": 12,
    "start_time": "2025-03-23T16:55:48.411Z"
   },
   {
    "duration": 25,
    "start_time": "2025-03-23T16:55:48.424Z"
   },
   {
    "duration": 7,
    "start_time": "2025-03-23T16:55:48.450Z"
   },
   {
    "duration": 5,
    "start_time": "2025-03-23T16:55:48.459Z"
   },
   {
    "duration": 145,
    "start_time": "2025-03-23T16:55:48.465Z"
   },
   {
    "duration": 16,
    "start_time": "2025-03-23T16:55:48.612Z"
   },
   {
    "duration": 58,
    "start_time": "2025-03-23T16:55:48.629Z"
   },
   {
    "duration": 274,
    "start_time": "2025-03-23T16:55:48.688Z"
   }
  ],
  "colab": {
   "provenance": []
  },
  "kernelspec": {
   "display_name": "Python 3 (ipykernel)",
   "language": "python",
   "name": "python3"
  },
  "language_info": {
   "codemirror_mode": {
    "name": "ipython",
    "version": 3
   },
   "file_extension": ".py",
   "mimetype": "text/x-python",
   "name": "python",
   "nbconvert_exporter": "python",
   "pygments_lexer": "ipython3",
   "version": "3.9.5"
  },
  "toc": {
   "base_numbering": 1,
   "nav_menu": {},
   "number_sections": true,
   "sideBar": true,
   "skip_h1_title": true,
   "title_cell": "Table of Contents",
   "title_sidebar": "Contents",
   "toc_cell": false,
   "toc_position": {},
   "toc_section_display": true,
   "toc_window_display": false
  }
 },
 "nbformat": 4,
 "nbformat_minor": 1
}

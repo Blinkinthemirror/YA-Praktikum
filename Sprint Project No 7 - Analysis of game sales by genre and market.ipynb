{
 "cells": [
  {
   "cell_type": "markdown",
   "id": "4a5cda83",
   "metadata": {},
   "source": [
    "<div style=\"border:solid Chocolate 2px; padding: 40px\">\n",
    " \n",
    "<b> Пётр, привет!👋</b> \n",
    "\n",
    "Меня зовут Кирилл Васильев, я буду ревьюером твоего проекта. Я предлагаю общаться на «ты», но если привычнее на «вы», просто скажи об этом! \n",
    "\n",
    "Я буду оставлять комментарии в твоем проекте. Пожалуйста, не удаляй их, они могут быть полезны в случае повторной проверки.\n",
    "\n",
    "Свои комментарии я буду обозначать <font color='green'>зеленым</font>, <font color='gold'>желтым</font> и <font color='red'>красным</font> цветами, например:\n",
    "  \n",
    "<br/> \n",
    "\n",
    "<div class=\"alert alert-success\">\n",
    "<h2> Комментарий ревьюера <a class=\"tocSkip\"> </h2>\n",
    "\n",
    "<b>Все отлично!👍:</b> В случае, если решение на отдельном шаге является полностью правильным. Здесь же я могу давать советы и предложения.\n",
    "</div>\n",
    "\n",
    "<br/>\n",
    "\n",
    "<div class=\"alert alert-warning\">\n",
    "    <h2> Комментарий ревьюера <a class=\"tocSkip\"> </h2>\n",
    "    \n",
    "<b>Некоторые замечания и рекомендации💡:</b> В случае, когда решение на отдельном шаге станет еще лучше, если внести небольшие коррективы.\n",
    "</div> \n",
    "\n",
    "\n",
    "<br/>\n",
    "<div class=\"alert alert-block alert-danger\">\n",
    "<h2> Комментарий ревьюера <a class=\"tocSkip\"></h2>\n",
    " \n",
    "     \n",
    "<b>На доработку🤔:</b>\n",
    " В случае, когда решение на отдельном шаге требует существенной переработки и внесения правок. Напоминаю, что проект не может быть принят с первого раза, если ревью содержит комментарии, рекомендующие доработать шаги.\n",
    "</div>\n",
    "\n",
    "<br/>\n",
    "<div class=\"alert alert-info\">\n",
    "Рекомендую для твоих комментариев использовать синий или любой другой цветной фон. Я постараюсь ничего не пропустить, но если комментарии будут выделены, то это мне очень поможет!\n",
    "</div>\n",
    "    \n",
    "Увидев у тебя неточность, в первый раз я лишь укажу на ее наличие и дам тебе возможность самостоятельно найти и исправить ее. На реальной работе твой руководитель будет поступать также. Но если ты пока не справишься с такой задачей - при следующей проверке я дам более точную подсказку.\n",
    "\n"
   ]
  },
  {
   "cell_type": "markdown",
   "id": "e06910dd",
   "metadata": {
    "id": "e06910dd"
   },
   "source": [
    "# Проект спринта №7 - анализ продаж игр по жанрам и рынкам\n",
    "\n",
    "- Автор: Поляков П. В.\n",
    "- Дата: 23.02.2023"
   ]
  },
  {
   "cell_type": "markdown",
   "id": "4149134c",
   "metadata": {
    "id": "4149134c"
   },
   "source": [
    "### Цели и задачи проекта\n",
    "\n",
    "<font color='#777778'>Познакомиться с данными, проверить их корректность и провести предобработку, получив необходимый срез данных. Проанализировать датасет с информацией о продажах игр разных жанров и платформ, а также пользовательские и экспертные оценки игр.</font>"
   ]
  },
  {
   "cell_type": "markdown",
   "id": "728986ea",
   "metadata": {
    "id": "728986ea"
   },
   "source": [
    "### Описание данных\n",
    "\n",
    "<font color='#777778'>Данные /datasets/new_games.csv содержат информацию о продажах игр разных жанров и платформ, а также пользовательские и экспертные оценки игр:\n",
    "* Name — название игры.\n",
    "* Platform — название платформы.\n",
    "* Year of Release — год выпуска игры.\n",
    "* Genre — жанр игры.\n",
    "* NA sales — продажи в Северной Америке (в миллионах проданных копий).\n",
    "* EU sales — продажи в Европе (в миллионах проданных копий).\n",
    "* JP sales — продажи в Японии (в миллионах проданных копий).\n",
    "* Other sales — продажи в других странах (в миллионах проданных копий).\n",
    "* Critic Score — оценка критиков (от 0 до 100).\n",
    "* User Score — оценка пользователей (от 0 до 10).\n",
    "* Rating — рейтинг организации ESRB (англ. Entertainment Software Rating Board). Эта ассоциация определяет рейтинг компьютерных игр и присваивает им подходящую возрастную категорию.</font>"
   ]
  },
  {
   "cell_type": "markdown",
   "id": "4fecaf95",
   "metadata": {
    "id": "4fecaf95"
   },
   "source": [
    "### Содержимое проекта\n",
    "\n",
    "<font color='#777778'>\n",
    "    \n",
    "- **Проверка названий столбцов:**\n",
    "  - Вывести названия всех столбцов.\n",
    "  - Привести все названия к стилю snake_case (нижний регистр, пробелы заменить на подчёркивания).\n",
    "\n",
    "- **Проверка типов данных:**\n",
    "  - Проверить корректность типов данных.\n",
    "  - Преобразовать числовые столбцы, содержащие строковые значения (например, заменить \"unknown\" на пропуски).\n",
    "\n",
    "- **Анализ пропусков:**\n",
    "  - Подсчитать абсолютное и относительное количество пропусков в каждом столбце.\n",
    "  - Сделать промежуточный вывод: указать, для каких столбцов характерны пропуски, предположить причины их возникновения, и определить действия (замена, удаление или оставление).\n",
    "\n",
    "- **Обработка дубликатов:**\n",
    "  - Изучить уникальные значения в категориальных столбцах (жанр, платформа, рейтинг, год выпуска).\n",
    "  - Нормализовать текстовые данные (привести к одному регистру, удалить лишние пробелы).\n",
    "  - Найти и удалить явные дубликаты, посчитать удалённые строки.\n",
    "\n",
    "- **Фильтрация данных:**\n",
    "  - Отобрать данные по времени выхода игры: период с 2000 по 2013 год включительно.\n",
    "  - Сохранить новый срез данных в отдельном датафрейме (например, `df_actual`).\n",
    "\n",
    "- **Категоризация оценок:**\n",
    "  - Для пользовательских оценок:\n",
    "    - Высокая оценка: от 8 до 10 включительно.\n",
    "    - Средняя оценка: от 3 до 8 (не включая 8).\n",
    "    - Низкая оценка: от 0 до 3 (не включая 3).\n",
    "  - Для оценок критиков:\n",
    "    - Высокая оценка: от 80 до 100 включительно.\n",
    "    - Средняя оценка: от 30 до 80 (не включая 80).\n",
    "    - Низкая оценка: от 0 до 30 (не включая 30).\n",
    "  - Добавить соответствующие столбцы с категориями в датафрейм.\n",
    "\n",
    "- **Анализ платформ:**\n",
    "  - Определить топ-7 платформ по количеству игр, выпущенных за указанный период.\n",
    "\n",
    "- **Итоговый вывод:**\n",
    "  - Составить общий вывод, описав проделанную работу:\n",
    "    - Какие изменения внесены (столбцы переименованы, типы данных преобразованы, пропуски обработаны, дубликаты удалены).\n",
    "    - Описание среза данных (`df_actual`) и новых полей (например, категории оценок).</font>\n",
    "\n",
    "---"
   ]
  },
  {
   "cell_type": "markdown",
   "id": "9d6011fe",
   "metadata": {},
   "source": [
    "<div class=\"alert alert-success\">\n",
    "<h2> Комментарий ревьюера  <a class=\"tocSkip\"> </h2>\n",
    "\n",
    "👍 Отлично по описанию. Цели и задачи ясны. Контекст проекта будет понятен любому потенциальному читателю.\n",
    " "
   ]
  },
  {
   "cell_type": "markdown",
   "id": "6f7d21d6",
   "metadata": {
    "id": "6f7d21d6"
   },
   "source": [
    "## 1. Загрузка данных и знакомство с ними\n",
    "\n",
    "- Загрузите необходимые библиотеки Python и данные датасета `/datasets/new_games.csv`.\n"
   ]
  },
  {
   "cell_type": "markdown",
   "id": "bc0a2e8d",
   "metadata": {},
   "source": [
    "<div class=\"alert alert-success\">\n",
    "<h2> Комментарий ревьюера  <a class=\"tocSkip\"> </h2>\n",
    "\n",
    "👍 В финальной версии подсказки и описания можно убрать. Наш проект − презентация работы и аргументации решений.  \n",
    "(в последующих проектах, кажется, их уже будет либо меньше, либо не будет вообще)\n",
    " "
   ]
  },
  {
   "cell_type": "markdown",
   "id": "e0a8705f",
   "metadata": {
    "id": "e0a8705f"
   },
   "source": [
    "- Познакомьтесь с данными: выведите первые строки и результат метода `info()`.\n"
   ]
  },
  {
   "cell_type": "code",
   "execution_count": 4,
   "id": "3937acf7",
   "metadata": {
    "id": "3937acf7"
   },
   "outputs": [
    {
     "name": "stdout",
     "output_type": "stream",
     "text": [
      "<class 'pandas.core.frame.DataFrame'>\n",
      "RangeIndex: 16956 entries, 0 to 16955\n",
      "Data columns (total 11 columns):\n",
      " #   Column           Non-Null Count  Dtype  \n",
      "---  ------           --------------  -----  \n",
      " 0   Name             16954 non-null  object \n",
      " 1   Platform         16956 non-null  object \n",
      " 2   Year of Release  16681 non-null  float64\n",
      " 3   Genre            16954 non-null  object \n",
      " 4   NA sales         16956 non-null  float64\n",
      " 5   EU sales         16956 non-null  object \n",
      " 6   JP sales         16956 non-null  object \n",
      " 7   Other sales      16956 non-null  float64\n",
      " 8   Critic Score     8242 non-null   float64\n",
      " 9   User Score       10152 non-null  object \n",
      " 10  Rating           10085 non-null  object \n",
      "dtypes: float64(4), object(7)\n",
      "memory usage: 1.4+ MB\n"
     ]
    }
   ],
   "source": [
    "import pandas as pd\n",
    "\n",
    "#выгружаем данные в датафрейм\n",
    "df = pd.read_csv('/datasets/new_games.csv')\n",
    "\n",
    "#первые строки методом info()\n",
    "df.info()"
   ]
  },
  {
   "cell_type": "code",
   "execution_count": 1,
   "id": "d7c8eb4b",
   "metadata": {
    "id": "d7c8eb4b"
   },
   "outputs": [
    {
     "data": {
      "text/html": [
       "<div>\n",
       "<style scoped>\n",
       "    .dataframe tbody tr th:only-of-type {\n",
       "        vertical-align: middle;\n",
       "    }\n",
       "\n",
       "    .dataframe tbody tr th {\n",
       "        vertical-align: top;\n",
       "    }\n",
       "\n",
       "    .dataframe thead th {\n",
       "        text-align: right;\n",
       "    }\n",
       "</style>\n",
       "<table border=\"1\" class=\"dataframe\">\n",
       "  <thead>\n",
       "    <tr style=\"text-align: right;\">\n",
       "      <th></th>\n",
       "      <th>Всего записей</th>\n",
       "      <th>Пропуски</th>\n",
       "      <th>Доля пропусков (%)</th>\n",
       "      <th>Значения = 0</th>\n",
       "      <th>Доля значений = 0 (%)</th>\n",
       "    </tr>\n",
       "  </thead>\n",
       "  <tbody>\n",
       "    <tr>\n",
       "      <th>Name</th>\n",
       "      <td>16956</td>\n",
       "      <td>2</td>\n",
       "      <td>0.0</td>\n",
       "      <td>0</td>\n",
       "      <td>0.0</td>\n",
       "    </tr>\n",
       "    <tr>\n",
       "      <th>Platform</th>\n",
       "      <td>16956</td>\n",
       "      <td>0</td>\n",
       "      <td>0.0</td>\n",
       "      <td>0</td>\n",
       "      <td>0.0</td>\n",
       "    </tr>\n",
       "    <tr>\n",
       "      <th>Year of Release</th>\n",
       "      <td>16956</td>\n",
       "      <td>275</td>\n",
       "      <td>1.6</td>\n",
       "      <td>0</td>\n",
       "      <td>0.0</td>\n",
       "    </tr>\n",
       "    <tr>\n",
       "      <th>Genre</th>\n",
       "      <td>16956</td>\n",
       "      <td>2</td>\n",
       "      <td>0.0</td>\n",
       "      <td>0</td>\n",
       "      <td>0.0</td>\n",
       "    </tr>\n",
       "    <tr>\n",
       "      <th>NA sales</th>\n",
       "      <td>16956</td>\n",
       "      <td>0</td>\n",
       "      <td>0.0</td>\n",
       "      <td>4574</td>\n",
       "      <td>27.0</td>\n",
       "    </tr>\n",
       "    <tr>\n",
       "      <th>EU sales</th>\n",
       "      <td>16956</td>\n",
       "      <td>0</td>\n",
       "      <td>0.0</td>\n",
       "      <td>0</td>\n",
       "      <td>0.0</td>\n",
       "    </tr>\n",
       "    <tr>\n",
       "      <th>JP sales</th>\n",
       "      <td>16956</td>\n",
       "      <td>0</td>\n",
       "      <td>0.0</td>\n",
       "      <td>0</td>\n",
       "      <td>0.0</td>\n",
       "    </tr>\n",
       "    <tr>\n",
       "      <th>Other sales</th>\n",
       "      <td>16956</td>\n",
       "      <td>0</td>\n",
       "      <td>0.0</td>\n",
       "      <td>6701</td>\n",
       "      <td>39.5</td>\n",
       "    </tr>\n",
       "    <tr>\n",
       "      <th>Critic Score</th>\n",
       "      <td>16956</td>\n",
       "      <td>8714</td>\n",
       "      <td>51.4</td>\n",
       "      <td>0</td>\n",
       "      <td>0.0</td>\n",
       "    </tr>\n",
       "    <tr>\n",
       "      <th>User Score</th>\n",
       "      <td>16956</td>\n",
       "      <td>6804</td>\n",
       "      <td>40.1</td>\n",
       "      <td>0</td>\n",
       "      <td>0.0</td>\n",
       "    </tr>\n",
       "    <tr>\n",
       "      <th>Rating</th>\n",
       "      <td>16956</td>\n",
       "      <td>6871</td>\n",
       "      <td>40.5</td>\n",
       "      <td>0</td>\n",
       "      <td>0.0</td>\n",
       "    </tr>\n",
       "  </tbody>\n",
       "</table>\n",
       "</div>"
      ],
      "text/plain": [
       "                 Всего записей  Пропуски  Доля пропусков (%)  Значения = 0  \\\n",
       "Name                     16956         2                 0.0             0   \n",
       "Platform                 16956         0                 0.0             0   \n",
       "Year of Release          16956       275                 1.6             0   \n",
       "Genre                    16956         2                 0.0             0   \n",
       "NA sales                 16956         0                 0.0          4574   \n",
       "EU sales                 16956         0                 0.0             0   \n",
       "JP sales                 16956         0                 0.0             0   \n",
       "Other sales              16956         0                 0.0          6701   \n",
       "Critic Score             16956      8714                51.4             0   \n",
       "User Score               16956      6804                40.1             0   \n",
       "Rating                   16956      6871                40.5             0   \n",
       "\n",
       "                 Доля значений = 0 (%)  \n",
       "Name                               0.0  \n",
       "Platform                           0.0  \n",
       "Year of Release                    0.0  \n",
       "Genre                              0.0  \n",
       "NA sales                          27.0  \n",
       "EU sales                           0.0  \n",
       "JP sales                           0.0  \n",
       "Other sales                       39.5  \n",
       "Critic Score                       0.0  \n",
       "User Score                         0.0  \n",
       "Rating                             0.0  "
      ]
     },
     "metadata": {},
     "output_type": "display_data"
    }
   ],
   "source": [
    "import pandas as pd\n",
    "\n",
    "#выгружаем данные в датафрейм\n",
    "df = pd.read_csv('/datasets/new_games.csv')\n",
    "\n",
    "#считаем число пропусков и их долю от столбца\n",
    "total_rows = df.shape[0]\n",
    "missing_values = df.isnull().sum()\n",
    "missing_percentage = (df.isnull().mean() * 100).round(1)\n",
    "zero_values = (df == 0).sum()\n",
    "zero_percentage = ((df == 0).mean() * 100).round(1)\n",
    "\n",
    "# Вывод результатов\n",
    "missing_data = pd.DataFrame({'Всего записей': total_rows,'Пропуски': missing_values, 'Доля пропусков (%)': missing_percentage, 'Значения = 0': zero_values, 'Доля значений = 0 (%)': zero_percentage})\n",
    "display(missing_data) #исправил вывод на display\n"
   ]
  },
  {
   "cell_type": "markdown",
   "id": "27ede833",
   "metadata": {},
   "source": [
    "\n",
    "<div class=\"alert alert-warning\">\n",
    "<h2> Комментарий ревьюера <a class=\"tocSkip\"> </h2>\n",
    "    \n",
    "<b>Некоторые замечания и рекомендации💡:</b> \n",
    "\n",
    "Здесь если выводить таблицу не через print(), а через display(), будет удобнее все воспринимать. \n",
    "</div>  \n"
   ]
  },
  {
   "cell_type": "markdown",
   "id": "1df57267",
   "metadata": {},
   "source": [
    "<div class=\"alert alert-success\">\n",
    "<h2> Комментарий ревьюера #2 <a class=\"tocSkip\"> </h2>\n",
    "\n",
    "👍 Cнова привет.  По исправлению отлично. \n",
    "</div> "
   ]
  },
  {
   "cell_type": "markdown",
   "id": "26267bc0",
   "metadata": {
    "id": "26267bc0"
   },
   "source": [
    "- Сделайте вывод о полученных данных: данные какого объёма вам предоставили, соответствуют ли они описанию, встречаются ли в них пропуски, используются ли верные типы данных.\n",
    "- Отметьте другие особенности данных, которые вы обнаружили и на которые стоит обратить внимание при предобработке. Например, вы можете проверить названия столбцов: все ли названия отражают содержимое данных и прописаны в удобном для работы виде."
   ]
  },
  {
   "cell_type": "markdown",
   "id": "05f55eb6",
   "metadata": {
    "id": "05f55eb6"
   },
   "source": [
    "<font color='#777778'>Используйте ячейки типа Markdown для промежуточных выводов и расширенных комментариев к действиям с данными. </font>"
   ]
  },
  {
   "cell_type": "markdown",
   "id": "0f399bf1",
   "metadata": {
    "id": "81651b8d"
   },
   "source": [
    "- **Размер датасета:** 16956 записей, 11 столбцов.\n",
    "- **Типы данных:** 4 столбца с типом float64 и 7 столбцов с типом object.\n",
    "- **Пропуски и их доля:**  \n",
    "  - **Name:** 2 пропуска (0.0%)  \n",
    "  - **Platform:** 0 пропусков (0.0%)  \n",
    "  - **Year of Release:** 275 пропусков (1.6%)  \n",
    "  - **Genre:** 2 пропуска (0.0%)  \n",
    "  - **NA sales:** 0 пропусков (0.0%)  \n",
    "  - **EU sales:** 0 пропусков (0.0%)  \n",
    "  - **JP sales:** 0 пропусков (0.0%)  \n",
    "  - **Other sales:** 0 пропусков (0.0%)  \n",
    "  - **Critic Score:** 8714 пропусков (51.4%)  \n",
    "  - **User Score:** 6804 пропусков (40.1%)  \n",
    "  - **Rating:** 6871 пропусков (40.5%)  \n",
    "\n",
    "- **Число нулевых значений и их доля:**  \n",
    "  - **NA sales:** 4574 (27.0%)  \n",
    "  - **Other sales:** 6701 (39.5%)  \n",
    "  - **Остальные столбцы:** не содержат нулевых значений (0.0%)  "
   ]
  },
  {
   "cell_type": "markdown",
   "id": "af8f4aa2",
   "metadata": {
    "id": "191981db"
   },
   "source": [
    "Особенности на которые можно обратить внимание: столбцы **EU sales**, **JP sales**, **User Score** имеют тип данных object. С учетом того, что в них содержатся количественные данные, возможно стоит изменить тип данных на числовой.\n"
   ]
  },
  {
   "cell_type": "markdown",
   "id": "a0f234e4",
   "metadata": {},
   "source": [
    "  \n",
    "<div class=\"alert alert-success\">\n",
    "<h2> Комментарий ревьюера  <a class=\"tocSkip\"> </h2>\n",
    "\n",
    "👍 Здесь все верно по выявленным проблемам в данных. Можно также обратить внимание на несоответствия стилю названий колонок.\n",
    " "
   ]
  },
  {
   "cell_type": "markdown",
   "id": "774bf76e",
   "metadata": {
    "id": "774bf76e"
   },
   "source": [
    "---\n",
    "\n",
    "## 2.  Проверка ошибок в данных и их предобработка\n",
    "\n",
    "\n",
    "### 2.1. Названия, или метки, столбцов датафрейма\n",
    "\n",
    "- Выведите на экран названия всех столбцов датафрейма и проверьте их стиль написания.\n",
    "- Приведите все столбцы к стилю snake case. Названия должны быть в нижнем регистре, а вместо пробелов — подчёркивания."
   ]
  },
  {
   "cell_type": "code",
   "execution_count": 6,
   "id": "b9276a2b",
   "metadata": {
    "id": "b9276a2b"
   },
   "outputs": [
    {
     "name": "stdout",
     "output_type": "stream",
     "text": [
      "Названия столбцов:\n",
      "Index(['Name', 'Platform', 'Year of Release', 'Genre', 'NA sales', 'EU sales',\n",
      "       'JP sales', 'Other sales', 'Critic Score', 'User Score', 'Rating'],\n",
      "      dtype='object')\n"
     ]
    }
   ],
   "source": [
    "import pandas as pd\n",
    "\n",
    "#выгружаем данные в датафрейм\n",
    "df = pd.read_csv('/datasets/new_games.csv')\n",
    "\n",
    "# Выводим названия всех столбцов\n",
    "print(\"Названия столбцов:\")\n",
    "print(df.columns)"
   ]
  },
  {
   "cell_type": "code",
   "execution_count": 4,
   "id": "d554563c",
   "metadata": {
    "id": "d554563c",
    "scrolled": true
   },
   "outputs": [
    {
     "name": "stdout",
     "output_type": "stream",
     "text": [
      "\n",
      "Названия столбцов в стиле snake_case:\n",
      "Index(['name', 'platform', 'year_of_release', 'genre', 'na_sales', 'eu_sales',\n",
      "       'jp_sales', 'other_sales', 'critic_score', 'user_score', 'rating'],\n",
      "      dtype='object')\n"
     ]
    }
   ],
   "source": [
    "import pandas as pd\n",
    "\n",
    "#выгружаем данные в датафрейм\n",
    "df = pd.read_csv('/datasets/new_games.csv')\n",
    "\n",
    "#приводим к стилю snake_case (приводим к нижнему регистру и заменяем пробелы на подчёркивания)\n",
    "df.columns = (df.columns.str.lower().str.replace(' ', '_')) \n",
    "\n",
    "#вывод\n",
    "print(\"\\nНазвания столбцов в стиле snake_case:\")\n",
    "print(df.columns)"
   ]
  },
  {
   "cell_type": "markdown",
   "id": "fddd2ef0",
   "metadata": {},
   "source": [
    "<div class=\"alert alert-success\">\n",
    "<h2> Комментарий ревьюера <a class=\"tocSkip\"> </h2>\n",
    "\n",
    "👍 Хорошее решение\n",
    "\n",
    "\n"
   ]
  },
  {
   "cell_type": "markdown",
   "id": "41bc6bf8",
   "metadata": {
    "id": "41bc6bf8"
   },
   "source": [
    "### 2.2. Типы данных\n",
    "\n",
    "- Если встречаются некорректные типы данных, предположите их причины.\n",
    "- При необходимости проведите преобразование типов данных. Помните, что столбцы с числовыми данными и пропусками нельзя преобразовать к типу `int64`. Сначала вам понадобится обработать пропуски, а затем преобразовать типы данных."
   ]
  },
  {
   "cell_type": "markdown",
   "id": "3fb12536",
   "metadata": {
    "id": "8adaac81"
   },
   "source": [
    "Столбцы **eu_sales**, **jp_sales**, **user_score** имеют тип данных object. С учетом того, что в них содержатся количественные данные, возможно стоит изменить тип данных на числовой. Причины почему тип данных может быть некорректен: ошибка в сборе данных (все 3 столбца), наличие строковых значений (в jp_sales *unknown*, в user_score *tbd* и *пустые значения (blanks)*) "
   ]
  },
  {
   "cell_type": "markdown",
   "id": "63378edf",
   "metadata": {
    "id": "63378edf"
   },
   "source": [
    "- В числовых столбцах могут встретиться строковые значения, например `unknown` или другие. Приводите такие столбцы к числовому типу данных, заменив строковые значения на пропуски."
   ]
  },
  {
   "cell_type": "code",
   "execution_count": 6,
   "id": "5033ee32",
   "metadata": {
    "id": "5033ee32"
   },
   "outputs": [
    {
     "name": "stdout",
     "output_type": "stream",
     "text": [
      "<class 'pandas.core.frame.DataFrame'>\n",
      "RangeIndex: 16956 entries, 0 to 16955\n",
      "Data columns (total 3 columns):\n",
      " #   Column      Non-Null Count  Dtype  \n",
      "---  ------      --------------  -----  \n",
      " 0   jp_sales    16952 non-null  float64\n",
      " 1   eu_sales    16950 non-null  float64\n",
      " 2   user_score  7688 non-null   float64\n",
      "dtypes: float64(3)\n",
      "memory usage: 397.5 KB\n",
      "None\n"
     ]
    }
   ],
   "source": [
    "import pandas as pd\n",
    "\n",
    "#число строк после загрузки \n",
    "total_initial_rows = df.shape[0]\n",
    "\n",
    "#выгружаем данные в датафрейм\n",
    "df = pd.read_csv('/datasets/new_games.csv')\n",
    "\n",
    "#приводим названия столбцов к стилю snake_case (приводим к нижнему регистру и заменяем пробелы на подчёркивания)\n",
    "df.columns = df.columns.str.lower().str.replace(' ', '_')\n",
    "\n",
    "#преобразуем столбцы с числовыми значениями, содержащие текстовые данные, в float\n",
    "columns_to_convert = ['jp_sales', 'eu_sales', 'user_score']\n",
    "\n",
    "#заменяем 'unknown', 'tbd' и пустые строки на NaN\n",
    "df[columns_to_convert] = df[columns_to_convert].replace(['unknown', 'tbd', ''], pd.NA)\n",
    "\n",
    "#преобразуем столбцы к числовому типу данных\n",
    "df[columns_to_convert] = df[columns_to_convert].apply(pd.to_numeric, errors='coerce')\n",
    "\n",
    "#вывод\n",
    "print(df[columns_to_convert].info())"
   ]
  },
  {
   "cell_type": "markdown",
   "id": "7a5ffa91",
   "metadata": {},
   "source": [
    "<div class=\"alert alert-warning\">\n",
    "<h2> Комментарий ревьюера <a class=\"tocSkip\"> </h2>\n",
    "    \n",
    "<b>Некоторые замечания и рекомендации💡:</b> \n",
    "    \n",
    "Выше дублируешь приведение типов `df.columns = df.columns.str.lower().str.replace(' ', '_')` - в проектах стоит избегать дублирования кода."
   ]
  },
  {
   "cell_type": "markdown",
   "id": "b39893cb",
   "metadata": {
    "id": "b39893cb"
   },
   "source": [
    "### 2.3. Наличие пропусков в данных\n",
    "\n",
    "- Посчитайте количество пропусков в каждом столбце в абсолютных и относительных значениях.\n"
   ]
  },
  {
   "cell_type": "markdown",
   "id": "65db46f5",
   "metadata": {
    "id": "0f1c91a8"
   },
   "source": [
    "\n",
    "- **Пропуски и их доля (посчитаны в разделе 1):**  \n",
    "  - **name:** 2 пропуска (0.0%)  \n",
    "  - **platform:** 0 пропусков (0.0%)  \n",
    "  - **year_of_release:** 275 пропусков (1.6%)  \n",
    "  - **genre:** 2 пропуска (0.0%)  \n",
    "  - **na_sales:** 0 пропусков (0.0%)  \n",
    "  - **eu_sales:** 0 пропусков (0.0%)  \n",
    "  - **jp_sales:** 0 пропусков (0.0%)  \n",
    "  - **other_sales:** 0 пропусков (0.0%)  \n",
    "  - **critic_score:** 8714 пропусков (51.4%)  \n",
    "  - **user_score:** 6804 пропусков (40.1%)  \n",
    "  - **rating:** 6871 пропусков (40.5%)  \n",
    "\n",
    "- **Число нулевых значений и их доля:**  \n",
    "  - **na_sales:** 4574 (27.0%)  \n",
    "  - **other_sales:** 6701 (39.5%)  \n",
    "  - **Остальные столбцы:** не содержат нулевых значений (0.0%)  "
   ]
  },
  {
   "cell_type": "code",
   "execution_count": 25,
   "id": "d99baca4",
   "metadata": {},
   "outputs": [
    {
     "data": {
      "text/html": [
       "<div>\n",
       "<style scoped>\n",
       "    .dataframe tbody tr th:only-of-type {\n",
       "        vertical-align: middle;\n",
       "    }\n",
       "\n",
       "    .dataframe tbody tr th {\n",
       "        vertical-align: top;\n",
       "    }\n",
       "\n",
       "    .dataframe thead th {\n",
       "        text-align: right;\n",
       "    }\n",
       "</style>\n",
       "<table border=\"1\" class=\"dataframe\">\n",
       "  <thead>\n",
       "    <tr style=\"text-align: right;\">\n",
       "      <th></th>\n",
       "      <th>Всего записей</th>\n",
       "      <th>Пропуски</th>\n",
       "      <th>Доля пропусков (%)</th>\n",
       "      <th>Значения = 0</th>\n",
       "      <th>Доля значений = 0 (%)</th>\n",
       "    </tr>\n",
       "  </thead>\n",
       "  <tbody>\n",
       "    <tr>\n",
       "      <th>name</th>\n",
       "      <td>16679</td>\n",
       "      <td>0</td>\n",
       "      <td>0.0</td>\n",
       "      <td>0</td>\n",
       "      <td>0.0</td>\n",
       "    </tr>\n",
       "    <tr>\n",
       "      <th>platform</th>\n",
       "      <td>16679</td>\n",
       "      <td>0</td>\n",
       "      <td>0.0</td>\n",
       "      <td>0</td>\n",
       "      <td>0.0</td>\n",
       "    </tr>\n",
       "    <tr>\n",
       "      <th>year_of_release</th>\n",
       "      <td>16679</td>\n",
       "      <td>0</td>\n",
       "      <td>0.0</td>\n",
       "      <td>0</td>\n",
       "      <td>0.0</td>\n",
       "    </tr>\n",
       "    <tr>\n",
       "      <th>genre</th>\n",
       "      <td>16679</td>\n",
       "      <td>0</td>\n",
       "      <td>0.0</td>\n",
       "      <td>0</td>\n",
       "      <td>0.0</td>\n",
       "    </tr>\n",
       "    <tr>\n",
       "      <th>na_sales</th>\n",
       "      <td>16679</td>\n",
       "      <td>0</td>\n",
       "      <td>0.0</td>\n",
       "      <td>4513</td>\n",
       "      <td>27.1</td>\n",
       "    </tr>\n",
       "    <tr>\n",
       "      <th>eu_sales</th>\n",
       "      <td>16679</td>\n",
       "      <td>6</td>\n",
       "      <td>0.0</td>\n",
       "      <td>5844</td>\n",
       "      <td>35.0</td>\n",
       "    </tr>\n",
       "    <tr>\n",
       "      <th>jp_sales</th>\n",
       "      <td>16679</td>\n",
       "      <td>4</td>\n",
       "      <td>0.0</td>\n",
       "      <td>10461</td>\n",
       "      <td>62.7</td>\n",
       "    </tr>\n",
       "    <tr>\n",
       "      <th>other_sales</th>\n",
       "      <td>16679</td>\n",
       "      <td>0</td>\n",
       "      <td>0.0</td>\n",
       "      <td>6590</td>\n",
       "      <td>39.5</td>\n",
       "    </tr>\n",
       "    <tr>\n",
       "      <th>critic_score</th>\n",
       "      <td>16679</td>\n",
       "      <td>1122</td>\n",
       "      <td>6.7</td>\n",
       "      <td>0</td>\n",
       "      <td>0.0</td>\n",
       "    </tr>\n",
       "    <tr>\n",
       "      <th>user_score</th>\n",
       "      <td>16679</td>\n",
       "      <td>1115</td>\n",
       "      <td>6.7</td>\n",
       "      <td>1</td>\n",
       "      <td>0.0</td>\n",
       "    </tr>\n",
       "    <tr>\n",
       "      <th>rating</th>\n",
       "      <td>16679</td>\n",
       "      <td>0</td>\n",
       "      <td>0.0</td>\n",
       "      <td>0</td>\n",
       "      <td>0.0</td>\n",
       "    </tr>\n",
       "  </tbody>\n",
       "</table>\n",
       "</div>"
      ],
      "text/plain": [
       "                 Всего записей  Пропуски  Доля пропусков (%)  Значения = 0  \\\n",
       "name                     16679         0                 0.0             0   \n",
       "platform                 16679         0                 0.0             0   \n",
       "year_of_release          16679         0                 0.0             0   \n",
       "genre                    16679         0                 0.0             0   \n",
       "na_sales                 16679         0                 0.0          4513   \n",
       "eu_sales                 16679         6                 0.0          5844   \n",
       "jp_sales                 16679         4                 0.0         10461   \n",
       "other_sales              16679         0                 0.0          6590   \n",
       "critic_score             16679      1122                 6.7             0   \n",
       "user_score               16679      1115                 6.7             1   \n",
       "rating                   16679         0                 0.0             0   \n",
       "\n",
       "                 Доля значений = 0 (%)  \n",
       "name                               0.0  \n",
       "platform                           0.0  \n",
       "year_of_release                    0.0  \n",
       "genre                              0.0  \n",
       "na_sales                          27.1  \n",
       "eu_sales                          35.0  \n",
       "jp_sales                          62.7  \n",
       "other_sales                       39.5  \n",
       "critic_score                       0.0  \n",
       "user_score                         0.0  \n",
       "rating                             0.0  "
      ]
     },
     "metadata": {},
     "output_type": "display_data"
    }
   ],
   "source": [
    "#вывод рассчета количества и доли пропусков кодом.\n",
    "\n",
    "#считаем число пропусков и их долю от столбца\n",
    "total_rows = df.shape[0]\n",
    "missing_values = df.isnull().sum()\n",
    "missing_percentage = (df.isnull().mean() * 100).round(1)\n",
    "zero_values = (df == 0).sum()\n",
    "zero_percentage = ((df == 0).mean() * 100).round(1)\n",
    "\n",
    "# Вывод результатов\n",
    "missing_data = pd.DataFrame({'Всего записей': total_rows,'Пропуски': missing_values, 'Доля пропусков (%)': missing_percentage, 'Значения = 0': zero_values, 'Доля значений = 0 (%)': zero_percentage})\n",
    "display(missing_data) #исправил вывод на display"
   ]
  },
  {
   "cell_type": "markdown",
   "id": "9e218390",
   "metadata": {},
   "source": [
    " <div class=\"alert alert-block alert-danger\">\n",
    "<h2><s> Комментарий ревьюера <a class=\"tocSkip\"></h2>\n",
    "  \n",
    "<b>На доработку🤔:</b>\n",
    " \n",
    "При изменении вводых рассчеты могут поменяться.\n",
    "   \n",
    "Предлагаю здесь вывести рассчет количества и доли пропусков кодом.\n"
   ]
  },
  {
   "cell_type": "markdown",
   "id": "4ab7dbaf",
   "metadata": {},
   "source": [
    "<div class=\"alert alert-success\">\n",
    "<h2> Комментарий ревьюера #2 <a class=\"tocSkip\"> </h2>\n",
    "\n",
    "👍 супер. Думаю, можно такую логику обернуть в функцию и использовать ее в последующих проектах.\n",
    "</div> "
   ]
  },
  {
   "cell_type": "markdown",
   "id": "cf796f51",
   "metadata": {
    "id": "cf796f51"
   },
   "source": [
    "- Изучите данные с пропущенными значениями. Напишите промежуточный вывод: для каких столбцов характерны пропуски и сколько их. Предположите, почему пропуски могли возникнуть. Укажите, какие действия с этими данными можно сделать и почему.\n"
   ]
  },
  {
   "cell_type": "markdown",
   "id": "7e35bcdd",
   "metadata": {
    "id": "bd69e642"
   },
   "source": [
    ">**critic_score (51.4%), user_score (40.1%)** \n",
    "Пропуски могут быть связаны с тем, что не все игры получили оценки критиков и пользователей. \n",
    "Также возможна ошибка сбора данных, когда оценки просто не были внесены в систему или не были сохранены. В **user_score (40.1%)** Вместо оценок встречаются *tbd* и пустые значения (blanks). *tbd* (to be determined) означает, что на момент сбора данных оценки еще не были выставлены. Это значит, что убирать пропуски нельзя.\n",
    ">>Действия по обработке пропусков: заполнить медианными значениями в разрезе платформы и жанра."
   ]
  },
  {
   "cell_type": "markdown",
   "id": "6e0ff17d",
   "metadata": {},
   "source": [
    ">**rating (40.5%)**. Пропуски в *rating* могут быть связаны с тем, что не все игры получили рейтинг ESRB. \n",
    "\n",
    ">>Действия по обработке пропусков: оставить как есть, заменив пропуски на unknown"
   ]
  },
  {
   "cell_type": "markdown",
   "id": "8f8acc2b",
   "metadata": {},
   "source": [
    ">Нулевые значения в **na_sales (27.0%), other_sales (39.5%)**. Нули могут означать, что продажи в этих регионах были действительно нулевыми. Также возможна ошибка сбора данных, если информация о продажах отсутствовала. \n",
    ">>Действия по обработке пропусков - оставить, так как нули могут означать реальные нулевые продажи.  "
   ]
  },
  {
   "cell_type": "markdown",
   "id": "5cf38189",
   "metadata": {},
   "source": [
    "\t \n",
    "<div class=\"alert alert-warning\">\n",
    "<h2> Комментарий ревьюера <a class=\"tocSkip\"> </h2>\n",
    "    \n",
    "<b>Некоторые замечания и рекомендации💡:</b> \n",
    "\n",
    "Возможно. Но возможно просто какие-то данные о продажах не попали в таблицу."
   ]
  },
  {
   "cell_type": "markdown",
   "id": "6ef9f008",
   "metadata": {},
   "source": [
    ">**name, genre** - по два пропуска. \n",
    ">> Действия по обработке пропусков - удалить, так как слишком мало пропусков"
   ]
  },
  {
   "cell_type": "markdown",
   "id": "e61c9268",
   "metadata": {},
   "source": [
    ">**year_of_release (1.6%)**. Причина пропусков может заключаться в том, что игра могла быть анонсирована, но не выпущена, как half life 3:)\n",
    ">>Действия по обработке пропусков - удалить, так как доля мала, а поля мы не можем заполнить медианой или средним."
   ]
  },
  {
   "cell_type": "markdown",
   "id": "300d9119",
   "metadata": {},
   "source": [
    "<div class=\"alert alert-success\"> \n",
    "<h2> Комментарий ревьюера <a class=\"tocSkip\"> </h2>\n",
    "\n",
    "👍 По аргументации и стратегии заполнения пропусков все замечательно.\n",
    "</div>  \n"
   ]
  },
  {
   "cell_type": "markdown",
   "id": "bbbe3bda",
   "metadata": {
    "id": "bbbe3bda"
   },
   "source": [
    "- Обработайте пропущенные значения. Для каждого случая вы можете выбрать оптимальный, на ваш взгляд, вариант: заменить на определённое значение, оставить как есть или удалить.\n",
    "- Если вы решите заменить пропуски на значение-индикатор, то убедитесь, что предложенное значение не может быть использовано в данных.\n",
    "- Если вы нашли пропуски в данных с количеством проданных копий игры в том или ином регионе, их можно заменить на среднее значение в зависимости от названия платформы и года выхода игры."
   ]
  },
  {
   "cell_type": "code",
   "execution_count": 26,
   "id": "154be65d",
   "metadata": {
    "id": "154be65d"
   },
   "outputs": [],
   "source": [
    "#заполняем пропуски в 'critic_score' и 'user_score' медианными значениями в разрезе платформы и жанра\n",
    "df['critic_score'] = df['critic_score'].fillna(df.groupby(['platform', 'genre'])['critic_score'].transform('median'))\n",
    "df['user_score'] = df['user_score'].fillna(df.groupby(['platform', 'genre'])['user_score'].transform('median'))"
   ]
  },
  {
   "cell_type": "code",
   "execution_count": 27,
   "id": "cf1668f8",
   "metadata": {},
   "outputs": [],
   "source": [
    "#заполняем пропуски в rating значением 'unknown'\n",
    "df['rating'] = df['rating'].fillna('unknown')"
   ]
  },
  {
   "cell_type": "code",
   "execution_count": 28,
   "id": "615dee55",
   "metadata": {},
   "outputs": [],
   "source": [
    "#удаляем строки без названия или жанра\n",
    "df = df.dropna(subset=['name', 'genre'])"
   ]
  },
  {
   "cell_type": "code",
   "execution_count": 29,
   "id": "3f42817b",
   "metadata": {
    "id": "3f42817b"
   },
   "outputs": [],
   "source": [
    "#удаляем строки с отсутствующим годом выпуска и приводим его к int\n",
    "df = df.dropna(subset=['year_of_release'])\n",
    "df['year_of_release'] = df['year_of_release'].astype(int)"
   ]
  },
  {
   "cell_type": "markdown",
   "id": "40374dbb",
   "metadata": {},
   "source": [
    "<div class=\"alert alert-success\"> \n",
    "<h2> Комментарий ревьюера <a class=\"tocSkip\"> </h2>\n",
    "\n",
    "👍 Супер. \n",
    "</div>  \n"
   ]
  },
  {
   "cell_type": "markdown",
   "id": "a63363fd",
   "metadata": {
    "id": "a63363fd"
   },
   "source": [
    "### 2.4. Явные и неявные дубликаты в данных\n",
    "\n",
    "- Изучите уникальные значения в категориальных данных, например с названиями жанра игры, платформы, рейтинга и года выпуска. Проверьте, встречаются ли среди данных неявные дубликаты, связанные с опечатками или разным способом написания.\n",
    "- При необходимости проведите нормализацию данных с текстовыми значениями. Названия или жанры игр можно привести к нижнему регистру, а названия рейтинга — к верхнему."
   ]
  },
  {
   "cell_type": "code",
   "execution_count": 30,
   "id": "491c9c39",
   "metadata": {
    "id": "491c9c39"
   },
   "outputs": [
    {
     "name": "stdout",
     "output_type": "stream",
     "text": [
      "Уникальные значения в столбце genre:\n",
      "['action' 'adventure' 'fighting' 'misc' 'platform' 'puzzle' 'racing'\n",
      " 'role-playing' 'shooter' 'simulation' 'sports' 'strategy']\n",
      "----------------------------------------\n",
      "Уникальные значения в столбце platform:\n",
      "['2600' '3DO' '3DS' 'DC' 'DS' 'GB' 'GBA' 'GC' 'GEN' 'GG' 'N64' 'NES' 'NG'\n",
      " 'PC' 'PCFX' 'PS' 'PS2' 'PS3' 'PS4' 'PSP' 'PSV' 'SAT' 'SCD' 'SNES' 'TG16'\n",
      " 'WS' 'Wii' 'WiiU' 'X360' 'XB' 'XOne']\n",
      "----------------------------------------\n",
      "Уникальные значения в столбце rating:\n",
      "['AO' 'E' 'E10+' 'EC' 'K-A' 'M' 'RP' 'T' 'UNKNOWN']\n",
      "----------------------------------------\n",
      "Уникальные значения в столбце year_of_release:\n",
      "[1980 1981 1982 1983 1984 1985 1986 1987 1988 1989 1990 1991 1992 1993\n",
      " 1994 1995 1996 1997 1998 1999 2000 2001 2002 2003 2004 2005 2006 2007\n",
      " 2008 2009 2010 2011 2012 2013 2014 2015 2016]\n",
      "----------------------------------------\n",
      "Уникальные жанры: ['sports' 'platform' 'racing' 'role-playing' 'puzzle' 'misc' 'shooter'\n",
      " 'simulation' 'action' 'fighting' 'adventure' 'strategy']\n",
      "Уникальные рейтинги: ['E' 'UNKNOWN' 'M' 'T' 'E10+' 'K-A' 'AO' 'EC' 'RP']\n"
     ]
    }
   ],
   "source": [
    "#изучаем уникальные значения и выявляем неявные дубликаты\n",
    "categorical_columns = ['genre', 'platform', 'rating', 'year_of_release']\n",
    "for col in categorical_columns:\n",
    "    print(f'Уникальные значения в столбце {col}:')\n",
    "    print(df[col].sort_values().unique())\n",
    "    print('-'*40)\n",
    "print('Уникальные жанры:', df['genre'].unique())\n",
    "print('Уникальные рейтинги:', df['rating'].unique())"
   ]
  },
  {
   "cell_type": "code",
   "execution_count": 31,
   "id": "f1627198",
   "metadata": {
    "id": "f1627198",
    "scrolled": true
   },
   "outputs": [
    {
     "name": "stdout",
     "output_type": "stream",
     "text": [
      "После нормализации:\n",
      "Уникальные жанры: ['sports' 'platform' 'racing' 'role-playing' 'puzzle' 'misc' 'shooter'\n",
      " 'simulation' 'action' 'fighting' 'adventure' 'strategy']\n",
      "Уникальные рейтинги: ['E' 'UNKNOWN' 'M' 'T' 'E10+' 'K-A' 'AO' 'EC' 'RP']\n"
     ]
    }
   ],
   "source": [
    "#нормализация текстовых данных\n",
    "#приводим жанры и названия игр к нижнему регистру\n",
    "df['genre'] = df['genre'].str.lower()\n",
    "df['name'] = df['name'].str.lower()\n",
    "\n",
    "#приводим рейтинг к верхнему регистру\n",
    "df['rating'] = df['rating'].str.upper()\n",
    "\n",
    "#проверка после нормализации\n",
    "print('После нормализации:')\n",
    "print('Уникальные жанры:', df['genre'].unique())\n",
    "print('Уникальные рейтинги:', df['rating'].unique())"
   ]
  },
  {
   "cell_type": "markdown",
   "id": "4ac1cee6",
   "metadata": {},
   "source": [
    " <div class=\"alert alert-warning\">\n",
    "<h2> Комментарий ревьюера <a class=\"tocSkip\"> </h2>\n",
    "    \n",
    "<b>Некоторые замечания и рекомендации💡:</b> \n",
    "\n",
    "Здесь хитрая ситуация. У нас есть игры как из Европы, так и из Азии. В основном используется рейтинг ESRB https://ru.wikipedia.org/wiki/Entertainment_Software_Rating_Board \n",
    "    \n",
    "Но некоторых категорий из представленных у нас в нем нет. Фактически, это сходные категории, но в другом обозначении.\n",
    "    \n",
    "Например, можно заменить значения 'К-А' на 'Е'.\n",
    "    \n",
    "Рекомендую в подобных случаях уточнять информацию в интернете (в реальных проектах на реальной работе также, ну и можно всегда спрашивать у коллег, особенно у тех, кто предоставил данные. Часто такие категории объясняются в паспорте данных. Ну в нашем случае нужно залезть в интернет). \n"
   ]
  },
  {
   "cell_type": "markdown",
   "id": "fc3d3db4",
   "metadata": {
    "id": "fc3d3db4"
   },
   "source": [
    "- После того как нормализуете данные и устраните неявные дубликаты, проверьте наличие явных дубликатов в данных."
   ]
  },
  {
   "cell_type": "code",
   "execution_count": 33,
   "id": "fc5c91b5",
   "metadata": {
    "id": "fc5c91b5"
   },
   "outputs": [
    {
     "data": {
      "text/html": [
       "<div>\n",
       "<style scoped>\n",
       "    .dataframe tbody tr th:only-of-type {\n",
       "        vertical-align: middle;\n",
       "    }\n",
       "\n",
       "    .dataframe tbody tr th {\n",
       "        vertical-align: top;\n",
       "    }\n",
       "\n",
       "    .dataframe thead th {\n",
       "        text-align: right;\n",
       "    }\n",
       "</style>\n",
       "<table border=\"1\" class=\"dataframe\">\n",
       "  <thead>\n",
       "    <tr style=\"text-align: right;\">\n",
       "      <th></th>\n",
       "      <th>name</th>\n",
       "      <th>platform</th>\n",
       "      <th>year_of_release</th>\n",
       "      <th>genre</th>\n",
       "      <th>na_sales</th>\n",
       "      <th>eu_sales</th>\n",
       "      <th>jp_sales</th>\n",
       "      <th>other_sales</th>\n",
       "      <th>critic_score</th>\n",
       "      <th>user_score</th>\n",
       "      <th>rating</th>\n",
       "    </tr>\n",
       "  </thead>\n",
       "  <tbody>\n",
       "    <tr>\n",
       "      <th>15191</th>\n",
       "      <td>beyblade burst</td>\n",
       "      <td>3DS</td>\n",
       "      <td>2016</td>\n",
       "      <td>role-playing</td>\n",
       "      <td>0.00</td>\n",
       "      <td>0.00</td>\n",
       "      <td>0.03</td>\n",
       "      <td>0.00</td>\n",
       "      <td>74.0</td>\n",
       "      <td>7.80</td>\n",
       "      <td>UNKNOWN</td>\n",
       "    </tr>\n",
       "    <tr>\n",
       "      <th>15192</th>\n",
       "      <td>beyblade burst</td>\n",
       "      <td>3DS</td>\n",
       "      <td>2016</td>\n",
       "      <td>role-playing</td>\n",
       "      <td>0.00</td>\n",
       "      <td>0.00</td>\n",
       "      <td>0.03</td>\n",
       "      <td>0.00</td>\n",
       "      <td>74.0</td>\n",
       "      <td>7.80</td>\n",
       "      <td>UNKNOWN</td>\n",
       "    </tr>\n",
       "    <tr>\n",
       "      <th>15301</th>\n",
       "      <td>11eyes: crossover</td>\n",
       "      <td>X360</td>\n",
       "      <td>2009</td>\n",
       "      <td>adventure</td>\n",
       "      <td>0.00</td>\n",
       "      <td>0.00</td>\n",
       "      <td>0.02</td>\n",
       "      <td>0.00</td>\n",
       "      <td>63.0</td>\n",
       "      <td>6.95</td>\n",
       "      <td>UNKNOWN</td>\n",
       "    </tr>\n",
       "    <tr>\n",
       "      <th>15302</th>\n",
       "      <td>11eyes: crossover</td>\n",
       "      <td>X360</td>\n",
       "      <td>2009</td>\n",
       "      <td>adventure</td>\n",
       "      <td>0.00</td>\n",
       "      <td>0.00</td>\n",
       "      <td>0.02</td>\n",
       "      <td>0.00</td>\n",
       "      <td>63.0</td>\n",
       "      <td>6.95</td>\n",
       "      <td>UNKNOWN</td>\n",
       "    </tr>\n",
       "    <tr>\n",
       "      <th>4860</th>\n",
       "      <td>18 wheeler: american pro trucker</td>\n",
       "      <td>PS2</td>\n",
       "      <td>2001</td>\n",
       "      <td>racing</td>\n",
       "      <td>0.20</td>\n",
       "      <td>0.15</td>\n",
       "      <td>0.00</td>\n",
       "      <td>0.05</td>\n",
       "      <td>61.0</td>\n",
       "      <td>5.70</td>\n",
       "      <td>E</td>\n",
       "    </tr>\n",
       "    <tr>\n",
       "      <th>...</th>\n",
       "      <td>...</td>\n",
       "      <td>...</td>\n",
       "      <td>...</td>\n",
       "      <td>...</td>\n",
       "      <td>...</td>\n",
       "      <td>...</td>\n",
       "      <td>...</td>\n",
       "      <td>...</td>\n",
       "      <td>...</td>\n",
       "      <td>...</td>\n",
       "      <td>...</td>\n",
       "    </tr>\n",
       "    <tr>\n",
       "      <th>2909</th>\n",
       "      <td>yu-gi-oh! the falsebound kingdom</td>\n",
       "      <td>GC</td>\n",
       "      <td>2002</td>\n",
       "      <td>strategy</td>\n",
       "      <td>0.49</td>\n",
       "      <td>0.13</td>\n",
       "      <td>0.07</td>\n",
       "      <td>0.02</td>\n",
       "      <td>71.0</td>\n",
       "      <td>8.50</td>\n",
       "      <td>UNKNOWN</td>\n",
       "    </tr>\n",
       "    <tr>\n",
       "      <th>6695</th>\n",
       "      <td>zoo resort 3d</td>\n",
       "      <td>3DS</td>\n",
       "      <td>2011</td>\n",
       "      <td>simulation</td>\n",
       "      <td>0.11</td>\n",
       "      <td>0.09</td>\n",
       "      <td>0.03</td>\n",
       "      <td>0.02</td>\n",
       "      <td>71.0</td>\n",
       "      <td>7.40</td>\n",
       "      <td>E</td>\n",
       "    </tr>\n",
       "    <tr>\n",
       "      <th>6696</th>\n",
       "      <td>zoo resort 3d</td>\n",
       "      <td>3DS</td>\n",
       "      <td>2011</td>\n",
       "      <td>simulation</td>\n",
       "      <td>0.11</td>\n",
       "      <td>0.09</td>\n",
       "      <td>0.03</td>\n",
       "      <td>0.02</td>\n",
       "      <td>71.0</td>\n",
       "      <td>7.40</td>\n",
       "      <td>E</td>\n",
       "    </tr>\n",
       "    <tr>\n",
       "      <th>8156</th>\n",
       "      <td>zumba fitness rush</td>\n",
       "      <td>X360</td>\n",
       "      <td>2012</td>\n",
       "      <td>sports</td>\n",
       "      <td>0.00</td>\n",
       "      <td>0.16</td>\n",
       "      <td>0.00</td>\n",
       "      <td>0.02</td>\n",
       "      <td>73.0</td>\n",
       "      <td>6.20</td>\n",
       "      <td>E10+</td>\n",
       "    </tr>\n",
       "    <tr>\n",
       "      <th>8157</th>\n",
       "      <td>zumba fitness rush</td>\n",
       "      <td>X360</td>\n",
       "      <td>2012</td>\n",
       "      <td>sports</td>\n",
       "      <td>0.00</td>\n",
       "      <td>0.16</td>\n",
       "      <td>0.00</td>\n",
       "      <td>0.02</td>\n",
       "      <td>73.0</td>\n",
       "      <td>6.20</td>\n",
       "      <td>E10+</td>\n",
       "    </tr>\n",
       "  </tbody>\n",
       "</table>\n",
       "<p>458 rows × 11 columns</p>\n",
       "</div>"
      ],
      "text/plain": [
       "                                   name platform  year_of_release  \\\n",
       "15191                    beyblade burst      3DS             2016   \n",
       "15192                    beyblade burst      3DS             2016   \n",
       "15301                 11eyes: crossover     X360             2009   \n",
       "15302                 11eyes: crossover     X360             2009   \n",
       "4860   18 wheeler: american pro trucker      PS2             2001   \n",
       "...                                 ...      ...              ...   \n",
       "2909   yu-gi-oh! the falsebound kingdom       GC             2002   \n",
       "6695                      zoo resort 3d      3DS             2011   \n",
       "6696                      zoo resort 3d      3DS             2011   \n",
       "8156                 zumba fitness rush     X360             2012   \n",
       "8157                 zumba fitness rush     X360             2012   \n",
       "\n",
       "              genre  na_sales  eu_sales  jp_sales  other_sales  critic_score  \\\n",
       "15191  role-playing      0.00      0.00      0.03         0.00          74.0   \n",
       "15192  role-playing      0.00      0.00      0.03         0.00          74.0   \n",
       "15301     adventure      0.00      0.00      0.02         0.00          63.0   \n",
       "15302     adventure      0.00      0.00      0.02         0.00          63.0   \n",
       "4860         racing      0.20      0.15      0.00         0.05          61.0   \n",
       "...             ...       ...       ...       ...          ...           ...   \n",
       "2909       strategy      0.49      0.13      0.07         0.02          71.0   \n",
       "6695     simulation      0.11      0.09      0.03         0.02          71.0   \n",
       "6696     simulation      0.11      0.09      0.03         0.02          71.0   \n",
       "8156         sports      0.00      0.16      0.00         0.02          73.0   \n",
       "8157         sports      0.00      0.16      0.00         0.02          73.0   \n",
       "\n",
       "       user_score   rating  \n",
       "15191        7.80  UNKNOWN  \n",
       "15192        7.80  UNKNOWN  \n",
       "15301        6.95  UNKNOWN  \n",
       "15302        6.95  UNKNOWN  \n",
       "4860         5.70        E  \n",
       "...           ...      ...  \n",
       "2909         8.50  UNKNOWN  \n",
       "6695         7.40        E  \n",
       "6696         7.40        E  \n",
       "8156         6.20     E10+  \n",
       "8157         6.20     E10+  \n",
       "\n",
       "[458 rows x 11 columns]"
      ]
     },
     "metadata": {},
     "output_type": "display_data"
    }
   ],
   "source": [
    "#находим дубликаты\n",
    "#сортируем датафрейм по всем столбцам \n",
    "df_sorted = df.sort_values(by=df.columns.tolist())\n",
    "\n",
    "#находим дубликаты\n",
    "duplicates = df_sorted[df_sorted.duplicated(keep=False)]\n",
    "\n",
    "#выводим дубликаты\n",
    "display(duplicates) #вывели данные через display"
   ]
  },
  {
   "cell_type": "markdown",
   "id": "a751791c",
   "metadata": {},
   "source": [
    " <div class=\"alert alert-warning\">\n",
    "<h2> Комментарий ревьюера <a class=\"tocSkip\"> </h2>\n",
    "    \n",
    "<b>Некоторые замечания и рекомендации💡:</b> \n",
    "\n",
    "здесь также лучше вывести таблицу через display()"
   ]
  },
  {
   "cell_type": "code",
   "execution_count": 34,
   "id": "2f61e076",
   "metadata": {
    "id": "2f61e076"
   },
   "outputs": [
    {
     "name": "stdout",
     "output_type": "stream",
     "text": [
      "Количество строк до удаления дубликатов: 16679\n",
      "Число явных дубликатов: 229\n",
      "Количество строк после удаления дубликатов: 16450\n"
     ]
    }
   ],
   "source": [
    "#удаляем дубликаты\n",
    "#сохраняем количество строк до удаления дубликатов \n",
    "initial_row_count = df.shape[0]\n",
    "\n",
    "#считам число явных дубликатов\n",
    "duplicates_count = df.duplicated().sum()\n",
    "\n",
    "#удаляем дубликаты\n",
    "df_no_duplicates = df_sorted.drop_duplicates().reset_index(drop=True)\n",
    "\n",
    "#сохраняем количество строк после удаления дубликатов\n",
    "final_row_count = df_no_duplicates.shape[0]\n",
    "\n",
    "#выводим результаты\n",
    "print(f\"Количество строк до удаления дубликатов: {initial_row_count}\")\n",
    "print(f'Число явных дубликатов: {duplicates_count}')\n",
    "print(f\"Количество строк после удаления дубликатов: {final_row_count}\")"
   ]
  },
  {
   "cell_type": "markdown",
   "id": "54616bae",
   "metadata": {
    "id": "54616bae"
   },
   "source": [
    "- Напишите промежуточный вывод: укажите количество найденных дубликатов и действия по их обработке."
   ]
  },
  {
   "cell_type": "markdown",
   "id": "f22d8f6c",
   "metadata": {
    "id": "8548f894"
   },
   "source": [
    "В исходных данных столбца genre было 24 уникальных значения.\n",
    "После нормализации (приведения к нижнему регистру) осталось 12 уникальных значений.\n",
    "Обнаружено и устранено **12 неявных дубликатов**, которые были вызваны разницей в регистре написания жанров."
   ]
  },
  {
   "cell_type": "markdown",
   "id": "83fcf60e",
   "metadata": {
    "id": "327e55bb"
   },
   "source": [
    "В дадатфрейме было найдено также **207 явных дубликатов**, которые были удалены"
   ]
  },
  {
   "cell_type": "markdown",
   "id": "72645ae9",
   "metadata": {
    "id": "72645ae9"
   },
   "source": [
    "- В процессе подготовки данных вы могли что-либо удалять, например строки с пропусками или ошибками, дубликаты и прочее. В этом случае посчитайте количество удалённых строк в абсолютном и относительном значениях."
   ]
  },
  {
   "cell_type": "code",
   "execution_count": 35,
   "id": "f9d8ee19",
   "metadata": {
    "id": "f9d8ee19"
   },
   "outputs": [
    {
     "name": "stdout",
     "output_type": "stream",
     "text": [
      "Всего удалено строк: 506 (2.98%)\n"
     ]
    }
   ],
   "source": [
    "#считаем количество удалённых строк в абсолютном и относительном значениях\n",
    "rows_removed_total = total_initial_rows - final_row_count\n",
    "rows_removed_percent = (rows_removed_total / total_initial_rows) * 100\n",
    "\n",
    "#вывод\n",
    "print(f'Всего удалено строк: {rows_removed_total} ({rows_removed_percent:.2f}%)')"
   ]
  },
  {
   "cell_type": "markdown",
   "id": "b3f4c435",
   "metadata": {},
   "source": [
    "<div class=\"alert alert-success\">\n",
    "<h2> Комментарий ревьюера <a class=\"tocSkip\"> </h2>\n",
    " \n",
    "👍 Всё верно по расчетам: отдельно смотрим долю дубликатов, отдельно считаем долю удаленных строк за всю предобработку.\n",
    "</div>    \n",
    "\n"
   ]
  },
  {
   "cell_type": "markdown",
   "id": "47613d75",
   "metadata": {
    "id": "47613d75"
   },
   "source": [
    "- После проведения предобработки данных напишите общий промежуточный вывод."
   ]
  },
  {
   "cell_type": "markdown",
   "id": "cfe698c3",
   "metadata": {
    "id": "5166fdf8"
   },
   "source": [
    "***Пропуски и их доля:***\n",
    "* *name: 2 пропуска (0.0%)* Действие: удаление строк, так как доля мала, а заполнение невозможно.\n",
    "\n",
    "* *platform: пропусков нет (0.0%)* Действие: нет необходимости обрабатывать.\n",
    "\n",
    "* *year_of_release: 275 пропусков (1.6%)* Действие: удаление строк, так как доля небольшая, и корректно заполнить нельзя.\n",
    "\n",
    "* *genre: 2 пропуска (0.0%)* Действие: удаление строк, так как доля мала и заполнение некорректно.\n",
    "\n",
    "* *critic_score: 8714 пропусков (51.4%)* Действие: заполнение медианными значениями в разрезе платформы и жанра.\n",
    "\n",
    "* *user_score: 6804 пропуска (40.1%)* Действие: заполнение медианными значениями в разрезе платформы и жанра.\n",
    "\n",
    "* *rating: 6871 пропуск (40.5%)* Действие: заполнение значением unknown, так как многие игры не получили рейтинг ESRB."
   ]
  },
  {
   "cell_type": "markdown",
   "id": "430af65a",
   "metadata": {
    "id": "12a69dba"
   },
   "source": [
    "***Нулевые значения и их доля:***\n",
    "* *na_sales: 4574 нулевых значений (27.0%)* Действие: оставить без изменений, так как могут отражать реальные нулевые продажи.\n",
    "\n",
    "* *other_sales: 6701 нулевое значение (39.5%)* Действие: оставить без изменений, так как могут отражать реальные нулевые продажи.\n",
    "\n",
    "Остальные столбцы не содержат нулевых значений."
   ]
  },
  {
   "cell_type": "markdown",
   "id": "10cc4964",
   "metadata": {
    "id": "a2c09ca7"
   },
   "source": [
    "***Неявные дубликаты.***\n",
    "В столбце genre исходно было 24 уникальных значения.\n",
    "После нормализации к нижнему регистру осталось 12 уникальных значений.\n",
    "Устранено 12 неявных дубликатов, вызванных разницей в регистре написания жанров."
   ]
  },
  {
   "cell_type": "markdown",
   "id": "faa80a44",
   "metadata": {},
   "source": [
    "***Явные дубликаты.*** После нормализации найдено и удалено 207 явных дубликатов (полностью идентичные строки).\n",
    "Всего удалено строк: 207 (1.24%) от исходного датасета."
   ]
  },
  {
   "cell_type": "markdown",
   "id": "edf9310c",
   "metadata": {},
   "source": [
    "<div class=\"alert alert-success\">\n",
    "<h2> Комментарий ревьюера <a class=\"tocSkip\"> </h2>\n",
    " \n",
    "👍 Отлично по предобработке.\n",
    "</div>    \n",
    "\n"
   ]
  },
  {
   "cell_type": "markdown",
   "id": "613f0eb0",
   "metadata": {
    "id": "613f0eb0"
   },
   "source": [
    "---\n",
    "\n",
    "## 3. Фильтрация данных\n",
    "\n",
    "Коллеги хотят изучить историю продаж игр в начале XXI века, и их интересует период с 2000 по 2013 год включительно. Отберите данные по этому показателю. Сохраните новый срез данных в отдельном датафрейме, например `df_actual`."
   ]
  },
  {
   "cell_type": "code",
   "execution_count": 37,
   "id": "2344916d",
   "metadata": {
    "id": "2344916d"
   },
   "outputs": [
    {
     "data": {
      "text/html": [
       "<div>\n",
       "<style scoped>\n",
       "    .dataframe tbody tr th:only-of-type {\n",
       "        vertical-align: middle;\n",
       "    }\n",
       "\n",
       "    .dataframe tbody tr th {\n",
       "        vertical-align: top;\n",
       "    }\n",
       "\n",
       "    .dataframe thead th {\n",
       "        text-align: right;\n",
       "    }\n",
       "</style>\n",
       "<table border=\"1\" class=\"dataframe\">\n",
       "  <thead>\n",
       "    <tr style=\"text-align: right;\">\n",
       "      <th></th>\n",
       "      <th>name</th>\n",
       "      <th>platform</th>\n",
       "      <th>year_of_release</th>\n",
       "      <th>genre</th>\n",
       "      <th>na_sales</th>\n",
       "      <th>eu_sales</th>\n",
       "      <th>jp_sales</th>\n",
       "      <th>other_sales</th>\n",
       "      <th>critic_score</th>\n",
       "      <th>user_score</th>\n",
       "      <th>rating</th>\n",
       "    </tr>\n",
       "  </thead>\n",
       "  <tbody>\n",
       "    <tr>\n",
       "      <th>0</th>\n",
       "      <td>wii sports</td>\n",
       "      <td>Wii</td>\n",
       "      <td>2006</td>\n",
       "      <td>sports</td>\n",
       "      <td>41.36</td>\n",
       "      <td>28.96</td>\n",
       "      <td>3.77</td>\n",
       "      <td>8.45</td>\n",
       "      <td>76.0</td>\n",
       "      <td>8.00</td>\n",
       "      <td>E</td>\n",
       "    </tr>\n",
       "    <tr>\n",
       "      <th>2</th>\n",
       "      <td>mario kart wii</td>\n",
       "      <td>Wii</td>\n",
       "      <td>2008</td>\n",
       "      <td>racing</td>\n",
       "      <td>15.68</td>\n",
       "      <td>12.76</td>\n",
       "      <td>3.79</td>\n",
       "      <td>3.29</td>\n",
       "      <td>82.0</td>\n",
       "      <td>8.30</td>\n",
       "      <td>E</td>\n",
       "    </tr>\n",
       "    <tr>\n",
       "      <th>3</th>\n",
       "      <td>wii sports resort</td>\n",
       "      <td>Wii</td>\n",
       "      <td>2009</td>\n",
       "      <td>sports</td>\n",
       "      <td>15.61</td>\n",
       "      <td>10.93</td>\n",
       "      <td>3.28</td>\n",
       "      <td>2.95</td>\n",
       "      <td>80.0</td>\n",
       "      <td>8.00</td>\n",
       "      <td>E</td>\n",
       "    </tr>\n",
       "    <tr>\n",
       "      <th>6</th>\n",
       "      <td>new super mario bros.</td>\n",
       "      <td>DS</td>\n",
       "      <td>2006</td>\n",
       "      <td>platform</td>\n",
       "      <td>11.28</td>\n",
       "      <td>9.14</td>\n",
       "      <td>6.50</td>\n",
       "      <td>2.88</td>\n",
       "      <td>89.0</td>\n",
       "      <td>8.50</td>\n",
       "      <td>E</td>\n",
       "    </tr>\n",
       "    <tr>\n",
       "      <th>7</th>\n",
       "      <td>wii play</td>\n",
       "      <td>Wii</td>\n",
       "      <td>2006</td>\n",
       "      <td>misc</td>\n",
       "      <td>13.96</td>\n",
       "      <td>9.18</td>\n",
       "      <td>2.93</td>\n",
       "      <td>2.84</td>\n",
       "      <td>58.0</td>\n",
       "      <td>6.60</td>\n",
       "      <td>E</td>\n",
       "    </tr>\n",
       "    <tr>\n",
       "      <th>...</th>\n",
       "      <td>...</td>\n",
       "      <td>...</td>\n",
       "      <td>...</td>\n",
       "      <td>...</td>\n",
       "      <td>...</td>\n",
       "      <td>...</td>\n",
       "      <td>...</td>\n",
       "      <td>...</td>\n",
       "      <td>...</td>\n",
       "      <td>...</td>\n",
       "      <td>...</td>\n",
       "    </tr>\n",
       "    <tr>\n",
       "      <th>16947</th>\n",
       "      <td>men in black ii: alien escape</td>\n",
       "      <td>GC</td>\n",
       "      <td>2003</td>\n",
       "      <td>shooter</td>\n",
       "      <td>0.01</td>\n",
       "      <td>0.00</td>\n",
       "      <td>0.00</td>\n",
       "      <td>0.00</td>\n",
       "      <td>73.0</td>\n",
       "      <td>7.90</td>\n",
       "      <td>T</td>\n",
       "    </tr>\n",
       "    <tr>\n",
       "      <th>16949</th>\n",
       "      <td>woody woodpecker in crazy castle 5</td>\n",
       "      <td>GBA</td>\n",
       "      <td>2002</td>\n",
       "      <td>platform</td>\n",
       "      <td>0.01</td>\n",
       "      <td>0.00</td>\n",
       "      <td>0.00</td>\n",
       "      <td>0.00</td>\n",
       "      <td>71.0</td>\n",
       "      <td>8.00</td>\n",
       "      <td>UNKNOWN</td>\n",
       "    </tr>\n",
       "    <tr>\n",
       "      <th>16950</th>\n",
       "      <td>score international baja 1000: the official game</td>\n",
       "      <td>PS2</td>\n",
       "      <td>2008</td>\n",
       "      <td>racing</td>\n",
       "      <td>0.00</td>\n",
       "      <td>0.00</td>\n",
       "      <td>0.00</td>\n",
       "      <td>0.00</td>\n",
       "      <td>67.5</td>\n",
       "      <td>7.85</td>\n",
       "      <td>UNKNOWN</td>\n",
       "    </tr>\n",
       "    <tr>\n",
       "      <th>16952</th>\n",
       "      <td>lma manager 2007</td>\n",
       "      <td>X360</td>\n",
       "      <td>2006</td>\n",
       "      <td>sports</td>\n",
       "      <td>0.00</td>\n",
       "      <td>0.01</td>\n",
       "      <td>0.00</td>\n",
       "      <td>0.00</td>\n",
       "      <td>73.0</td>\n",
       "      <td>6.60</td>\n",
       "      <td>UNKNOWN</td>\n",
       "    </tr>\n",
       "    <tr>\n",
       "      <th>16954</th>\n",
       "      <td>spirits &amp; spells</td>\n",
       "      <td>GBA</td>\n",
       "      <td>2003</td>\n",
       "      <td>platform</td>\n",
       "      <td>0.01</td>\n",
       "      <td>0.00</td>\n",
       "      <td>0.00</td>\n",
       "      <td>0.00</td>\n",
       "      <td>71.0</td>\n",
       "      <td>8.00</td>\n",
       "      <td>UNKNOWN</td>\n",
       "    </tr>\n",
       "  </tbody>\n",
       "</table>\n",
       "<p>12980 rows × 11 columns</p>\n",
       "</div>"
      ],
      "text/plain": [
       "                                                   name platform  \\\n",
       "0                                            wii sports      Wii   \n",
       "2                                        mario kart wii      Wii   \n",
       "3                                     wii sports resort      Wii   \n",
       "6                                 new super mario bros.       DS   \n",
       "7                                              wii play      Wii   \n",
       "...                                                 ...      ...   \n",
       "16947                     men in black ii: alien escape       GC   \n",
       "16949                woody woodpecker in crazy castle 5      GBA   \n",
       "16950  score international baja 1000: the official game      PS2   \n",
       "16952                                  lma manager 2007     X360   \n",
       "16954                                  spirits & spells      GBA   \n",
       "\n",
       "       year_of_release     genre  na_sales  eu_sales  jp_sales  other_sales  \\\n",
       "0                 2006    sports     41.36     28.96      3.77         8.45   \n",
       "2                 2008    racing     15.68     12.76      3.79         3.29   \n",
       "3                 2009    sports     15.61     10.93      3.28         2.95   \n",
       "6                 2006  platform     11.28      9.14      6.50         2.88   \n",
       "7                 2006      misc     13.96      9.18      2.93         2.84   \n",
       "...                ...       ...       ...       ...       ...          ...   \n",
       "16947             2003   shooter      0.01      0.00      0.00         0.00   \n",
       "16949             2002  platform      0.01      0.00      0.00         0.00   \n",
       "16950             2008    racing      0.00      0.00      0.00         0.00   \n",
       "16952             2006    sports      0.00      0.01      0.00         0.00   \n",
       "16954             2003  platform      0.01      0.00      0.00         0.00   \n",
       "\n",
       "       critic_score  user_score   rating  \n",
       "0              76.0        8.00        E  \n",
       "2              82.0        8.30        E  \n",
       "3              80.0        8.00        E  \n",
       "6              89.0        8.50        E  \n",
       "7              58.0        6.60        E  \n",
       "...             ...         ...      ...  \n",
       "16947          73.0        7.90        T  \n",
       "16949          71.0        8.00  UNKNOWN  \n",
       "16950          67.5        7.85  UNKNOWN  \n",
       "16952          73.0        6.60  UNKNOWN  \n",
       "16954          71.0        8.00  UNKNOWN  \n",
       "\n",
       "[12980 rows x 11 columns]"
      ]
     },
     "metadata": {},
     "output_type": "display_data"
    }
   ],
   "source": [
    "#фильтруем данные по году выпуска игр (с 2000 по 2013 включительно)\n",
    "df_actual = df[(df['year_of_release'] >= 2000) & (df['year_of_release'] <= 2013)]\n",
    "\n",
    "#создали копию среза для дальнейших действий\n",
    "df_actual = df_actual.copy()\n",
    "\n",
    "#выводим\n",
    "display(df_actual)"
   ]
  },
  {
   "cell_type": "code",
   "execution_count": 41,
   "id": "d49b2293",
   "metadata": {},
   "outputs": [
    {
     "name": "stdout",
     "output_type": "stream",
     "text": [
      "Количество строк до фильтрации: 16679\n",
      "Количество строк после фильтрации: 12980\n",
      "Всего отфильтровано строк: 3699\n"
     ]
    }
   ],
   "source": [
    "#число строк ДО фильтрации\n",
    "initial_row_count = df.shape[0]\n",
    "\n",
    "#убрана часть кода с фильтрацией по периоду\n",
    "\n",
    "#число строк ПОСЛЕ фильтрации\n",
    "filtered_row_count = df_actual.shape[0]\n",
    "\n",
    "#сколько строк было ОТФИЛЬТРОВАНО\n",
    "rows_removed = initial_row_count - filtered_row_count\n",
    "\n",
    "#выводим результаты\n",
    "print(f'Количество строк до фильтрации: {initial_row_count}')\n",
    "print(f'Количество строк после фильтрации: {filtered_row_count}')\n",
    "print(f'Всего отфильтровано строк: {rows_removed}')"
   ]
  },
  {
   "cell_type": "markdown",
   "id": "ee738699",
   "metadata": {},
   "source": [
    "<div class=\"alert alert-warning\">\n",
    "<h2> Комментарий ревьюера <a class=\"tocSkip\"> </h2>\n",
    "    \n",
    "<b>Некоторые замечания и рекомендации💡:</b> \n",
    "\n",
    "Здесь также нужно убрать дублирование кода с фильтрацией по периоду.\n",
    "\n",
    "</div> \n"
   ]
  },
  {
   "cell_type": "markdown",
   "id": "a6f10b01",
   "metadata": {
    "id": "a6f10b01"
   },
   "source": [
    "---\n",
    "\n",
    "## 4. Категоризация данных\n",
    "    \n",
    "Проведите категоризацию данных:\n",
    "- Разделите все игры по оценкам пользователей и выделите такие категории: высокая оценка (от 8 до 10 включительно), средняя оценка (от 3 до 8, не включая правую границу интервала) и низкая оценка (от 0 до 3, не включая правую границу интервала)."
   ]
  },
  {
   "cell_type": "code",
   "execution_count": 42,
   "id": "3db87229",
   "metadata": {
    "id": "3db87229"
   },
   "outputs": [
    {
     "data": {
      "text/html": [
       "<div>\n",
       "<style scoped>\n",
       "    .dataframe tbody tr th:only-of-type {\n",
       "        vertical-align: middle;\n",
       "    }\n",
       "\n",
       "    .dataframe tbody tr th {\n",
       "        vertical-align: top;\n",
       "    }\n",
       "\n",
       "    .dataframe thead th {\n",
       "        text-align: right;\n",
       "    }\n",
       "</style>\n",
       "<table border=\"1\" class=\"dataframe\">\n",
       "  <thead>\n",
       "    <tr style=\"text-align: right;\">\n",
       "      <th></th>\n",
       "      <th>name</th>\n",
       "      <th>user_score</th>\n",
       "      <th>user_score_category</th>\n",
       "    </tr>\n",
       "  </thead>\n",
       "  <tbody>\n",
       "    <tr>\n",
       "      <th>0</th>\n",
       "      <td>wii sports</td>\n",
       "      <td>8.00</td>\n",
       "      <td>высокая оценка</td>\n",
       "    </tr>\n",
       "    <tr>\n",
       "      <th>2</th>\n",
       "      <td>mario kart wii</td>\n",
       "      <td>8.30</td>\n",
       "      <td>высокая оценка</td>\n",
       "    </tr>\n",
       "    <tr>\n",
       "      <th>3</th>\n",
       "      <td>wii sports resort</td>\n",
       "      <td>8.00</td>\n",
       "      <td>высокая оценка</td>\n",
       "    </tr>\n",
       "    <tr>\n",
       "      <th>6</th>\n",
       "      <td>new super mario bros.</td>\n",
       "      <td>8.50</td>\n",
       "      <td>высокая оценка</td>\n",
       "    </tr>\n",
       "    <tr>\n",
       "      <th>7</th>\n",
       "      <td>wii play</td>\n",
       "      <td>6.60</td>\n",
       "      <td>средняя оценка</td>\n",
       "    </tr>\n",
       "    <tr>\n",
       "      <th>...</th>\n",
       "      <td>...</td>\n",
       "      <td>...</td>\n",
       "      <td>...</td>\n",
       "    </tr>\n",
       "    <tr>\n",
       "      <th>16947</th>\n",
       "      <td>men in black ii: alien escape</td>\n",
       "      <td>7.90</td>\n",
       "      <td>средняя оценка</td>\n",
       "    </tr>\n",
       "    <tr>\n",
       "      <th>16949</th>\n",
       "      <td>woody woodpecker in crazy castle 5</td>\n",
       "      <td>8.00</td>\n",
       "      <td>высокая оценка</td>\n",
       "    </tr>\n",
       "    <tr>\n",
       "      <th>16950</th>\n",
       "      <td>score international baja 1000: the official game</td>\n",
       "      <td>7.85</td>\n",
       "      <td>средняя оценка</td>\n",
       "    </tr>\n",
       "    <tr>\n",
       "      <th>16952</th>\n",
       "      <td>lma manager 2007</td>\n",
       "      <td>6.60</td>\n",
       "      <td>средняя оценка</td>\n",
       "    </tr>\n",
       "    <tr>\n",
       "      <th>16954</th>\n",
       "      <td>spirits &amp; spells</td>\n",
       "      <td>8.00</td>\n",
       "      <td>высокая оценка</td>\n",
       "    </tr>\n",
       "  </tbody>\n",
       "</table>\n",
       "<p>12980 rows × 3 columns</p>\n",
       "</div>"
      ],
      "text/plain": [
       "                                                   name  user_score  \\\n",
       "0                                            wii sports        8.00   \n",
       "2                                        mario kart wii        8.30   \n",
       "3                                     wii sports resort        8.00   \n",
       "6                                 new super mario bros.        8.50   \n",
       "7                                              wii play        6.60   \n",
       "...                                                 ...         ...   \n",
       "16947                     men in black ii: alien escape        7.90   \n",
       "16949                woody woodpecker in crazy castle 5        8.00   \n",
       "16950  score international baja 1000: the official game        7.85   \n",
       "16952                                  lma manager 2007        6.60   \n",
       "16954                                  spirits & spells        8.00   \n",
       "\n",
       "      user_score_category  \n",
       "0          высокая оценка  \n",
       "2          высокая оценка  \n",
       "3          высокая оценка  \n",
       "6          высокая оценка  \n",
       "7          средняя оценка  \n",
       "...                   ...  \n",
       "16947      средняя оценка  \n",
       "16949      высокая оценка  \n",
       "16950      средняя оценка  \n",
       "16952      средняя оценка  \n",
       "16954      высокая оценка  \n",
       "\n",
       "[12980 rows x 3 columns]"
      ]
     },
     "metadata": {},
     "output_type": "display_data"
    }
   ],
   "source": [
    "#используем срез датафрейма для категоризации\n",
    "df_actual = df_actual.copy()\n",
    "\n",
    "#пользовательская функция для категоризации оценок пользователей\n",
    "def categorize_user_score(score):\n",
    "    if score >= 8:\n",
    "        return 'высокая оценка'\n",
    "    elif 3 <= score < 8:\n",
    "        return 'средняя оценка'\n",
    "    elif 0 <= score < 3:\n",
    "        return 'низкая оценка'\n",
    "    else:\n",
    "        return 'нет оценки'\n",
    "\n",
    "#добавление столбца\n",
    "df_actual.loc[:, 'user_score_category'] = df_actual['user_score'].apply(categorize_user_score)\n",
    "\n",
    "#вывод\n",
    "display(df_actual[['name', 'user_score', 'user_score_category']])"
   ]
  },
  {
   "cell_type": "markdown",
   "id": "f8f34b40",
   "metadata": {
    "id": "f8f34b40"
   },
   "source": [
    "- Разделите все игры по оценкам критиков и выделите такие категории: высокая оценка (от 80 до 100 включительно), средняя оценка (от 30 до 80, не включая правую границу интервала) и низкая оценка (от 0 до 30, не включая правую границу интервала)."
   ]
  },
  {
   "cell_type": "code",
   "execution_count": 43,
   "id": "e3f7acb0",
   "metadata": {
    "id": "e3f7acb0"
   },
   "outputs": [
    {
     "data": {
      "text/html": [
       "<div>\n",
       "<style scoped>\n",
       "    .dataframe tbody tr th:only-of-type {\n",
       "        vertical-align: middle;\n",
       "    }\n",
       "\n",
       "    .dataframe tbody tr th {\n",
       "        vertical-align: top;\n",
       "    }\n",
       "\n",
       "    .dataframe thead th {\n",
       "        text-align: right;\n",
       "    }\n",
       "</style>\n",
       "<table border=\"1\" class=\"dataframe\">\n",
       "  <thead>\n",
       "    <tr style=\"text-align: right;\">\n",
       "      <th></th>\n",
       "      <th>name</th>\n",
       "      <th>critic_score</th>\n",
       "      <th>critic_score_category</th>\n",
       "    </tr>\n",
       "  </thead>\n",
       "  <tbody>\n",
       "    <tr>\n",
       "      <th>0</th>\n",
       "      <td>wii sports</td>\n",
       "      <td>76.0</td>\n",
       "      <td>средняя оценка</td>\n",
       "    </tr>\n",
       "    <tr>\n",
       "      <th>2</th>\n",
       "      <td>mario kart wii</td>\n",
       "      <td>82.0</td>\n",
       "      <td>высокая оценка</td>\n",
       "    </tr>\n",
       "    <tr>\n",
       "      <th>3</th>\n",
       "      <td>wii sports resort</td>\n",
       "      <td>80.0</td>\n",
       "      <td>высокая оценка</td>\n",
       "    </tr>\n",
       "    <tr>\n",
       "      <th>6</th>\n",
       "      <td>new super mario bros.</td>\n",
       "      <td>89.0</td>\n",
       "      <td>высокая оценка</td>\n",
       "    </tr>\n",
       "    <tr>\n",
       "      <th>7</th>\n",
       "      <td>wii play</td>\n",
       "      <td>58.0</td>\n",
       "      <td>средняя оценка</td>\n",
       "    </tr>\n",
       "    <tr>\n",
       "      <th>...</th>\n",
       "      <td>...</td>\n",
       "      <td>...</td>\n",
       "      <td>...</td>\n",
       "    </tr>\n",
       "    <tr>\n",
       "      <th>16947</th>\n",
       "      <td>men in black ii: alien escape</td>\n",
       "      <td>73.0</td>\n",
       "      <td>средняя оценка</td>\n",
       "    </tr>\n",
       "    <tr>\n",
       "      <th>16949</th>\n",
       "      <td>woody woodpecker in crazy castle 5</td>\n",
       "      <td>71.0</td>\n",
       "      <td>средняя оценка</td>\n",
       "    </tr>\n",
       "    <tr>\n",
       "      <th>16950</th>\n",
       "      <td>score international baja 1000: the official game</td>\n",
       "      <td>67.5</td>\n",
       "      <td>средняя оценка</td>\n",
       "    </tr>\n",
       "    <tr>\n",
       "      <th>16952</th>\n",
       "      <td>lma manager 2007</td>\n",
       "      <td>73.0</td>\n",
       "      <td>средняя оценка</td>\n",
       "    </tr>\n",
       "    <tr>\n",
       "      <th>16954</th>\n",
       "      <td>spirits &amp; spells</td>\n",
       "      <td>71.0</td>\n",
       "      <td>средняя оценка</td>\n",
       "    </tr>\n",
       "  </tbody>\n",
       "</table>\n",
       "<p>12980 rows × 3 columns</p>\n",
       "</div>"
      ],
      "text/plain": [
       "                                                   name  critic_score  \\\n",
       "0                                            wii sports          76.0   \n",
       "2                                        mario kart wii          82.0   \n",
       "3                                     wii sports resort          80.0   \n",
       "6                                 new super mario bros.          89.0   \n",
       "7                                              wii play          58.0   \n",
       "...                                                 ...           ...   \n",
       "16947                     men in black ii: alien escape          73.0   \n",
       "16949                woody woodpecker in crazy castle 5          71.0   \n",
       "16950  score international baja 1000: the official game          67.5   \n",
       "16952                                  lma manager 2007          73.0   \n",
       "16954                                  spirits & spells          71.0   \n",
       "\n",
       "      critic_score_category  \n",
       "0            средняя оценка  \n",
       "2            высокая оценка  \n",
       "3            высокая оценка  \n",
       "6            высокая оценка  \n",
       "7            средняя оценка  \n",
       "...                     ...  \n",
       "16947        средняя оценка  \n",
       "16949        средняя оценка  \n",
       "16950        средняя оценка  \n",
       "16952        средняя оценка  \n",
       "16954        средняя оценка  \n",
       "\n",
       "[12980 rows x 3 columns]"
      ]
     },
     "metadata": {},
     "output_type": "display_data"
    }
   ],
   "source": [
    "#пользовательская функция для категоризации оценок критиков\n",
    "def categorize_critic_score(score):\n",
    "    if score >= 80:\n",
    "        return 'высокая оценка'\n",
    "    elif 30 <= score < 80:\n",
    "        return 'средняя оценка'\n",
    "    elif 0 <= score < 30:\n",
    "        return 'низкая оценка'\n",
    "    else:\n",
    "        return 'нет оценки'\n",
    "\n",
    "#добавление столбца с категорией оценки критиков\n",
    "df_actual.loc[:, 'critic_score_category'] = df_actual['critic_score'].apply(categorize_critic_score)\n",
    "\n",
    "#вывод\n",
    "display(df_actual[['name', 'critic_score', 'critic_score_category']])"
   ]
  },
  {
   "cell_type": "markdown",
   "id": "olkTlTlAUDR9",
   "metadata": {
    "id": "olkTlTlAUDR9"
   },
   "source": [
    "- После категоризации данных проверьте результат: сгруппируйте данные по выделенным категориям и посчитайте количество игр в каждой категории."
   ]
  },
  {
   "cell_type": "code",
   "execution_count": 45,
   "id": "HW0Nsp-4UMSL",
   "metadata": {
    "id": "HW0Nsp-4UMSL"
   },
   "outputs": [
    {
     "name": "stdout",
     "output_type": "stream",
     "text": [
      "Количество игр в каждой категории ПО оценкам пользователей:\n",
      "средняя оценка    9607\n",
      "высокая оценка    3149\n",
      "низкая оценка      119\n",
      "нет оценки         105\n",
      "Name: user_score_category, dtype: int64\n"
     ]
    }
   ],
   "source": [
    "#считаем количество игр по категориям ПО оценкам пользователей\n",
    "category_counts = df_actual['user_score_category'].value_counts()\n",
    "\n",
    "#результат\n",
    "print('Количество игр в каждой категории ПО оценкам пользователей:')\n",
    "print(category_counts)"
   ]
  },
  {
   "cell_type": "code",
   "execution_count": 46,
   "id": "x2ne0HIpUMMD",
   "metadata": {
    "id": "x2ne0HIpUMMD"
   },
   "outputs": [
    {
     "name": "stdout",
     "output_type": "stream",
     "text": [
      "Количество игр в каждой категории ПО оценкам критиков:\n",
      "средняя оценка    10974\n",
      "высокая оценка     1843\n",
      "нет оценки          108\n",
      "низкая оценка        55\n",
      "Name: critic_score_category, dtype: int64\n"
     ]
    }
   ],
   "source": [
    "#считаем количество игр по категориям ПО оценкам критиков\n",
    "critic_category_counts = df_actual['critic_score_category'].value_counts()\n",
    "\n",
    "#результат\n",
    "print('Количество игр в каждой категории ПО оценкам критиков:')\n",
    "print(critic_category_counts)"
   ]
  },
  {
   "cell_type": "markdown",
   "id": "6a98444c",
   "metadata": {
    "id": "6a98444c"
   },
   "source": [
    "- Выделите топ-7 платформ по количеству игр, выпущенных за весь актуальный период."
   ]
  },
  {
   "cell_type": "code",
   "execution_count": 47,
   "id": "003caa2c",
   "metadata": {
    "id": "003caa2c"
   },
   "outputs": [
    {
     "name": "stdout",
     "output_type": "stream",
     "text": [
      "Топ-7 платформ по количеству выпущенных игр за актуальный период (2000-2013 гг.):\n",
      "PS2     2154\n",
      "DS      2146\n",
      "Wii     1294\n",
      "PSP     1199\n",
      "X360    1138\n",
      "PS3     1107\n",
      "GBA      826\n",
      "Name: platform, dtype: int64\n"
     ]
    }
   ],
   "source": [
    "#считаем количество игр по платформам и выделение топ-7\n",
    "top_7_platforms = df_actual['platform'].value_counts().head(7)\n",
    "\n",
    "#вывод\n",
    "print('Топ-7 платформ по количеству выпущенных игр за актуальный период (2000-2013 гг.):')\n",
    "print(top_7_platforms)"
   ]
  },
  {
   "cell_type": "markdown",
   "id": "c263e3c7",
   "metadata": {},
   "source": [
    "<div class=\"alert alert-success\"> \n",
    "<h2> Комментарий ревьюера <a class=\"tocSkip\"> </h2>\n",
    "\n",
    "👍 Здесь все корректно по всем рассчетам.\n",
    "</div>  \n",
    "\t  "
   ]
  },
  {
   "cell_type": "markdown",
   "id": "c0158881",
   "metadata": {
    "id": "c0158881"
   },
   "source": [
    "---\n",
    "\n",
    "## 5. Итоговый вывод\n",
    "\n",
    "В конце напишите основной вывод и отразите, какую работу проделали. Не забудьте указать описание среза данных и новых полей, которые добавили в исходный датасет."
   ]
  },
  {
   "cell_type": "markdown",
   "id": "24a25aa8",
   "metadata": {},
   "source": [
    "### Проверка ошибок в данных и их предобработка\n",
    "\n",
    "- Приведены все названия к стилю snake_case (нижний регистр, пробелы заменены на подчёркивания)."
   ]
  },
  {
   "cell_type": "markdown",
   "id": "5158db2d",
   "metadata": {
    "id": "20175f5b"
   },
   "source": [
    "### Обработка пропусков\n",
    "\n",
    "* Удалены незначительные пропуски в столбцах name, genre, year_of_release.\n",
    "\n",
    "* Значительные пропуски в оценках критиков (critic_score) и пользователей (user_score) заполнены медианными значениями, рассчитанными по сочетанию платформы и жанр.\n",
    "\n",
    "* Пропуски в рейтинге ESRB (rating) заполнены значением unknown."
   ]
  },
  {
   "cell_type": "markdown",
   "id": "d8d9daff",
   "metadata": {
    "id": "0c1afc40"
   },
   "source": [
    "### Работа с дубликатами\n",
    "\n",
    "* Были выявлены и устранены 12 неявных дубликатов в названиях жанров (за счёт нормализации к нижнему регистру).\n",
    "\n",
    "* Удалены 207 явных дубликатов - полностью идентичных записей."
   ]
  },
  {
   "cell_type": "markdown",
   "id": "74714cdf",
   "metadata": {
    "id": "9fe570b3"
   },
   "source": [
    "### Фильтрация данных\n",
    "\n",
    "* Для коллег по запросу был сделан срез данных по периоду с 2000 по 2013 годы включительно, так как он представляет наибольший интерес для анализа трендов в игровой индустрии начала XXI века."
   ]
  },
  {
   "cell_type": "markdown",
   "id": "4b851e1f",
   "metadata": {},
   "source": [
    "### Категоризация данных\n",
    "\n",
    "- Добавлен новый столбец user_score_category, отражающий категорию оценки пользователей:\n",
    " - высокая оценка (от 8 до 10 включительно);\n",
    " - средняя оценка (от 3 до 8, не включая 8);\n",
    " - низкая оценка (от 0 до 3, не включая 3).\n",
    "\n",
    "- Добавлен новый столбец critic_score_category, отражающий категорию оценки критиков:\n",
    " - высокая оценка (от 80 до 100 включительно);\n",
    " - средняя оценка (от 30 до 80, не включая 80);\n",
    " - низкая оценка (от 0 до 30, не включая 30)."
   ]
  },
  {
   "cell_type": "markdown",
   "id": "4c097442",
   "metadata": {},
   "source": [
    "### Анализ популярных платформ:\n",
    "\n",
    "- Определены 7 платформ с наибольшим количеством выпущенных игр за выбранный период. Ими оказались: PS2, DS, Wi, PSP, X360, PS3, GBA "
   ]
  },
  {
   "cell_type": "markdown",
   "id": "6fdfbc3f",
   "metadata": {},
   "source": [
    "<div class=\"alert alert-success\">\n",
    "<h2> Комментарий ревьюера <a class=\"tocSkip\"> </h2>\n",
    " \n",
    "👍 Проект о предобработке, в общем выводе описываем, что делаем по предобработке. Все логично, отлично по оформлению.\n",
    "</div>    \n",
    "\n",
    "\n"
   ]
  },
  {
   "cell_type": "markdown",
   "id": "a996a332",
   "metadata": {},
   "source": [
    "<div style=\"border:solid Chocolate 2px; padding: 40px\">\n",
    "\n",
    "**Общий вывод по проекту**\n",
    "    \n",
    "Спасибо за твой проект! Внимательная работа, практически все решения верные и оптимальные, но кое-что нужно доработать и кое-что можно улучшить, чтобы проект стал совсем замечательным.\n",
    "    \n",
    "**Отмечу положительные моменты проекта🚀**\n",
    "    \n",
    "* Отличное оформление. Есть описание, комментарии, выводы.\n",
    "* Хорошее владение кодом, инструментами предобработки. Все сложные моменты выполнены отлично.\n",
    "* Хорошая аргументация решений. Во всех случаях понятно, почему принимали те или иные решения.\n",
    "    \n",
    "**На что стоит обратить внимание🤔**\n",
    "    \n",
    "* Важно вывести кодом количество пропусков в данных. Не стоит приводить рассчеты текстовым комментарием. \n",
    "* Эти и остальные замечания я также написал по ходу проекта.\n",
    "    \n",
    "**Желаю удачи и жду твой проект на повторное ревью!**😉\n",
    "    \n",
    "    \n",
    "</div>\n",
    "\n"
   ]
  },
  {
   "cell_type": "markdown",
   "id": "b8f39330",
   "metadata": {},
   "source": [
    "\n",
    "<div style=\"border:solid Chocolate 2px; padding: 40px\">\n",
    "\n",
    "**Комментарий ко второй проверке**\n",
    "\n",
    "Спасибо за доработку. Критичных комментариев нет. \n",
    "    \n",
    "Если что-то пропустил или остались вопросы, напиши в телеграм @kriill\n",
    "\n",
    "Желаю удачи в дальнейшей учебе!\n",
    "\n",
    "</div>"
   ]
  }
 ],
 "metadata": {
  "ExecuteTimeLog": [
   {
    "duration": 73,
    "start_time": "2025-02-22T16:00:18.547Z"
   },
   {
    "duration": 506,
    "start_time": "2025-02-22T16:00:52.684Z"
   },
   {
    "duration": 3,
    "start_time": "2025-02-22T16:05:39.715Z"
   },
   {
    "duration": 3,
    "start_time": "2025-02-22T16:07:05.102Z"
   },
   {
    "duration": 51,
    "start_time": "2025-02-22T16:07:13.179Z"
   },
   {
    "duration": 875,
    "start_time": "2025-02-22T16:07:45.798Z"
   },
   {
    "duration": 50,
    "start_time": "2025-02-22T16:08:22.630Z"
   },
   {
    "duration": 85,
    "start_time": "2025-02-22T16:09:22.902Z"
   },
   {
    "duration": 71,
    "start_time": "2025-02-22T16:09:28.937Z"
   },
   {
    "duration": 114,
    "start_time": "2025-02-22T16:10:01.087Z"
   },
   {
    "duration": 56,
    "start_time": "2025-02-22T16:10:17.602Z"
   },
   {
    "duration": 59,
    "start_time": "2025-02-22T16:10:30.019Z"
   },
   {
    "duration": 54,
    "start_time": "2025-02-22T16:11:14.008Z"
   },
   {
    "duration": 73,
    "start_time": "2025-02-22T16:12:09.635Z"
   },
   {
    "duration": 65,
    "start_time": "2025-02-22T16:15:19.689Z"
   },
   {
    "duration": 62,
    "start_time": "2025-02-22T16:17:55.861Z"
   },
   {
    "duration": 59,
    "start_time": "2025-02-22T16:18:28.410Z"
   },
   {
    "duration": 79,
    "start_time": "2025-02-22T16:23:12.439Z"
   },
   {
    "duration": 75,
    "start_time": "2025-02-22T16:25:07.537Z"
   },
   {
    "duration": 76,
    "start_time": "2025-02-22T16:27:18.995Z"
   },
   {
    "duration": 78,
    "start_time": "2025-02-22T16:31:04.763Z"
   },
   {
    "duration": 67,
    "start_time": "2025-02-22T19:40:16.002Z"
   },
   {
    "duration": 70,
    "start_time": "2025-02-22T19:40:17.606Z"
   },
   {
    "duration": 45,
    "start_time": "2025-02-22T22:57:30.090Z"
   },
   {
    "duration": 43,
    "start_time": "2025-02-22T22:57:42.617Z"
   },
   {
    "duration": 42,
    "start_time": "2025-02-22T22:58:39.269Z"
   },
   {
    "duration": 41,
    "start_time": "2025-02-22T23:00:48.582Z"
   },
   {
    "duration": 45,
    "start_time": "2025-02-22T23:01:14.103Z"
   },
   {
    "duration": 42,
    "start_time": "2025-02-22T23:01:17.561Z"
   },
   {
    "duration": 33,
    "start_time": "2025-02-22T23:01:18.269Z"
   },
   {
    "duration": 2,
    "start_time": "2025-02-22T23:27:13.000Z"
   },
   {
    "duration": 3,
    "start_time": "2025-02-22T23:27:13.137Z"
   },
   {
    "duration": 2,
    "start_time": "2025-02-22T23:27:13.459Z"
   },
   {
    "duration": 65,
    "start_time": "2025-02-22T23:27:14.568Z"
   },
   {
    "duration": 66,
    "start_time": "2025-02-22T23:27:15.470Z"
   },
   {
    "duration": 42,
    "start_time": "2025-02-22T23:27:27.473Z"
   },
   {
    "duration": 33,
    "start_time": "2025-02-22T23:27:28.379Z"
   },
   {
    "duration": 60,
    "start_time": "2025-02-22T23:42:54.064Z"
   },
   {
    "duration": 75,
    "start_time": "2025-02-22T23:44:59.493Z"
   },
   {
    "duration": 75,
    "start_time": "2025-02-22T23:47:22.484Z"
   },
   {
    "duration": 44,
    "start_time": "2025-02-22T23:55:08.043Z"
   },
   {
    "duration": 34,
    "start_time": "2025-02-22T23:55:08.268Z"
   },
   {
    "duration": 75,
    "start_time": "2025-02-22T23:55:12.921Z"
   },
   {
    "duration": 74,
    "start_time": "2025-02-23T00:00:22.223Z"
   },
   {
    "duration": 90,
    "start_time": "2025-02-23T00:00:33.867Z"
   },
   {
    "duration": 73,
    "start_time": "2025-02-23T00:02:04.637Z"
   },
   {
    "duration": 95,
    "start_time": "2025-02-23T00:13:07.878Z"
   },
   {
    "duration": 46,
    "start_time": "2025-02-23T00:13:17.313Z"
   },
   {
    "duration": 38,
    "start_time": "2025-02-23T00:13:17.599Z"
   },
   {
    "duration": 83,
    "start_time": "2025-02-23T00:13:19.339Z"
   },
   {
    "duration": 83,
    "start_time": "2025-02-23T00:28:04.793Z"
   },
   {
    "duration": 13,
    "start_time": "2025-02-23T00:28:57.991Z"
   },
   {
    "duration": 113,
    "start_time": "2025-02-23T00:30:18.065Z"
   },
   {
    "duration": 14,
    "start_time": "2025-02-23T00:52:44.806Z"
   },
   {
    "duration": 14,
    "start_time": "2025-02-23T00:52:49.664Z"
   },
   {
    "duration": 8,
    "start_time": "2025-02-23T01:03:56.536Z"
   },
   {
    "duration": 8,
    "start_time": "2025-02-23T01:04:42.663Z"
   },
   {
    "duration": 7,
    "start_time": "2025-02-23T01:04:43.316Z"
   },
   {
    "duration": 2,
    "start_time": "2025-02-23T01:05:16.139Z"
   },
   {
    "duration": 4,
    "start_time": "2025-02-23T01:05:16.143Z"
   },
   {
    "duration": 2,
    "start_time": "2025-02-23T01:05:16.149Z"
   },
   {
    "duration": 66,
    "start_time": "2025-02-23T01:05:16.153Z"
   },
   {
    "duration": 63,
    "start_time": "2025-02-23T01:05:16.221Z"
   },
   {
    "duration": 34,
    "start_time": "2025-02-23T01:05:16.286Z"
   },
   {
    "duration": 45,
    "start_time": "2025-02-23T01:05:16.322Z"
   },
   {
    "duration": 63,
    "start_time": "2025-02-23T01:05:16.744Z"
   },
   {
    "duration": 14,
    "start_time": "2025-02-23T01:05:22.947Z"
   },
   {
    "duration": 8,
    "start_time": "2025-02-23T01:05:23.501Z"
   },
   {
    "duration": 8,
    "start_time": "2025-02-23T01:05:24.153Z"
   },
   {
    "duration": 4,
    "start_time": "2025-02-23T01:08:03.029Z"
   },
   {
    "duration": 9,
    "start_time": "2025-02-23T01:08:04.245Z"
   },
   {
    "duration": 7,
    "start_time": "2025-02-23T01:08:04.598Z"
   },
   {
    "duration": 3,
    "start_time": "2025-02-23T16:07:59.425Z"
   },
   {
    "duration": 2,
    "start_time": "2025-02-23T16:07:59.606Z"
   },
   {
    "duration": 2,
    "start_time": "2025-02-23T16:07:59.792Z"
   },
   {
    "duration": 743,
    "start_time": "2025-02-23T16:08:00.157Z"
   },
   {
    "duration": 95,
    "start_time": "2025-02-23T16:08:00.901Z"
   },
   {
    "duration": 43,
    "start_time": "2025-02-23T16:08:02.595Z"
   },
   {
    "duration": 42,
    "start_time": "2025-02-23T16:08:03.647Z"
   },
   {
    "duration": 73,
    "start_time": "2025-02-23T16:08:04.824Z"
   },
   {
    "duration": 13,
    "start_time": "2025-02-23T16:08:08.519Z"
   },
   {
    "duration": 4,
    "start_time": "2025-02-23T16:08:09.276Z"
   },
   {
    "duration": 7,
    "start_time": "2025-02-23T16:08:09.594Z"
   },
   {
    "duration": 7,
    "start_time": "2025-02-23T16:08:10.023Z"
   },
   {
    "duration": 52,
    "start_time": "2025-02-23T16:18:07.600Z"
   },
   {
    "duration": 34,
    "start_time": "2025-02-23T16:22:53.317Z"
   },
   {
    "duration": 12,
    "start_time": "2025-02-23T16:22:58.977Z"
   },
   {
    "duration": 3,
    "start_time": "2025-02-23T16:22:59.345Z"
   },
   {
    "duration": 8,
    "start_time": "2025-02-23T16:22:59.702Z"
   },
   {
    "duration": 8,
    "start_time": "2025-02-23T16:23:00.048Z"
   },
   {
    "duration": 2,
    "start_time": "2025-02-23T16:23:13.775Z"
   },
   {
    "duration": 2,
    "start_time": "2025-02-23T16:23:14.057Z"
   },
   {
    "duration": 3,
    "start_time": "2025-02-23T16:23:14.332Z"
   },
   {
    "duration": 63,
    "start_time": "2025-02-23T16:23:14.801Z"
   },
   {
    "duration": 62,
    "start_time": "2025-02-23T16:23:15.090Z"
   },
   {
    "duration": 43,
    "start_time": "2025-02-23T16:23:16.754Z"
   },
   {
    "duration": 33,
    "start_time": "2025-02-23T16:23:17.046Z"
   },
   {
    "duration": 70,
    "start_time": "2025-02-23T16:23:18.148Z"
   },
   {
    "duration": 13,
    "start_time": "2025-02-23T16:23:21.360Z"
   },
   {
    "duration": 4,
    "start_time": "2025-02-23T16:23:21.674Z"
   },
   {
    "duration": 8,
    "start_time": "2025-02-23T16:23:22.006Z"
   },
   {
    "duration": 7,
    "start_time": "2025-02-23T16:23:22.382Z"
   },
   {
    "duration": 33,
    "start_time": "2025-02-23T16:23:23.355Z"
   },
   {
    "duration": 35,
    "start_time": "2025-02-23T16:25:15.296Z"
   },
   {
    "duration": 70,
    "start_time": "2025-02-23T16:32:50.189Z"
   },
   {
    "duration": 12,
    "start_time": "2025-02-23T16:36:31.727Z"
   },
   {
    "duration": 4,
    "start_time": "2025-02-23T16:36:32.106Z"
   },
   {
    "duration": 8,
    "start_time": "2025-02-23T16:36:32.470Z"
   },
   {
    "duration": 7,
    "start_time": "2025-02-23T16:36:32.802Z"
   },
   {
    "duration": 35,
    "start_time": "2025-02-23T16:36:33.771Z"
   },
   {
    "duration": 81,
    "start_time": "2025-02-23T16:36:48.623Z"
   },
   {
    "duration": 12,
    "start_time": "2025-02-23T16:36:55.004Z"
   },
   {
    "duration": 4,
    "start_time": "2025-02-23T16:36:55.613Z"
   },
   {
    "duration": 8,
    "start_time": "2025-02-23T16:36:56.285Z"
   },
   {
    "duration": 6,
    "start_time": "2025-02-23T16:36:56.794Z"
   },
   {
    "duration": 110,
    "start_time": "2025-02-23T16:37:29.233Z"
   },
   {
    "duration": 34,
    "start_time": "2025-02-23T16:37:34.196Z"
   },
   {
    "duration": 24,
    "start_time": "2025-02-23T16:39:36.596Z"
   },
   {
    "duration": 24,
    "start_time": "2025-02-23T16:39:58.894Z"
   },
   {
    "duration": 22,
    "start_time": "2025-02-23T17:07:38.462Z"
   },
   {
    "duration": 51,
    "start_time": "2025-02-23T17:07:39.936Z"
   },
   {
    "duration": 24,
    "start_time": "2025-02-23T17:08:21.659Z"
   },
   {
    "duration": 32,
    "start_time": "2025-02-23T17:12:45.265Z"
   },
   {
    "duration": 58,
    "start_time": "2025-02-23T17:20:19.663Z"
   },
   {
    "duration": 8,
    "start_time": "2025-02-23T17:20:53.770Z"
   },
   {
    "duration": 4,
    "start_time": "2025-02-23T17:21:40.374Z"
   },
   {
    "duration": 68,
    "start_time": "2025-02-23T17:22:26.435Z"
   },
   {
    "duration": 12,
    "start_time": "2025-02-23T17:22:31.385Z"
   },
   {
    "duration": 4,
    "start_time": "2025-02-23T17:22:31.744Z"
   },
   {
    "duration": 7,
    "start_time": "2025-02-23T17:22:31.968Z"
   },
   {
    "duration": 8,
    "start_time": "2025-02-23T17:22:32.376Z"
   },
   {
    "duration": 35,
    "start_time": "2025-02-23T17:22:33.300Z"
   },
   {
    "duration": 23,
    "start_time": "2025-02-23T17:22:33.641Z"
   },
   {
    "duration": 55,
    "start_time": "2025-02-23T17:22:35.473Z"
   },
   {
    "duration": 27,
    "start_time": "2025-02-23T17:22:36.070Z"
   },
   {
    "duration": 4,
    "start_time": "2025-02-23T17:22:46.259Z"
   },
   {
    "duration": 134,
    "start_time": "2025-02-23T17:35:33.485Z"
   },
   {
    "duration": 79,
    "start_time": "2025-02-23T17:35:41.711Z"
   },
   {
    "duration": 3,
    "start_time": "2025-02-23T17:35:48.357Z"
   },
   {
    "duration": 22,
    "start_time": "2025-02-23T18:35:55.343Z"
   },
   {
    "duration": 13,
    "start_time": "2025-02-23T18:39:22.831Z"
   },
   {
    "duration": 13,
    "start_time": "2025-02-23T18:40:15.127Z"
   },
   {
    "duration": 14,
    "start_time": "2025-02-23T18:44:27.477Z"
   },
   {
    "duration": 13,
    "start_time": "2025-02-23T18:45:57.921Z"
   },
   {
    "duration": 15,
    "start_time": "2025-02-23T18:47:13.828Z"
   },
   {
    "duration": 13,
    "start_time": "2025-02-23T18:47:29.054Z"
   },
   {
    "duration": 13,
    "start_time": "2025-02-23T18:47:42.681Z"
   },
   {
    "duration": 13,
    "start_time": "2025-02-23T18:51:24.011Z"
   },
   {
    "duration": 9,
    "start_time": "2025-02-23T18:53:39.008Z"
   },
   {
    "duration": 13,
    "start_time": "2025-02-23T18:53:49.770Z"
   },
   {
    "duration": 7,
    "start_time": "2025-02-23T18:53:50.651Z"
   },
   {
    "duration": 15,
    "start_time": "2025-02-23T18:54:21.597Z"
   },
   {
    "duration": 12,
    "start_time": "2025-02-23T18:54:51.557Z"
   },
   {
    "duration": 12,
    "start_time": "2025-02-23T18:55:29.391Z"
   },
   {
    "duration": 12,
    "start_time": "2025-02-23T18:55:37.028Z"
   },
   {
    "duration": 14,
    "start_time": "2025-02-23T18:55:43.131Z"
   },
   {
    "duration": 12,
    "start_time": "2025-02-23T18:57:02.829Z"
   },
   {
    "duration": 13,
    "start_time": "2025-02-23T18:58:01.428Z"
   },
   {
    "duration": 15,
    "start_time": "2025-02-23T18:59:08.436Z"
   },
   {
    "duration": 15,
    "start_time": "2025-02-23T19:00:57.449Z"
   },
   {
    "duration": 6,
    "start_time": "2025-02-23T19:02:06.359Z"
   },
   {
    "duration": 5,
    "start_time": "2025-02-23T19:02:31.162Z"
   },
   {
    "duration": 15,
    "start_time": "2025-02-23T19:05:33.271Z"
   },
   {
    "duration": 5,
    "start_time": "2025-02-23T19:07:17.355Z"
   },
   {
    "duration": 7,
    "start_time": "2025-02-23T19:07:53.153Z"
   },
   {
    "duration": 14,
    "start_time": "2025-02-23T19:07:55.501Z"
   },
   {
    "duration": 5,
    "start_time": "2025-02-23T19:08:15.684Z"
   },
   {
    "duration": 6,
    "start_time": "2025-02-23T19:08:58.170Z"
   },
   {
    "duration": 5,
    "start_time": "2025-02-23T19:09:05.926Z"
   },
   {
    "duration": 14,
    "start_time": "2025-02-23T19:09:24.322Z"
   },
   {
    "duration": 14,
    "start_time": "2025-02-23T19:09:25.513Z"
   },
   {
    "duration": 6,
    "start_time": "2025-02-23T19:09:28.371Z"
   },
   {
    "duration": 5,
    "start_time": "2025-02-23T19:09:28.912Z"
   },
   {
    "duration": 7,
    "start_time": "2025-02-23T19:12:51.177Z"
   },
   {
    "duration": 6,
    "start_time": "2025-02-23T19:13:08.928Z"
   },
   {
    "duration": 5,
    "start_time": "2025-02-23T19:13:35.791Z"
   },
   {
    "duration": 2,
    "start_time": "2025-02-23T19:34:44.843Z"
   },
   {
    "duration": 2,
    "start_time": "2025-02-23T19:34:45.152Z"
   },
   {
    "duration": 2,
    "start_time": "2025-02-23T19:34:45.494Z"
   },
   {
    "duration": 55,
    "start_time": "2025-02-23T19:34:46.143Z"
   },
   {
    "duration": 59,
    "start_time": "2025-02-23T19:34:46.563Z"
   },
   {
    "duration": 47,
    "start_time": "2025-02-23T19:34:48.673Z"
   },
   {
    "duration": 32,
    "start_time": "2025-02-23T19:34:48.991Z"
   },
   {
    "duration": 71,
    "start_time": "2025-02-23T19:34:50.318Z"
   },
   {
    "duration": 11,
    "start_time": "2025-02-23T19:34:53.981Z"
   },
   {
    "duration": 4,
    "start_time": "2025-02-23T19:34:54.327Z"
   },
   {
    "duration": 8,
    "start_time": "2025-02-23T19:34:54.664Z"
   },
   {
    "duration": 7,
    "start_time": "2025-02-23T19:34:55.020Z"
   },
   {
    "duration": 35,
    "start_time": "2025-02-23T19:34:55.717Z"
   },
   {
    "duration": 22,
    "start_time": "2025-02-23T19:34:56.065Z"
   },
   {
    "duration": 48,
    "start_time": "2025-02-23T19:34:56.793Z"
   },
   {
    "duration": 29,
    "start_time": "2025-02-23T19:34:57.501Z"
   },
   {
    "duration": 3,
    "start_time": "2025-02-23T19:34:58.744Z"
   },
   {
    "duration": 14,
    "start_time": "2025-02-23T19:35:01.080Z"
   },
   {
    "duration": 8,
    "start_time": "2025-02-23T19:35:01.393Z"
   },
   {
    "duration": 16,
    "start_time": "2025-02-23T19:35:02.047Z"
   },
   {
    "duration": 15,
    "start_time": "2025-02-23T19:35:02.747Z"
   },
   {
    "duration": 6,
    "start_time": "2025-02-23T19:35:03.386Z"
   },
   {
    "duration": 6,
    "start_time": "2025-02-23T19:35:03.731Z"
   },
   {
    "duration": 6,
    "start_time": "2025-02-23T19:35:04.367Z"
   },
   {
    "duration": 4,
    "start_time": "2025-02-24T07:56:27.744Z"
   },
   {
    "duration": 4,
    "start_time": "2025-02-24T07:56:27.749Z"
   },
   {
    "duration": 4,
    "start_time": "2025-02-24T07:56:27.755Z"
   },
   {
    "duration": 555,
    "start_time": "2025-02-24T07:56:27.761Z"
   },
   {
    "duration": 98,
    "start_time": "2025-02-24T07:56:28.318Z"
   },
   {
    "duration": 36,
    "start_time": "2025-02-24T07:56:28.418Z"
   },
   {
    "duration": 37,
    "start_time": "2025-02-24T07:56:28.456Z"
   },
   {
    "duration": 88,
    "start_time": "2025-02-24T07:56:28.494Z"
   },
   {
    "duration": 14,
    "start_time": "2025-02-24T07:56:28.584Z"
   },
   {
    "duration": 28,
    "start_time": "2025-02-24T07:56:28.600Z"
   },
   {
    "duration": 23,
    "start_time": "2025-02-24T07:56:28.630Z"
   },
   {
    "duration": 9,
    "start_time": "2025-02-24T07:56:28.655Z"
   },
   {
    "duration": 43,
    "start_time": "2025-02-24T07:56:28.667Z"
   },
   {
    "duration": 26,
    "start_time": "2025-02-24T07:56:28.712Z"
   },
   {
    "duration": 61,
    "start_time": "2025-02-24T07:56:28.761Z"
   },
   {
    "duration": 51,
    "start_time": "2025-02-24T07:56:28.823Z"
   },
   {
    "duration": 3,
    "start_time": "2025-02-24T07:56:28.876Z"
   },
   {
    "duration": 27,
    "start_time": "2025-02-24T07:56:28.881Z"
   },
   {
    "duration": 19,
    "start_time": "2025-02-24T07:56:28.910Z"
   },
   {
    "duration": 19,
    "start_time": "2025-02-24T07:56:28.931Z"
   },
   {
    "duration": 26,
    "start_time": "2025-02-24T07:56:28.952Z"
   },
   {
    "duration": 29,
    "start_time": "2025-02-24T07:56:28.980Z"
   },
   {
    "duration": 40,
    "start_time": "2025-02-24T07:56:29.011Z"
   },
   {
    "duration": 18,
    "start_time": "2025-02-24T07:56:29.053Z"
   },
   {
    "duration": 544,
    "start_time": "2025-02-24T11:35:23.398Z"
   },
   {
    "duration": 116,
    "start_time": "2025-02-24T11:39:30.423Z"
   },
   {
    "duration": 86,
    "start_time": "2025-02-24T11:39:38.550Z"
   },
   {
    "duration": 47,
    "start_time": "2025-02-24T11:39:55.231Z"
   },
   {
    "duration": 54,
    "start_time": "2025-02-24T11:40:06.008Z"
   },
   {
    "duration": 78,
    "start_time": "2025-02-24T11:40:10.389Z"
   },
   {
    "duration": 37,
    "start_time": "2025-02-24T11:40:58.719Z"
   },
   {
    "duration": 38,
    "start_time": "2025-02-24T11:41:56.558Z"
   },
   {
    "duration": 13,
    "start_time": "2025-02-24T11:42:06.315Z"
   },
   {
    "duration": 5,
    "start_time": "2025-02-24T11:42:06.749Z"
   },
   {
    "duration": 8,
    "start_time": "2025-02-24T11:42:07.096Z"
   },
   {
    "duration": 8,
    "start_time": "2025-02-24T11:42:07.612Z"
   },
   {
    "duration": 40,
    "start_time": "2025-02-24T11:42:16.375Z"
   },
   {
    "duration": 26,
    "start_time": "2025-02-24T11:42:17.326Z"
   },
   {
    "duration": 13,
    "start_time": "2025-02-24T11:43:24.229Z"
   },
   {
    "duration": 5,
    "start_time": "2025-02-24T11:43:24.501Z"
   },
   {
    "duration": 8,
    "start_time": "2025-02-24T11:43:24.779Z"
   },
   {
    "duration": 8,
    "start_time": "2025-02-24T11:43:25.261Z"
   },
   {
    "duration": 72,
    "start_time": "2025-02-24T11:43:42.256Z"
   },
   {
    "duration": 25,
    "start_time": "2025-02-24T11:43:43.174Z"
   },
   {
    "duration": 6,
    "start_time": "2025-02-24T11:43:43.201Z"
   },
   {
    "duration": 33,
    "start_time": "2025-02-24T11:43:45.823Z"
   },
   {
    "duration": 33,
    "start_time": "2025-02-24T11:43:50.610Z"
   },
   {
    "duration": 13,
    "start_time": "2025-02-24T11:43:55.941Z"
   },
   {
    "duration": 5,
    "start_time": "2025-02-24T11:43:56.576Z"
   },
   {
    "duration": 9,
    "start_time": "2025-02-24T11:43:57.163Z"
   },
   {
    "duration": 8,
    "start_time": "2025-02-24T11:43:57.836Z"
   },
   {
    "duration": 50,
    "start_time": "2025-02-24T11:43:59.912Z"
   },
   {
    "duration": 27,
    "start_time": "2025-02-24T11:44:01.267Z"
   },
   {
    "duration": 63,
    "start_time": "2025-02-24T11:44:25.170Z"
   },
   {
    "duration": 73,
    "start_time": "2025-02-24T11:44:48.760Z"
   },
   {
    "duration": 35,
    "start_time": "2025-02-24T11:44:56.219Z"
   },
   {
    "duration": 4,
    "start_time": "2025-02-24T11:45:14.006Z"
   },
   {
    "duration": 25,
    "start_time": "2025-02-24T11:45:40.709Z"
   },
   {
    "duration": 23,
    "start_time": "2025-02-24T11:45:47.911Z"
   },
   {
    "duration": 8,
    "start_time": "2025-02-24T11:45:52.073Z"
   },
   {
    "duration": 5,
    "start_time": "2025-02-24T11:46:10.191Z"
   },
   {
    "duration": 5,
    "start_time": "2025-02-24T11:46:22.601Z"
   },
   {
    "duration": 5,
    "start_time": "2025-02-24T11:46:45.465Z"
   },
   {
    "duration": 22,
    "start_time": "2025-02-24T11:47:01.599Z"
   },
   {
    "duration": 22,
    "start_time": "2025-02-24T11:47:15.845Z"
   },
   {
    "duration": 8,
    "start_time": "2025-02-24T11:47:34.855Z"
   },
   {
    "duration": 6,
    "start_time": "2025-02-24T11:47:44.492Z"
   },
   {
    "duration": 6,
    "start_time": "2025-02-24T11:47:46.396Z"
   },
   {
    "duration": 6,
    "start_time": "2025-02-24T11:48:09.984Z"
   }
  ],
  "colab": {
   "provenance": []
  },
  "kernelspec": {
   "display_name": "Python 3 (ipykernel)",
   "language": "python",
   "name": "python3"
  },
  "language_info": {
   "codemirror_mode": {
    "name": "ipython",
    "version": 3
   },
   "file_extension": ".py",
   "mimetype": "text/x-python",
   "name": "python",
   "nbconvert_exporter": "python",
   "pygments_lexer": "ipython3",
   "version": "3.9.5"
  },
  "toc": {
   "base_numbering": 1,
   "nav_menu": {},
   "number_sections": true,
   "sideBar": true,
   "skip_h1_title": true,
   "title_cell": "Table of Contents",
   "title_sidebar": "Contents",
   "toc_cell": false,
   "toc_position": {},
   "toc_section_display": true,
   "toc_window_display": false
  }
 },
 "nbformat": 4,
 "nbformat_minor": 5
}
